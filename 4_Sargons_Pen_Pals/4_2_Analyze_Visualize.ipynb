{
 "cells": [
  {
   "cell_type": "code",
   "execution_count": null,
   "id": "normal-grant",
   "metadata": {},
   "outputs": [],
   "source": [
    "import networkx as nx\n",
    "import pickle\n",
    "import matplotlib.pyplot as plt\n",
    "import matplotlib as mpl\n",
    "%matplotlib inline\n",
    "from IPython.display import display, clear_output, Javascript\n",
    "import numpy as np\n",
    "from ipywidgets import interact, Layout\n",
    "import ipywidgets as widgets\n",
    "import itertools\n",
    "import pandas as pd\n",
    "import networkx.algorithms.community as nxcom\n",
    "from pylab import *\n",
    "import hvplot.networkx as hvnx\n",
    "from bokeh.models import HoverTool\n",
    "import decorator"
   ]
  },
  {
   "cell_type": "markdown",
   "id": "sized-chancellor",
   "metadata": {},
   "source": [
    "For this code to run properly it is imporatnt to have a version of decorator 5.0.7 or higher. If the version on your computer turns out to be lower, run\n",
    "```python\n",
    "!pip install decorator==5.0.9\n",
    "```\n",
    "or upgrade decorator with the commands discussed in Chapter 1."
   ]
  },
  {
   "cell_type": "code",
   "execution_count": null,
   "id": "pending-riding",
   "metadata": {},
   "outputs": [],
   "source": [
    "decorator.__version__"
   ]
  },
  {
   "cell_type": "markdown",
   "id": "fantastic-concentration",
   "metadata": {},
   "source": [
    " Load the graph that was pickled in the previous notebook"
   ]
  },
  {
   "cell_type": "code",
   "execution_count": null,
   "id": "civilian-greek",
   "metadata": {},
   "outputs": [],
   "source": [
    "with open('pickle/treasury.p', 'rb') as p: \n",
    "    G = pickle.load(p)\n",
    "file = 'csv/treasury_shoes2.txt'\n",
    "tr_df = pd.read_csv(file, encoding='utf8')\n",
    "ids = list(tr_df['id_text'])\n",
    "ids.sort()"
   ]
  },
  {
   "cell_type": "markdown",
   "id": "satellite-walker",
   "metadata": {},
   "source": [
    "# Visualization Functions\n",
    "This function helps to find the proportional size of the node, given a particular property (for instance degree). "
   ]
  },
  {
   "cell_type": "code",
   "execution_count": null,
   "id": "amateur-courtesy",
   "metadata": {},
   "outputs": [],
   "source": [
    "def node_size_calculator(graph, property_name, minSize, maxSize):\n",
    "    '''Given the graph, the property_name which we will use as a size reference, \n",
    "     and the minSze and maxSize, calculate the relative size of the nodes.\n",
    "     Code by Colman Bouton.'''\n",
    "    node_data = graph.nodes.data(data=property_name)\n",
    "    data_max = max([v for k,v in node_data])\n",
    "    data_min = min([v for k,v in node_data])\n",
    "    return {k: int(minSize + v/(data_max-data_min)*(maxSize-minSize)) \n",
    "          for k,v in node_data}"
   ]
  },
  {
   "cell_type": "markdown",
   "id": "wrong-absorption",
   "metadata": {},
   "source": [
    "In order to visualize the graph we will use a spring layout. In a spring layout (also called Fruchterman-Reingold layout) the edges function as springs that draw the nodes together; the strength of the spring (`draw_weight`) often depends on the weight of the edge, but may also be calculated differently. The nodes themselves repel each other; the replling force is often by the degree. The spring layout may result in a slightly different visualization each time it is run, but the general relationships of nodes and edges will be approximately the same.\n",
    "\n",
    "There are several things that are key to creating good positioning for a graph visualization using the spring layout. First, we must use an undirected version of the graph for spring calculations. Otherwise, nodes that have a single directed edge leading into them will not be attracted to any other node and simply fly off.\n",
    "\n",
    "Additionally, unless the user specifies otherwise, we use the degree of the two nodes of an edge to weaken the strength of the spring. Generally, since degree represents the number of visual features around a node, this will produce the best visualisation.\n",
    "\n",
    "A further consideration to be had is that if the graph is not connected, its components will fly away from each other without bound. Therefore, it is essential for any graph you might be drawing with spring_layout that it is connected. We will be addressing this issue in our own graph at a later step."
   ]
  },
  {
   "cell_type": "code",
   "execution_count": null,
   "id": "understanding-front",
   "metadata": {},
   "outputs": [],
   "source": [
    "def spring_position_calculator(graph, weight_property_name = None, \n",
    "                               spring_seed = None):\n",
    "    \"\"\"Function by Colman Bouton\"\"\"\n",
    "    gcopy = graph.to_undirected()\n",
    "\n",
    "    if weight_property_name == None:\n",
    "        weight_property_name = 'degree'\n",
    "        for node in gcopy.nodes:\n",
    "            gcopy.nodes[node]['degree'] = gcopy.degree[node]\n",
    "  \n",
    "    avg_weight = np.median([v for k,v in gcopy.nodes().data(data = weight_property_name)]) #used for draw weight calculation\n",
    "    overall_reduce = 1 / gcopy.number_of_nodes()**0.5\n",
    "    for edge in gcopy.edges:\n",
    "    #calculate draw_weight for each edge\n",
    "        gcopy[edge[0]][edge[1]]['draw_weight'] = overall_reduce * avg_weight * gcopy[edge[0]][edge[1]]['weight'] / (min(gcopy.nodes[edge[0]][weight_property_name], \n",
    "                                                                                                                        gcopy.nodes[edge[1]][weight_property_name]) + 0.01 * avg_weight)\n",
    "  \n",
    "    pos = nx.spring_layout(gcopy, weight = 'draw_weight', \n",
    "                         iterations = 500, seed=spring_seed)\n",
    "    return pos"
   ]
  },
  {
   "cell_type": "markdown",
   "id": "beneficial-number",
   "metadata": {},
   "source": [
    "Now we can put all this to together and create a function that draws a pretty graph! We will default to using a spring graph, as well as taking in some arguments that will allow us to parameterize the size of the nodes and input which metric we will use to color code the nodes with."
   ]
  },
  {
   "cell_type": "code",
   "execution_count": null,
   "id": "iraqi-elephant",
   "metadata": {},
   "outputs": [],
   "source": [
    "def draw_pretty_graph(graph, minSize, maxSize,\n",
    "                            size_attr_name, figure, color_attr_name = 'degree',\n",
    "                            spacing_attr_name = None, label_name = None, pos = None, \n",
    "                            label_cutoff = 1, spring_seed = None, Ego=None):\n",
    "    '''Draw a pretty graph using the graph argument and resize the nodes using the\n",
    "     minSize and maxSize arguments, while coloring the nodes by a determined metric.\n",
    "     The argument Ego may be used to specifically label a particular node. Function\n",
    "     adapted from a function by Colman Bouton.'''\n",
    "  \n",
    "  # first, we use our previously defined function to create a dict for the sizes\n",
    "    node_sizes = node_size_calculator(graph, size_attr_name, minSize, maxSize)\n",
    "\n",
    "  # then we create the list of values for our colormap\n",
    "    color_values = list(nx.get_node_attributes(graph, color_attr_name).values())\n",
    "    v_min = min(color_values)\n",
    "    v_max = max(color_values)\n",
    "\n",
    "  # if positions are not specified, calculate them using the previous function\n",
    "    if pos == None:\n",
    "        pos = spring_position_calculator(graph, spacing_attr_name)\n",
    "\n",
    "    # we now position the labels:\n",
    "    label_pos = {}\n",
    "    num_labels = int(G.number_of_nodes() * label_cutoff) # calculate number of labels to show\n",
    "    for node in sorted(node_sizes, key = node_sizes.get, reverse=True)[0:num_labels]:\n",
    "      # set the label position to be slightly offset from the node position\n",
    "        label_pos[node] = [pos[node][0], pos[node][1] + 0.03]\n",
    "    if Ego:\n",
    "        label_pos[Ego] = [pos[Ego][0], pos[Ego][1] + 0.03]\n",
    "\n",
    "  # draw nodes and edges\n",
    "    nx.draw_networkx_nodes(        \n",
    "          graph,\n",
    "          pos,\n",
    "          node_size = [node_sizes[node] for node in graph],\n",
    "          node_color= color_values,\n",
    "          alpha = 1,\n",
    "          cmap= plt.cm.plasma, \n",
    "          vmax = v_max,\n",
    "          vmin = v_min,\n",
    "          )\n",
    "    nx.draw_networkx_edges(        \n",
    "          graph,\n",
    "          pos,\n",
    "          node_size = [node_sizes[node] for node in graph],\n",
    "          alpha = 0.5,\n",
    "          edge_color = 'brown',\n",
    "          width = 2,\n",
    "          connectionstyle=\"arc3,rad=0.1\"\n",
    "          )\n",
    "  \n",
    "  # draw labels if provided\n",
    "    if label_name == None:  # this the default option: use the node indexes\n",
    "        labels = {k : k for k in label_pos}\n",
    "    elif label_name != False: #if label_name is False, dont't draw labels\n",
    "        labels = {k:graph.nodes.data(data = label_name)[k] for k in label_pos}\n",
    "    if label_name != False:\n",
    "        nx.draw_networkx_labels(graph, label_pos, labels = labels, \n",
    "                            font_size = 14, font_weight = 'bold', \n",
    "                            font_color = 'black')\n",
    "    \n",
    "  # draw the colorbar\n",
    "    norm = mpl.colors.Normalize(vmin = v_min, vmax = v_max)\n",
    "    options = {'label' : color_attr_name}\n",
    "    figure.colorbar(mpl.cm.ScalarMappable(norm, plt.cm.plasma), **options)"
   ]
  },
  {
   "cell_type": "markdown",
   "id": "proprietary-stephen",
   "metadata": {},
   "source": [
    "# Visualizing the Graph\n",
    "Generally speaking, we found setting the edges to be transparent made the graph easier to read, and that making the graph sufficiently large helped us see the individual nodes.\n",
    "\n",
    "We also chose to color code the nodes based on an assignable metric, which we defaulted to node degree. This makes it easier to discern which nodes are more important. We added a colorbar as a legend for the metric.\n",
    "\n",
    "In spring graphs, the nodes are set to pull apart from each other and the edges act as springs pulling the nodes together. When the positions are being calculated, the repellant forces and the attractant forces through the springs are added up over a series of iterations until the graph settles into a particular set of positions. In some cases, when there is a large set of data, you might see the nodes clump together, making the nodes difficult to interpret individually.\n",
    "\n",
    "Here we take the largest connected subgraph and use the `draw_pretty_graph` helper function to draw our network using a spring graph. \n",
    "\n",
    "Most of the nodes in our graph are pretty small, meaning they have a pretty low degree, but we see some interesting main actors. These nodes end up at the center of our graph because they are fairly well connected and thus are only pulled apart by less connected nodes.\n",
    "\n",
    "By Colman Bouton"
   ]
  },
  {
   "cell_type": "code",
   "execution_count": null,
   "id": "realistic-merchandise",
   "metadata": {},
   "outputs": [],
   "source": [
    "# remove nodes which have no connections to other nodes in the graph\n",
    "mainc = max(nx.algorithms.components.connected_components(G.to_undirected()), \n",
    "            key = len)\n",
    "I = G.subgraph(mainc).copy()\n",
    "#degreelog = {name : np.log(I.degree[name]) for name in I.nodes}\n",
    "#nx.set_node_attributes(I, degreelog, \"degreelog\")\n",
    "\n",
    "# draw the graph using draw_pretty_graph helper function\n",
    "\n",
    "fig = plt.figure(figsize=(25, 15))\n",
    "draw_pretty_graph(I, 1, 1000, \"degree\", fig,\n",
    "                  color_attr_name = 'eigenvector_centrality',\n",
    "                  label_name = None, label_cutoff = 0.03, spring_seed=1);\n",
    "plt.title('Puzriš-Dagan Treasure Archive');"
   ]
  },
  {
   "cell_type": "markdown",
   "id": "assisted-financing",
   "metadata": {},
   "source": [
    "# Interactive Version of the Visualization\n",
    "Using the same `spring_position_calculator()` and `node_size_calculator()` functions as above, we may create essentially the same graph as an interactive visualization, using [hvPlot](https://hvplot.holoviz.org). HvPlot is built on top of [HolowViews](https://holoviews.org/index.html) and [Bokeh](https://docs.bokeh.org/en/latest/index.html) and offers interactive plotting for a number of important Python libraries (such as Pandas and NetworkX). The visualization comes standard with a number of tools, including Pan, Zoom and Reset and a Hover function, that displays the attributes of a node when hovering over it with the mouse. Clicking on a node will highlight the node and all of its edges, while graying all the other elements of the graph."
   ]
  },
  {
   "cell_type": "code",
   "execution_count": null,
   "id": "freelance-machinery",
   "metadata": {},
   "outputs": [],
   "source": [
    "mainc = max(nx.algorithms.components.connected_components(G.to_undirected()), \n",
    "            key = len)\n",
    "K = G.subgraph(mainc).copy()   # create new version\n",
    "pos = spring_position_calculator(K)\n",
    "node_sizes = node_size_calculator(K, \"degree\", 5, 1000)\n",
    "node_size_list = list(node_sizes.values())\n",
    "number_of_names_to_display = 10\n",
    "add_labels = sorted(node_sizes, key=node_sizes.get, reverse=True)[:number_of_names_to_display]\n",
    "label_dict = {name : name if name in add_labels else \"\" for name in I.nodes}"
   ]
  },
  {
   "cell_type": "markdown",
   "id": "96443f8a-b5b0-45ff-874d-ffc021f42950",
   "metadata": {},
   "source": [
    "## TODO\n",
    "add color bar"
   ]
  },
  {
   "cell_type": "code",
   "execution_count": null,
   "id": "derived-detroit",
   "metadata": {},
   "outputs": [],
   "source": [
    "hvnx.draw(I,\n",
    "          pos,\n",
    "          height=800,\n",
    "          width=800,\n",
    "          node_size = node_size_list, \n",
    "          arrowhead_length=0.005,\n",
    "          with_labels=True,\n",
    "          labels=label_dict,\n",
    "          edge_width='weight',\n",
    "          edge_alpha= 0.3,\n",
    "          edge_color='brown',\n",
    "          node_color='eigenvector_centrality',\n",
    "          node_cmap=plt.cm.plasma,\n",
    "          )"
   ]
  },
  {
   "cell_type": "markdown",
   "id": "fabulous-accountability",
   "metadata": {},
   "source": [
    "# Cliques\n",
    "Cliques are sets of nodes that are all connected to each other. That is, if we have four nodes, A, B, C, and D, all possible connections exist: \n",
    "> A --- B</br>\n",
    "> A --- C</br>\n",
    "> A --- D</br>\n",
    "> B --- C</br>\n",
    "> B --- D</br>\n",
    "> C --- D</br>\n",
    "\n",
    "Cliques may represent powerful centers in a graph, with  information flowing freely within each clique. Cliques are defined only for undirected graphs, so we first have to transform our graph. In order to compute cliques we need to decide the minimum number of nodes - in this case 4. \n",
    "\n",
    "A related concept is the k-clique community. A k-clique community consists of adjacent cliques of at least *k* members. Adjacent cliques share at least *k-1* nodes. As we will see, k-clique communities tend to overlap. That is, there are powerful actors who belong to multiple such communities and connect them to each other.\n",
    "\n",
    "The code below is adapted from the blog post [Community Detection Using NetworkX](https://orbifold.net/default/community-detection-using-networkx/) by Francois Vanderseypen."
   ]
  },
  {
   "cell_type": "markdown",
   "id": "consecutive-crown",
   "metadata": {},
   "source": [
    "**The following code needs more documentation.**\n",
    "\n",
    "The output of k_clique_communities() is a list of frozen sets. The clique communities are sorted from largest to smallest."
   ]
  },
  {
   "cell_type": "code",
   "execution_count": null,
   "id": "collective-shell",
   "metadata": {},
   "outputs": [],
   "source": [
    "H = nx.DiGraph.to_undirected(G)\n",
    "k_clique_com = sorted(nxcom.k_clique_communities(H, 4), key=len, reverse=True)\n",
    "# Count the communities\n",
    "N = len(k_clique_com)\n",
    "for ind, names in enumerate(k_clique_com):\n",
    "    print(f\"Clique {str(ind+1)}: {list(names)}\")"
   ]
  },
  {
   "cell_type": "markdown",
   "id": "pediatric-holly",
   "metadata": {},
   "source": [
    "Each node in the graph receives an attribute called `cliques`. The default is `{0}` (a set). In iterating through the nodes in the clique communities, the attribute `cliques` is updated so that all nodes that belong to the first k-clique community now have the attribute `cliques = {1}` (again, a set), etc. Nodes that belong to more than one clique community will have more than one clique number in the `cliques` attribute (for instance `{1, 3}`). Nodes that are not found in any clique community will keep the default value `{0}`. We will use this attribute below to color nodes and to mark internal edges (edges between nodes that belong to the same clique)."
   ]
  },
  {
   "cell_type": "code",
   "execution_count": null,
   "id": "falling-joseph",
   "metadata": {},
   "outputs": [],
   "source": [
    "nx.set_node_attributes(H, {0}, \"cliques\") # set {0} as default\n",
    "for c, v_c in enumerate(k_clique_com):\n",
    "    for v in v_c:\n",
    "        if min(H.nodes[v]['cliques']) > 0:  # node is already in a clique\n",
    "            H.nodes[v]['cliques'].add(c+1) # add clique no. to the set\n",
    "        else:\n",
    "            H.nodes[v]['cliques'] = {c+1}\n",
    "        # Add 1 to save 0 for nodes that are not in a clique"
   ]
  },
  {
   "cell_type": "markdown",
   "id": "muslim-sessions",
   "metadata": {},
   "source": [
    "Set edge attributes with a similar method. The edge attribute `clique` defaults to zero. Edges between two nodes that belong to the same clique (internal edges) receive the value of that clique. This is done by finding the intersection of the `cliques` attributes of the two nodes. If that intersection is empty (the two nodes do not share membership of a clique community) the value remains 0. If the `cliques` attributes of two nodes do intersect (that is, they share membership of at least one k-clique community), the value of the edge attribute becomes the lowest value in the intersection."
   ]
  },
  {
   "cell_type": "code",
   "execution_count": null,
   "id": "southern-pasta",
   "metadata": {},
   "outputs": [],
   "source": [
    "nx.set_edge_attributes(H, 0, \"clique\")  # default is 0\n",
    "for v, w, in H.edges:\n",
    "    c = H.nodes[v]['cliques'].intersection(H.nodes[w]['cliques']) # do the two nodes share a community?\n",
    "    if c:\n",
    "        # Internal edge, mark with community\n",
    "        H.edges[v, w]['clique'] = min(c)"
   ]
  },
  {
   "cell_type": "markdown",
   "id": "alpha-quarter",
   "metadata": {},
   "source": [
    "The node attribute 'cliques' is a set, which is not allowed when displaying the graph in Bokeh. We do not need the sets anymore - if a node belongs to more than one clique the attribute will be N+1 (the number of cliques + 1), otherwise, the attribute is the lowest (and single) number in the set."
   ]
  },
  {
   "cell_type": "code",
   "execution_count": null,
   "id": "political-centre",
   "metadata": {},
   "outputs": [],
   "source": [
    "for node in H.nodes:\n",
    "    if len(H.nodes[node]['cliques']) > 1:\n",
    "        H.nodes[node]['cliques'] = N+1\n",
    "    else:\n",
    "        H.nodes[node]['cliques'] = min(H.nodes[node]['cliques'])"
   ]
  },
  {
   "cell_type": "markdown",
   "id": "everyday-procurement",
   "metadata": {},
   "source": [
    "Select nodes to display. Nodes that belong to a k-clique community and nodes that have a degree greater than 8 are admitted. Nodes that belong to one or more k-clique communities have a value in the attribute `cliques` that is higher than 0."
   ]
  },
  {
   "cell_type": "code",
   "execution_count": null,
   "id": "stable-condition",
   "metadata": {},
   "outputs": [],
   "source": [
    "nodes = [x for x, y in H.nodes(data=True) if y[\"cliques\"] > 0 or y[\"degree\"] > 8] # select nodes\n",
    "K = H.subgraph(nodes)"
   ]
  },
  {
   "cell_type": "markdown",
   "id": "boolean-subject",
   "metadata": {},
   "source": [
    "For the color scheme we use a function for creating a discrete colormap, made available by Jake VanderPlas on his github account. The [tool](https://gist.github.com/jakevdp/91077b0cae40f8f8244a) is slightly adapted for the present purposes."
   ]
  },
  {
   "cell_type": "code",
   "execution_count": null,
   "id": "computational-portugal",
   "metadata": {},
   "outputs": [],
   "source": [
    "def discrete_cmap(N, base_cmap=None):\n",
    "    \"\"\"Create an N-bin discrete colormap from the specified input map\n",
    "    https://gist.github.com/jakevdp/91077b0cae40f8f8244a\n",
    "    by Jake VanderPlas\"\"\"\n",
    "    base = plt.cm.get_cmap(base_cmap)\n",
    "    color_list = base(np.linspace(0, 1, N))\n",
    "    color_list[0] = [0, 0, 0, 1] # = black\n",
    "    color_list = [matplotlib.colors.rgb2hex(col) for col in color_list]\n",
    "    return color_list"
   ]
  },
  {
   "cell_type": "code",
   "execution_count": null,
   "id": "tribal-weight",
   "metadata": {},
   "outputs": [],
   "source": [
    "colmap = discrete_cmap(N+2, \"plasma\")"
   ]
  },
  {
   "cell_type": "markdown",
   "id": "typical-initial",
   "metadata": {},
   "source": [
    "Use the resulting colormap to assign node colors and edge colors of our subgraph."
   ]
  },
  {
   "cell_type": "code",
   "execution_count": null,
   "id": "painted-flesh",
   "metadata": {},
   "outputs": [],
   "source": [
    "pos2 = spring_position_calculator(K, \"eigenvector_centrality\")\n",
    "node_sizes2 = node_size_calculator(K, \"eigenvector_centrality\", 5, 30)\n",
    "number_of_names_to_display = 20\n",
    "add_labels = sorted(node_sizes, key=node_sizes.get, reverse=True)[:number_of_names_to_display]\n",
    "labels = [n if n in add_labels else '' for n in K.nodes]\n",
    "category = [n.split(']')[1] for n in K.nodes]"
   ]
  },
  {
   "cell_type": "code",
   "execution_count": null,
   "id": "respective-progress",
   "metadata": {},
   "outputs": [],
   "source": [
    "from bokeh.io import output_file, show\n",
    "from bokeh.models import (Circle, HoverTool,\n",
    "                          MultiLine, NodesAndLinkedEdges, TapTool,\n",
    "                         GraphRenderer, LabelSet, ColumnDataSource)\n",
    "from bokeh.plotting import figure, output_notebook, from_networkx\n",
    "output_notebook()"
   ]
  },
  {
   "cell_type": "markdown",
   "id": "82c98d03-59e4-4749-802f-28078e281ad7",
   "metadata": {},
   "source": [
    "Part of the code below is inspired by [Introduction to Cultural Analytics and Python](https://melaniewalsh.github.io/Intro-Cultural-Analytics/Network-Analysis/Making-Network-Viz-with-Bokeh.html) (Chapter 6: Network Analysis) by Melanie Walsh (2021)."
   ]
  },
  {
   "cell_type": "code",
   "execution_count": null,
   "id": "opposed-physiology",
   "metadata": {},
   "outputs": [],
   "source": [
    "# initiate the plot\n",
    "plot2 = figure(width=1000, height = 600)\n",
    "plot2.title.text = \"Treasure Archive Drehem: Cliques\"\n",
    "plot2.grid.visible=False\n",
    "plot2.xaxis.visible = False  \n",
    "plot2.yaxis.visible = False  \n",
    "\n",
    "# add tools\n",
    "node_hover_tool = HoverTool(tooltips=[(\"name\", \"@index\"), (\"eigenvector centrality\", \"@eigenvector_centrality\"), (\"degree\", '@degree')])\n",
    "plot2.add_tools(node_hover_tool, TapTool())\n",
    "\n",
    "# add the graph \n",
    "graph = from_networkx(K, pos2)\n",
    "\n",
    "# add node renderers to the graph\n",
    "graph.node_renderer.data_source.data['node_size'] = list(node_sizes2.values())\n",
    "graph.node_renderer.data_source.data['node_color'] = [colmap[clique] for clique in graph.node_renderer.data_source.data['cliques']]\n",
    "graph.node_renderer.glyph = Circle(fill_color = 'node_color',size = 'node_size', fill_alpha=.75)\n",
    "graph.node_renderer.hover_glyph = Circle(size='node_size', fill_color='node_color')\n",
    "graph.node_renderer.selection_glyph = Circle(size='node_size', fill_color='node_color')\n",
    "\n",
    "# add the edge renderers to the graph\n",
    "graph.edge_renderer.glyph = MultiLine(line_alpha=.5, line_width='weight')  \n",
    "graph.edge_renderer.data_source.data['edge_color'] = [colmap[clique] for clique in graph.edge_renderer.data_source.data['clique']]\n",
    "graph.edge_renderer.hover_glyph = MultiLine(line_color='edge_color', line_width='weight')\n",
    "graph.edge_renderer.selection_glyph = MultiLine(line_color='edge_color', line_width='weight')\n",
    "\n",
    "# add inspect/selection policy (hovering and clicking) to the graph\n",
    "graph.inspection_policy = NodesAndLinkedEdges()\n",
    "graph.selection_policy = NodesAndLinkedEdges()\n",
    "\n",
    "# add graph to the plot\n",
    "plot2.renderers.append(graph)\n",
    "\n",
    "# add labels\n",
    "x, y = zip(*pos2.values())\n",
    "source2 = ColumnDataSource({'x': x, 'y': y, 'label': labels})\n",
    "labelset2 = LabelSet(x='x', y='y', text='label', source=source2, background_fill_color='white', text_font_size='12px', background_fill_alpha=.7)\n",
    "plot2.renderers.append(labelset2)\n",
    "\n",
    "# add legend\n",
    "clique_labels = {n : f\"clique {str(n)}\" for n in range(N+1)}\n",
    "clique_labels[0] = \"no clique\"\n",
    "clique_labels[N+1] = \"multiple cliques\"\n",
    "legend_labels = [clique_labels[n[1]] for n in K.nodes(data=\"cliques\")]\n",
    "graph.node_renderer.data_source.data['legend_labels'] = legend_labels\n",
    "plot2.circle(\n",
    "    source = graph.node_renderer.data_source.data,\n",
    "    legend_group=\"legend_labels\",\n",
    "    fill_color=\"node_color\",\n",
    "    size=80,\n",
    "    )\n",
    "plot2.legend.location = \"center\"\n",
    "plot2.add_layout(plot2.legend[0], 'left')\n",
    "show(plot2)"
   ]
  },
  {
   "cell_type": "code",
   "execution_count": null,
   "id": "medical-dryer",
   "metadata": {},
   "outputs": [],
   "source": []
  }
 ],
 "metadata": {
  "kernelspec": {
   "display_name": "Python 3",
   "language": "python",
   "name": "python3"
  },
  "language_info": {
   "codemirror_mode": {
    "name": "ipython",
    "version": 3
   },
   "file_extension": ".py",
   "mimetype": "text/x-python",
   "name": "python",
   "nbconvert_exporter": "python",
   "pygments_lexer": "ipython3",
   "version": "3.8.8"
  }
 },
 "nbformat": 4,
 "nbformat_minor": 5
}
