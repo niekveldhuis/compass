{
 "cells": [
  {
   "cell_type": "markdown",
   "id": "9092c845-81ef-43cd-8441-9d534286c37c",
   "metadata": {},
   "source": [
    "# Import Modules\n",
    "First import necessary modules."
   ]
  },
  {
   "cell_type": "code",
   "execution_count": null,
   "id": "e0d099f0-d8d5-4400-9bce-21c5b7d0c327",
   "metadata": {},
   "outputs": [],
   "source": [
    "import networkx as nx\n",
    "import pickle\n",
    "import matplotlib.pyplot as plt\n",
    "import matplotlib as mpl\n",
    "%matplotlib inline\n",
    "from IPython.display import display, clear_output, Javascript\n",
    "import numpy as np\n",
    "from ipywidgets import interact, Layout\n",
    "import ipywidgets as widgets\n",
    "import itertools\n",
    "import pandas as pd\n",
    "import networkx.algorithms.community as nxcom\n",
    "from pylab import *"
   ]
  },
  {
   "cell_type": "markdown",
   "id": "187e2e93-024a-4684-89b8-ee3b733924bd",
   "metadata": {},
   "source": [
    " Load the graph that was pickled in the previous notebook"
   ]
  },
  {
   "cell_type": "code",
   "execution_count": null,
   "id": "ba85dbe2-9572-4ff7-b22a-19f06e57315d",
   "metadata": {},
   "outputs": [],
   "source": [
    "with open('pickle/treasury.p', 'rb') as p: \n",
    "    G = pickle.load(p)\n",
    "file = 'csv/treasury_shoes2.txt'\n",
    "tr_df = pd.read_csv(file, encoding='utf8')\n",
    "ids = list(tr_df['id_text'])\n",
    "ids.sort()"
   ]
  },
  {
   "cell_type": "markdown",
   "id": "8408e22a-e505-40a4-bd9c-ffbc33a274b2",
   "metadata": {},
   "source": [
    "# Visualization Functions\n",
    "This function helps us find the proportional size of the node. By Colman Bouton."
   ]
  },
  {
   "cell_type": "code",
   "execution_count": null,
   "id": "edae250e-e8aa-4927-a4db-5321e113a040",
   "metadata": {},
   "outputs": [],
   "source": [
    "def node_size_calculator(graph, property_name, minSize, maxSize):\n",
    "    '''Given the graph, the property_name which we will use as a size reference, \n",
    "     and the minSze and maxSize, calculate the relative size of the nodes'''\n",
    "    node_data = graph.nodes.data(data=property_name)\n",
    "    data_max = max([v for k,v in node_data])\n",
    "    data_min = min([v for k,v in node_data])\n",
    "    return {k: int(minSize + v/(data_max-data_min)*(maxSize-minSize)) \n",
    "          for k,v in node_data}"
   ]
  },
  {
   "cell_type": "markdown",
   "id": "9ba53918-dc41-4418-b8d8-5236ea7a9ead",
   "metadata": {},
   "source": [
    "There are several things that are key to creating good positioning for a graph visualization using the spring layout. First, we must use an undirected version of the graph for spring calculations. Otherwise, nodes that have a single directed edge leading into them will not be attracted to any other node and simply fly off.\n",
    "\n",
    "Additionally, unless the user specifies otherwise, we use the degree of the two nodes of an edge to weaken the strength of the spring. Generally, since degree represents the number of visual features around a node, this will produce the best visualisation.\n",
    "\n",
    "A further consideration to be had is that if the graph is not connected, its components will fly away from each other without bound. Therefore, it is essential for any graph you might be drawing with spring_layout that it is connected. We will be addressing this issue in our own graph at a later step.\n",
    "\n",
    "Function by Colman Bouton"
   ]
  },
  {
   "cell_type": "code",
   "execution_count": null,
   "id": "e9b89fc7-af97-4f08-9600-98a20900b295",
   "metadata": {},
   "outputs": [],
   "source": [
    "def spring_position_calculator(graph, weight_property_name = None, \n",
    "                               spring_seed = None):\n",
    "\n",
    "    gcopy = graph.to_undirected()\n",
    "\n",
    "    if weight_property_name == None:\n",
    "        weight_property_name = 'degree'\n",
    "        for node in gcopy.nodes:\n",
    "            gcopy.nodes[node]['degree'] = gcopy.degree[node]\n",
    "  \n",
    "    avg_weight = np.median([v for k,v in gcopy.nodes().data(data = weight_property_name)]) #used for draw weight calculation\n",
    "    overall_reduce = 1 / gcopy.number_of_nodes()**0.5\n",
    "    for edge in gcopy.edges:\n",
    "    #calculate draw_weight for each edge\n",
    "        gcopy[edge[0]][edge[1]]['draw_weight'] = overall_reduce * avg_weight * gcopy[edge[0]][edge[1]]['weight'] / (min(gcopy.nodes[edge[0]][weight_property_name], \n",
    "                                                                                                                        gcopy.nodes[edge[1]][weight_property_name]) + 0.01 * avg_weight)\n",
    "  \n",
    "    pos = nx.spring_layout(gcopy, weight = 'draw_weight', \n",
    "                         iterations = 500, seed=spring_seed)\n",
    "    return pos"
   ]
  },
  {
   "cell_type": "markdown",
   "id": "fa0d6251-20b1-4ef5-a464-0d4bc896f121",
   "metadata": {},
   "source": [
    "Now we can put all this to together and create a function that draws a pretty graph! We will default to using a spring graph, as well as taking in some arguments that will allow us to parameterize the size of the nodes and input which metric we will use to color code the nodes with.\n",
    "\n",
    "Function by Colman Bouton."
   ]
  },
  {
   "cell_type": "code",
   "execution_count": null,
   "id": "d140a7f3-9f59-4c06-8f21-f8541851417d",
   "metadata": {},
   "outputs": [],
   "source": [
    "def draw_pretty_graph(graph, minSize, maxSize,\n",
    "                            size_attr_name, figure, color_attr_name = 'degree',\n",
    "                            spacing_attr_name = None, label_name = None, pos = None, \n",
    "                            label_cutoff = 1, spring_seed = None, Ego=None):\n",
    "    '''Draw a pretty graph using the graph argument and resize the nodes using the\n",
    "     minSize and maxSize argments, while coloring the nodes by a determined metric'''\n",
    "  \n",
    "  # first, we use our previously defined function to create a dict for the sizes\n",
    "    node_sizes = node_size_calculator(graph, size_attr_name, minSize, maxSize)\n",
    "\n",
    "  # then we create the list of values for our colormap\n",
    "    color_values = list(nx.get_node_attributes(graph, color_attr_name).values())\n",
    "    v_min = min(color_values)\n",
    "    v_max = max(color_values)\n",
    "\n",
    "  # if positions are not specified, calculate them using the previous function\n",
    "    if pos == None:\n",
    "        pos = spring_position_calculator(graph, spacing_attr_name)\n",
    "\n",
    "    # we now position the labels:\n",
    "    label_pos = {}\n",
    "    num_labels = int(G.number_of_nodes() * label_cutoff) # calculate number of labels to show\n",
    "    for node in sorted(node_sizes, key = node_sizes.get, reverse=True)[0:num_labels]:\n",
    "      # set the label position to be slightly offset from the node position\n",
    "        label_pos[node] = [pos[node][0], pos[node][1] + 0.03]\n",
    "    if Ego:\n",
    "        label_pos[Ego] = [pos[Ego][0], pos[Ego][1] + 0.03]\n",
    "\n",
    "  # draw nodes and edges\n",
    "    nx.draw_networkx_nodes(        \n",
    "          graph,\n",
    "          pos,\n",
    "          node_size = [node_sizes[node] for node in graph],\n",
    "          node_color= color_values,\n",
    "          alpha = 1,\n",
    "          cmap= plt.cm.plasma, \n",
    "          vmax = v_max,\n",
    "          vmin = v_min,\n",
    "          )\n",
    "    nx.draw_networkx_edges(        \n",
    "          graph,\n",
    "          pos,\n",
    "          node_size = [node_sizes[node] for node in graph],\n",
    "          alpha = 0.5,\n",
    "          edge_color = 'brown',\n",
    "          width = 2,\n",
    "          connectionstyle=\"arc3,rad=0.1\"\n",
    "          )\n",
    "  \n",
    "  # draw labels if provided\n",
    "    if label_name == None:\n",
    "        nx.draw_networkx_labels(graph, label_pos, \n",
    "                            font_size = 10, font_weight = 'bold') #, ax = ax)\n",
    "    elif label_name != False: #if label_name is False, dont't draw labels\n",
    "        labels = {k:graph.nodes.data(data = label_name)[k] for k in label_pos}\n",
    "        nx.draw_networkx_labels(graph, label_pos, labels = labels, \n",
    "                            font_size = 14, font_weight = 'bold', \n",
    "                            font_color = 'black') #, ax = ax)\n",
    "    \n",
    "  # draw the colorbar\n",
    "    norm = mpl.colors.Normalize(vmin = v_min, vmax = v_max)\n",
    "    options = {'label' : color_attr_name}\n",
    "    figure.colorbar(mpl.cm.ScalarMappable(norm, plt.cm.plasma), **options)"
   ]
  },
  {
   "cell_type": "markdown",
   "id": "c7b2b334-7217-499b-aeb5-d91d4e03e6ba",
   "metadata": {},
   "source": [
    "# Visualizing the Graph\n",
    "Generally speaking, we found setting the edges to be transparent made the graph easier to read, and that making the graph sufficiently large helped us see the individual nodes.\n",
    "\n",
    "We also chose to color code the nodes based on an assignable metric, which we defaulted to node degree. This makes it easier to discern which nodes are more important. We added a colorbar as a legend for the metric.\n",
    "\n",
    "In spring graphs, the nodes are set to pull apart from each other and the edges act as springs pulling the nodes together. When the positions are being calculated, the repellant forces and the attractant forces through the springs are added up over a series of iterations until the graph settles into a particular set of positions. In some cases, when there is a large set of data, you might see the nodes clump together, making the nodes difficult to interpret individually.\n",
    "\n",
    "Here we take the largest connected subgraph and use the `draw_pretty_graph` helper function to draw our network using a spring graph. \n",
    "\n",
    "Most of the nodes in our graph are pretty small, meaning they have a pretty low degree, but we see some interesting main actors. These nodes end up at the center of our graph because they are fairly well connected and thus are only pulled apart by less connected nodes.\n",
    "\n",
    "By Colman Bouton"
   ]
  },
  {
   "cell_type": "code",
   "execution_count": null,
   "id": "db00f3ea-3230-4984-9743-25ac40e3f805",
   "metadata": {},
   "outputs": [],
   "source": [
    "# remove nodes which have no connections to other nodes in the graph\n",
    "mainc = max(nx.algorithms.components.connected_components(G.to_undirected()), \n",
    "            key = len)\n",
    "I = G.subgraph(mainc).copy()\n",
    "#degreelog = {name : np.log(I.degree[name]) for name in I.nodes}\n",
    "#nx.set_node_attributes(I, degreelog, \"degreelog\")\n",
    "\n",
    "# draw the graph using draw_pretty_graph helper function\n",
    "\n",
    "figure = plt.figure(figsize=(25, 15))\n",
    "draw_pretty_graph(I, 1, 1000, \"degree\", figure,\n",
    "                  color_attr_name = 'eigenvector_centrality',\n",
    "                  label_name = 'name', label_cutoff = 0.03, spring_seed=1);\n",
    "plt.title('Puzriš-Dagan Treasure Archive');"
   ]
  },
  {
   "cell_type": "markdown",
   "id": "02ece431-ea13-49a7-9c9d-b0e1ef2e96ab",
   "metadata": {},
   "source": [
    "# Import Bokeh"
   ]
  },
  {
   "cell_type": "code",
   "execution_count": null,
   "id": "cdf41f9a-6197-4ca4-8e08-968cb5d6ae23",
   "metadata": {},
   "outputs": [],
   "source": [
    "from bokeh.io import output_file, show\n",
    "from bokeh.models import (BoxSelectTool, Circle, EdgesAndLinkedNodes, HoverTool,\n",
    "                          MultiLine, NodesAndLinkedEdges, Plot, Range1d, TapTool,\n",
    "                         BoxZoomTool, ResetTool, OpenURL, CustomJS, Column, SaveTool, \n",
    "                         GraphRenderer, StaticLayoutProvider, LabelSet, ColumnDataSource)\n",
    "from bokeh.palettes import Spectral4, Spectral6, Spectral8\n",
    "from bokeh.plotting import figure, output_notebook, from_networkx\n",
    "from bokeh.models import TextInput, Button\n",
    "output_notebook()"
   ]
  },
  {
   "cell_type": "code",
   "execution_count": null,
   "id": "30097907-9ee6-4894-85df-81605c04561f",
   "metadata": {},
   "outputs": [],
   "source": [
    "pos = spring_position_calculator(I, \"eigenvector_centrality\")\n",
    "node_sizes = node_size_calculator(I, \"eigenvector_centrality\", 1, 30)\n",
    "start = [i[0] for i in I.edges]\n",
    "end = [i[1] for i in I.edges]\n",
    "nodes = [i[1] for i in I.nodes(data=True)]    \n",
    "node_dict = {k: [dic[k] for dic in nodes] for k in nodes[0]} # this transform the networkx node attributes into\n",
    "                                                            # a proper Bokeh data source\n",
    "node_dict['index'] = node_dict['name']\n",
    "node_size = [node_sizes[name] for name in node_dict['index']]\n",
    "node_dict['size'] = node_size\n",
    "edges = [i[2] for i in I.edges(data=True)]\n",
    "edge_dict = {k: [dic[k] for dic in edges] for k in edges[0]}\n",
    "edge_dict['start'] = start\n",
    "edge_dict['end'] = end"
   ]
  },
  {
   "cell_type": "code",
   "execution_count": null,
   "id": "5e75d8f5-9847-4f03-8cf8-b9a782b4f1be",
   "metadata": {},
   "outputs": [],
   "source": [
    "add_labels = sorted(node_sizes, key=node_sizes.get, reverse=True)[:10]\n",
    "node_dict['labels'] = [n if n in add_labels else '' for n in node_dict['name']]"
   ]
  },
  {
   "cell_type": "code",
   "execution_count": null,
   "id": "6d204068-a914-456f-8299-1bbcc65b9699",
   "metadata": {},
   "outputs": [],
   "source": [
    "plot = Plot(plot_width=1200, plot_height=900,\n",
    "            x_range=Range1d(-1.1, 1.1), y_range=Range1d(-1.1, 1.1))\n",
    "plot.title.text = \"Treasure Archive Drehem\"\n",
    "\n",
    "node_hover_tool = HoverTool(tooltips=[(\"name\", \"@name\"), (\"eigenvector centrality\", \"@eigenvector_centrality\"), (\"degree\", '@degree')])\n",
    "plot.add_tools(node_hover_tool, BoxZoomTool(), ResetTool())\n",
    "\n",
    "graph = GraphRenderer()\n",
    "graph.node_renderer.glyph = Circle(size='size', fill_color='#2b83ba')\n",
    "graph.node_renderer.hover_glyph = Circle(size='size', fill_color='#abdda4')\n",
    "graph.layout_provider = StaticLayoutProvider(graph_layout=pos)\n",
    "#graph.node_renderer.glyph = Circle(size = 'size', fill_color=Spectral4[0])\n",
    "#graph.edge_renderer.glyph = MultiLine(line_color=Spectral4[1], line_alpha=0.8, line_width=3)\n",
    "\n",
    "graph.edge_renderer.glyph = MultiLine(line_alpha=.2, line_width='weight')  # zero line alpha\n",
    "graph.edge_renderer.hover_glyph = MultiLine(line_color='#abdda4', line_width=5)\n",
    "\n",
    "#graph.selection_policy = NodesAndLinkedEdges()\n",
    "graph.inspection_policy = NodesAndLinkedEdges()\n",
    "\n",
    "plot.renderers.append(graph)\n",
    "\n",
    "graph.edge_renderer.data_source.data = edge_dict\n",
    "graph.node_renderer.data_source.data = node_dict\n",
    "\n",
    "x, y = zip(*pos.values())\n",
    "#node_labels = labels\n",
    "source = ColumnDataSource({'x': x, 'y': y, 'name': [node_dict['labels'][i] for i in range(len(x))]})\n",
    "labels = LabelSet(x='x', y='y', text='name', source=source, background_fill_color='white', text_font_size='10px', background_fill_alpha=.7)\n",
    "plot.renderers.append(labels)\n",
    "\n",
    "#output_file(\"interactive_graphs.html\")\n",
    "show(plot)"
   ]
  },
  {
   "cell_type": "markdown",
   "id": "3c7c54f4-308b-46e0-8a8d-9caa8db5afb1",
   "metadata": {},
   "source": [
    "# Cliques\n",
    "Cliques are sets of nodes that are all connected to each other. That is, if we have four nodes, A, B, C, and D, all possible connections exist: \n",
    "> A --- B</br>\n",
    "> A --- C</br>\n",
    "> A --- D</br>\n",
    "> B --- C</br>\n",
    "> B --- D</br>\n",
    "> C --- D</br>\n",
    "\n",
    "Cliques may represent powerful centers in a graph, with  information flowing freely within each clique. Cliques are defined only for undirected graphs, so we first have to transform our graph. In order to compute cliques we need to decide the minimum number of nodes - in this case 4.\n",
    "See https://orbifold.net/default/community-detection-using-networkx/\n",
    "\n",
    "A related concept is the k-clique community. A k-clique community consists of adjacent cliques of at least *k* members. Adjacent cliques share at least *k-1* nodes. As we will see, k-clique communities tend to overlap. That is, there are powerful actors who belong to multiple such communities and connect them to each other."
   ]
  },
  {
   "cell_type": "markdown",
   "id": "67a08283-04c1-46db-a8bc-344020fdbd13",
   "metadata": {},
   "source": [
    "The following code needs more documentation.\n",
    "\n",
    "The output of k_clique_communities() is a list of frozen sets. The clique communities are sorted from largest to smallest."
   ]
  },
  {
   "cell_type": "code",
   "execution_count": null,
   "id": "9ec17597-7a5b-4238-b3af-47be4450fd3f",
   "metadata": {},
   "outputs": [],
   "source": [
    "H = nx.DiGraph.to_undirected(G)\n",
    "k_clique_com = sorted(nxcom.k_clique_communities(H, 4), key=len, reverse=True)\n",
    "# Count the communities\n",
    "N = len(k_clique_com)\n",
    "print(f\"The graph has {N} clique communities.\")"
   ]
  },
  {
   "cell_type": "markdown",
   "id": "fc1a864a-13a5-4013-b9df-caea863024f7",
   "metadata": {},
   "source": [
    "Each node in the graph receives an attribute called `cliques`. The default is `{0}` (a set). In iterating through the nodes in the clique communities, the attribute `cliques` is updated so that all nodes that belong to the first k-clique community now have the attribute `cliques = {1}` (again, a set), etc. Nodes that belong to more than one clique community will have more than one clique number in the `cliques` attribute (for instance `{1, 3}`). Nodes that are not found in any clique community will keep the default value `{0}`. We will use this attribute below to color nodes and to mark internal edges (edges between nodes that belong to the same clique)."
   ]
  },
  {
   "cell_type": "code",
   "execution_count": null,
   "id": "97d0a18b-03d5-4e18-9c22-471ec9e0a455",
   "metadata": {},
   "outputs": [],
   "source": [
    "nx.set_node_attributes(H, {0}, \"cliques\") # set {0} as default\n",
    "for c, v_c in enumerate(k_clique_com):\n",
    "    for v in v_c:\n",
    "        if min(H.nodes[v]['cliques']) > 0:  # node is already in a clique\n",
    "            H.nodes[v]['cliques'].add(c+1) # add clique no. to the set\n",
    "        else:\n",
    "            H.nodes[v]['cliques'] = {c+1}\n",
    "        # Add 1 to save 0 for nodes that are not in a clique\n",
    "            "
   ]
  },
  {
   "cell_type": "markdown",
   "id": "2cb80337-aeeb-476d-be46-45aa68a5a8c1",
   "metadata": {},
   "source": [
    "Set edge attributes with the same method. The edge attribute `clique` defaults to zero. Edges between two nodes that belong to the same clique (internal edges) receive the value of that clique. This is done by finding the intersection of the `cliques` attributes of the two nodes. If that intersection is empty (the two nodes do not share membership of a clique community) the value remains 0. If the `cliques` attributes of two nodes do intersect (that is, they share membership of at least one k-clique community), the value of the edge attribute becomes the lowest value in the intersection."
   ]
  },
  {
   "cell_type": "code",
   "execution_count": null,
   "id": "c4ec1afb-058a-4036-bb58-bc0d0ad7904e",
   "metadata": {},
   "outputs": [],
   "source": [
    "nx.set_edge_attributes(H, 0, \"clique\")  # default is 0\n",
    "for v, w, in H.edges:\n",
    "    c = H.nodes[v]['cliques'].intersection(H.nodes[w]['cliques']) # do the two nodes share a community?\n",
    "    if c:\n",
    "        # Internal edge, mark with community\n",
    "        H.edges[v, w]['clique'] = min(c)"
   ]
  },
  {
   "cell_type": "markdown",
   "id": "eb1f5551-30df-49c1-8206-b3e2ef53d9d0",
   "metadata": {},
   "source": [
    "Select nodes to display. Nodes that belong to a k-clique community and nodes that have a degree greater than 8 are admitted. Nodes that belong to one or more k-clique communities have a value in the attribute `cliques` that is higher than 0."
   ]
  },
  {
   "cell_type": "code",
   "execution_count": null,
   "id": "0a2e49da-3c33-4002-bc81-854823923faf",
   "metadata": {},
   "outputs": [],
   "source": [
    "nodes = [x for x, y in H.nodes(data=True) if min(y[\"cliques\"]) > 0 or y[\"degree\"] > 8] # select nodes\n",
    "K = H.subgraph(nodes)"
   ]
  },
  {
   "cell_type": "markdown",
   "id": "6e078b70-f02e-4bb4-9c2a-b7c00a687bd0",
   "metadata": {},
   "source": [
    "For the color scheme we use a function for creating a discrete colormap, made available by Jake VanderPlas on his github account. The [tool](https://gist.github.com/jakevdp/91077b0cae40f8f8244a) is slightly adapted for the present purposes."
   ]
  },
  {
   "cell_type": "code",
   "execution_count": null,
   "id": "4988682f-b538-4435-a038-23a5ae976269",
   "metadata": {},
   "outputs": [],
   "source": [
    "def discrete_cmap(N, base_cmap=None):\n",
    "    \"\"\"Create an N-bin discrete colormap from the specified input map\n",
    "    https://gist.github.com/jakevdp/91077b0cae40f8f8244a\n",
    "    by Jake VanderPlas\"\"\"\n",
    "    base = plt.cm.get_cmap(base_cmap)\n",
    "    color_list = base(np.linspace(0, 1, N))\n",
    "    color_list[0] = [0, 0, 0, 1] # = black\n",
    "    color_list = [matplotlib.colors.rgb2hex(col) for col in color_list]\n",
    "    return color_list"
   ]
  },
  {
   "cell_type": "code",
   "execution_count": null,
   "id": "58657148-5baf-4842-ab0f-24d17f8e7754",
   "metadata": {},
   "outputs": [],
   "source": [
    "colmap = discrete_cmap(N+2, \"jet\")"
   ]
  },
  {
   "cell_type": "markdown",
   "id": "418eb2d3-fe97-47f3-89dd-ba6f726c04ea",
   "metadata": {},
   "source": [
    "Use the resulting colormap to assign node colors and edge colors of our subgraph."
   ]
  },
  {
   "cell_type": "code",
   "execution_count": null,
   "id": "e34085ad-a8a0-4154-8b7e-c69bc33631b1",
   "metadata": {},
   "outputs": [],
   "source": [
    "#node_color = [colmap[min(K.nodes[v]['cliques'])] if len(K.nodes[v]['cliques'])==1 else colmap[N+1] for v in K.nodes]\n",
    "#edge_color = [colmap[K.edges[v, w]['clique']] for v, w in K.edges]"
   ]
  },
  {
   "cell_type": "code",
   "execution_count": null,
   "id": "498950ab-ef78-4bb0-9c2c-f6979dcb6224",
   "metadata": {},
   "outputs": [],
   "source": [
    "labels = nx.get_node_attributes(K, 'name')"
   ]
  },
  {
   "cell_type": "code",
   "execution_count": null,
   "id": "aee36632-8810-4092-aad2-b81442c9e0cf",
   "metadata": {},
   "outputs": [],
   "source": [
    "pos = spring_position_calculator(K, \"eigenvector_centrality\")\n",
    "node_sizes = node_size_calculator(K, \"eigenvector_centrality\", 1, 30)\n",
    "start = [i[0] for i in K.edges]\n",
    "end = [i[1] for i in K.edges]\n",
    "nodes = [i[1] for i in K.nodes(data=True)]    \n",
    "node_dict = {k: [dic[k] for dic in nodes] for k in nodes[0]} # this transform the networkx node attributes into\n",
    "                                                            # a proper Bokeh data source\n",
    "node_dict['index'] = node_dict['name']\n",
    "node_size = [node_sizes[name] for name in node_dict['index']]\n",
    "node_dict['size'] = node_size\n",
    "node_dict['cliques'] = [min(cliques) if len(cliques) == 1 else N+1 for cliques in node_dict['cliques']]\n",
    "node_dict['node_color'] = [colmap[clique] for clique in node_dict['cliques']]\n",
    "edges = [i[2] for i in K.edges(data=True)]\n",
    "edge_dict = {k: [dic[k] for dic in edges] for k in edges[0]}\n",
    "edge_dict['start'] = start\n",
    "edge_dict['end'] = end\n",
    "edge_dict['edge_color'] = [colmap[clique] for clique in edge_dict['clique']]"
   ]
  },
  {
   "cell_type": "code",
   "execution_count": null,
   "id": "9545331b-28a9-48c0-a272-4d99ba0af1fb",
   "metadata": {},
   "outputs": [],
   "source": [
    "add_labels = sorted(node_sizes, key=node_sizes.get, reverse=True)[:10]\n",
    "node_dict['labels'] = [n if n in add_labels else '' for n in node_dict['name']]"
   ]
  },
  {
   "cell_type": "markdown",
   "id": "d9174376-cc8b-4a7e-ac08-80551d7c9bb9",
   "metadata": {},
   "source": [
    "# Trouble in using all these variables twice"
   ]
  },
  {
   "cell_type": "code",
   "execution_count": null,
   "id": "b036b5de-d8c0-4867-99fb-63740a5b9cd9",
   "metadata": {},
   "outputs": [],
   "source": [
    "plot = figure(width=1200, height = 600)\n",
    "plot.grid.grid_line_color = None\n",
    "#plot = Plot(plot_width=1200, plot_height=900,\n",
    "#            x_range=Range1d(-1.1, 1.1), y_range=Range1d(-1.1, 1.1))\n",
    "plot.title.text = \"Treasure Archive Puzriš-Dagan\"\n",
    "\n",
    "node_hover_tool = HoverTool(tooltips=[(\"name\", \"@name\"), (\"eigenvector centrality\", \"@eigenvector_centrality\"), (\"degree\", \"@degree\")])\n",
    "plot.add_tools(node_hover_tool) #, BoxZoomTool(), ResetTool())\n",
    "\n",
    "graph = GraphRenderer()\n",
    "graph.layout_provider = StaticLayoutProvider(graph_layout=pos)\n",
    "graph.node_renderer.glyph = Circle(size='size', fill_color='node_color')\n",
    "graph.node_renderer.hover_glyph = Circle(size='size', fill_color='#abdda4')\n",
    "\n",
    "#graph.node_renderer.glyph = Circle(size = 'size', fill_color=Spectral4[0])\n",
    "#graph.edge_renderer.glyph = MultiLine(line_color=Spectral4[1], line_alpha=0.8, line_width=3)\n",
    "\n",
    "graph.edge_renderer.glyph = MultiLine(line_alpha=.2, line_width='weight', line_color='edge_color')  \n",
    "graph.edge_renderer.hover_glyph = MultiLine(line_color='edge_color', line_width=5)\n",
    "\n",
    "#graph.selection_policy = NodesAndLinkedEdges()\n",
    "graph.inspection_policy = NodesAndLinkedEdges()\n",
    "\n",
    "plot.renderers.append(graph)\n",
    "\n",
    "graph.edge_renderer.data_source.data = edge_dict\n",
    "graph.node_renderer.data_source.data = node_dict\n",
    "\n",
    "x, y = zip(*pos.values())\n",
    "source = ColumnDataSource({'x': x, 'y': y, 'name': [node_dict['labels'][i] for i in range(len(x))]})\n",
    "labels = LabelSet(x='x', y='y', text='name', source=source, background_fill_color='white', text_font_size='14px', background_fill_alpha=.7)\n",
    "plot.renderers.append(labels)\n",
    "\n",
    "for index, color in enumerate(colmap):\n",
    "    if index == 0:\n",
    "        legend_label=\"no clique\"\n",
    "    elif index == len(colmap)-1:\n",
    "        legend_label=\"multiple cliques\"\n",
    "    else:\n",
    "        legend_label = f\"clique {str(index)}\"\n",
    "\n",
    "    plot.circle(\n",
    "        legend_label=legend_label,\n",
    "        fill_color=color,\n",
    "        size=80,\n",
    "        )\n",
    "plot.legend.location = \"center\"\n",
    "plot.add_layout(plot.legend[0], 'left')\n",
    "\n",
    "#output_file(\"interactive_graphs.html\")\n",
    "show(plot)"
   ]
  },
  {
   "cell_type": "code",
   "execution_count": null,
   "id": "9db0a519-545b-45ef-b311-dff67dc9d6b2",
   "metadata": {},
   "outputs": [],
   "source": []
  }
 ],
 "metadata": {
  "kernelspec": {
   "display_name": "Python 3",
   "language": "python",
   "name": "python3"
  },
  "language_info": {
   "codemirror_mode": {
    "name": "ipython",
    "version": 3
   },
   "file_extension": ".py",
   "mimetype": "text/x-python",
   "name": "python",
   "nbconvert_exporter": "python",
   "pygments_lexer": "ipython3",
   "version": "3.8.8"
  }
 },
 "nbformat": 4,
 "nbformat_minor": 5
}
