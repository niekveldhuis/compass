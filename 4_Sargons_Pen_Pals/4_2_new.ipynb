{
 "cells": [
  {
   "cell_type": "markdown",
   "id": "bb45d82f",
   "metadata": {},
   "source": [
    "# Import Modules\n",
    "First import necessary modules."
   ]
  },
  {
   "cell_type": "code",
   "execution_count": null,
   "id": "56f86d41",
   "metadata": {},
   "outputs": [],
   "source": [
    "import networkx as nx\n",
    "import pickle\n",
    "import matplotlib.pyplot as plt\n",
    "import matplotlib as mpl\n",
    "%matplotlib inline\n",
    "from IPython.display import display, clear_output, Javascript\n",
    "import numpy as np\n",
    "from ipywidgets import interact, Layout\n",
    "import ipywidgets as widgets\n",
    "import itertools\n",
    "import pandas as pd\n",
    "import networkx.algorithms.community as nxcom\n",
    "from pylab import *\n",
    "import hvplot.networkx as hvnx\n",
    "import decorator"
   ]
  },
  {
   "cell_type": "markdown",
   "id": "f7703a61-7ba3-4436-b1e7-59a9bf018226",
   "metadata": {},
   "source": [
    "For this code to run properly it is imporatnt to have a version of decorator 5.0.7 or higher. If the version on your computer turns out to be lower, run\n",
    "```python\n",
    "!pip install decorator==5.0.9\n",
    "```\n",
    "or upgrade decorator with the commands discussed in Chapter 1."
   ]
  },
  {
   "cell_type": "code",
   "execution_count": null,
   "id": "6dc3a964-21b5-4962-b567-8bb71e2b7513",
   "metadata": {},
   "outputs": [],
   "source": [
    "decorator.__version__"
   ]
  },
  {
   "cell_type": "markdown",
   "id": "e30d9ba9",
   "metadata": {},
   "source": [
    " Load the graph that was pickled in the previous notebook"
   ]
  },
  {
   "cell_type": "code",
   "execution_count": null,
   "id": "b8b51589",
   "metadata": {},
   "outputs": [],
   "source": [
    "with open('pickle/treasury.p', 'rb') as p: \n",
    "    G = pickle.load(p)\n",
    "file = 'csv/treasury_shoes2.txt'\n",
    "tr_df = pd.read_csv(file, encoding='utf8')\n",
    "ids = list(tr_df['id_text'])\n",
    "ids.sort()"
   ]
  },
  {
   "cell_type": "markdown",
   "id": "57121d0c",
   "metadata": {},
   "source": [
    "# Visualization Functions\n",
    "This function helps to find the proportional size of the node. By Colman Bouton."
   ]
  },
  {
   "cell_type": "code",
   "execution_count": null,
   "id": "919825fe",
   "metadata": {},
   "outputs": [],
   "source": [
    "def node_size_calculator(graph, property_name, minSize, maxSize):\n",
    "    '''Given the graph, the property_name which we will use as a size reference, \n",
    "     and the minSze and maxSize, calculate the relative size of the nodes'''\n",
    "    node_data = graph.nodes.data(data=property_name)\n",
    "    data_max = max([v for k,v in node_data])\n",
    "    data_min = min([v for k,v in node_data])\n",
    "    return {k: int(minSize + v/(data_max-data_min)*(maxSize-minSize)) \n",
    "          for k,v in node_data}"
   ]
  },
  {
   "cell_type": "markdown",
   "id": "8cb3361d",
   "metadata": {},
   "source": [
    "There are several things that are key to creating good positioning for a graph visualization using the spring layout. First, we must use an undirected version of the graph for spring calculations. Otherwise, nodes that have a single directed edge leading into them will not be attracted to any other node and simply fly off.\n",
    "\n",
    "Additionally, unless the user specifies otherwise, we use the degree of the two nodes of an edge to weaken the strength of the spring. Generally, since degree represents the number of visual features around a node, this will produce the best visualisation.\n",
    "\n",
    "A further consideration to be had is that if the graph is not connected, its components will fly away from each other without bound. Therefore, it is essential for any graph you might be drawing with spring_layout that it is connected. We will be addressing this issue in our own graph at a later step.\n",
    "\n",
    "Function by Colman Bouton"
   ]
  },
  {
   "cell_type": "code",
   "execution_count": null,
   "id": "621b2545",
   "metadata": {},
   "outputs": [],
   "source": [
    "def spring_position_calculator(graph, weight_property_name = None, \n",
    "                               spring_seed = None):\n",
    "\n",
    "    gcopy = graph.to_undirected()\n",
    "\n",
    "    if weight_property_name == None:\n",
    "        weight_property_name = 'degree'\n",
    "        for node in gcopy.nodes:\n",
    "            gcopy.nodes[node]['degree'] = gcopy.degree[node]\n",
    "  \n",
    "    avg_weight = np.median([v for k,v in gcopy.nodes().data(data = weight_property_name)]) #used for draw weight calculation\n",
    "    overall_reduce = 1 / gcopy.number_of_nodes()**0.5\n",
    "    for edge in gcopy.edges:\n",
    "    #calculate draw_weight for each edge\n",
    "        gcopy[edge[0]][edge[1]]['draw_weight'] = overall_reduce * avg_weight * gcopy[edge[0]][edge[1]]['weight'] / (min(gcopy.nodes[edge[0]][weight_property_name], \n",
    "                                                                                                                        gcopy.nodes[edge[1]][weight_property_name]) + 0.01 * avg_weight)\n",
    "  \n",
    "    pos = nx.spring_layout(gcopy, weight = 'draw_weight', \n",
    "                         iterations = 500, seed=spring_seed)\n",
    "    return pos"
   ]
  },
  {
   "cell_type": "markdown",
   "id": "8f1a2c79",
   "metadata": {},
   "source": [
    "Now we can put all this to together and create a function that draws a pretty graph! We will default to using a spring graph, as well as taking in some arguments that will allow us to parameterize the size of the nodes and input which metric we will use to color code the nodes with.\n",
    "\n",
    "Function by Colman Bouton."
   ]
  },
  {
   "cell_type": "code",
   "execution_count": null,
   "id": "4ef49fe1",
   "metadata": {},
   "outputs": [],
   "source": [
    "def draw_pretty_graph(graph, minSize, maxSize,\n",
    "                            size_attr_name, figure, color_attr_name = 'degree',\n",
    "                            spacing_attr_name = None, label_name = None, pos = None, \n",
    "                            label_cutoff = 1, spring_seed = None, Ego=None):\n",
    "    '''Draw a pretty graph using the graph argument and resize the nodes using the\n",
    "     minSize and maxSize argments, while coloring the nodes by a determined metric'''\n",
    "  \n",
    "  # first, we use our previously defined function to create a dict for the sizes\n",
    "    node_sizes = node_size_calculator(graph, size_attr_name, minSize, maxSize)\n",
    "\n",
    "  # then we create the list of values for our colormap\n",
    "    color_values = list(nx.get_node_attributes(graph, color_attr_name).values())\n",
    "    v_min = min(color_values)\n",
    "    v_max = max(color_values)\n",
    "\n",
    "  # if positions are not specified, calculate them using the previous function\n",
    "    if pos == None:\n",
    "        pos = spring_position_calculator(graph, spacing_attr_name)\n",
    "\n",
    "    # we now position the labels:\n",
    "    label_pos = {}\n",
    "    num_labels = int(G.number_of_nodes() * label_cutoff) # calculate number of labels to show\n",
    "    for node in sorted(node_sizes, key = node_sizes.get, reverse=True)[0:num_labels]:\n",
    "      # set the label position to be slightly offset from the node position\n",
    "        label_pos[node] = [pos[node][0], pos[node][1] + 0.03]\n",
    "    if Ego:\n",
    "        label_pos[Ego] = [pos[Ego][0], pos[Ego][1] + 0.03]\n",
    "\n",
    "  # draw nodes and edges\n",
    "    nx.draw_networkx_nodes(        \n",
    "          graph,\n",
    "          pos,\n",
    "          node_size = [node_sizes[node] for node in graph],\n",
    "          node_color= color_values,\n",
    "          alpha = 1,\n",
    "          cmap= plt.cm.plasma, \n",
    "          vmax = v_max,\n",
    "          vmin = v_min,\n",
    "          )\n",
    "    nx.draw_networkx_edges(        \n",
    "          graph,\n",
    "          pos,\n",
    "          node_size = [node_sizes[node] for node in graph],\n",
    "          alpha = 0.5,\n",
    "          edge_color = 'brown',\n",
    "          width = 2,\n",
    "          connectionstyle=\"arc3,rad=0.1\"\n",
    "          )\n",
    "  \n",
    "  # draw labels if provided\n",
    "    if label_name == None:\n",
    "        nx.draw_networkx_labels(graph, label_pos, \n",
    "                            font_size = 10, font_weight = 'bold') #, ax = ax)\n",
    "    elif label_name != False: #if label_name is False, dont't draw labels\n",
    "        labels = {k:graph.nodes.data(data = label_name)[k] for k in label_pos}\n",
    "        nx.draw_networkx_labels(graph, label_pos, labels = labels, \n",
    "                            font_size = 14, font_weight = 'bold', \n",
    "                            font_color = 'black') #, ax = ax)\n",
    "    \n",
    "  # draw the colorbar\n",
    "    norm = mpl.colors.Normalize(vmin = v_min, vmax = v_max)\n",
    "    options = {'label' : color_attr_name}\n",
    "    figure.colorbar(mpl.cm.ScalarMappable(norm, plt.cm.plasma), **options)"
   ]
  },
  {
   "cell_type": "markdown",
   "id": "9ddc05ea",
   "metadata": {},
   "source": [
    "# Visualizing the Graph\n",
    "Generally speaking, we found setting the edges to be transparent made the graph easier to read, and that making the graph sufficiently large helped us see the individual nodes.\n",
    "\n",
    "We also chose to color code the nodes based on an assignable metric, which we defaulted to node degree. This makes it easier to discern which nodes are more important. We added a colorbar as a legend for the metric.\n",
    "\n",
    "In spring graphs, the nodes are set to pull apart from each other and the edges act as springs pulling the nodes together. When the positions are being calculated, the repellant forces and the attractant forces through the springs are added up over a series of iterations until the graph settles into a particular set of positions. In some cases, when there is a large set of data, you might see the nodes clump together, making the nodes difficult to interpret individually.\n",
    "\n",
    "Here we take the largest connected subgraph and use the `draw_pretty_graph` helper function to draw our network using a spring graph. \n",
    "\n",
    "Most of the nodes in our graph are pretty small, meaning they have a pretty low degree, but we see some interesting main actors. These nodes end up at the center of our graph because they are fairly well connected and thus are only pulled apart by less connected nodes.\n",
    "\n",
    "By Colman Bouton"
   ]
  },
  {
   "cell_type": "code",
   "execution_count": null,
   "id": "5207639b",
   "metadata": {},
   "outputs": [],
   "source": [
    "# remove nodes which have no connections to other nodes in the graph\n",
    "mainc = max(nx.algorithms.components.connected_components(G.to_undirected()), \n",
    "            key = len)\n",
    "I = G.subgraph(mainc).copy()\n",
    "#degreelog = {name : np.log(I.degree[name]) for name in I.nodes}\n",
    "#nx.set_node_attributes(I, degreelog, \"degreelog\")\n",
    "\n",
    "# draw the graph using draw_pretty_graph helper function\n",
    "\n",
    "figure = plt.figure(figsize=(25, 15))\n",
    "draw_pretty_graph(I, 1, 1000, \"degree\", figure,\n",
    "                  color_attr_name = 'eigenvector_centrality',\n",
    "                  label_name = 'name', label_cutoff = 0.03, spring_seed=1);\n",
    "plt.title('Puzriš-Dagan Treasure Archive');"
   ]
  },
  {
   "cell_type": "markdown",
   "id": "57f31e6a",
   "metadata": {},
   "source": [
    "# Interactive Visualizations\n",
    "We can further explore the visualization by adding interactive elements. In order to do so we will create the visaulization in Bokeh, using the `from_networkx()` function.\n",
    "\n",
    "In the future, it may be worth exploring the hvPlot and/or HoloViews packages, which do many of the things encoded here by default."
   ]
  },
  {
   "cell_type": "markdown",
   "id": "14a6cd2c",
   "metadata": {},
   "source": [
    "# Import Bokeh"
   ]
  },
  {
   "cell_type": "code",
   "execution_count": null,
   "id": "a0a0a502",
   "metadata": {},
   "outputs": [],
   "source": [
    "from bokeh.io import output_file, show\n",
    "from bokeh.models import (BoxSelectTool, Circle, EdgesAndLinkedNodes, HoverTool,\n",
    "                          MultiLine, NodesAndLinkedEdges, Plot, Range1d, TapTool,\n",
    "                         BoxZoomTool, ResetTool, OpenURL, CustomJS, Column, SaveTool, \n",
    "                         GraphRenderer, StaticLayoutProvider, LabelSet, ColumnDataSource)\n",
    "from bokeh.palettes import Spectral4, Spectral6, Spectral8\n",
    "from bokeh.plotting import figure, output_notebook, from_networkx\n",
    "from bokeh.models import TextInput, Button\n",
    "output_notebook()"
   ]
  },
  {
   "cell_type": "markdown",
   "id": "4eb4e772",
   "metadata": {},
   "source": [
    "Use the `spring_position_calculator()` and the `node_size_calculator()` defined above to define the position and size of the nodes, but display those nodes with `bokeh`. "
   ]
  },
  {
   "cell_type": "code",
   "execution_count": null,
   "id": "d6e2de88",
   "metadata": {},
   "outputs": [],
   "source": [
    "pos = spring_position_calculator(I, \"eigenvector_centrality\")\n",
    "node_sizes = node_size_calculator(I, \"eigenvector_centrality\", 5, 30)\n",
    "number_of_names_to_display = 20\n",
    "add_labels = sorted(node_sizes, key=node_sizes.get, reverse=True)[:number_of_names_to_display]\n",
    "labels = [n if n in add_labels else '' for n in I.nodes]\n",
    "category = [n.split(']')[1] for n in I.nodes]"
   ]
  },
  {
   "cell_type": "markdown",
   "id": "4e411471",
   "metadata": {},
   "source": [
    "The `bokeh` function `from_networkx` takes a netwokx graph object as its first parameter. The second parameter is either a networkx layout function (for instance `nx.spring_layout`), or a dictionary with positions for each node. Since we have used the `spring_position_calculator()` function for the positions, we use the output of that function (a dictionary) here.\n",
    "\n",
    "Bokeh can display tooltips (visible when hovering over a node, for instance) with the `HoverTool()`. The data to be displayed come from the node attributes (or edge attributes) in the networkX graph.\n",
    "\n",
    "For drawing the plot we use different renderers for the nodes, the edges, and for when edge or node is hovered over by the mouse. The renderer defines the glyph (a circle, square, line, triangle, etc.), the color and size of that glyph, etc.\n",
    "\n",
    "In order to display the labels with the names that belong to the nodes, we first need to decide how many of those labels we want to see on the visualization (displaying all of them will create an illegible plot). Only the nodes with the highest eigenvector centrality are labeled. In order to do this we need to create a separate ColumnDataSource. The ColumnDataSource, essentially a dictionary, is a central element of bokeh plots. In the ColumnDataSource each key has a list as its value. All lists must be of the same length. The first element of each list represents the position and all the metedata of the first element to be plotted. In the back ground the node_renderer and the edge_renderer also work with a ColumnDataSource - the data are inherited from the networkX graph.\n",
    "\n",
    "The legend is a separate element that needs to be added to the plot.\n",
    "\n",
    "After adding all these elements (the hover tool, the graph renderer, the label set and the legend) to the basic plot, we may now use the `show()` function to put it all together."
   ]
  },
  {
   "cell_type": "code",
   "execution_count": null,
   "id": "d2af4e29",
   "metadata": {},
   "outputs": [],
   "source": [
    "# initiate the plot\n",
    "plot = figure(width=1200, height = 800)\n",
    "plot.title.text = \"Treasure Archive Drehem\"\n",
    "plot.grid.grid_line_color = None\n",
    "node_hover_tool = HoverTool(tooltips=[(\"name\", \"@name\"), (\"eigenvector centrality\", \"@eigenvector_centrality\"), (\"degree\", '@degree')])\n",
    "plot.add_tools(node_hover_tool)\n",
    "\n",
    "# add the graph with node renderers\n",
    "graph_renderer = from_networkx(I, pos)\n",
    "graph_renderer.node_renderer.glyph = Circle(fill_color = 'node_color',size = 'node_size')\n",
    "graph_renderer.node_renderer.hover_glyph = Circle(size='size', fill_color='#abdda4')\n",
    "graph_renderer.node_renderer.data_source.data['node_size'] = list(node_sizes.values())\n",
    "graph_renderer.node_renderer.data_source.data['label'] = labels\n",
    "graph_renderer.node_renderer.data_source.data['category'] = category\n",
    "\n",
    "# add the edge renderers\n",
    "graph_renderer.edge_renderer.glyph = MultiLine(line_alpha=.5, line_width='weight')  \n",
    "graph_renderer.edge_renderer.hover_glyph = MultiLine(line_color='edge_color', line_width='weight')\n",
    "graph_renderer.inspection_policy = NodesAndLinkedEdges()\n",
    "plot.renderers.append(graph_renderer)\n",
    "\n",
    "# add labels\n",
    "x, y = zip(*pos.values())\n",
    "source = ColumnDataSource({'x': x, 'y': y, 'label': labels})\n",
    "labelset = LabelSet(x='x', y='y', text='label', source=source, background_fill_color='white', text_font_size='12px', background_fill_alpha=.7)\n",
    "plot.renderers.append(labelset)\n",
    "\n",
    "# add legends\n",
    "plot.circle(\n",
    "    source = graph_renderer.node_renderer.data_source.data,\n",
    "    legend_group=\"category\",\n",
    "    fill_color=\"node_color\",\n",
    "    size=80,\n",
    "    )\n",
    "plot.line(\n",
    "    legend_label=\"relation\",\n",
    "    line_color=\"blue\",\n",
    "    line_width=3)\n",
    "plot.line(\n",
    "    legend_label=\"transaction\",\n",
    "    line_color=\"green\",\n",
    "    line_width = 3)\n",
    "plot.legend.location = \"center\"\n",
    "plot.add_layout(plot.legend[0], 'left')\n",
    "show(plot)"
   ]
  },
  {
   "cell_type": "markdown",
   "id": "e2756c72",
   "metadata": {},
   "source": [
    "# Cliques\n",
    "Cliques are sets of nodes that are all connected to each other. That is, if we have four nodes, A, B, C, and D, all possible connections exist: \n",
    "> A --- B</br>\n",
    "> A --- C</br>\n",
    "> A --- D</br>\n",
    "> B --- C</br>\n",
    "> B --- D</br>\n",
    "> C --- D</br>\n",
    "\n",
    "Cliques may represent powerful centers in a graph, with  information flowing freely within each clique. Cliques are defined only for undirected graphs, so we first have to transform our graph. In order to compute cliques we need to decide the minimum number of nodes - in this case 4.\n",
    "See https://orbifold.net/default/community-detection-using-networkx/\n",
    "\n",
    "A related concept is the k-clique community. A k-clique community consists of adjacent cliques of at least *k* members. Adjacent cliques share at least *k-1* nodes. As we will see, k-clique communities tend to overlap. That is, there are powerful actors who belong to multiple such communities and connect them to each other."
   ]
  },
  {
   "cell_type": "markdown",
   "id": "16ed7018",
   "metadata": {},
   "source": [
    "The following code needs more documentation.\n",
    "\n",
    "The output of k_clique_communities() is a list of frozen sets. The clique communities are sorted from largest to smallest."
   ]
  },
  {
   "cell_type": "code",
   "execution_count": null,
   "id": "cf505e73",
   "metadata": {},
   "outputs": [],
   "source": [
    "H = nx.DiGraph.to_undirected(G)\n",
    "k_clique_com = sorted(nxcom.k_clique_communities(H, 4), key=len, reverse=True)\n",
    "# Count the communities\n",
    "N = len(k_clique_com)\n",
    "print(f\"The graph has {N} clique communities.\")"
   ]
  },
  {
   "cell_type": "markdown",
   "id": "5336aa62",
   "metadata": {},
   "source": [
    "Each node in the graph receives an attribute called `cliques`. The default is `{0}` (a set). In iterating through the nodes in the clique communities, the attribute `cliques` is updated so that all nodes that belong to the first k-clique community now have the attribute `cliques = {1}` (again, a set), etc. Nodes that belong to more than one clique community will have more than one clique number in the `cliques` attribute (for instance `{1, 3}`). Nodes that are not found in any clique community will keep the default value `{0}`. We will use this attribute below to color nodes and to mark internal edges (edges between nodes that belong to the same clique)."
   ]
  },
  {
   "cell_type": "code",
   "execution_count": null,
   "id": "8cb58ed8",
   "metadata": {},
   "outputs": [],
   "source": [
    "nx.set_node_attributes(H, {0}, \"cliques\") # set {0} as default\n",
    "for c, v_c in enumerate(k_clique_com):\n",
    "    for v in v_c:\n",
    "        if min(H.nodes[v]['cliques']) > 0:  # node is already in a clique\n",
    "            H.nodes[v]['cliques'].add(c+1) # add clique no. to the set\n",
    "        else:\n",
    "            H.nodes[v]['cliques'] = {c+1}\n",
    "        # Add 1 to save 0 for nodes that are not in a clique"
   ]
  },
  {
   "cell_type": "markdown",
   "id": "88c15b55",
   "metadata": {},
   "source": [
    "Set edge attributes with the same method. The edge attribute `clique` defaults to zero. Edges between two nodes that belong to the same clique (internal edges) receive the value of that clique. This is done by finding the intersection of the `cliques` attributes of the two nodes. If that intersection is empty (the two nodes do not share membership of a clique community) the value remains 0. If the `cliques` attributes of two nodes do intersect (that is, they share membership of at least one k-clique community), the value of the edge attribute becomes the lowest value in the intersection."
   ]
  },
  {
   "cell_type": "code",
   "execution_count": null,
   "id": "7dc7c93a",
   "metadata": {},
   "outputs": [],
   "source": [
    "nx.set_edge_attributes(H, 0, \"clique\")  # default is 0\n",
    "for v, w, in H.edges:\n",
    "    c = H.nodes[v]['cliques'].intersection(H.nodes[w]['cliques']) # do the two nodes share a community?\n",
    "    if c:\n",
    "        # Internal edge, mark with community\n",
    "        H.edges[v, w]['clique'] = min(c)"
   ]
  },
  {
   "cell_type": "markdown",
   "id": "b08471a9-1cb7-40d9-9c43-ed2f26a68b24",
   "metadata": {},
   "source": [
    "The node attribute 'cliques' is a set, which is not allowed when displaying the graph in Bokeh. We do not need the sets anymore - if a node belongs to more than one clique the attribute will be N+1 (the number of cliques + 1), otherwise, the attribute is the lowest (and single) number in the set."
   ]
  },
  {
   "cell_type": "code",
   "execution_count": null,
   "id": "63e49e61-729c-4b76-8bcc-19af88e20d5f",
   "metadata": {},
   "outputs": [],
   "source": [
    "for node in H.nodes:\n",
    "    if len(H.nodes[node]['cliques']) > 1:\n",
    "        H.nodes[node]['cliques'] = N+1\n",
    "    else:\n",
    "        H.nodes[node]['cliques'] = min(H.nodes[node]['cliques'])"
   ]
  },
  {
   "cell_type": "markdown",
   "id": "0ba9074f",
   "metadata": {},
   "source": [
    "Select nodes to display. Nodes that belong to a k-clique community and nodes that have a degree greater than 8 are admitted. Nodes that belong to one or more k-clique communities have a value in the attribute `cliques` that is higher than 0."
   ]
  },
  {
   "cell_type": "code",
   "execution_count": null,
   "id": "db41b9d4",
   "metadata": {},
   "outputs": [],
   "source": [
    "nodes = [x for x, y in H.nodes(data=True) if y[\"cliques\"] > 0 or y[\"degree\"] > 8] # select nodes\n",
    "K = H.subgraph(nodes)"
   ]
  },
  {
   "cell_type": "markdown",
   "id": "35f2e3cc",
   "metadata": {},
   "source": [
    "For the color scheme we use a function for creating a discrete colormap, made available by Jake VanderPlas on his github account. The [tool](https://gist.github.com/jakevdp/91077b0cae40f8f8244a) is slightly adapted for the present purposes."
   ]
  },
  {
   "cell_type": "code",
   "execution_count": null,
   "id": "a78b9e6a",
   "metadata": {},
   "outputs": [],
   "source": [
    "def discrete_cmap(N, base_cmap=None):\n",
    "    \"\"\"Create an N-bin discrete colormap from the specified input map\n",
    "    https://gist.github.com/jakevdp/91077b0cae40f8f8244a\n",
    "    by Jake VanderPlas\"\"\"\n",
    "    base = plt.cm.get_cmap(base_cmap)\n",
    "    color_list = base(np.linspace(0, 1, N))\n",
    "    color_list[0] = [0, 0, 0, 1] # = black\n",
    "    color_list = [matplotlib.colors.rgb2hex(col) for col in color_list]\n",
    "    return color_list"
   ]
  },
  {
   "cell_type": "code",
   "execution_count": null,
   "id": "32be8768",
   "metadata": {},
   "outputs": [],
   "source": [
    "colmap = discrete_cmap(N+2, \"jet\")"
   ]
  },
  {
   "cell_type": "markdown",
   "id": "d76d8165",
   "metadata": {},
   "source": [
    "Use the resulting colormap to assign node colors and edge colors of our subgraph."
   ]
  },
  {
   "cell_type": "code",
   "execution_count": null,
   "id": "c2d38e7f",
   "metadata": {},
   "outputs": [],
   "source": [
    "pos2 = spring_position_calculator(K, \"eigenvector_centrality\")\n",
    "node_sizes2 = node_size_calculator(K, \"eigenvector_centrality\", 5, 30)\n",
    "number_of_names_to_display = 20\n",
    "add_labels = sorted(node_sizes, key=node_sizes.get, reverse=True)[:number_of_names_to_display]\n",
    "labels = [n if n in add_labels else '' for n in K.nodes]\n",
    "category = [n.split(']')[1] for n in K.nodes]"
   ]
  },
  {
   "cell_type": "markdown",
   "id": "56d3f67c",
   "metadata": {},
   "source": [
    "Trouble in using all these variables twice\n",
    "Improve production of this graph by 1. adding clique_label (as a string) to node attributes in networkx; 2. in bokeh use clique_label for legend_group in node_renderer.\n",
    "For using pre-computed positions and for activating the DataSource, see [here](https://stackoverflow.com/questions/49059916/python-how-to-pass-networkx-layout-arguments-through-bokehs-from-networkx)."
   ]
  },
  {
   "cell_type": "code",
   "execution_count": null,
   "id": "00fc1872-ee5c-40a3-a3f2-5d3d6247d21d",
   "metadata": {},
   "outputs": [],
   "source": [
    "# initiate the plot\n",
    "plot2 = figure(width=1000, height = 600)\n",
    "plot2.title.text = \"Treasure Archive Drehem: Cliques\"\n",
    "plot2.grid.grid_line_color = None\n",
    "node_hover_tool = HoverTool(tooltips=[(\"name\", \"@name\"), (\"eigenvector centrality\", \"@eigenvector_centrality\"), (\"degree\", '@degree')])\n",
    "plot2.add_tools(node_hover_tool)\n",
    "\n",
    "# add the graph with node renderers\n",
    "graph = from_networkx(K, pos2)\n",
    "graph.node_renderer.data_source.data['node_size'] = list(node_sizes2.values())\n",
    "graph.node_renderer.data_source.data['node_color'] = [colmap[clique] for clique in graph.node_renderer.data_source.data['cliques']]\n",
    "graph.node_renderer.glyph = Circle(fill_color = 'node_color',size = 'node_size', fill_alpha=.5)\n",
    "graph.node_renderer.hover_glyph = Circle(size='node_size', fill_color='node_color')\n",
    "graph.node_renderer.data_source.data['label'] = labels\n",
    "graph.node_renderer.data_source.data['category'] = category\n",
    "\n",
    "# add the edge renderers\n",
    "graph.edge_renderer.glyph = MultiLine(line_alpha=.5, line_width='weight')  \n",
    "graph.edge_renderer.data_source.data['edge_color'] = [colmap[clique] for clique in graph.edge_renderer.data_source.data['clique']]\n",
    "graph.edge_renderer.hover_glyph = MultiLine(line_color='edge_color', line_width='weight')\n",
    "graph.inspection_policy = NodesAndLinkedEdges()\n",
    "plot2.renderers.append(graph)\n",
    "\n",
    "# add labels\n",
    "x, y = zip(*pos2.values())\n",
    "source2 = ColumnDataSource({'x': x, 'y': y, 'label': labels})\n",
    "labelset2 = LabelSet(x='x', y='y', text='label', source=source2, background_fill_color='white', text_font_size='12px', background_fill_alpha=.7)\n",
    "plot2.renderers.append(labelset2)\n",
    "\n",
    "# add legends\n",
    "plot2.circle(\n",
    "    source = graph.node_renderer.data_source.data,\n",
    "    legend_group=\"cliques\",\n",
    "    fill_color=\"node_color\",\n",
    "    size=80,\n",
    "    )\n",
    "plot2.legend.location = \"center\"\n",
    "plot2.add_layout(plot2.legend[0], 'left')\n",
    "show(plot2)"
   ]
  },
  {
   "cell_type": "code",
   "execution_count": null,
   "id": "b2e67b10-726b-4693-9ff0-dfbbc16686ae",
   "metadata": {},
   "outputs": [],
   "source": []
  }
 ],
 "metadata": {
  "kernelspec": {
   "display_name": "Python 3",
   "language": "python",
   "name": "python3"
  },
  "language_info": {
   "codemirror_mode": {
    "name": "ipython",
    "version": 3
   },
   "file_extension": ".py",
   "mimetype": "text/x-python",
   "name": "python",
   "nbconvert_exporter": "python",
   "pygments_lexer": "ipython3",
   "version": "3.8.8"
  }
 },
 "nbformat": 4,
 "nbformat_minor": 5
}
