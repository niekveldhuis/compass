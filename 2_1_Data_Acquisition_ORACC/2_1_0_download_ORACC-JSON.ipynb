{
 "cells": [
  {
   "cell_type": "markdown",
   "metadata": {},
   "source": [
    "# 2.1.0 Download ORACC JSON Files\n",
    "\n",
    "Each public [ORACC](http://oracc.org) project has a `zip` file that contains a collection of JSON files, which provide data on lemmatizations, transliterations, catalog data, indexes, etc. The `zip` file can be found at `http://oracc.museum.upenn.edu/[PROJECT]/json/[PROJECT].zip`, where `[PROJECT]` is to be replaced with the project abbreviation. For sub-projects the address is `http://oracc.museum.upenn.edu/[PROECT]/[SUBPROJECT]/json/[PROJECT]-[SUBPROJECT].zip`\n",
    "\n",
    ":::{note}\n",
    "For instance http://oracc.museum.upenn.edu/etcsri/json/etcsri.zip or, for a subproject http://oracc.museum.upenn.edu/cams/gkab/json/cams-gkab.zip.\n",
    "::: \n",
    "\n",
    "One may download these files by hand (simply type the address in your browser), or use the code in the current notebook. The notebook will create a directory `jsonzip` and copy the file to that directory - all further scripts will expect the `zip` files to reside in `jsonzip`. \n",
    "\n",
    ":::{note}\n",
    "One may also use the function `oracc_download()` in the `utils` module. See below (2.1.0.5) for instructions on how to use the `utils` module.\n",
    ":::\n",
    "\n",
    "```{figure} ../images/mocci_banner.jpg\n",
    ":scale: 50%\n",
    ":figclass: margin\n",
    "```\n",
    "\n",
    "Some [ORACC](http://oracc.org) projects are maintained by the Munich Open-access Cuneiform Corpus Initiative ([MOCCI](https://www.en.ag.geschichte.uni-muenchen.de/research/mocci/index.html)). This includes, for example, Official Inscriptions of the Middle East in Antiquity ([OIMEA](http://oracc.org/oimea)) and, Archival Texts of the Middle East in Antiquity ([ATMEA](http://oracc.org/atmea)) and various other projects and sub-projects. In theory, project data are copied from the Munich server to the Philadelphia ORACC server (and v.v.), but in order to get the most recent data set it is sometimes advisable to request the `zip` files directly from the Munich server. The address is `http://oracc.ub.uni-muenchen.de/[PROJECT]/[SUBPROJECT]/json/[PROJECT]-[SUBPROJECT].zip`. \n",
    "\n",
    ":::{note}\n",
    "The function `oracc_download()` in the `utils` module will try the various servers to find the project(s) of your choice.\n",
    ":::\n",
    "\n",
    "After downloading the JSON `zip` file you may unzip it to inspect its contents but there is no necessity to do so. For larger projects unzipping may result in hundreds or even thousands of files; the scripts will always read the data directly from the `zip` file."
   ]
  },
  {
   "cell_type": "markdown",
   "metadata": {},
   "source": [
    "## 2.1.0.0. Import Packages\n",
    "\n",
    "* requests: for communicating with a server over the internet\n",
    "* tqdm: for creating progress bars\n",
    "* os: for basic Operating System operations (such as creating a directory)\n",
    "* ipywidgets: for user interface (input project names to be downloaded)"
   ]
  },
  {
   "cell_type": "code",
   "execution_count": 1,
   "metadata": {},
   "outputs": [],
   "source": [
    "import requests\n",
    "from tqdm.auto import tqdm\n",
    "import os\n",
    "import ipywidgets as widgets"
   ]
  },
  {
   "cell_type": "markdown",
   "metadata": {},
   "source": [
    "## 2.1.0.1. Create Download Directory\n",
    "Create a directory called `jsonzip`. If the directory already exists, do nothing."
   ]
  },
  {
   "cell_type": "code",
   "execution_count": 2,
   "metadata": {},
   "outputs": [],
   "source": [
    "os.makedirs(\"jsonzip\", exist_ok = True)"
   ]
  },
  {
   "cell_type": "markdown",
   "metadata": {},
   "source": [
    "## 2.1.0.2 Input a List of Project Abbreviations\n",
    "Enter one or more project abbreviations to download their JSON zip files. The project names are separated by commas. Note that subprojects must be given explicitly, they are not automatically included in the main project. For instance: \n",
    "* saao/saa01, aemw/alalakh/idrimi, rimanum"
   ]
  },
  {
   "cell_type": "code",
   "execution_count": 3,
   "metadata": {},
   "outputs": [
    {
     "data": {
      "application/vnd.jupyter.widget-view+json": {
       "model_id": "b441f7d54cf54ca9b43213a6f0de406b",
       "version_major": 2,
       "version_minor": 0
      },
      "text/plain": [
       "Textarea(value='', description='Projects:', placeholder='Type project names, separated by commas')"
      ]
     },
     "metadata": {},
     "output_type": "display_data"
    }
   ],
   "source": [
    "projects = widgets.Textarea(\n",
    "    placeholder='Type project names, separated by commas',\n",
    "    description='Projects:',\n",
    ")\n",
    "projects"
   ]
  },
  {
   "cell_type": "markdown",
   "metadata": {},
   "source": [
    "\n",
    "## 2.1.0.3 Split the List of Projects\n",
    "Lower case the list of projects and split it to create a list of project names."
   ]
  },
  {
   "cell_type": "code",
   "execution_count": 4,
   "metadata": {},
   "outputs": [],
   "source": [
    "project_list = projects.value.lower().split(',')   # split at each comma and make a list called `project_list`\n",
    "project_list = [project.strip() for project in project_list]  # strip spaces left and right of each entry"
   ]
  },
  {
   "cell_type": "markdown",
   "metadata": {},
   "source": [
    "## 2.1.0.4 Download the ZIP files\n",
    "\n",
    "For larger projects (such as [DCCLT](http://oracc.org/dcclt)) the `zip` file may be 25Mb or more. Downloading may take some time and it may be necessary to chunk the downloading process. The `iter_content()` function in the `requests` library takes care of that.\n",
    "\n",
    "In order to show a progress bar (with `tqdm`) we need to know how large the file to be downloaded is (this value is is then fed to the `total` parameter). The http protocol provides a key `content-length` in the headers (a dictionary) that indicates file length. Not all servers provide this field - if `content-length` is not avalaible it is set to 0. With the `total` value of 0 `tqdm` will show a bar and will count the number of chunks received, but it will not indicate the degree of progress."
   ]
  },
  {
   "cell_type": "code",
   "execution_count": 5,
   "metadata": {
    "tags": [
     "remove_output"
    ]
   },
   "outputs": [
    {
     "name": "stdout",
     "output_type": "stream",
     "text": [
      "WARNING: http://oracc.museum.upenn.edu/json/.zip does not exist.\n"
     ]
    }
   ],
   "source": [
    "CHUNK = 1024\n",
    "for project in project_list:\n",
    "    proj = project.replace('/', '-')\n",
    "    url = f\"http://oracc.museum.upenn.edu/json/{proj}.zip\"\n",
    "    file = f'jsonzip/{proj}.zip'\n",
    "    with requests.get(url, stream=True) as request:\n",
    "        if request.status_code == 200:   # meaning that the file exists\n",
    "            total_size = int(request.headers.get('content-length', 0))\n",
    "            tqdm.write(f'Saving {url} as {file}')\n",
    "            t=tqdm(total=total_size, unit='B', unit_scale=True, desc = project)\n",
    "            with open(file, 'wb') as f:\n",
    "                for c in request.iter_content(chunk_size=CHUNK):\n",
    "                    t.update(len(c))\n",
    "                    f.write(c)\n",
    "        else:\n",
    "            tqdm.write(f\"WARNING: {url} does not exist.\")"
   ]
  },
  {
   "cell_type": "markdown",
   "metadata": {},
   "source": [
    "## 2.1.0.5 Downloading with the utils Module\n",
    "In the chapters 3-6, downloading of [ORACC](http://oracc.org) data will be done with the `oracc_download()` function in the module `utils` that can be found in the `utils` directory. The following code illustrates how to use that function. \n",
    "\n",
    "The function `oracc_download()` takes a list of project names as its first argument. Replace the line\n",
    "```python\n",
    "projects = [\"dcclt\", \"saao/saa01\"]\n",
    "```\n",
    "with the list of projects (and sub-projects) of your choice. \n",
    "\n",
    "The second (optional) argument is `server`; possible values are \"penn\" (default; try the Penn server first) and \"lmu\" (try the Munich server first). The `oracc_download()` function returns a cleaned list of projects with duplicates and non-existing projects removed."
   ]
  },
  {
   "cell_type": "code",
   "execution_count": 6,
   "metadata": {
    "tags": [
     "remove_output"
    ]
   },
   "outputs": [
    {
     "name": "stdout",
     "output_type": "stream",
     "text": [
      "Saving http://build-oracc.museum.upenn.edu/json/dcclt.zip as jsonzip/dcclt.zip.\n"
     ]
    },
    {
     "data": {
      "application/vnd.jupyter.widget-view+json": {
       "model_id": "d3b1b43ba05f4188a4023adae4933a47",
       "version_major": 2,
       "version_minor": 0
      },
      "text/plain": [
       "dcclt:   0%|          | 0.00/71.6M [00:00<?, ?B/s]"
      ]
     },
     "metadata": {},
     "output_type": "display_data"
    },
    {
     "name": "stdout",
     "output_type": "stream",
     "text": [
      "Saving http://build-oracc.museum.upenn.edu/json/saao-saa01.zip as jsonzip/saao-saa01.zip.\n"
     ]
    },
    {
     "data": {
      "application/vnd.jupyter.widget-view+json": {
       "model_id": "d81475b5d81b44d59d0852f1481c3a1d",
       "version_major": 2,
       "version_minor": 0
      },
      "text/plain": [
       "saao/saa01:   0%|          | 0.00/4.99M [00:00<?, ?B/s]"
      ]
     },
     "metadata": {},
     "output_type": "display_data"
    },
    {
     "data": {
      "text/plain": [
       "['dcclt', 'saao/saa01']"
      ]
     },
     "execution_count": 6,
     "metadata": {},
     "output_type": "execute_result"
    }
   ],
   "source": [
    "import os\n",
    "import sys\n",
    "util_dir = os.path.abspath('../utils') # When necessary, adapt the path to the utils directory.\n",
    "sys.path.append(util_dir)\n",
    "import utils\n",
    "directories = [\"jsonzip\"]\n",
    "os.makedirs(\"jsonzip\", exist_ok = True)\n",
    "projects = [\"dcclt\", \"saao/saa01\"] # or any list of ORACC projects\n",
    "utils.oracc_download(projects, server=\"penn\")"
   ]
  },
  {
   "cell_type": "code",
   "execution_count": null,
   "metadata": {},
   "outputs": [],
   "source": []
  },
  {
   "cell_type": "code",
   "execution_count": null,
   "metadata": {},
   "outputs": [],
   "source": []
  }
 ],
 "metadata": {
  "kernelspec": {
   "display_name": "Python 3",
   "language": "python",
   "name": "python3"
  },
  "language_info": {
   "codemirror_mode": {
    "name": "ipython",
    "version": 3
   },
   "file_extension": ".py",
   "mimetype": "text/x-python",
   "name": "python",
   "nbconvert_exporter": "python",
   "pygments_lexer": "ipython3",
   "version": "3.8.8"
  },
  "toc-autonumbering": false
 },
 "nbformat": 4,
 "nbformat_minor": 4
}
