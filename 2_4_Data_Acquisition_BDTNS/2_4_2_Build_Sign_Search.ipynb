{
 "cells": [
  {
   "cell_type": "markdown",
   "metadata": {},
   "source": [
    "# Build Sign Search for BDTNS\n",
    "Goal of this notebook is to search the [BDTNS](http://bdtns.filol.csic.es) data by signs, irrespective of their reading. For instance, the sign NE may be read bi₂, ne, izi, šeŋ₆, kum₂, lam₂, zah₂, etc. It is easy to search for transliteration (and/or metadata) in the [BDTNS](http://bdtns.filol.csic.es) search page, but there is currently no way to search for a sequence of signs. This is useful, in particular, in two situations. \n",
    "\n",
    "1. Sumerological transliteration conventions may differ quite substantially between different schools. Thus, lu₂ kin-gi₄-a, {lu₂}kin-gi₄-a, lu₂ kiŋ₂-gi₄-a and {lu₂}kiŋ₂-gi₄-a all represent the same sequence of signs and the same word (meaning 'messenger'), but without knowledge of the particular set of conventions used it may be difficult to guess which search will yield the desired results. In the sign search one may enter sign readings according to any convention recognized by the ORACC Global Sign List ([OGSL](http://oracc.org/ogsl)).\n",
    "\n",
    "2. In some cases the correct reading and interpretation of a sign sequence may be unclear and this ambiguiuty may have been resolved in different ways throughout the database. The names lugal-mudra₅, lugal-zuluhu₂ and lugal-siki-su₁₃ all represent the same sign sequence. Which of these is correct is not entirely clear (although the third seems unlikely) and, depending on the research question, may even be unimportant (for instance for an SNA analysis). In the sign search one may enter any of these forms and the results will include all of them."
   ]
  },
  {
   "cell_type": "code",
   "execution_count": null,
   "metadata": {},
   "outputs": [],
   "source": [
    "import warnings\n",
    "warnings.simplefilter(action='ignore', category=FutureWarning) # this suppresses a warning about pandas from tqdm\n",
    "import pandas as pd\n",
    "pd.set_option('display.max_rows', None)\n",
    "from tqdm.auto import tqdm  # tqdm.auto will activate the notebook version when called from a notebook\n",
    "tqdm.pandas() # initiate progress bars for pandas\n",
    "import os\n",
    "import sys\n",
    "import re\n",
    "import pickle\n",
    "import zipfile\n",
    "import json\n",
    "from ipywidgets import interact # User Interface for search\n",
    "import ipywidgets as widgets\n",
    "from IPython.display import display, clear_output\n",
    "util_dir = os.path.abspath('../utils') # make Compass utilities available\n",
    "sys.path.append(util_dir)\n",
    "import utils"
   ]
  },
  {
   "cell_type": "markdown",
   "metadata": {},
   "source": [
    "## 0 Create Directories, if Necessary\n",
    "The two directories needed for this script are `jsonzip` and `output`."
   ]
  },
  {
   "cell_type": "code",
   "execution_count": null,
   "metadata": {},
   "outputs": [],
   "source": [
    "os.makedirs('jsonzip', exist_ok = True)\n",
    "os.makedirs('output', exist_ok = True)"
   ]
  },
  {
   "cell_type": "markdown",
   "metadata": {},
   "source": [
    "## 1 Download the OGSL ZIP file\n",
    "The sign search uses the ORACC Global Sign List [OGSL](http://oracc.org/ogsl), available in JSON format at http://build-oracc.museum.upenn.edu/json/ogsl.zip. The function `oracc_download()` from the `utils` module downloads the JSON file in ZIP format. The function expects a list as its sole argument."
   ]
  },
  {
   "cell_type": "code",
   "execution_count": null,
   "metadata": {},
   "outputs": [],
   "source": [
    "project = [\"ogsl\"] # oracc_download() expects a list\n",
    "p = utils.oracc_download(project)"
   ]
  },
  {
   "cell_type": "markdown",
   "metadata": {},
   "source": [
    "# 2 The `parse_ogsl_json()` function\n",
    "The function iterates through the JSON object. The output is a dictionary where each possible reading, listed in [OGSL](http://oracc.org/ogsl) is a key, the value is the sign name of that reading. For instance\n",
    "```python\n",
    "{'u₄' : 'UD', 'ud' : 'UD', 'babbar' : 'UD'}\n",
    "```\n",
    "etc.\n",
    "\n",
    "In the process of parsing the JSON the sign list is adapted to reflect Ur III writing. Some signs that are distinguished in [OGSL](http://oracc.org/ogsl) coincided in the Ur III period. For instance, the signs NI₂ and IM, which are different in the Fara period, are the same in Ur III. Such signs are listed in the dictionary `equiv`, which is used in the `parse_ogsl_json()` function. When adding more signs to the dictionary, make sure to use the canonical sign names as defined in [OGSL](http://oracc.org/ogsl)."
   ]
  },
  {
   "cell_type": "code",
   "execution_count": null,
   "metadata": {},
   "outputs": [],
   "source": [
    "equiv = {'ANŠE' : 'GIR₃', \n",
    "        'DUR₂' : 'KU', \n",
    "        'NAM₂' : 'TUG₂', \n",
    "        'TIL' : 'BAD', \n",
    "        'NI₂' : 'IM',\n",
    "        'ŠAR₂' : 'HI', \n",
    "        'ZI₃'  : 'EŠ₂'\n",
    "        }"
   ]
  },
  {
   "cell_type": "code",
   "execution_count": null,
   "metadata": {},
   "outputs": [],
   "source": [
    "def parse_ogsl_json(data_json):\n",
    "    value2signname = {}\n",
    "    word = re.compile(r'\\w+') # replace whole words only - do not replace TILLA with BADLA.\n",
    "                           # but do replace |SAL.ANŠE| with |SAL.GIR₃|\n",
    "    for sign_name, sign_data in data_json[\"signs\"].items():\n",
    "        sign_name = re.sub(word, lambda m: equiv.get(m.group(), m.group()), sign_name)\n",
    "        if \"values\" in sign_data:\n",
    "            for reading in sign_data[\"values\"]:\n",
    "                value2signname[reading] = sign_name\n",
    "    return value2signname"
   ]
  },
  {
   "cell_type": "markdown",
   "metadata": {},
   "source": [
    "# 3 Process the JSON\n",
    "In the main process the file `ogsl-sl.json` is extracted from the zip and made into a JSON object (with the `json.loads()` function). This object is sent to the `parsejson()` function defined above."
   ]
  },
  {
   "cell_type": "code",
   "execution_count": null,
   "metadata": {},
   "outputs": [],
   "source": [
    "file = \"jsonzip/ogsl.zip\"\n",
    "zip_file = zipfile.ZipFile(file) \n",
    "filename = \"ogsl/ogsl-sl.json\"\n",
    "signlist = zip_file.read(filename).decode('utf-8')\n",
    "data_json = json.loads(signlist)                # make it into a json object (essentially a dictionary)\n",
    "value2signname = parse_ogsl_json(data_json)  \n",
    "with open('output/ogsl_dict.p', 'wb') as p:\n",
    "    pickle.dump(value2signname, p)  "
   ]
  },
  {
   "cell_type": "markdown",
   "metadata": {},
   "source": [
    "# 4 Inspect the Results in Dataframe\n",
    "This DataFrame is only for inspection - it is not otherwise used in the code below."
   ]
  },
  {
   "cell_type": "code",
   "execution_count": null,
   "metadata": {},
   "outputs": [],
   "source": [
    "ogsl = pd.DataFrame.from_dict(value2signname, orient='index', columns = [\"Name\"]).sort_values(by = 'Name')\n",
    "ogsl[1000:1025]"
   ]
  },
  {
   "cell_type": "markdown",
   "metadata": {},
   "source": [
    "# 5 Open BDTNS Data\n",
    "We can now open the dataframe with the [BDTNS](http://bdtns.filol.csic.es) transliterations. This dataframe was pickled in notebook [2_4_1_Data_Acquisition_BDTNS.ipynb](./2_4_1_Data_Acquisition_BDTNS.ipynb). The dataframe has five fields: `id_text` (the [BDTNS](http://bdtns.filol.csic.es) number of a document), `id_line` (a continuous line numbering that starts at 1 for each new document; integer), `label` (the regular, human legible [BDTNS](http://bdtns.filol.csic.es) line number), `text` (the transliteration of the line) and `comments` (any comments added to the line in [BDTNS](http://bdtns.filol.csic.es))."
   ]
  },
  {
   "cell_type": "code",
   "execution_count": null,
   "metadata": {},
   "outputs": [],
   "source": [
    "file = 'output/bdtns.p'\n",
    "bdtns = pd.read_pickle(file)\n",
    "bdtns.head()"
   ]
  },
  {
   "cell_type": "markdown",
   "metadata": {},
   "source": [
    "# 6 Tokenizing Signs\n",
    "In order to search by sign, we need to tokenize signs in the transliteration column (`text`) while ignoring elements such as question marks or (half-) brackets. First step is to define different types of separators, and flags that may be present in the text or in the sign name. The most common separators are space and hyphen. Curly brackets are placed around determinatives (semantic classifiers), as in {d}En-lil₂ (\"the god Enlil\"). Curly brackets and hyphens will be replaced by spaces. The separators in `separators2` are used in compound signs, as in |SI.A|, or |ŠU+NIGIN|. Operators, finally, are also used in compound signs and indicate how the signs are written in relation to each other (on top of each other, one inside the other, etc.). Compound signs that represent a sequence of simple signs (|SI.A| for **dirig** or |A.TU.GAB.LIŠ| for **asal₂**) will be decomposed in their component signs. Compound signs of the type |KA×GAR| (for **gu₇**) are not analyzed, but their component parts are aligned with [OGSL](http://oracc.org/ogsl) practices (that is |KA×NINDA| will be re-written as |KA×GAR|, because in [OGSL](http://oracc.org/ogsl) GAR is the name of the sign that can be read **ninda** or **gar**).\n",
    "\n",
    "Finally the flags include various characters that may appear in the transliteration but will be ignored in the search. A search for `ninda`, therefore, will find `ninda`, `[nin]da`, `ninda?`, etc., as well as `gar`, `⸢gar⸣`, `gar!(SIG)`, etc. (but not `nagar`, see below).\n",
    "\n",
    "The variable `flags2none` represents a table in which each character in `flags` corresponds to `None`. This is used by the `translate()` method; see below."
   ]
  },
  {
   "cell_type": "code",
   "execution_count": null,
   "metadata": {},
   "outputs": [],
   "source": [
    "separators = ['{', '}', '-']\n",
    "separators2 = ['.', '+', '|']  # used in compound signs\n",
    "#operators = ['&', '%', '@', '×']\n",
    "flags = \"][?<>⸢⸣⌈⌉*/\" # note that ! is omitted from flags, because it is dealt with separately\n",
    "flags2none = str.maketrans(dict.fromkeys(flags))"
   ]
  },
  {
   "cell_type": "code",
   "execution_count": null,
   "metadata": {},
   "outputs": [],
   "source": [
    "def translit_to_signnames(translit):  \n",
    "    \"\"\"This function takes a string of transliterated cuneiform text (in any transliteration style) and translates that string into a string of\n",
    "    sign names, separated by spaces. In order to work it needs the variables separators, separators2, and flags2none defined above. The variable flags2none\n",
    "    is used by the translate() method to translate all flags (except for !) to None. The function also needs a dictionary, called value2signname, that has as\n",
    "    keys sign readings and sign names as corresponding values. In case a key is not found, the sign reading is replaced by itself.\"\"\"\n",
    "    signnames_l = []\n",
    "    translit = translit.translate(flags2none).lower()  # remove flags, half brackets, square brackets.\n",
    "    translit = translit.replace('...', 'x')\n",
    "    for separator in separators: # split transliteration line into signs   \n",
    "        translit = translit.replace(separator, ' ').strip()\n",
    "    signs_cleaned = translit.split() # s_l is a list that contains the sequence of transliterated signs without separators or flags\n",
    "    signs_cleaned = [value2signname.get(sign, sign) for sign in signs_cleaned] # replace each transliterated sign with its sign name.\n",
    "    # Now take care of some special situations: signs with qualifiers, compound signs.\n",
    "    for sign in signs_cleaned:\n",
    "        if '!' in sign: # corrected sign, as in ka!(SAG), get only the corrected reading.\n",
    "            sign = sign.split('!(')[0]\n",
    "            sign = sign.replace('!', '') # remove remaining exclamation marks\n",
    "        elif sign[-1] == ')' and '(' in sign: # qualified sign, as in ziₓ(SIG₇) - get only the qualifier\n",
    "            sign = sign.split('(')[1][:-1]\n",
    "        if '×' in sign: #compound. Compound like |KA×NINDA| to be replaced by |KA×GAR|\n",
    "            sign_l = sign.replace('|', '').split('×')\n",
    "            #replace individual signs of the compound by OGSL names\n",
    "            sign_l = [value2signname.get(sign, sign) for sign in sign_l] \n",
    "            # if user enters |KA*EŠ| this is transformed to ['KA', '|U.U.U|']. The pipes around U.U.U must be replaced by brackets\n",
    "            sign_l = [f'({sign[1:-1]})' if len(sign) > 1 and sign[0] == '|' else sign for sign in sign_l]\n",
    "            sign = f\"|{'×'.join(sign_l)}|\"  #put the sign together again with enclosing pipes.\n",
    "        elif '.' in sign or '+' in sign: # using elif, so that compounds like |UD×(U.U.U)| are not further analyzed.\n",
    "            for separator in separators2:\n",
    "                sign = sign.replace(separator, ' ').strip() \n",
    "            sign_l = sign.split()  # compound sign split into multiple signs\n",
    "            sign_l = [value2signname.get(sign, sign) for sign in sign_l]\n",
    "            signnames_l.extend(sign_l)\n",
    "            continue\n",
    "        sign = value2signname.get(sign, sign)\n",
    "        signnames_l.append(sign)\n",
    "    # add space before and after each line so that each sign representation is enclosed in spaces\n",
    "    signnames = f\" {' '.join(signnames_l).upper()} \" \n",
    "    return signnames"
   ]
  },
  {
   "cell_type": "markdown",
   "metadata": {},
   "source": [
    "The function `translit_to_signnames()` is called for every row in the `bdtns` dataframe with the `map()` function. The output is stored in a new column of that same dataframe called `sign_names`. The function `progress_map()` adds a progress bar to the regular `map()` function; `progress_map()` is activated by `tqdm.pandas()` in the first cell of this notebook.\n",
    "\n",
    "After running this cell the `bdtns` dataframe will have a column `sign_names` that represents a single line of text as a sequence of sign names as in \" KI UR AN EN KID TA \" (for ki ur-{d}en-lil₂-ta)."
   ]
  },
  {
   "cell_type": "code",
   "execution_count": null,
   "metadata": {},
   "outputs": [],
   "source": [
    "bdtns[\"sign_names\"] = bdtns[\"text\"].progress_map(translit_to_signnames)"
   ]
  },
  {
   "cell_type": "markdown",
   "metadata": {},
   "source": [
    "# 7 Adding Metadata\n",
    "Open the [BDTNS](http://bdtns.filol.csic.es) catalog DataFrame (pickled in section 2.4.1) and add provenance, date, and publication to each row. Note that in the [BDTNS](http://bdtns.filol.csic.es) transliteration file the [BDTNS](http://bdtns.filol.csic.es) numbers are strings, whereas in the catalog file they are integers."
   ]
  },
  {
   "cell_type": "code",
   "execution_count": null,
   "metadata": {},
   "outputs": [],
   "source": [
    "p = 'output/bdtns_cat.p'\n",
    "cat_df = pd.read_pickle(p)\n",
    "date_d = dict(zip(cat_df['id_text'], cat_df['date']))\n",
    "prov_d = dict(zip(cat_df['id_text'], cat_df['provenance']))\n",
    "publ_d = dict(zip(cat_df['id_text'], cat_df['publication']))\n",
    "bdtns['provenance'] = [prov_d.get(int(idt), '') for idt in bdtns['id_text']]\n",
    "bdtns['date'] = [date_d.get(int(idt), '') for idt in bdtns['id_text']]\n",
    "bdtns['publication'] = [publ_d.get(int(idt), '') for idt in bdtns['id_text']]"
   ]
  },
  {
   "cell_type": "code",
   "execution_count": null,
   "metadata": {},
   "outputs": [],
   "source": [
    "bdtns.to_pickle('output/bdtns_tokenized.p')"
   ]
  },
  {
   "cell_type": "markdown",
   "metadata": {},
   "source": [
    "# 8 The Search Function\n",
    "The search function takes as input any style of transliteration recognized in [OGSL](http://orac.org/ogsl) in upper or lower case (see the search instructions below).  \n",
    "\n",
    "The search engine will find any matching sequence of signs, independent of the transliteration, thus 'nig2 sig' will also find 'ninda sig' or 'nig2-sig' or 'gar-sig' etc.\n",
    "\n",
    "The search results are listed in a DataFrame with links to the [BDTNS](http://bdtns.filol.csic.es) pages of the matching texts."
   ]
  },
  {
   "cell_type": "code",
   "execution_count": null,
   "metadata": {},
   "outputs": [],
   "source": [
    "digits = '0123456789x'\n",
    "indexes = '₀₁₂₃₄₅₆₇₈₉ₓ'\n",
    "input_char = '{}-cjĝ*'\n",
    "translate_to = '   šŋŋ×'\n",
    "index = str.maketrans(digits, indexes)\n",
    "char = str.maketrans(input_char, translate_to)\n",
    "ind = re.compile(r'[a-zŋḫṣšṭA-ZŊḪṢŠṬ][0-9x]{1,2}') # regular expression for a letter\n",
    "                                                   # followed immediately by one or two digits or x\n",
    "anchor = '<a href=\"http://bdtns.filol.csic.es/{}\", target=\"_blank\">{}</a>'"
   ]
  },
  {
   "cell_type": "code",
   "execution_count": null,
   "metadata": {},
   "outputs": [],
   "source": [
    "def search(Search, Max_hits, Links, Sortby = 'id_text'): \n",
    "    search_term = Search.lower().replace('sz', 'š').translate(char).strip() # replace sz by š; translate c, j, ĝ, and * to š, ŋ, ŋ, and ×, respectively.\n",
    "    search_term = re.sub(ind, lambda m: m.group().translate(index), search_term) #translate regular numbers (and x) to index numbers\n",
    "    search_term = translit_to_signnames(search_term)  # replace a sequence of transliterated signs by a sequence of sign names\n",
    "    search_term_esc = re.escape(search_term) # use escapes for characters that have special meaning in regular expressions\n",
    "    search_term_esc = search_term_esc.replace('\\ X\\ ', '(?:\\ [^ ]+)*\\ ') # use X (preceded and followed by space) as wild card for any sequence of signs\n",
    "    show = ['id_text', 'label', 'text', 'provenance', 'date', 'publication']\n",
    "    results = bdtns.loc[bdtns['sign_names'].str.contains(search_term_esc, regex=True), show].copy() # this is the actual search command\n",
    "    hits = len(results)\n",
    "    if Max_hits > hits: \n",
    "        Max_hits = hits \n",
    "    if hits == 1:\n",
    "        pl = ''\n",
    "    else:\n",
    "        pl = 's'\n",
    "    print(search_term), print(f\"{str(hits)} hit{pl}; {str(Max_hits)} displayed.\")\n",
    "    results = results.sort_values(by = Sortby)[:Max_hits]\n",
    "    if Links:\n",
    "        results['id_text'] = [anchor.format(val,val) for val in results['id_text']]\n",
    "        results = results.style.hide_index().set_properties(subset=['publication'], **{'width': '200px'})\n",
    "    return results"
   ]
  },
  {
   "cell_type": "markdown",
   "metadata": {},
   "source": [
    "# 9. Creating a User Interface\n",
    "The user interface is created with widgets from the package `ipywidgets`. Widgets are pieces of software that allow a user to interact with functions through text boxes, sliders, buttons, drop-down menus, check boxes, etc. These widgets contain code in javascript and are treated differently in Jupyter Notebook and Jupyter Lab. Jupyter Notebook allows the embedding of any kind of javascript code. For safety reasons, this is not the case in Jupyter Lab. The Jupyter widgets need to be installed as a Jupyter Lab extension before they can be run; enabling Jupyter Lab extensions, in turn, requires `node.js`. For more information about installing and enabling the extension (including node.js) see [install_packages.ipynb](../1_Preliminaries/install_packages.ipynb). For detailed information about widgets, see [ipywidgets](https://ipywidgets.readthedocs.io/en/latest/).\n",
    "\n",
    "The widgets used here are\n",
    "- Button - when clicked, the search function is called\n",
    "- Text - a text box in which the user may enter a sequence of signs; after hitting ENTER (or clicking the Search button) the search function is called\n",
    "- BoundIntText - a text box that indicates the maximum number of hits (default is 25)\n",
    "- Checkbox - when checked (default) the search results display active links to BDTNS pages. When maximum hits is set to larger than 250 the default becomes unchecked.\n",
    "- Dropdown - a drop-down menu for arranging the search results by different columns.\n",
    "\n",
    "In addition, a number of special widgets are used, namely \n",
    "- Vbox, for displaying widgets vertically\n",
    "- Hbox, for displaying widgets horizontally\n",
    "- Output, an area where the search output is displayed\n",
    "\n",
    "The code for each widget consists of several parts. First, the widget is called with various parameters, such as its default value, or the text that is to appear on a button. Second is a function that defines what happens when the button is clicked, or when the user hits the ENTER button. Third, a method for each of the widgets defines what event will trigger the function. For the button it is the event `on_click`, for the text box it is `on_submit` (that is, when the user hits ENTER); the other three widgets listen for a change in value with the `observe` method. Finally, the VBox and HBox widgets define the layout. "
   ]
  },
  {
   "cell_type": "code",
   "execution_count": null,
   "metadata": {},
   "outputs": [],
   "source": [
    "# Creating a User Interface\n",
    "button = widgets.Button(description='Search')\n",
    "text = widgets.Text(\n",
    "       value='',\n",
    "       description='', )\n",
    "maxhits = widgets.BoundedIntText(\n",
    "        value=25,\n",
    "        min=0,\n",
    "        max=len(bdtns),\n",
    "        step=1,\n",
    "        description='Max hits:',\n",
    "        continuous_update = True)\n",
    "links = widgets.Checkbox(\n",
    "    value=True,\n",
    "    indent = False,\n",
    "    description='Display Links')\n",
    "sortby = widgets.Dropdown(\n",
    "    options = ['id_text', 'text', 'date', 'provenance', 'publication'],\n",
    "    value = 'id_text',\n",
    "    description = 'Sort By: ')\n",
    "out = widgets.Output()\n",
    "def submit_search(change):\n",
    "      # \"linking function with output\"\n",
    "        with out:\n",
    "          # what happens when we press the button\n",
    "            clear_output()\n",
    "            display(search(text.value, maxhits.value, links.value, sortby.value))\n",
    "# when maxhits is set larger than 250, default becomes no links\n",
    "def update_maxhits(change):\n",
    "    links.value = maxhits.value < 250\n",
    "    submit_search(change)\n",
    "# linking button to search function the button's method\n",
    "button.on_click(submit_search)\n",
    "# linking text box to search function - called when user hits ENTER.\n",
    "text.on_submit(submit_search)\n",
    "# linking drop-down menu and search function - called when the value of the drop-down menu changes\n",
    "sortby.observe(submit_search, 'value')\n",
    "# linking the maximum hits box and search function - called when the value changes\n",
    "maxhits.observe(update_maxhits, 'value')\n",
    "# linking the links checkbox and search function - called when its value changes\n",
    "#links.observe(submit_search, 'value')\n",
    "# displaying the widgets and output together\n",
    "col1 = widgets.VBox([text, links, button]) # first column: text box, checkbox, and button\n",
    "col2 = widgets.VBox([maxhits, sortby]) # second column: Maximum Hits and drop-down menu.\n",
    "box = widgets.HBox([col1, col2]) # put first and second column next to each other in a row\n",
    "widgets.VBox([box,out]) # add ouput below the widgets."
   ]
  },
  {
   "cell_type": "markdown",
   "metadata": {},
   "source": [
    "# 10 Alternative Interface\n",
    "The following alterative interface is much simpler in its coding (essentially letting the `interact` function do all the work). To be useful, this interface requires a fairly fast machine because the search will update live while you type. The interface uses the same search function as above, so search instructions and results are the same."
   ]
  },
  {
   "cell_type": "code",
   "execution_count": null,
   "metadata": {},
   "outputs": [],
   "source": [
    "interact(search, Search = '',\n",
    "        Max_hits = widgets.BoundedIntText(\n",
    "        value=25,\n",
    "        min=0,\n",
    "        max=len(bdtns),\n",
    "        step=1,\n",
    "        description='Max hits:',\n",
    "        continuous_update = True), \n",
    "        Links = True, \n",
    "        Sortby = ['id_text', 'text', 'date', 'provenance', 'publication'] );"
   ]
  },
  {
   "cell_type": "markdown",
   "metadata": {},
   "source": [
    "# 11 Search Instructions\n",
    "\n",
    "Search for a sequence of sign values in any transliteration system recognized by [OGSL](http://oracc.org/ogsl). Thus, sugal₇, sukkal, or luh, in upper or lower case will all return the same results.\n",
    "\n",
    "- Determinatives (semantic classifiers) may be entered between curly brackets or as regular signs. Thus, gesz taskarin, gesz-taskarin, {gesz}taskarin, and {ŋeš}tug₂ will all yield the same results. \n",
    "\n",
    "- Signs may be connected with spaces or hyphens.\n",
    "\n",
    "- The Shin may be represented by š, c, or sz in upper or lower case; nasal g may be represented as j, ŋ, or ĝ.\n",
    "\n",
    "- Sign index numbers may be represented by regular numbers or by index numbers (e₂ or e2, but not é).\n",
    "\n",
    "- Compound signs (such as diri) are resolved in their component signs if the compound represents a simple sequence of signs. Thus diri is resolved as SI A, but gu₇ is resolved as |KA×GAR|.\n",
    "\n",
    "- To search for a compound sign by sign name, enter it between pipes (|). The \"times\" sign may be represented by \\* (enter |UR₂×A| or |UR₂\\*A|, but not |URxA|).\n",
    "\n",
    "- Wildcard: x or X, represents any number of signs in between (e.g. ku6-x-muszen will find all lines where HA is followed by HU with zero or more signs in between).\n",
    "\n",
    "- For large numbers of hits, the clickable links to [BDTNS](http://bdtns.filol.csic.es/) editions will make display very slow. Unclick the check box to display [BDTNS](http://bdtns.filol.csic.es/) numbers only, without links. Setting the number of hits higher than 250 will change the default to no links."
   ]
  },
  {
   "cell_type": "code",
   "execution_count": null,
   "metadata": {},
   "outputs": [],
   "source": []
  }
 ],
 "metadata": {
  "kernelspec": {
   "display_name": "Python 3",
   "language": "python",
   "name": "python3"
  },
  "language_info": {
   "codemirror_mode": {
    "name": "ipython",
    "version": 3
   },
   "file_extension": ".py",
   "mimetype": "text/x-python",
   "name": "python",
   "nbconvert_exporter": "python",
   "pygments_lexer": "ipython3",
   "version": "3.8.8"
  },
  "widgets": {
   "state": {
    "7c66f1654d54454db4a8573a367a47c8": {
     "views": [
      {
       "cell_index": 7
      }
     ]
    }
   },
   "version": "1.2.0"
  }
 },
 "nbformat": 4,
 "nbformat_minor": 4
}
