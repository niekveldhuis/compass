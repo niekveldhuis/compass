{
 "cells": [
  {
   "cell_type": "markdown",
   "metadata": {},
   "source": [
    "# 5.1 Acquire Data for Topic Model: State Archives of Assyria\n",
    "\n",
    "The data acquisition techniques discussed in section 2.1 are applied here to gather all the data from State Archives from Assyria Online ([SAAo](http://oracc.org/saao)). In the next notebook this data will be used for creating a topic model. "
   ]
  },
  {
   "cell_type": "markdown",
   "metadata": {},
   "source": [
    "# 5.1.0 Preparation: Import modules"
   ]
  },
  {
   "cell_type": "code",
   "execution_count": 1,
   "metadata": {},
   "outputs": [],
   "source": [
    "import os\n",
    "import sys\n",
    "util_dir = os.path.abspath('../utils')\n",
    "sys.path.append(util_dir)\n",
    "from utils import *\n",
    "import pandas as pd"
   ]
  },
  {
   "cell_type": "markdown",
   "metadata": {},
   "source": [
    "### 5.1.1 Get data\n",
    "The module `utils` in the `utils` directory of Compass includes the function `get_data()` which essentially runs the same code as the Extended ORACC Parser (2.1.3; see there for explanation of the code). Its only parameter is a string with [ORACC](http://oracc.org) project names, separated by commas. It returns a Pandas DataFrame in which each word is represented by a row.\n",
    "\n",
    "If you wish to build a topic model with a different set of texts, you may replace the list of subprojects (separated by commas) with any other list of valid [ORACC](http://oracc.org) (sub)projects. Note, however, that the code below (and in the next notebook) uses field names that are specific for the [SAAo](http://oracc.org/saao) catalogs (in particular the field 'title'). [ORACC](http://oracc.org) data sets essentially all have the same structure, but catalogs vary widely in the fields they include (the fields 'id_text' and 'designation' are obligatory and are found in all)."
   ]
  },
  {
   "cell_type": "code",
   "execution_count": 2,
   "metadata": {},
   "outputs": [
    {
     "name": "stdout",
     "output_type": "stream",
     "text": [
      "Downloading JSON\n",
      "Saving https://oracc.museum.upenn.edu/json/saao-saa08.zip as jsonzip/saao-saa08.zip.\n"
     ]
    },
    {
     "name": "stderr",
     "output_type": "stream",
     "text": [
      "C:\\Users\\veldhuis\\Anaconda3\\lib\\site-packages\\urllib3\\connectionpool.py:1013: InsecureRequestWarning: Unverified HTTPS request is being made to host 'oracc.museum.upenn.edu'. Adding certificate verification is strongly advised. See: https://urllib3.readthedocs.io/en/latest/advanced-usage.html#ssl-warnings\n",
      "  warnings.warn(\n"
     ]
    },
    {
     "data": {
      "application/vnd.jupyter.widget-view+json": {
       "model_id": "9f17014fec8e4f139b5ae0394331ec88",
       "version_major": 2,
       "version_minor": 0
      },
      "text/plain": [
       "saao/saa08:   0%|          | 0.00/7.21M [00:00<?, ?B/s]"
      ]
     },
     "metadata": {},
     "output_type": "display_data"
    },
    {
     "name": "stdout",
     "output_type": "stream",
     "text": [
      "Saving https://oracc.museum.upenn.edu/json/saao-saa09.zip as jsonzip/saao-saa09.zip.\n"
     ]
    },
    {
     "name": "stderr",
     "output_type": "stream",
     "text": [
      "C:\\Users\\veldhuis\\Anaconda3\\lib\\site-packages\\urllib3\\connectionpool.py:1013: InsecureRequestWarning: Unverified HTTPS request is being made to host 'oracc.museum.upenn.edu'. Adding certificate verification is strongly advised. See: https://urllib3.readthedocs.io/en/latest/advanced-usage.html#ssl-warnings\n",
      "  warnings.warn(\n"
     ]
    },
    {
     "data": {
      "application/vnd.jupyter.widget-view+json": {
       "model_id": "aa7d0f71eeee4507a38a34be7243ccb8",
       "version_major": 2,
       "version_minor": 0
      },
      "text/plain": [
       "saao/saa09:   0%|          | 0.00/773k [00:00<?, ?B/s]"
      ]
     },
     "metadata": {},
     "output_type": "display_data"
    },
    {
     "name": "stderr",
     "output_type": "stream",
     "text": [
      "C:\\Users\\veldhuis\\Anaconda3\\lib\\site-packages\\urllib3\\connectionpool.py:1013: InsecureRequestWarning: Unverified HTTPS request is being made to host 'oracc.museum.upenn.edu'. Adding certificate verification is strongly advised. See: https://urllib3.readthedocs.io/en/latest/advanced-usage.html#ssl-warnings\n",
      "  warnings.warn(\n"
     ]
    },
    {
     "name": "stdout",
     "output_type": "stream",
     "text": [
      "Saving https://oracc.museum.upenn.edu/json/saao-saa21.zip as jsonzip/saao-saa21.zip.\n"
     ]
    },
    {
     "data": {
      "application/vnd.jupyter.widget-view+json": {
       "model_id": "1ac8fc8d863f4acebc191385663e9da5",
       "version_major": 2,
       "version_minor": 0
      },
      "text/plain": [
       "saao/saa21:   0%|          | 0.00/3.83M [00:00<?, ?B/s]"
      ]
     },
     "metadata": {},
     "output_type": "display_data"
    },
    {
     "name": "stdout",
     "output_type": "stream",
     "text": [
      "Saving https://oracc.museum.upenn.edu/json/saao-saa11.zip as jsonzip/saao-saa11.zip.\n"
     ]
    },
    {
     "name": "stderr",
     "output_type": "stream",
     "text": [
      "C:\\Users\\veldhuis\\Anaconda3\\lib\\site-packages\\urllib3\\connectionpool.py:1013: InsecureRequestWarning: Unverified HTTPS request is being made to host 'oracc.museum.upenn.edu'. Adding certificate verification is strongly advised. See: https://urllib3.readthedocs.io/en/latest/advanced-usage.html#ssl-warnings\n",
      "  warnings.warn(\n"
     ]
    },
    {
     "data": {
      "application/vnd.jupyter.widget-view+json": {
       "model_id": "e2dbae83fc3c4efe96c673312f8909be",
       "version_major": 2,
       "version_minor": 0
      },
      "text/plain": [
       "saao/saa11:   0%|          | 0.00/2.34M [00:00<?, ?B/s]"
      ]
     },
     "metadata": {},
     "output_type": "display_data"
    },
    {
     "name": "stdout",
     "output_type": "stream",
     "text": [
      "Saving https://oracc.museum.upenn.edu/json/saao-saa18.zip as jsonzip/saao-saa18.zip.\n"
     ]
    },
    {
     "name": "stderr",
     "output_type": "stream",
     "text": [
      "C:\\Users\\veldhuis\\Anaconda3\\lib\\site-packages\\urllib3\\connectionpool.py:1013: InsecureRequestWarning: Unverified HTTPS request is being made to host 'oracc.museum.upenn.edu'. Adding certificate verification is strongly advised. See: https://urllib3.readthedocs.io/en/latest/advanced-usage.html#ssl-warnings\n",
      "  warnings.warn(\n"
     ]
    },
    {
     "data": {
      "application/vnd.jupyter.widget-view+json": {
       "model_id": "d4a56eecb2fc4af1bca9376e545c5543",
       "version_major": 2,
       "version_minor": 0
      },
      "text/plain": [
       "saao/saa18:   0%|          | 0.00/4.71M [00:00<?, ?B/s]"
      ]
     },
     "metadata": {},
     "output_type": "display_data"
    },
    {
     "name": "stdout",
     "output_type": "stream",
     "text": [
      "Saving https://oracc.museum.upenn.edu/json/saao-saa04.zip as jsonzip/saao-saa04.zip.\n"
     ]
    },
    {
     "name": "stderr",
     "output_type": "stream",
     "text": [
      "C:\\Users\\veldhuis\\Anaconda3\\lib\\site-packages\\urllib3\\connectionpool.py:1013: InsecureRequestWarning: Unverified HTTPS request is being made to host 'oracc.museum.upenn.edu'. Adding certificate verification is strongly advised. See: https://urllib3.readthedocs.io/en/latest/advanced-usage.html#ssl-warnings\n",
      "  warnings.warn(\n"
     ]
    },
    {
     "data": {
      "application/vnd.jupyter.widget-view+json": {
       "model_id": "476157f3914542a2a4ef6a7c1dff30ee",
       "version_major": 2,
       "version_minor": 0
      },
      "text/plain": [
       "saao/saa04:   0%|          | 0.00/8.21M [00:00<?, ?B/s]"
      ]
     },
     "metadata": {},
     "output_type": "display_data"
    },
    {
     "name": "stdout",
     "output_type": "stream",
     "text": [
      "Saving https://oracc.museum.upenn.edu/json/saao-saa13.zip as jsonzip/saao-saa13.zip.\n"
     ]
    },
    {
     "name": "stderr",
     "output_type": "stream",
     "text": [
      "C:\\Users\\veldhuis\\Anaconda3\\lib\\site-packages\\urllib3\\connectionpool.py:1013: InsecureRequestWarning: Unverified HTTPS request is being made to host 'oracc.museum.upenn.edu'. Adding certificate verification is strongly advised. See: https://urllib3.readthedocs.io/en/latest/advanced-usage.html#ssl-warnings\n",
      "  warnings.warn(\n"
     ]
    },
    {
     "data": {
      "application/vnd.jupyter.widget-view+json": {
       "model_id": "afc373a0f7cb44e39efebb20a32cac99",
       "version_major": 2,
       "version_minor": 0
      },
      "text/plain": [
       "saao/saa13:   0%|          | 0.00/3.91M [00:00<?, ?B/s]"
      ]
     },
     "metadata": {},
     "output_type": "display_data"
    },
    {
     "name": "stdout",
     "output_type": "stream",
     "text": [
      "Saving https://oracc.museum.upenn.edu/json/saao-saa05.zip as jsonzip/saao-saa05.zip.\n"
     ]
    },
    {
     "name": "stderr",
     "output_type": "stream",
     "text": [
      "C:\\Users\\veldhuis\\Anaconda3\\lib\\site-packages\\urllib3\\connectionpool.py:1013: InsecureRequestWarning: Unverified HTTPS request is being made to host 'oracc.museum.upenn.edu'. Adding certificate verification is strongly advised. See: https://urllib3.readthedocs.io/en/latest/advanced-usage.html#ssl-warnings\n",
      "  warnings.warn(\n"
     ]
    },
    {
     "data": {
      "application/vnd.jupyter.widget-view+json": {
       "model_id": "cb4081257eab4fc383450f012d5ba911",
       "version_major": 2,
       "version_minor": 0
      },
      "text/plain": [
       "saao/saa05:   0%|          | 0.00/4.88M [00:00<?, ?B/s]"
      ]
     },
     "metadata": {},
     "output_type": "display_data"
    },
    {
     "name": "stdout",
     "output_type": "stream",
     "text": [
      "Saving https://oracc.museum.upenn.edu/json/saao-saa20.zip as jsonzip/saao-saa20.zip.\n"
     ]
    },
    {
     "name": "stderr",
     "output_type": "stream",
     "text": [
      "C:\\Users\\veldhuis\\Anaconda3\\lib\\site-packages\\urllib3\\connectionpool.py:1013: InsecureRequestWarning: Unverified HTTPS request is being made to host 'oracc.museum.upenn.edu'. Adding certificate verification is strongly advised. See: https://urllib3.readthedocs.io/en/latest/advanced-usage.html#ssl-warnings\n",
      "  warnings.warn(\n"
     ]
    },
    {
     "data": {
      "application/vnd.jupyter.widget-view+json": {
       "model_id": "01b6a18601cc47f788a9ccf14f4b35be",
       "version_major": 2,
       "version_minor": 0
      },
      "text/plain": [
       "saao/saa20:   0%|          | 0.00/4.57M [00:00<?, ?B/s]"
      ]
     },
     "metadata": {},
     "output_type": "display_data"
    },
    {
     "name": "stdout",
     "output_type": "stream",
     "text": [
      "Saving https://oracc.museum.upenn.edu/json/saao-saa14.zip as jsonzip/saao-saa14.zip.\n"
     ]
    },
    {
     "name": "stderr",
     "output_type": "stream",
     "text": [
      "C:\\Users\\veldhuis\\Anaconda3\\lib\\site-packages\\urllib3\\connectionpool.py:1013: InsecureRequestWarning: Unverified HTTPS request is being made to host 'oracc.museum.upenn.edu'. Adding certificate verification is strongly advised. See: https://urllib3.readthedocs.io/en/latest/advanced-usage.html#ssl-warnings\n",
      "  warnings.warn(\n"
     ]
    },
    {
     "data": {
      "application/vnd.jupyter.widget-view+json": {
       "model_id": "6d7a717b562246dbbee6968f83d2eb31",
       "version_major": 2,
       "version_minor": 0
      },
      "text/plain": [
       "saao/saa14:   0%|          | 0.00/6.45M [00:00<?, ?B/s]"
      ]
     },
     "metadata": {},
     "output_type": "display_data"
    },
    {
     "name": "stdout",
     "output_type": "stream",
     "text": [
      "Saving https://oracc.museum.upenn.edu/json/saao-saa06.zip as jsonzip/saao-saa06.zip.\n"
     ]
    },
    {
     "name": "stderr",
     "output_type": "stream",
     "text": [
      "C:\\Users\\veldhuis\\Anaconda3\\lib\\site-packages\\urllib3\\connectionpool.py:1013: InsecureRequestWarning: Unverified HTTPS request is being made to host 'oracc.museum.upenn.edu'. Adding certificate verification is strongly advised. See: https://urllib3.readthedocs.io/en/latest/advanced-usage.html#ssl-warnings\n",
      "  warnings.warn(\n"
     ]
    },
    {
     "data": {
      "application/vnd.jupyter.widget-view+json": {
       "model_id": "41e8bd017bcb4050b01e5038671c6407",
       "version_major": 2,
       "version_minor": 0
      },
      "text/plain": [
       "saao/saa06:   0%|          | 0.00/7.08M [00:00<?, ?B/s]"
      ]
     },
     "metadata": {},
     "output_type": "display_data"
    },
    {
     "name": "stdout",
     "output_type": "stream",
     "text": [
      "Saving https://oracc.museum.upenn.edu/json/saao-saa15.zip as jsonzip/saao-saa15.zip.\n"
     ]
    },
    {
     "name": "stderr",
     "output_type": "stream",
     "text": [
      "C:\\Users\\veldhuis\\Anaconda3\\lib\\site-packages\\urllib3\\connectionpool.py:1013: InsecureRequestWarning: Unverified HTTPS request is being made to host 'oracc.museum.upenn.edu'. Adding certificate verification is strongly advised. See: https://urllib3.readthedocs.io/en/latest/advanced-usage.html#ssl-warnings\n",
      "  warnings.warn(\n"
     ]
    },
    {
     "data": {
      "application/vnd.jupyter.widget-view+json": {
       "model_id": "fc6a8ae675164a3ea7166400c1800d76",
       "version_major": 2,
       "version_minor": 0
      },
      "text/plain": [
       "saao/saa15:   0%|          | 0.00/5.78M [00:00<?, ?B/s]"
      ]
     },
     "metadata": {},
     "output_type": "display_data"
    },
    {
     "name": "stdout",
     "output_type": "stream",
     "text": [
      "Saving https://oracc.museum.upenn.edu/json/saao-saa03.zip as jsonzip/saao-saa03.zip.\n"
     ]
    },
    {
     "name": "stderr",
     "output_type": "stream",
     "text": [
      "C:\\Users\\veldhuis\\Anaconda3\\lib\\site-packages\\urllib3\\connectionpool.py:1013: InsecureRequestWarning: Unverified HTTPS request is being made to host 'oracc.museum.upenn.edu'. Adding certificate verification is strongly advised. See: https://urllib3.readthedocs.io/en/latest/advanced-usage.html#ssl-warnings\n",
      "  warnings.warn(\n"
     ]
    },
    {
     "data": {
      "application/vnd.jupyter.widget-view+json": {
       "model_id": "67198a04681f448cbf45788991a5f4b8",
       "version_major": 2,
       "version_minor": 0
      },
      "text/plain": [
       "saao/saa03:   0%|          | 0.00/4.29M [00:00<?, ?B/s]"
      ]
     },
     "metadata": {},
     "output_type": "display_data"
    },
    {
     "name": "stdout",
     "output_type": "stream",
     "text": [
      "Saving https://oracc.museum.upenn.edu/json/saao-saa17.zip as jsonzip/saao-saa17.zip.\n"
     ]
    },
    {
     "name": "stderr",
     "output_type": "stream",
     "text": [
      "C:\\Users\\veldhuis\\Anaconda3\\lib\\site-packages\\urllib3\\connectionpool.py:1013: InsecureRequestWarning: Unverified HTTPS request is being made to host 'oracc.museum.upenn.edu'. Adding certificate verification is strongly advised. See: https://urllib3.readthedocs.io/en/latest/advanced-usage.html#ssl-warnings\n",
      "  warnings.warn(\n"
     ]
    },
    {
     "data": {
      "application/vnd.jupyter.widget-view+json": {
       "model_id": "94294ba5412c42dd99417d33991c31f6",
       "version_major": 2,
       "version_minor": 0
      },
      "text/plain": [
       "saao/saa17:   0%|          | 0.00/4.52M [00:00<?, ?B/s]"
      ]
     },
     "metadata": {},
     "output_type": "display_data"
    },
    {
     "name": "stdout",
     "output_type": "stream",
     "text": [
      "Saving https://oracc.museum.upenn.edu/json/saao-saa16.zip as jsonzip/saao-saa16.zip.\n"
     ]
    },
    {
     "name": "stderr",
     "output_type": "stream",
     "text": [
      "C:\\Users\\veldhuis\\Anaconda3\\lib\\site-packages\\urllib3\\connectionpool.py:1013: InsecureRequestWarning: Unverified HTTPS request is being made to host 'oracc.museum.upenn.edu'. Adding certificate verification is strongly advised. See: https://urllib3.readthedocs.io/en/latest/advanced-usage.html#ssl-warnings\n",
      "  warnings.warn(\n"
     ]
    },
    {
     "data": {
      "application/vnd.jupyter.widget-view+json": {
       "model_id": "8567addacee84b3f8142afe0a5de6a7b",
       "version_major": 2,
       "version_minor": 0
      },
      "text/plain": [
       "saao/saa16:   0%|          | 0.00/4.06M [00:00<?, ?B/s]"
      ]
     },
     "metadata": {},
     "output_type": "display_data"
    },
    {
     "name": "stdout",
     "output_type": "stream",
     "text": [
      "Saving https://oracc.museum.upenn.edu/json/saao-saa10.zip as jsonzip/saao-saa10.zip.\n"
     ]
    },
    {
     "name": "stderr",
     "output_type": "stream",
     "text": [
      "C:\\Users\\veldhuis\\Anaconda3\\lib\\site-packages\\urllib3\\connectionpool.py:1013: InsecureRequestWarning: Unverified HTTPS request is being made to host 'oracc.museum.upenn.edu'. Adding certificate verification is strongly advised. See: https://urllib3.readthedocs.io/en/latest/advanced-usage.html#ssl-warnings\n",
      "  warnings.warn(\n"
     ]
    },
    {
     "data": {
      "application/vnd.jupyter.widget-view+json": {
       "model_id": "e18493c27ffa4e4cbb11f92f43023cad",
       "version_major": 2,
       "version_minor": 0
      },
      "text/plain": [
       "saao/saa10:   0%|          | 0.00/8.70M [00:00<?, ?B/s]"
      ]
     },
     "metadata": {},
     "output_type": "display_data"
    },
    {
     "name": "stdout",
     "output_type": "stream",
     "text": [
      "Saving https://oracc.museum.upenn.edu/json/saao-saa01.zip as jsonzip/saao-saa01.zip.\n"
     ]
    },
    {
     "name": "stderr",
     "output_type": "stream",
     "text": [
      "C:\\Users\\veldhuis\\Anaconda3\\lib\\site-packages\\urllib3\\connectionpool.py:1013: InsecureRequestWarning: Unverified HTTPS request is being made to host 'oracc.museum.upenn.edu'. Adding certificate verification is strongly advised. See: https://urllib3.readthedocs.io/en/latest/advanced-usage.html#ssl-warnings\n",
      "  warnings.warn(\n"
     ]
    },
    {
     "data": {
      "application/vnd.jupyter.widget-view+json": {
       "model_id": "2c5445986c824734b75e5294ab87324f",
       "version_major": 2,
       "version_minor": 0
      },
      "text/plain": [
       "saao/saa01:   0%|          | 0.00/5.01M [00:00<?, ?B/s]"
      ]
     },
     "metadata": {},
     "output_type": "display_data"
    },
    {
     "name": "stdout",
     "output_type": "stream",
     "text": [
      "Saving https://oracc.museum.upenn.edu/json/saao-saa19.zip as jsonzip/saao-saa19.zip.\n"
     ]
    },
    {
     "name": "stderr",
     "output_type": "stream",
     "text": [
      "C:\\Users\\veldhuis\\Anaconda3\\lib\\site-packages\\urllib3\\connectionpool.py:1013: InsecureRequestWarning: Unverified HTTPS request is being made to host 'oracc.museum.upenn.edu'. Adding certificate verification is strongly advised. See: https://urllib3.readthedocs.io/en/latest/advanced-usage.html#ssl-warnings\n",
      "  warnings.warn(\n"
     ]
    },
    {
     "data": {
      "application/vnd.jupyter.widget-view+json": {
       "model_id": "2c562628d47b4e6bbd32e0dc96dfe889",
       "version_major": 2,
       "version_minor": 0
      },
      "text/plain": [
       "saao/saa19:   0%|          | 0.00/5.49M [00:00<?, ?B/s]"
      ]
     },
     "metadata": {},
     "output_type": "display_data"
    },
    {
     "name": "stdout",
     "output_type": "stream",
     "text": [
      "Saving https://oracc.museum.upenn.edu/json/saao-saa12.zip as jsonzip/saao-saa12.zip.\n"
     ]
    },
    {
     "name": "stderr",
     "output_type": "stream",
     "text": [
      "C:\\Users\\veldhuis\\Anaconda3\\lib\\site-packages\\urllib3\\connectionpool.py:1013: InsecureRequestWarning: Unverified HTTPS request is being made to host 'oracc.museum.upenn.edu'. Adding certificate verification is strongly advised. See: https://urllib3.readthedocs.io/en/latest/advanced-usage.html#ssl-warnings\n",
      "  warnings.warn(\n"
     ]
    },
    {
     "data": {
      "application/vnd.jupyter.widget-view+json": {
       "model_id": "809f19e96e364c019ef476b16ebc84d2",
       "version_major": 2,
       "version_minor": 0
      },
      "text/plain": [
       "saao/saa12:   0%|          | 0.00/3.59M [00:00<?, ?B/s]"
      ]
     },
     "metadata": {},
     "output_type": "display_data"
    },
    {
     "name": "stdout",
     "output_type": "stream",
     "text": [
      "Saving https://oracc.museum.upenn.edu/json/saao-saa07.zip as jsonzip/saao-saa07.zip.\n"
     ]
    },
    {
     "name": "stderr",
     "output_type": "stream",
     "text": [
      "C:\\Users\\veldhuis\\Anaconda3\\lib\\site-packages\\urllib3\\connectionpool.py:1013: InsecureRequestWarning: Unverified HTTPS request is being made to host 'oracc.museum.upenn.edu'. Adding certificate verification is strongly advised. See: https://urllib3.readthedocs.io/en/latest/advanced-usage.html#ssl-warnings\n",
      "  warnings.warn(\n"
     ]
    },
    {
     "data": {
      "application/vnd.jupyter.widget-view+json": {
       "model_id": "b2f2e6434092491e80263424ae944b66",
       "version_major": 2,
       "version_minor": 0
      },
      "text/plain": [
       "saao/saa07:   0%|          | 0.00/3.81M [00:00<?, ?B/s]"
      ]
     },
     "metadata": {},
     "output_type": "display_data"
    },
    {
     "name": "stdout",
     "output_type": "stream",
     "text": [
      "Saving https://oracc.museum.upenn.edu/json/saao-saa02.zip as jsonzip/saao-saa02.zip.\n"
     ]
    },
    {
     "name": "stderr",
     "output_type": "stream",
     "text": [
      "C:\\Users\\veldhuis\\Anaconda3\\lib\\site-packages\\urllib3\\connectionpool.py:1013: InsecureRequestWarning: Unverified HTTPS request is being made to host 'oracc.museum.upenn.edu'. Adding certificate verification is strongly advised. See: https://urllib3.readthedocs.io/en/latest/advanced-usage.html#ssl-warnings\n",
      "  warnings.warn(\n"
     ]
    },
    {
     "data": {
      "application/vnd.jupyter.widget-view+json": {
       "model_id": "40cdafd052644606a4c5f8e034d86152",
       "version_major": 2,
       "version_minor": 0
      },
      "text/plain": [
       "saao/saa02:   0%|          | 0.00/2.64M [00:00<?, ?B/s]"
      ]
     },
     "metadata": {},
     "output_type": "display_data"
    },
    {
     "name": "stdout",
     "output_type": "stream",
     "text": [
      "Parsing JSON\n"
     ]
    },
    {
     "data": {
      "application/vnd.jupyter.widget-view+json": {
       "model_id": "f302a409e9d140e0b3d3d2bf2f642bad",
       "version_major": 2,
       "version_minor": 0
      },
      "text/plain": [
       "saao/saa08:   0%|          | 0/568 [00:00<?, ?it/s]"
      ]
     },
     "metadata": {},
     "output_type": "display_data"
    },
    {
     "data": {
      "application/vnd.jupyter.widget-view+json": {
       "model_id": "72761cbefb1549ef993f4012833a80ff",
       "version_major": 2,
       "version_minor": 0
      },
      "text/plain": [
       "saao/saa09:   0%|          | 0/11 [00:00<?, ?it/s]"
      ]
     },
     "metadata": {},
     "output_type": "display_data"
    },
    {
     "data": {
      "application/vnd.jupyter.widget-view+json": {
       "model_id": "169949a3e086425e9cb26447892f11cc",
       "version_major": 2,
       "version_minor": 0
      },
      "text/plain": [
       "saao/saa21:   0%|          | 0/161 [00:00<?, ?it/s]"
      ]
     },
     "metadata": {},
     "output_type": "display_data"
    },
    {
     "data": {
      "application/vnd.jupyter.widget-view+json": {
       "model_id": "fce22110353549f59fe043087729f9a5",
       "version_major": 2,
       "version_minor": 0
      },
      "text/plain": [
       "saao/saa11:   0%|          | 0/234 [00:00<?, ?it/s]"
      ]
     },
     "metadata": {},
     "output_type": "display_data"
    },
    {
     "data": {
      "application/vnd.jupyter.widget-view+json": {
       "model_id": "5ac3f0acd1714c97bfafb7eaaeb6e96c",
       "version_major": 2,
       "version_minor": 0
      },
      "text/plain": [
       "saao/saa18:   0%|          | 0/205 [00:00<?, ?it/s]"
      ]
     },
     "metadata": {},
     "output_type": "display_data"
    },
    {
     "data": {
      "application/vnd.jupyter.widget-view+json": {
       "model_id": "ef7fae4a3adf4bd5af72b78147897bbe",
       "version_major": 2,
       "version_minor": 0
      },
      "text/plain": [
       "saao/saa04:   0%|          | 0/353 [00:00<?, ?it/s]"
      ]
     },
     "metadata": {},
     "output_type": "display_data"
    },
    {
     "name": "stdout",
     "output_type": "stream",
     "text": [
      "saao/saa04/corpusjson/P237481.json\n",
      "<class 'json.decoder.JSONDecodeError'>\n",
      "Expecting value: line 1 column 1 (char 0)\n"
     ]
    },
    {
     "data": {
      "application/vnd.jupyter.widget-view+json": {
       "model_id": "fa0955f873fd4554b9945c841f9e9c9b",
       "version_major": 2,
       "version_minor": 0
      },
      "text/plain": [
       "saao/saa13:   0%|          | 0/210 [00:00<?, ?it/s]"
      ]
     },
     "metadata": {},
     "output_type": "display_data"
    },
    {
     "data": {
      "application/vnd.jupyter.widget-view+json": {
       "model_id": "c02445e363af47b186ff5397fac3ebaf",
       "version_major": 2,
       "version_minor": 0
      },
      "text/plain": [
       "saao/saa05:   0%|          | 0/300 [00:00<?, ?it/s]"
      ]
     },
     "metadata": {},
     "output_type": "display_data"
    },
    {
     "data": {
      "application/vnd.jupyter.widget-view+json": {
       "model_id": "f6079149388c426c977614dc50a55339",
       "version_major": 2,
       "version_minor": 0
      },
      "text/plain": [
       "saao/saa20:   0%|          | 0/55 [00:00<?, ?it/s]"
      ]
     },
     "metadata": {},
     "output_type": "display_data"
    },
    {
     "data": {
      "application/vnd.jupyter.widget-view+json": {
       "model_id": "4dfd95a8327647efb28516255ebb5333",
       "version_major": 2,
       "version_minor": 0
      },
      "text/plain": [
       "saao/saa14:   0%|          | 0/479 [00:00<?, ?it/s]"
      ]
     },
     "metadata": {},
     "output_type": "display_data"
    },
    {
     "data": {
      "application/vnd.jupyter.widget-view+json": {
       "model_id": "9a90bd49e72441be930852ca4598bf7d",
       "version_major": 2,
       "version_minor": 0
      },
      "text/plain": [
       "saao/saa06:   0%|          | 0/350 [00:00<?, ?it/s]"
      ]
     },
     "metadata": {},
     "output_type": "display_data"
    },
    {
     "data": {
      "application/vnd.jupyter.widget-view+json": {
       "model_id": "3e9cdce3bc1e42d1ac4d2f0398fd7463",
       "version_major": 2,
       "version_minor": 0
      },
      "text/plain": [
       "saao/saa15:   0%|          | 0/390 [00:00<?, ?it/s]"
      ]
     },
     "metadata": {},
     "output_type": "display_data"
    },
    {
     "data": {
      "application/vnd.jupyter.widget-view+json": {
       "model_id": "09975bc391424f1aad91f5c149e423c6",
       "version_major": 2,
       "version_minor": 0
      },
      "text/plain": [
       "saao/saa03:   0%|          | 0/52 [00:00<?, ?it/s]"
      ]
     },
     "metadata": {},
     "output_type": "display_data"
    },
    {
     "data": {
      "application/vnd.jupyter.widget-view+json": {
       "model_id": "f91421a2237f4e79bb8838879149b66c",
       "version_major": 2,
       "version_minor": 0
      },
      "text/plain": [
       "saao/saa17:   0%|          | 0/207 [00:00<?, ?it/s]"
      ]
     },
     "metadata": {},
     "output_type": "display_data"
    },
    {
     "data": {
      "application/vnd.jupyter.widget-view+json": {
       "model_id": "e0320445cf664dc1b8d74377a66a25c2",
       "version_major": 2,
       "version_minor": 0
      },
      "text/plain": [
       "saao/saa16:   0%|          | 0/246 [00:00<?, ?it/s]"
      ]
     },
     "metadata": {},
     "output_type": "display_data"
    },
    {
     "data": {
      "application/vnd.jupyter.widget-view+json": {
       "model_id": "bacfcf3a1b9b4fb590a08527f5ead4ad",
       "version_major": 2,
       "version_minor": 0
      },
      "text/plain": [
       "saao/saa10:   0%|          | 0/389 [00:00<?, ?it/s]"
      ]
     },
     "metadata": {},
     "output_type": "display_data"
    },
    {
     "name": "stdout",
     "output_type": "stream",
     "text": [
      "saao/saa10/corpusjson/P314338.json\n",
      "<class 'json.decoder.JSONDecodeError'>\n",
      "Expecting value: line 1 column 1 (char 0)\n",
      "saao/saa10/corpusjson/P313449.json\n",
      "<class 'json.decoder.JSONDecodeError'>\n",
      "Expecting value: line 1 column 1 (char 0)\n"
     ]
    },
    {
     "data": {
      "application/vnd.jupyter.widget-view+json": {
       "model_id": "0b22600689964933b40fa2290a7e722f",
       "version_major": 2,
       "version_minor": 0
      },
      "text/plain": [
       "saao/saa01:   0%|          | 0/265 [00:00<?, ?it/s]"
      ]
     },
     "metadata": {},
     "output_type": "display_data"
    },
    {
     "data": {
      "application/vnd.jupyter.widget-view+json": {
       "model_id": "2030f1104eb44338b4274eb8b62358b0",
       "version_major": 2,
       "version_minor": 0
      },
      "text/plain": [
       "saao/saa19:   0%|          | 0/229 [00:00<?, ?it/s]"
      ]
     },
     "metadata": {},
     "output_type": "display_data"
    },
    {
     "data": {
      "application/vnd.jupyter.widget-view+json": {
       "model_id": "837b240b597945e1b9cf70949fc1171d",
       "version_major": 2,
       "version_minor": 0
      },
      "text/plain": [
       "saao/saa12:   0%|          | 0/98 [00:00<?, ?it/s]"
      ]
     },
     "metadata": {},
     "output_type": "display_data"
    },
    {
     "data": {
      "application/vnd.jupyter.widget-view+json": {
       "model_id": "671c0f85017b45939ccaaff92a875730",
       "version_major": 2,
       "version_minor": 0
      },
      "text/plain": [
       "saao/saa07:   0%|          | 0/219 [00:00<?, ?it/s]"
      ]
     },
     "metadata": {},
     "output_type": "display_data"
    },
    {
     "name": "stdout",
     "output_type": "stream",
     "text": [
      "saao/saa07/corpusjson/P335792.json\n",
      "<class 'json.decoder.JSONDecodeError'>\n",
      "Expecting value: line 1 column 1 (char 0)\n"
     ]
    },
    {
     "data": {
      "application/vnd.jupyter.widget-view+json": {
       "model_id": "ad3298f20bac428d9ecfc3ab68ff6ca6",
       "version_major": 2,
       "version_minor": 0
      },
      "text/plain": [
       "saao/saa02:   0%|          | 0/15 [00:00<?, ?it/s]"
      ]
     },
     "metadata": {},
     "output_type": "display_data"
    }
   ],
   "source": [
    "projects = \"\"\"saao/saa01,\n",
    "                saao/saa02,\n",
    "                saao/saa03,\n",
    "                saao/saa04,\n",
    "                saao/saa05,\n",
    "                saao/saa06,\n",
    "                saao/saa07,\n",
    "                saao/saa08,\n",
    "                saao/saa09,\n",
    "                saao/saa10,\n",
    "                saao/saa11,\n",
    "                saao/saa12,\n",
    "                saao/saa13,\n",
    "                saao/saa14,\n",
    "                saao/saa15,\n",
    "                saao/saa16,\n",
    "                saao/saa17,\n",
    "                saao/saa18,\n",
    "                saao/saa19,\n",
    "                saao/saa20,\n",
    "                saao/saa21\"\"\"\n",
    "words = get_data(projects)"
   ]
  },
  {
   "cell_type": "markdown",
   "metadata": {},
   "source": [
    "Create lemma column and collect all lemmas of a single document in a list."
   ]
  },
  {
   "cell_type": "code",
   "execution_count": 3,
   "metadata": {},
   "outputs": [],
   "source": [
    "words = words.fillna('')\n",
    "words = words.loc[words.cf != '']\n",
    "words[\"lemma\"] = words['cf'] + '[' + words['gw'] + ']' + words['pos']\n",
    "words['lemma'] = words['lemma'].str.lower()\n",
    "docs = words['lemma'].groupby(words['id_text']).apply(list)"
   ]
  },
  {
   "cell_type": "code",
   "execution_count": 4,
   "metadata": {},
   "outputs": [
    {
     "data": {
      "text/html": [
       "<div>\n",
       "<style scoped>\n",
       "    .dataframe tbody tr th:only-of-type {\n",
       "        vertical-align: middle;\n",
       "    }\n",
       "\n",
       "    .dataframe tbody tr th {\n",
       "        vertical-align: top;\n",
       "    }\n",
       "\n",
       "    .dataframe thead th {\n",
       "        text-align: right;\n",
       "    }\n",
       "</style>\n",
       "<table border=\"1\" class=\"dataframe\">\n",
       "  <thead>\n",
       "    <tr style=\"text-align: right;\">\n",
       "      <th></th>\n",
       "      <th>id_text</th>\n",
       "      <th>lemma</th>\n",
       "    </tr>\n",
       "  </thead>\n",
       "  <tbody>\n",
       "    <tr>\n",
       "      <th>P224395</th>\n",
       "      <td>saao/saa01/P224395</td>\n",
       "      <td>[ana[to]prp, šarru[king]n, bēlu[lord]n, ardu[s...</td>\n",
       "    </tr>\n",
       "    <tr>\n",
       "      <th>P224403</th>\n",
       "      <td>saao/saa01/P224403</td>\n",
       "      <td>[awātu[word]n, šarru[king]n, ana[to]prp, šaknu...</td>\n",
       "    </tr>\n",
       "    <tr>\n",
       "      <th>P224417</th>\n",
       "      <td>saao/saa01/P224417</td>\n",
       "      <td>[ana[to]prp, šarru[king]n, bēlu[lord]n, ardu[s...</td>\n",
       "    </tr>\n",
       "    <tr>\n",
       "      <th>P224431</th>\n",
       "      <td>saao/saa01/P224431</td>\n",
       "      <td>[ana[to]prp, šarru[king]n, bēlu[lord]n, ardu[s...</td>\n",
       "    </tr>\n",
       "    <tr>\n",
       "      <th>P224433</th>\n",
       "      <td>saao/saa01/P224433</td>\n",
       "      <td>[ana[to]prp, šarru[king]n, bēlu[lord]n, ardu[s...</td>\n",
       "    </tr>\n",
       "    <tr>\n",
       "      <th>...</th>\n",
       "      <td>...</td>\n",
       "      <td>...</td>\n",
       "    </tr>\n",
       "    <tr>\n",
       "      <th>P452858</th>\n",
       "      <td>saao/saa21/P452858</td>\n",
       "      <td>[maṣṣartu[observation]n, ša[of]det, šarru[king...</td>\n",
       "    </tr>\n",
       "    <tr>\n",
       "      <th>P452901</th>\n",
       "      <td>saao/saa21/P452901</td>\n",
       "      <td>[qabû[say]v, ša[of]det, nišu[people]n, šanû[do...</td>\n",
       "    </tr>\n",
       "    <tr>\n",
       "      <th>Q009252</th>\n",
       "      <td>saao/saa21/Q009252</td>\n",
       "      <td>[awātu[word]n, šarru[king]n, ana[to]prp, šaddu...</td>\n",
       "    </tr>\n",
       "    <tr>\n",
       "      <th>X210106</th>\n",
       "      <td>saao/saa21/X210106</td>\n",
       "      <td>[awātu[word]n, šarru[king]n, ana[to]prp, hunda...</td>\n",
       "    </tr>\n",
       "    <tr>\n",
       "      <th>X211891</th>\n",
       "      <td>saao/saa21/X211891</td>\n",
       "      <td>[alāku[go]v, ana[to]prp, aššur-bani-apli[assur...</td>\n",
       "    </tr>\n",
       "  </tbody>\n",
       "</table>\n",
       "<p>5010 rows × 2 columns</p>\n",
       "</div>"
      ],
      "text/plain": [
       "                    id_text                                              lemma\n",
       "P224395  saao/saa01/P224395  [ana[to]prp, šarru[king]n, bēlu[lord]n, ardu[s...\n",
       "P224403  saao/saa01/P224403  [awātu[word]n, šarru[king]n, ana[to]prp, šaknu...\n",
       "P224417  saao/saa01/P224417  [ana[to]prp, šarru[king]n, bēlu[lord]n, ardu[s...\n",
       "P224431  saao/saa01/P224431  [ana[to]prp, šarru[king]n, bēlu[lord]n, ardu[s...\n",
       "P224433  saao/saa01/P224433  [ana[to]prp, šarru[king]n, bēlu[lord]n, ardu[s...\n",
       "...                     ...                                                ...\n",
       "P452858  saao/saa21/P452858  [maṣṣartu[observation]n, ša[of]det, šarru[king...\n",
       "P452901  saao/saa21/P452901  [qabû[say]v, ša[of]det, nišu[people]n, šanû[do...\n",
       "Q009252  saao/saa21/Q009252  [awātu[word]n, šarru[king]n, ana[to]prp, šaddu...\n",
       "X210106  saao/saa21/X210106  [awātu[word]n, šarru[king]n, ana[to]prp, hunda...\n",
       "X211891  saao/saa21/X211891  [alāku[go]v, ana[to]prp, aššur-bani-apli[assur...\n",
       "\n",
       "[5010 rows x 2 columns]"
      ]
     },
     "execution_count": 4,
     "metadata": {},
     "output_type": "execute_result"
    }
   ],
   "source": [
    "docs_df = pd.DataFrame(docs).reset_index()\n",
    "docs_df.index = [idt[-7:] for idt in docs_df.id_text]\n",
    "docs_df"
   ]
  },
  {
   "cell_type": "markdown",
   "metadata": {},
   "source": [
    "# Get metadata from catalog file."
   ]
  },
  {
   "cell_type": "code",
   "execution_count": 5,
   "metadata": {},
   "outputs": [
    {
     "data": {
      "text/html": [
       "<div>\n",
       "<style scoped>\n",
       "    .dataframe tbody tr th:only-of-type {\n",
       "        vertical-align: middle;\n",
       "    }\n",
       "\n",
       "    .dataframe tbody tr th {\n",
       "        vertical-align: top;\n",
       "    }\n",
       "\n",
       "    .dataframe thead th {\n",
       "        text-align: right;\n",
       "    }\n",
       "</style>\n",
       "<table border=\"1\" class=\"dataframe\">\n",
       "  <thead>\n",
       "    <tr style=\"text-align: right;\">\n",
       "      <th></th>\n",
       "      <th>abl_no</th>\n",
       "      <th>accession_no</th>\n",
       "      <th>adb_no</th>\n",
       "      <th>add_no</th>\n",
       "      <th>ags_no</th>\n",
       "      <th>ancient_author</th>\n",
       "      <th>ancient_recipient</th>\n",
       "      <th>archive</th>\n",
       "      <th>astron_date</th>\n",
       "      <th>atae_lists</th>\n",
       "      <th>...</th>\n",
       "      <th>short_title</th>\n",
       "      <th>stt_no</th>\n",
       "      <th>subgenre</th>\n",
       "      <th>tim_11_no</th>\n",
       "      <th>title</th>\n",
       "      <th>title_in_date</th>\n",
       "      <th>trans</th>\n",
       "      <th>vol_title</th>\n",
       "      <th>volume</th>\n",
       "      <th>year</th>\n",
       "    </tr>\n",
       "  </thead>\n",
       "  <tbody>\n",
       "    <tr>\n",
       "      <th>P224395</th>\n",
       "      <td>NaN</td>\n",
       "      <td>NaN</td>\n",
       "      <td>NaN</td>\n",
       "      <td>NaN</td>\n",
       "      <td>NaN</td>\n",
       "      <td>Adda-hati</td>\n",
       "      <td>the king</td>\n",
       "      <td>006 - Northwest Palace, Room ZT 4</td>\n",
       "      <td>NaN</td>\n",
       "      <td>atae/saao:P224395</td>\n",
       "      <td>...</td>\n",
       "      <td>Sargon Letters 1</td>\n",
       "      <td>NaN</td>\n",
       "      <td>NaN</td>\n",
       "      <td>NaN</td>\n",
       "      <td>Arabs Attack a Column of Booty</td>\n",
       "      <td>NaN</td>\n",
       "      <td>[en]</td>\n",
       "      <td>The Correspondence of Sargon II, Part I: Lette...</td>\n",
       "      <td>SAA 1</td>\n",
       "      <td>NaN</td>\n",
       "    </tr>\n",
       "    <tr>\n",
       "      <th>P224403</th>\n",
       "      <td>NaN</td>\n",
       "      <td>NaN</td>\n",
       "      <td>NaN</td>\n",
       "      <td>NaN</td>\n",
       "      <td>NaN</td>\n",
       "      <td>the king</td>\n",
       "      <td>go[vernor] (of Calah)</td>\n",
       "      <td>006 - Northwest Palace, Room ZT 4</td>\n",
       "      <td>NaN</td>\n",
       "      <td>atae/saao:P224403</td>\n",
       "      <td>...</td>\n",
       "      <td>Sargon Letters 1</td>\n",
       "      <td>NaN</td>\n",
       "      <td>NaN</td>\n",
       "      <td>NaN</td>\n",
       "      <td>Straw and Reeds for Dur-Šarruken</td>\n",
       "      <td>NaN</td>\n",
       "      <td>[en]</td>\n",
       "      <td>The Correspondence of Sargon II, Part I: Lette...</td>\n",
       "      <td>SAA 1</td>\n",
       "      <td>NaN</td>\n",
       "    </tr>\n",
       "    <tr>\n",
       "      <th>P224417</th>\n",
       "      <td>NaN</td>\n",
       "      <td>NaN</td>\n",
       "      <td>NaN</td>\n",
       "      <td>NaN</td>\n",
       "      <td>NaN</td>\n",
       "      <td>Adda-hati</td>\n",
       "      <td>the king</td>\n",
       "      <td>006 - Northwest Palace, Room ZT 4</td>\n",
       "      <td>NaN</td>\n",
       "      <td>atae/saao:P224417</td>\n",
       "      <td>...</td>\n",
       "      <td>Sargon Letters 1</td>\n",
       "      <td>NaN</td>\n",
       "      <td>NaN</td>\n",
       "      <td>NaN</td>\n",
       "      <td>Turning in Taxes and Organizing the Province</td>\n",
       "      <td>NaN</td>\n",
       "      <td>[en]</td>\n",
       "      <td>The Correspondence of Sargon II, Part I: Lette...</td>\n",
       "      <td>SAA 1</td>\n",
       "      <td>NaN</td>\n",
       "    </tr>\n",
       "    <tr>\n",
       "      <th>P224431</th>\n",
       "      <td>NaN</td>\n",
       "      <td>NaN</td>\n",
       "      <td>NaN</td>\n",
       "      <td>NaN</td>\n",
       "      <td>NaN</td>\n",
       "      <td>[Bel-duri]</td>\n",
       "      <td>[the king]</td>\n",
       "      <td>006 - Northwest Palace, Room ZT 4</td>\n",
       "      <td>NaN</td>\n",
       "      <td>atae/saao:P224431</td>\n",
       "      <td>...</td>\n",
       "      <td>Sargon Letters 1</td>\n",
       "      <td>NaN</td>\n",
       "      <td>NaN</td>\n",
       "      <td>NaN</td>\n",
       "      <td>Raising Food and Fodder from Desert Towns</td>\n",
       "      <td>NaN</td>\n",
       "      <td>[en]</td>\n",
       "      <td>The Correspondence of Sargon II, Part I: Lette...</td>\n",
       "      <td>SAA 1</td>\n",
       "      <td>NaN</td>\n",
       "    </tr>\n",
       "    <tr>\n",
       "      <th>P224433</th>\n",
       "      <td>NaN</td>\n",
       "      <td>NaN</td>\n",
       "      <td>NaN</td>\n",
       "      <td>NaN</td>\n",
       "      <td>NaN</td>\n",
       "      <td>S[ennacherib]</td>\n",
       "      <td>the king</td>\n",
       "      <td>006 - Northwest Palace, Room ZT 4</td>\n",
       "      <td>NaN</td>\n",
       "      <td>atae/saao:P224433</td>\n",
       "      <td>...</td>\n",
       "      <td>Sargon Letters 1</td>\n",
       "      <td>NaN</td>\n",
       "      <td>NaN</td>\n",
       "      <td>NaN</td>\n",
       "      <td>Urarṭu After the Cimmerian Rout</td>\n",
       "      <td>NaN</td>\n",
       "      <td>[en]</td>\n",
       "      <td>The Correspondence of Sargon II, Part I: Lette...</td>\n",
       "      <td>SAA 1</td>\n",
       "      <td>NaN</td>\n",
       "    </tr>\n",
       "    <tr>\n",
       "      <th>...</th>\n",
       "      <td>...</td>\n",
       "      <td>...</td>\n",
       "      <td>...</td>\n",
       "      <td>...</td>\n",
       "      <td>...</td>\n",
       "      <td>...</td>\n",
       "      <td>...</td>\n",
       "      <td>...</td>\n",
       "      <td>...</td>\n",
       "      <td>...</td>\n",
       "      <td>...</td>\n",
       "      <td>...</td>\n",
       "      <td>...</td>\n",
       "      <td>...</td>\n",
       "      <td>...</td>\n",
       "      <td>...</td>\n",
       "      <td>...</td>\n",
       "      <td>...</td>\n",
       "      <td>...</td>\n",
       "      <td>...</td>\n",
       "      <td>...</td>\n",
       "    </tr>\n",
       "    <tr>\n",
       "      <th>P452858</th>\n",
       "      <td>ABL 1167</td>\n",
       "      <td>1889-04-26 Bu, 0057</td>\n",
       "      <td>NaN</td>\n",
       "      <td>NaN</td>\n",
       "      <td>NaN</td>\n",
       "      <td>[the king]</td>\n",
       "      <td>(unknown)</td>\n",
       "      <td>099 - Miscellaneous</td>\n",
       "      <td>NaN</td>\n",
       "      <td>NaN</td>\n",
       "      <td>...</td>\n",
       "      <td>Ashurbanipal Letters 1</td>\n",
       "      <td>NaN</td>\n",
       "      <td>NaN</td>\n",
       "      <td>NaN</td>\n",
       "      <td>Why Did [You] Side with Indabibi?</td>\n",
       "      <td>NaN</td>\n",
       "      <td>[en]</td>\n",
       "      <td>The Correspondence of Ashurbanipal, Part I: Le...</td>\n",
       "      <td>SAA 21</td>\n",
       "      <td>NaN</td>\n",
       "    </tr>\n",
       "    <tr>\n",
       "      <th>P452901</th>\n",
       "      <td>ABL 1262</td>\n",
       "      <td>1891-05-09 Bu, 0165</td>\n",
       "      <td>NaN</td>\n",
       "      <td>NaN</td>\n",
       "      <td>NaN</td>\n",
       "      <td>[the king]</td>\n",
       "      <td>[... of Raši?]</td>\n",
       "      <td>099 - Miscellaneous</td>\n",
       "      <td>NaN</td>\n",
       "      <td>NaN</td>\n",
       "      <td>...</td>\n",
       "      <td>Ashurbanipal Letters 1</td>\n",
       "      <td>NaN</td>\n",
       "      <td>NaN</td>\n",
       "      <td>NaN</td>\n",
       "      <td>Invading Elam (646-XII-27)</td>\n",
       "      <td>NaN</td>\n",
       "      <td>[en]</td>\n",
       "      <td>The Correspondence of Ashurbanipal, Part I: Le...</td>\n",
       "      <td>SAA 21</td>\n",
       "      <td>NaN</td>\n",
       "    </tr>\n",
       "    <tr>\n",
       "      <th>Q009252</th>\n",
       "      <td>NaN</td>\n",
       "      <td>NaN</td>\n",
       "      <td>NaN</td>\n",
       "      <td>NaN</td>\n",
       "      <td>NaN</td>\n",
       "      <td>the king</td>\n",
       "      <td>Šadanu</td>\n",
       "      <td>099 - Miscellaneous</td>\n",
       "      <td>NaN</td>\n",
       "      <td>NaN</td>\n",
       "      <td>...</td>\n",
       "      <td>Ashurbanipal Letters 1</td>\n",
       "      <td>NaN</td>\n",
       "      <td>NaN</td>\n",
       "      <td>NaN</td>\n",
       "      <td>Confiscating Scholarly Tablets in Borsippa</td>\n",
       "      <td>NaN</td>\n",
       "      <td>[en]</td>\n",
       "      <td>The Correspondence of Ashurbanipal, Part I: Le...</td>\n",
       "      <td>SAA 21</td>\n",
       "      <td>NaN</td>\n",
       "    </tr>\n",
       "    <tr>\n",
       "      <th>X210106</th>\n",
       "      <td>NaN</td>\n",
       "      <td>NaN</td>\n",
       "      <td>NaN</td>\n",
       "      <td>NaN</td>\n",
       "      <td>NaN</td>\n",
       "      <td>the king</td>\n",
       "      <td>Hunda[ru, king of Dilmun]</td>\n",
       "      <td>099 - Miscellaneous</td>\n",
       "      <td>NaN</td>\n",
       "      <td>NaN</td>\n",
       "      <td>...</td>\n",
       "      <td>Ashurbanipal Letters 1</td>\n",
       "      <td>NaN</td>\n",
       "      <td>NaN</td>\n",
       "      <td>NaN</td>\n",
       "      <td>Granting the Kingship of Dilmun (647-VI-13)</td>\n",
       "      <td>NaN</td>\n",
       "      <td>[en]</td>\n",
       "      <td>The Correspondence of Ashurbanipal, Part I: Le...</td>\n",
       "      <td>SAA 21</td>\n",
       "      <td>NaN</td>\n",
       "    </tr>\n",
       "    <tr>\n",
       "      <th>X211891</th>\n",
       "      <td>ABL 1264</td>\n",
       "      <td>1891-05-09 Bu, 0057 + 1891-05-09 Bu, 0185</td>\n",
       "      <td>NaN</td>\n",
       "      <td>ADD 0091</td>\n",
       "      <td>NaN</td>\n",
       "      <td>(unknown)</td>\n",
       "      <td>[Ashurbanipal]</td>\n",
       "      <td>099 - Miscellaneous</td>\n",
       "      <td>NaN</td>\n",
       "      <td>NaN</td>\n",
       "      <td>...</td>\n",
       "      <td>Assurbanipal Letters 1</td>\n",
       "      <td>NaN</td>\n",
       "      <td>NaN</td>\n",
       "      <td>NaN</td>\n",
       "      <td>Appeal to Assurbanipal</td>\n",
       "      <td>NaN</td>\n",
       "      <td>[en]</td>\n",
       "      <td>The Correspondence of Assurbanipal, Part I: Le...</td>\n",
       "      <td>SAA 21</td>\n",
       "      <td>NaN</td>\n",
       "    </tr>\n",
       "  </tbody>\n",
       "</table>\n",
       "<p>5036 rows × 101 columns</p>\n",
       "</div>"
      ],
      "text/plain": [
       "           abl_no                               accession_no adb_no    add_no  \\\n",
       "P224395       NaN                                        NaN    NaN       NaN   \n",
       "P224403       NaN                                        NaN    NaN       NaN   \n",
       "P224417       NaN                                        NaN    NaN       NaN   \n",
       "P224431       NaN                                        NaN    NaN       NaN   \n",
       "P224433       NaN                                        NaN    NaN       NaN   \n",
       "...           ...                                        ...    ...       ...   \n",
       "P452858  ABL 1167                        1889-04-26 Bu, 0057    NaN       NaN   \n",
       "P452901  ABL 1262                        1891-05-09 Bu, 0165    NaN       NaN   \n",
       "Q009252       NaN                                        NaN    NaN       NaN   \n",
       "X210106       NaN                                        NaN    NaN       NaN   \n",
       "X211891  ABL 1264  1891-05-09 Bu, 0057 + 1891-05-09 Bu, 0185    NaN  ADD 0091   \n",
       "\n",
       "        ags_no ancient_author          ancient_recipient  \\\n",
       "P224395    NaN      Adda-hati                   the king   \n",
       "P224403    NaN       the king      go[vernor] (of Calah)   \n",
       "P224417    NaN      Adda-hati                   the king   \n",
       "P224431    NaN     [Bel-duri]                 [the king]   \n",
       "P224433    NaN  S[ennacherib]                   the king   \n",
       "...        ...            ...                        ...   \n",
       "P452858    NaN     [the king]                  (unknown)   \n",
       "P452901    NaN     [the king]             [... of Raši?]   \n",
       "Q009252    NaN       the king                     Šadanu   \n",
       "X210106    NaN       the king  Hunda[ru, king of Dilmun]   \n",
       "X211891    NaN      (unknown)             [Ashurbanipal]   \n",
       "\n",
       "                                   archive astron_date         atae_lists  \\\n",
       "P224395  006 - Northwest Palace, Room ZT 4         NaN  atae/saao:P224395   \n",
       "P224403  006 - Northwest Palace, Room ZT 4         NaN  atae/saao:P224403   \n",
       "P224417  006 - Northwest Palace, Room ZT 4         NaN  atae/saao:P224417   \n",
       "P224431  006 - Northwest Palace, Room ZT 4         NaN  atae/saao:P224431   \n",
       "P224433  006 - Northwest Palace, Room ZT 4         NaN  atae/saao:P224433   \n",
       "...                                    ...         ...                ...   \n",
       "P452858                099 - Miscellaneous         NaN                NaN   \n",
       "P452901                099 - Miscellaneous         NaN                NaN   \n",
       "Q009252                099 - Miscellaneous         NaN                NaN   \n",
       "X210106                099 - Miscellaneous         NaN                NaN   \n",
       "X211891                099 - Miscellaneous         NaN                NaN   \n",
       "\n",
       "         ...             short_title stt_no subgenre tim_11_no  \\\n",
       "P224395  ...        Sargon Letters 1    NaN      NaN       NaN   \n",
       "P224403  ...        Sargon Letters 1    NaN      NaN       NaN   \n",
       "P224417  ...        Sargon Letters 1    NaN      NaN       NaN   \n",
       "P224431  ...        Sargon Letters 1    NaN      NaN       NaN   \n",
       "P224433  ...        Sargon Letters 1    NaN      NaN       NaN   \n",
       "...      ...                     ...    ...      ...       ...   \n",
       "P452858  ...  Ashurbanipal Letters 1    NaN      NaN       NaN   \n",
       "P452901  ...  Ashurbanipal Letters 1    NaN      NaN       NaN   \n",
       "Q009252  ...  Ashurbanipal Letters 1    NaN      NaN       NaN   \n",
       "X210106  ...  Ashurbanipal Letters 1    NaN      NaN       NaN   \n",
       "X211891  ...  Assurbanipal Letters 1    NaN      NaN       NaN   \n",
       "\n",
       "                                                title title_in_date trans  \\\n",
       "P224395                Arabs Attack a Column of Booty           NaN  [en]   \n",
       "P224403              Straw and Reeds for Dur-Šarruken           NaN  [en]   \n",
       "P224417  Turning in Taxes and Organizing the Province           NaN  [en]   \n",
       "P224431     Raising Food and Fodder from Desert Towns           NaN  [en]   \n",
       "P224433               Urarṭu After the Cimmerian Rout           NaN  [en]   \n",
       "...                                               ...           ...   ...   \n",
       "P452858             Why Did [You] Side with Indabibi?           NaN  [en]   \n",
       "P452901                    Invading Elam (646-XII-27)           NaN  [en]   \n",
       "Q009252    Confiscating Scholarly Tablets in Borsippa           NaN  [en]   \n",
       "X210106   Granting the Kingship of Dilmun (647-VI-13)           NaN  [en]   \n",
       "X211891                        Appeal to Assurbanipal           NaN  [en]   \n",
       "\n",
       "                                                 vol_title  volume year  \n",
       "P224395  The Correspondence of Sargon II, Part I: Lette...   SAA 1  NaN  \n",
       "P224403  The Correspondence of Sargon II, Part I: Lette...   SAA 1  NaN  \n",
       "P224417  The Correspondence of Sargon II, Part I: Lette...   SAA 1  NaN  \n",
       "P224431  The Correspondence of Sargon II, Part I: Lette...   SAA 1  NaN  \n",
       "P224433  The Correspondence of Sargon II, Part I: Lette...   SAA 1  NaN  \n",
       "...                                                    ...     ...  ...  \n",
       "P452858  The Correspondence of Ashurbanipal, Part I: Le...  SAA 21  NaN  \n",
       "P452901  The Correspondence of Ashurbanipal, Part I: Le...  SAA 21  NaN  \n",
       "Q009252  The Correspondence of Ashurbanipal, Part I: Le...  SAA 21  NaN  \n",
       "X210106  The Correspondence of Ashurbanipal, Part I: Le...  SAA 21  NaN  \n",
       "X211891  The Correspondence of Assurbanipal, Part I: Le...  SAA 21  NaN  \n",
       "\n",
       "[5036 rows x 101 columns]"
      ]
     },
     "execution_count": 5,
     "metadata": {},
     "output_type": "execute_result"
    }
   ],
   "source": [
    "df = pd.DataFrame() # create an empty dataframe\n",
    "p = projects.split(',')\n",
    "p = [pro.lower().strip() for pro in p]\n",
    "for project in p:\n",
    "    file = \"jsonzip/\" + project.replace(\"/\", \"-\") + \".zip\"\n",
    "    try:\n",
    "        z = zipfile.ZipFile(file)       # create a Zipfile object\n",
    "    except:\n",
    "        print(file + \" does not exist or is not a proper ZIP file\")\n",
    "        continue\n",
    "    try:\n",
    "        st = z.read(project + '/catalogue.json').decode('utf-8')  #read and decode the catalogue.json file of one project\n",
    "                                                                # the result is a string object\n",
    "    except:\n",
    "        print(project + '/catalogue.json' + ' is not available or not complete')\n",
    "        continue\n",
    "    cat = json.loads(st)\n",
    "    cat = cat['members']  # select the 'members' node \n",
    "    for item in cat.values():\n",
    "        item[\"project\"] = project # add project name as separate field\n",
    "    cat_df = pd.DataFrame(cat).T\n",
    "    df = pd.concat([df, cat_df], sort=True)  # sort=True is necessary in case catalogs have a different sets of fields\n",
    "df"
   ]
  },
  {
   "cell_type": "markdown",
   "metadata": {},
   "source": [
    "# For SAAo only: The 'title' field\n",
    "[ORACC](http://oracc.org) projects may have a variety of fields - only the fields 'id_text' and 'designation' are obligatory. The content of the field 'designation' is usually an abbreviation for a text publication plus a text number (as in MVN 12 14)', indicating where the original cuneiform text may be found (in some cases 'designation' may also be a museum number). For analyzing a topic model 'designation' is not a very helpful field. \n",
    "\n",
    "The [SAAo](http://oracc.org/saao) catalogues include a field 'title' that provides a brief, somewhat impressionistic, summary of the text in question such as 'Transporting logs and hauling a threshold stone'. We will copy this field to the field 'designation' so that it is available to the analysis of the topic model in the Bokeh visualization (section 5.3). This cell may be skipped if you include data from any other [ORACC](http://oracc.org) project."
   ]
  },
  {
   "cell_type": "code",
   "execution_count": 6,
   "metadata": {},
   "outputs": [],
   "source": [
    "if 'title' in df.columns:\n",
    "    df['designation'] = df['title']"
   ]
  },
  {
   "cell_type": "markdown",
   "metadata": {},
   "source": [
    "# Merge Catalog and Text Data"
   ]
  },
  {
   "cell_type": "code",
   "execution_count": 7,
   "metadata": {
    "collapsed": false,
    "jupyter": {
     "outputs_hidden": false
    }
   },
   "outputs": [
    {
     "data": {
      "text/html": [
       "<div>\n",
       "<style scoped>\n",
       "    .dataframe tbody tr th:only-of-type {\n",
       "        vertical-align: middle;\n",
       "    }\n",
       "\n",
       "    .dataframe tbody tr th {\n",
       "        vertical-align: top;\n",
       "    }\n",
       "\n",
       "    .dataframe thead th {\n",
       "        text-align: right;\n",
       "    }\n",
       "</style>\n",
       "<table border=\"1\" class=\"dataframe\">\n",
       "  <thead>\n",
       "    <tr style=\"text-align: right;\">\n",
       "      <th></th>\n",
       "      <th>designation</th>\n",
       "      <th>id_text</th>\n",
       "      <th>lemma</th>\n",
       "    </tr>\n",
       "  </thead>\n",
       "  <tbody>\n",
       "    <tr>\n",
       "      <th>P224395</th>\n",
       "      <td>Arabs Attack a Column of Booty</td>\n",
       "      <td>saao/saa01/P224395</td>\n",
       "      <td>[ana[to]prp, šarru[king]n, bēlu[lord]n, ardu[s...</td>\n",
       "    </tr>\n",
       "    <tr>\n",
       "      <th>P224403</th>\n",
       "      <td>Straw and Reeds for Dur-Šarruken</td>\n",
       "      <td>saao/saa01/P224403</td>\n",
       "      <td>[awātu[word]n, šarru[king]n, ana[to]prp, šaknu...</td>\n",
       "    </tr>\n",
       "    <tr>\n",
       "      <th>P224417</th>\n",
       "      <td>Turning in Taxes and Organizing the Province</td>\n",
       "      <td>saao/saa01/P224417</td>\n",
       "      <td>[ana[to]prp, šarru[king]n, bēlu[lord]n, ardu[s...</td>\n",
       "    </tr>\n",
       "    <tr>\n",
       "      <th>P224431</th>\n",
       "      <td>Raising Food and Fodder from Desert Towns</td>\n",
       "      <td>saao/saa01/P224431</td>\n",
       "      <td>[ana[to]prp, šarru[king]n, bēlu[lord]n, ardu[s...</td>\n",
       "    </tr>\n",
       "    <tr>\n",
       "      <th>P224433</th>\n",
       "      <td>Urarṭu After the Cimmerian Rout</td>\n",
       "      <td>saao/saa01/P224433</td>\n",
       "      <td>[ana[to]prp, šarru[king]n, bēlu[lord]n, ardu[s...</td>\n",
       "    </tr>\n",
       "  </tbody>\n",
       "</table>\n",
       "</div>"
      ],
      "text/plain": [
       "                                          designation             id_text  \\\n",
       "P224395                Arabs Attack a Column of Booty  saao/saa01/P224395   \n",
       "P224403              Straw and Reeds for Dur-Šarruken  saao/saa01/P224403   \n",
       "P224417  Turning in Taxes and Organizing the Province  saao/saa01/P224417   \n",
       "P224431     Raising Food and Fodder from Desert Towns  saao/saa01/P224431   \n",
       "P224433               Urarṭu After the Cimmerian Rout  saao/saa01/P224433   \n",
       "\n",
       "                                                     lemma  \n",
       "P224395  [ana[to]prp, šarru[king]n, bēlu[lord]n, ardu[s...  \n",
       "P224403  [awātu[word]n, šarru[king]n, ana[to]prp, šaknu...  \n",
       "P224417  [ana[to]prp, šarru[king]n, bēlu[lord]n, ardu[s...  \n",
       "P224431  [ana[to]prp, šarru[king]n, bēlu[lord]n, ardu[s...  \n",
       "P224433  [ana[to]prp, šarru[king]n, bēlu[lord]n, ardu[s...  "
      ]
     },
     "execution_count": 7,
     "metadata": {},
     "output_type": "execute_result"
    }
   ],
   "source": [
    "df = df['designation']\n",
    "df = pd.merge(df, docs_df, right_index=True, left_index=True, how='inner')\n",
    "df.head()"
   ]
  },
  {
   "cell_type": "markdown",
   "metadata": {},
   "source": [
    "# Pickle"
   ]
  },
  {
   "cell_type": "code",
   "execution_count": 8,
   "metadata": {},
   "outputs": [],
   "source": [
    "pickled = 'output/data_for_topic_model.p'\n",
    "df.to_pickle(pickled)"
   ]
  },
  {
   "cell_type": "code",
   "execution_count": null,
   "metadata": {},
   "outputs": [],
   "source": []
  }
 ],
 "metadata": {
  "kernelspec": {
   "display_name": "Python 3",
   "language": "python",
   "name": "python3"
  },
  "language_info": {
   "codemirror_mode": {
    "name": "ipython",
    "version": 3
   },
   "file_extension": ".py",
   "mimetype": "text/x-python",
   "name": "python",
   "nbconvert_exporter": "python",
   "pygments_lexer": "ipython3",
   "version": "3.8.8"
  }
 },
 "nbformat": 4,
 "nbformat_minor": 4
}
