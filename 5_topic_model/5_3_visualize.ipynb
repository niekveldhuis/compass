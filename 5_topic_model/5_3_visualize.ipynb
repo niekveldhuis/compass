{
 "cells": [
  {
   "cell_type": "markdown",
   "metadata": {},
   "source": [
    "# 5.3 Visualize the Model"
   ]
  },
  {
   "cell_type": "markdown",
   "metadata": {},
   "source": [
    "We will visualize the model in two different ways, from two different perspectives. The package pyLDAvis is used to visualize the topics and their most prevalent lemmas. First install pyLDAvis."
   ]
  },
  {
   "cell_type": "code",
   "execution_count": 1,
   "metadata": {},
   "outputs": [
    {
     "name": "stdout",
     "output_type": "stream",
     "text": [
      "Requirement already satisfied: pyldavis in c:\\users\\veldhuis\\anaconda3\\lib\\site-packages (3.4.0)\n",
      "Requirement already satisfied: numpy>=1.22.0 in c:\\users\\veldhuis\\anaconda3\\lib\\site-packages (from pyldavis) (1.24.4)\n",
      "Requirement already satisfied: scipy in c:\\users\\veldhuis\\anaconda3\\lib\\site-packages (from pyldavis) (1.10.1)\n",
      "Requirement already satisfied: pandas>=1.3.4 in c:\\users\\veldhuis\\anaconda3\\lib\\site-packages (from pyldavis) (2.0.3)\n",
      "Requirement already satisfied: joblib>=1.2.0 in c:\\users\\veldhuis\\anaconda3\\lib\\site-packages (from pyldavis) (1.4.2)\n",
      "Requirement already satisfied: jinja2 in c:\\users\\veldhuis\\anaconda3\\lib\\site-packages (from pyldavis) (2.11.3)\n",
      "Requirement already satisfied: numexpr in c:\\users\\veldhuis\\anaconda3\\lib\\site-packages (from pyldavis) (2.8.6)\n",
      "Requirement already satisfied: funcy in c:\\users\\veldhuis\\anaconda3\\lib\\site-packages (from pyldavis) (2.0)\n",
      "Requirement already satisfied: scikit-learn>=1.0.0 in c:\\users\\veldhuis\\anaconda3\\lib\\site-packages (from pyldavis) (1.3.2)\n",
      "Requirement already satisfied: gensim in c:\\users\\veldhuis\\appdata\\roaming\\python\\python38\\site-packages (from pyldavis) (4.3.2)\n",
      "Requirement already satisfied: setuptools in c:\\users\\veldhuis\\anaconda3\\lib\\site-packages (from pyldavis) (75.3.2)\n",
      "Requirement already satisfied: python-dateutil>=2.8.2 in c:\\users\\veldhuis\\anaconda3\\lib\\site-packages (from pandas>=1.3.4->pyldavis) (2.9.0.post0)\n",
      "Requirement already satisfied: pytz>=2020.1 in c:\\users\\veldhuis\\anaconda3\\lib\\site-packages (from pandas>=1.3.4->pyldavis) (2021.1)\n",
      "Requirement already satisfied: tzdata>=2022.1 in c:\\users\\veldhuis\\anaconda3\\lib\\site-packages (from pandas>=1.3.4->pyldavis) (2025.2)\n",
      "Requirement already satisfied: threadpoolctl>=2.0.0 in c:\\users\\veldhuis\\anaconda3\\lib\\site-packages (from scikit-learn>=1.0.0->pyldavis) (2.1.0)\n",
      "Requirement already satisfied: smart-open>=1.8.1 in c:\\users\\veldhuis\\anaconda3\\lib\\site-packages (from gensim->pyldavis) (7.0.4)\n",
      "Requirement already satisfied: MarkupSafe>=0.23 in c:\\users\\veldhuis\\anaconda3\\lib\\site-packages (from jinja2->pyldavis) (1.1.1)\n",
      "Requirement already satisfied: six>=1.5 in c:\\users\\veldhuis\\anaconda3\\lib\\site-packages (from python-dateutil>=2.8.2->pandas>=1.3.4->pyldavis) (1.15.0)\n",
      "Requirement already satisfied: wrapt in c:\\users\\veldhuis\\anaconda3\\lib\\site-packages (from smart-open>=1.8.1->gensim->pyldavis) (1.12.1)\n",
      "Note: you may need to restart the kernel to use updated packages.\n",
      "Name: pyLDAvis\n",
      "Version: 3.4.0\n",
      "Summary: Interactive topic model visualization. Port of the R package.\n",
      "Home-page: https://github.com/bmabey/pyLDAvis\n",
      "Author: Ben Mabey\n",
      "Author-email: ben@benmabey.com\n",
      "License: BSD-3-Clause\n",
      "Location: c:\\users\\veldhuis\\anaconda3\\lib\\site-packages\n",
      "Requires: funcy, gensim, jinja2, joblib, numexpr, numpy, pandas, scikit-learn, scipy, setuptools\n",
      "Required-by: \n",
      "Note: you may need to restart the kernel to use updated packages.\n"
     ]
    }
   ],
   "source": [
    "%pip install pyldavis"
   ]
  },
  {
   "cell_type": "code",
   "execution_count": 2,
   "metadata": {},
   "outputs": [
    {
     "name": "stdout",
     "output_type": "stream",
     "text": [
      "Name: pyLDAvis\n",
      "Version: 3.4.0\n",
      "Summary: Interactive topic model visualization. Port of the R package.\n",
      "Home-page: https://github.com/bmabey/pyLDAvis\n",
      "Author: Ben Mabey\n",
      "Author-email: ben@benmabey.com\n",
      "License: BSD-3-Clause\n",
      "Location: c:\\users\\veldhuis\\anaconda3\\lib\\site-packages\n",
      "Requires: funcy, gensim, jinja2, joblib, numexpr, numpy, pandas, scikit-learn, scipy, setuptools\n",
      "Required-by: \n",
      "Note: you may need to restart the kernel to use updated packages.\n"
     ]
    }
   ],
   "source": [
    "%pip show pyldavis"
   ]
  },
  {
   "cell_type": "markdown",
   "metadata": {},
   "source": [
    "pyLDAvis 3.4.0 contains a line that is no longer compatible with Pandas 2. The following code block will take care of that issue by patching one file ([see](https://github.com/bmabey/pyLDAvis/issues/247#issuecomment-1517214945)). If you use a higher version of pyLDAvis, or if you have already patched the file in question, you may skip this."
   ]
  },
  {
   "cell_type": "code",
   "execution_count": 3,
   "metadata": {},
   "outputs": [
    {
     "name": "stdout",
     "output_type": "stream",
     "text": [
      "Patched: C:\\Users\\veldhuis\\Anaconda3\\lib\\site-packages\\pyLDAvis\\_prepare.py\n"
     ]
    }
   ],
   "source": [
    "import os\n",
    "import site\n",
    "\n",
    "dir_list = site.getsitepackages()\n",
    "\n",
    "for d in dir_list:\n",
    "    fname = os.path.join(d, 'pyLDAvis', '_prepare.py')\n",
    "    backup = fname + '.old'\n",
    "    if os.path.isfile(fname):\n",
    "        try:\n",
    "            corrected = []\n",
    "            with open(fname, 'r') as f:\n",
    "                lines = f.read().splitlines()\n",
    "            if not os.path.isfile(backup):\n",
    "                os.rename(fname, fname + '.old')  # backup\n",
    "            for l in lines:\n",
    "                l = l.replace(\"drop('saliency', 1)\", \"drop('saliency', axis=1)\")\n",
    "                corrected.append(l)\n",
    "            with open(fname, \"w\") as outfile:\n",
    "                outfile.write(\"\\n\".join(corrected))\n",
    "            print(f\"Patched: {fname}\")\n",
    "        except Exception as e:\n",
    "            print(f\"Error patching {fname}: {e}\")"
   ]
  },
  {
   "cell_type": "code",
   "execution_count": 4,
   "metadata": {
    "tags": []
   },
   "outputs": [
    {
     "data": {
      "text/html": [
       "<style>\n",
       "        .bk-notebook-logo {\n",
       "            display: block;\n",
       "            width: 20px;\n",
       "            height: 20px;\n",
       "            background-image: url(data:image/png;base64,iVBORw0KGgoAAAANSUhEUgAAABQAAAAUCAYAAACNiR0NAAAABHNCSVQICAgIfAhkiAAAAAlwSFlzAAALEgAACxIB0t1+/AAAABx0RVh0U29mdHdhcmUAQWRvYmUgRmlyZXdvcmtzIENTNui8sowAAAOkSURBVDiNjZRtaJVlGMd/1/08zzln5zjP1LWcU9N0NkN8m2CYjpgQYQXqSs0I84OLIC0hkEKoPtiH3gmKoiJDU7QpLgoLjLIQCpEsNJ1vqUOdO7ppbuec5+V+rj4ctwzd8IIbbi6u+8f1539dt3A78eXC7QizUF7gyV1fD1Yqg4JWz84yffhm0qkFqBogB9rM8tZdtwVsPUhWhGcFJngGeWrPzHm5oaMmkfEg1usvLFyc8jLRqDOMru7AyC8saQr7GG7f5fvDeH7Ej8CM66nIF+8yngt6HWaKh7k49Soy9nXurCi1o3qUbS3zWfrYeQDTB/Qj6kX6Ybhw4B+bOYoLKCC9H3Nu/leUTZ1JdRWkkn2ldcCamzrcf47KKXdAJllSlxAOkRgyHsGC/zRday5Qld9DyoM4/q/rUoy/CXh3jzOu3bHUVZeU+DEn8FInkPBFlu3+nW3Nw0mk6vCDiWg8CeJaxEwuHS3+z5RgY+YBR6V1Z1nxSOfoaPa4LASWxxdNp+VWTk7+4vzaou8v8PN+xo+KY2xsw6une2frhw05CTYOmQvsEhjhWjn0bmXPjpE1+kplmmkP3suftwTubK9Vq22qKmrBhpY4jvd5afdRA3wGjFAgcnTK2s4hY0/GPNIb0nErGMCRxWOOX64Z8RAC4oCXdklmEvcL8o0BfkNK4lUg9HTl+oPlQxdNo3Mg4Nv175e/1LDGzZen30MEjRUtmXSfiTVu1kK8W4txyV6BMKlbgk3lMwYCiusNy9fVfvvwMxv8Ynl6vxoByANLTWplvuj/nF9m2+PDtt1eiHPBr1oIfhCChQMBw6Aw0UulqTKZdfVvfG7VcfIqLG9bcldL/+pdWTLxLUy8Qq38heUIjh4XlzZxzQm19lLFlr8vdQ97rjZVOLf8nclzckbcD4wxXMidpX30sFd37Fv/GtwwhzhxGVAprjbg0gCAEeIgwCZyTV2Z1REEW8O4py0wsjeloKoMr6iCY6dP92H6Vw/oTyICIthibxjm/DfN9lVz8IqtqKYLUXfoKVMVQVVJOElGjrnnUt9T9wbgp8AyYKaGlqingHZU/uG2NTZSVqwHQTWkx9hxjkpWDaCg6Ckj5qebgBVbT3V3NNXMSiWSDdGV3hrtzla7J+duwPOToIg42ChPQOQjspnSlp1V+Gjdged7+8UN5CRAV7a5EdFNwCjEaBR27b3W890TE7g24NAP/mMDXRWrGoFPQI9ls/MWO2dWFAar/xcOIImbbpA3zgAAAABJRU5ErkJggg==);\n",
       "        }\n",
       "    </style>\n",
       "    <div>\n",
       "        <a href=\"https://bokeh.org\" target=\"_blank\" class=\"bk-notebook-logo\"></a>\n",
       "        <span id=\"afdf46e3-4cea-4ac7-94a1-d311dfa532fb\">Loading BokehJS ...</span>\n",
       "    </div>\n"
      ]
     },
     "metadata": {},
     "output_type": "display_data"
    },
    {
     "data": {
      "application/javascript": [
       "(function(root) {\n",
       "  function now() {\n",
       "    return new Date();\n",
       "  }\n",
       "\n",
       "  const force = true;\n",
       "\n",
       "  if (typeof root._bokeh_onload_callbacks === \"undefined\" || force === true) {\n",
       "    root._bokeh_onload_callbacks = [];\n",
       "    root._bokeh_is_loading = undefined;\n",
       "  }\n",
       "\n",
       "const JS_MIME_TYPE = 'application/javascript';\n",
       "  const HTML_MIME_TYPE = 'text/html';\n",
       "  const EXEC_MIME_TYPE = 'application/vnd.bokehjs_exec.v0+json';\n",
       "  const CLASS_NAME = 'output_bokeh rendered_html';\n",
       "\n",
       "  /**\n",
       "   * Render data to the DOM node\n",
       "   */\n",
       "  function render(props, node) {\n",
       "    const script = document.createElement(\"script\");\n",
       "    node.appendChild(script);\n",
       "  }\n",
       "\n",
       "  /**\n",
       "   * Handle when an output is cleared or removed\n",
       "   */\n",
       "  function handleClearOutput(event, handle) {\n",
       "    const cell = handle.cell;\n",
       "\n",
       "    const id = cell.output_area._bokeh_element_id;\n",
       "    const server_id = cell.output_area._bokeh_server_id;\n",
       "    // Clean up Bokeh references\n",
       "    if (id != null && id in Bokeh.index) {\n",
       "      Bokeh.index[id].model.document.clear();\n",
       "      delete Bokeh.index[id];\n",
       "    }\n",
       "\n",
       "    if (server_id !== undefined) {\n",
       "      // Clean up Bokeh references\n",
       "      const cmd_clean = \"from bokeh.io.state import curstate; print(curstate().uuid_to_server['\" + server_id + \"'].get_sessions()[0].document.roots[0]._id)\";\n",
       "      cell.notebook.kernel.execute(cmd_clean, {\n",
       "        iopub: {\n",
       "          output: function(msg) {\n",
       "            const id = msg.content.text.trim();\n",
       "            if (id in Bokeh.index) {\n",
       "              Bokeh.index[id].model.document.clear();\n",
       "              delete Bokeh.index[id];\n",
       "            }\n",
       "          }\n",
       "        }\n",
       "      });\n",
       "      // Destroy server and session\n",
       "      const cmd_destroy = \"import bokeh.io.notebook as ion; ion.destroy_server('\" + server_id + \"')\";\n",
       "      cell.notebook.kernel.execute(cmd_destroy);\n",
       "    }\n",
       "  }\n",
       "\n",
       "  /**\n",
       "   * Handle when a new output is added\n",
       "   */\n",
       "  function handleAddOutput(event, handle) {\n",
       "    const output_area = handle.output_area;\n",
       "    const output = handle.output;\n",
       "\n",
       "    // limit handleAddOutput to display_data with EXEC_MIME_TYPE content only\n",
       "    if ((output.output_type != \"display_data\") || (!Object.prototype.hasOwnProperty.call(output.data, EXEC_MIME_TYPE))) {\n",
       "      return\n",
       "    }\n",
       "\n",
       "    const toinsert = output_area.element.find(\".\" + CLASS_NAME.split(' ')[0]);\n",
       "\n",
       "    if (output.metadata[EXEC_MIME_TYPE][\"id\"] !== undefined) {\n",
       "      toinsert[toinsert.length - 1].firstChild.textContent = output.data[JS_MIME_TYPE];\n",
       "      // store reference to embed id on output_area\n",
       "      output_area._bokeh_element_id = output.metadata[EXEC_MIME_TYPE][\"id\"];\n",
       "    }\n",
       "    if (output.metadata[EXEC_MIME_TYPE][\"server_id\"] !== undefined) {\n",
       "      const bk_div = document.createElement(\"div\");\n",
       "      bk_div.innerHTML = output.data[HTML_MIME_TYPE];\n",
       "      const script_attrs = bk_div.children[0].attributes;\n",
       "      for (let i = 0; i < script_attrs.length; i++) {\n",
       "        toinsert[toinsert.length - 1].firstChild.setAttribute(script_attrs[i].name, script_attrs[i].value);\n",
       "        toinsert[toinsert.length - 1].firstChild.textContent = bk_div.children[0].textContent\n",
       "      }\n",
       "      // store reference to server id on output_area\n",
       "      output_area._bokeh_server_id = output.metadata[EXEC_MIME_TYPE][\"server_id\"];\n",
       "    }\n",
       "  }\n",
       "\n",
       "  function register_renderer(events, OutputArea) {\n",
       "\n",
       "    function append_mime(data, metadata, element) {\n",
       "      // create a DOM node to render to\n",
       "      const toinsert = this.create_output_subarea(\n",
       "        metadata,\n",
       "        CLASS_NAME,\n",
       "        EXEC_MIME_TYPE\n",
       "      );\n",
       "      this.keyboard_manager.register_events(toinsert);\n",
       "      // Render to node\n",
       "      const props = {data: data, metadata: metadata[EXEC_MIME_TYPE]};\n",
       "      render(props, toinsert[toinsert.length - 1]);\n",
       "      element.append(toinsert);\n",
       "      return toinsert\n",
       "    }\n",
       "\n",
       "    /* Handle when an output is cleared or removed */\n",
       "    events.on('clear_output.CodeCell', handleClearOutput);\n",
       "    events.on('delete.Cell', handleClearOutput);\n",
       "\n",
       "    /* Handle when a new output is added */\n",
       "    events.on('output_added.OutputArea', handleAddOutput);\n",
       "\n",
       "    /**\n",
       "     * Register the mime type and append_mime function with output_area\n",
       "     */\n",
       "    OutputArea.prototype.register_mime_type(EXEC_MIME_TYPE, append_mime, {\n",
       "      /* Is output safe? */\n",
       "      safe: true,\n",
       "      /* Index of renderer in `output_area.display_order` */\n",
       "      index: 0\n",
       "    });\n",
       "  }\n",
       "\n",
       "  // register the mime type if in Jupyter Notebook environment and previously unregistered\n",
       "  if (root.Jupyter !== undefined) {\n",
       "    const events = require('base/js/events');\n",
       "    const OutputArea = require('notebook/js/outputarea').OutputArea;\n",
       "\n",
       "    if (OutputArea.prototype.mime_types().indexOf(EXEC_MIME_TYPE) == -1) {\n",
       "      register_renderer(events, OutputArea);\n",
       "    }\n",
       "  }\n",
       "  if (typeof (root._bokeh_timeout) === \"undefined\" || force === true) {\n",
       "    root._bokeh_timeout = Date.now() + 5000;\n",
       "    root._bokeh_failed_load = false;\n",
       "  }\n",
       "\n",
       "  const NB_LOAD_WARNING = {'data': {'text/html':\n",
       "     \"<div style='background-color: #fdd'>\\n\"+\n",
       "     \"<p>\\n\"+\n",
       "     \"BokehJS does not appear to have successfully loaded. If loading BokehJS from CDN, this \\n\"+\n",
       "     \"may be due to a slow or bad network connection. Possible fixes:\\n\"+\n",
       "     \"</p>\\n\"+\n",
       "     \"<ul>\\n\"+\n",
       "     \"<li>re-rerun `output_notebook()` to attempt to load from CDN again, or</li>\\n\"+\n",
       "     \"<li>use INLINE resources instead, as so:</li>\\n\"+\n",
       "     \"</ul>\\n\"+\n",
       "     \"<code>\\n\"+\n",
       "     \"from bokeh.resources import INLINE\\n\"+\n",
       "     \"output_notebook(resources=INLINE)\\n\"+\n",
       "     \"</code>\\n\"+\n",
       "     \"</div>\"}};\n",
       "\n",
       "  function display_loaded() {\n",
       "    const el = document.getElementById(\"afdf46e3-4cea-4ac7-94a1-d311dfa532fb\");\n",
       "    if (el != null) {\n",
       "      el.textContent = \"BokehJS is loading...\";\n",
       "    }\n",
       "    if (root.Bokeh !== undefined) {\n",
       "      if (el != null) {\n",
       "        el.textContent = \"BokehJS \" + root.Bokeh.version + \" successfully loaded.\";\n",
       "      }\n",
       "    } else if (Date.now() < root._bokeh_timeout) {\n",
       "      setTimeout(display_loaded, 100)\n",
       "    }\n",
       "  }\n",
       "\n",
       "  function run_callbacks() {\n",
       "    try {\n",
       "      root._bokeh_onload_callbacks.forEach(function(callback) {\n",
       "        if (callback != null)\n",
       "          callback();\n",
       "      });\n",
       "    } finally {\n",
       "      delete root._bokeh_onload_callbacks\n",
       "    }\n",
       "    console.debug(\"Bokeh: all callbacks have finished\");\n",
       "  }\n",
       "\n",
       "  function load_libs(css_urls, js_urls, callback) {\n",
       "    if (css_urls == null) css_urls = [];\n",
       "    if (js_urls == null) js_urls = [];\n",
       "\n",
       "    root._bokeh_onload_callbacks.push(callback);\n",
       "    if (root._bokeh_is_loading > 0) {\n",
       "      console.debug(\"Bokeh: BokehJS is being loaded, scheduling callback at\", now());\n",
       "      return null;\n",
       "    }\n",
       "    if (js_urls == null || js_urls.length === 0) {\n",
       "      run_callbacks();\n",
       "      return null;\n",
       "    }\n",
       "    console.debug(\"Bokeh: BokehJS not loaded, scheduling load and callback at\", now());\n",
       "    root._bokeh_is_loading = css_urls.length + js_urls.length;\n",
       "\n",
       "    function on_load() {\n",
       "      root._bokeh_is_loading--;\n",
       "      if (root._bokeh_is_loading === 0) {\n",
       "        console.debug(\"Bokeh: all BokehJS libraries/stylesheets loaded\");\n",
       "        run_callbacks()\n",
       "      }\n",
       "    }\n",
       "\n",
       "    function on_error(url) {\n",
       "      console.error(\"failed to load \" + url);\n",
       "    }\n",
       "\n",
       "    for (let i = 0; i < css_urls.length; i++) {\n",
       "      const url = css_urls[i];\n",
       "      const element = document.createElement(\"link\");\n",
       "      element.onload = on_load;\n",
       "      element.onerror = on_error.bind(null, url);\n",
       "      element.rel = \"stylesheet\";\n",
       "      element.type = \"text/css\";\n",
       "      element.href = url;\n",
       "      console.debug(\"Bokeh: injecting link tag for BokehJS stylesheet: \", url);\n",
       "      document.body.appendChild(element);\n",
       "    }\n",
       "\n",
       "    for (let i = 0; i < js_urls.length; i++) {\n",
       "      const url = js_urls[i];\n",
       "      const element = document.createElement('script');\n",
       "      element.onload = on_load;\n",
       "      element.onerror = on_error.bind(null, url);\n",
       "      element.async = false;\n",
       "      element.src = url;\n",
       "      console.debug(\"Bokeh: injecting script tag for BokehJS library: \", url);\n",
       "      document.head.appendChild(element);\n",
       "    }\n",
       "  };\n",
       "\n",
       "  function inject_raw_css(css) {\n",
       "    const element = document.createElement(\"style\");\n",
       "    element.appendChild(document.createTextNode(css));\n",
       "    document.body.appendChild(element);\n",
       "  }\n",
       "\n",
       "  const js_urls = [\"https://cdn.bokeh.org/bokeh/release/bokeh-3.1.1.min.js\", \"https://cdn.bokeh.org/bokeh/release/bokeh-gl-3.1.1.min.js\", \"https://cdn.bokeh.org/bokeh/release/bokeh-widgets-3.1.1.min.js\", \"https://cdn.bokeh.org/bokeh/release/bokeh-tables-3.1.1.min.js\", \"https://cdn.bokeh.org/bokeh/release/bokeh-mathjax-3.1.1.min.js\"];\n",
       "  const css_urls = [];\n",
       "\n",
       "  const inline_js = [    function(Bokeh) {\n",
       "      Bokeh.set_log_level(\"info\");\n",
       "    },\n",
       "function(Bokeh) {\n",
       "    }\n",
       "  ];\n",
       "\n",
       "  function run_inline_js() {\n",
       "    if (root.Bokeh !== undefined || force === true) {\n",
       "          for (let i = 0; i < inline_js.length; i++) {\n",
       "      inline_js[i].call(root, root.Bokeh);\n",
       "    }\n",
       "if (force === true) {\n",
       "        display_loaded();\n",
       "      }} else if (Date.now() < root._bokeh_timeout) {\n",
       "      setTimeout(run_inline_js, 100);\n",
       "    } else if (!root._bokeh_failed_load) {\n",
       "      console.log(\"Bokeh: BokehJS failed to load within specified timeout.\");\n",
       "      root._bokeh_failed_load = true;\n",
       "    } else if (force !== true) {\n",
       "      const cell = $(document.getElementById(\"afdf46e3-4cea-4ac7-94a1-d311dfa532fb\")).parents('.cell').data().cell;\n",
       "      cell.output_area.append_execute_result(NB_LOAD_WARNING)\n",
       "    }\n",
       "  }\n",
       "\n",
       "  if (root._bokeh_is_loading === 0) {\n",
       "    console.debug(\"Bokeh: BokehJS loaded, going straight to plotting\");\n",
       "    run_inline_js();\n",
       "  } else {\n",
       "    load_libs(css_urls, js_urls, function() {\n",
       "      console.debug(\"Bokeh: BokehJS plotting callback run at\", now());\n",
       "      run_inline_js();\n",
       "    });\n",
       "  }\n",
       "}(window));"
      ],
      "application/vnd.bokehjs_load.v0+json": "(function(root) {\n  function now() {\n    return new Date();\n  }\n\n  const force = true;\n\n  if (typeof root._bokeh_onload_callbacks === \"undefined\" || force === true) {\n    root._bokeh_onload_callbacks = [];\n    root._bokeh_is_loading = undefined;\n  }\n\n\n  if (typeof (root._bokeh_timeout) === \"undefined\" || force === true) {\n    root._bokeh_timeout = Date.now() + 5000;\n    root._bokeh_failed_load = false;\n  }\n\n  const NB_LOAD_WARNING = {'data': {'text/html':\n     \"<div style='background-color: #fdd'>\\n\"+\n     \"<p>\\n\"+\n     \"BokehJS does not appear to have successfully loaded. If loading BokehJS from CDN, this \\n\"+\n     \"may be due to a slow or bad network connection. Possible fixes:\\n\"+\n     \"</p>\\n\"+\n     \"<ul>\\n\"+\n     \"<li>re-rerun `output_notebook()` to attempt to load from CDN again, or</li>\\n\"+\n     \"<li>use INLINE resources instead, as so:</li>\\n\"+\n     \"</ul>\\n\"+\n     \"<code>\\n\"+\n     \"from bokeh.resources import INLINE\\n\"+\n     \"output_notebook(resources=INLINE)\\n\"+\n     \"</code>\\n\"+\n     \"</div>\"}};\n\n  function display_loaded() {\n    const el = document.getElementById(\"afdf46e3-4cea-4ac7-94a1-d311dfa532fb\");\n    if (el != null) {\n      el.textContent = \"BokehJS is loading...\";\n    }\n    if (root.Bokeh !== undefined) {\n      if (el != null) {\n        el.textContent = \"BokehJS \" + root.Bokeh.version + \" successfully loaded.\";\n      }\n    } else if (Date.now() < root._bokeh_timeout) {\n      setTimeout(display_loaded, 100)\n    }\n  }\n\n  function run_callbacks() {\n    try {\n      root._bokeh_onload_callbacks.forEach(function(callback) {\n        if (callback != null)\n          callback();\n      });\n    } finally {\n      delete root._bokeh_onload_callbacks\n    }\n    console.debug(\"Bokeh: all callbacks have finished\");\n  }\n\n  function load_libs(css_urls, js_urls, callback) {\n    if (css_urls == null) css_urls = [];\n    if (js_urls == null) js_urls = [];\n\n    root._bokeh_onload_callbacks.push(callback);\n    if (root._bokeh_is_loading > 0) {\n      console.debug(\"Bokeh: BokehJS is being loaded, scheduling callback at\", now());\n      return null;\n    }\n    if (js_urls == null || js_urls.length === 0) {\n      run_callbacks();\n      return null;\n    }\n    console.debug(\"Bokeh: BokehJS not loaded, scheduling load and callback at\", now());\n    root._bokeh_is_loading = css_urls.length + js_urls.length;\n\n    function on_load() {\n      root._bokeh_is_loading--;\n      if (root._bokeh_is_loading === 0) {\n        console.debug(\"Bokeh: all BokehJS libraries/stylesheets loaded\");\n        run_callbacks()\n      }\n    }\n\n    function on_error(url) {\n      console.error(\"failed to load \" + url);\n    }\n\n    for (let i = 0; i < css_urls.length; i++) {\n      const url = css_urls[i];\n      const element = document.createElement(\"link\");\n      element.onload = on_load;\n      element.onerror = on_error.bind(null, url);\n      element.rel = \"stylesheet\";\n      element.type = \"text/css\";\n      element.href = url;\n      console.debug(\"Bokeh: injecting link tag for BokehJS stylesheet: \", url);\n      document.body.appendChild(element);\n    }\n\n    for (let i = 0; i < js_urls.length; i++) {\n      const url = js_urls[i];\n      const element = document.createElement('script');\n      element.onload = on_load;\n      element.onerror = on_error.bind(null, url);\n      element.async = false;\n      element.src = url;\n      console.debug(\"Bokeh: injecting script tag for BokehJS library: \", url);\n      document.head.appendChild(element);\n    }\n  };\n\n  function inject_raw_css(css) {\n    const element = document.createElement(\"style\");\n    element.appendChild(document.createTextNode(css));\n    document.body.appendChild(element);\n  }\n\n  const js_urls = [\"https://cdn.bokeh.org/bokeh/release/bokeh-3.1.1.min.js\", \"https://cdn.bokeh.org/bokeh/release/bokeh-gl-3.1.1.min.js\", \"https://cdn.bokeh.org/bokeh/release/bokeh-widgets-3.1.1.min.js\", \"https://cdn.bokeh.org/bokeh/release/bokeh-tables-3.1.1.min.js\", \"https://cdn.bokeh.org/bokeh/release/bokeh-mathjax-3.1.1.min.js\"];\n  const css_urls = [];\n\n  const inline_js = [    function(Bokeh) {\n      Bokeh.set_log_level(\"info\");\n    },\nfunction(Bokeh) {\n    }\n  ];\n\n  function run_inline_js() {\n    if (root.Bokeh !== undefined || force === true) {\n          for (let i = 0; i < inline_js.length; i++) {\n      inline_js[i].call(root, root.Bokeh);\n    }\nif (force === true) {\n        display_loaded();\n      }} else if (Date.now() < root._bokeh_timeout) {\n      setTimeout(run_inline_js, 100);\n    } else if (!root._bokeh_failed_load) {\n      console.log(\"Bokeh: BokehJS failed to load within specified timeout.\");\n      root._bokeh_failed_load = true;\n    } else if (force !== true) {\n      const cell = $(document.getElementById(\"afdf46e3-4cea-4ac7-94a1-d311dfa532fb\")).parents('.cell').data().cell;\n      cell.output_area.append_execute_result(NB_LOAD_WARNING)\n    }\n  }\n\n  if (root._bokeh_is_loading === 0) {\n    console.debug(\"Bokeh: BokehJS loaded, going straight to plotting\");\n    run_inline_js();\n  } else {\n    load_libs(css_urls, js_urls, function() {\n      console.debug(\"Bokeh: BokehJS plotting callback run at\", now());\n      run_inline_js();\n    });\n  }\n}(window));"
     },
     "metadata": {},
     "output_type": "display_data"
    }
   ],
   "source": [
    "import os\n",
    "import gensim\n",
    "import warnings\n",
    "import pickle\n",
    "import numpy as np\n",
    "import pandas as pd\n",
    "from sklearn.feature_extraction.text import CountVectorizer, TfidfVectorizer\n",
    "from sklearn.manifold import MDS, TSNE\n",
    "from scipy.spatial.distance import pdist, squareform\n",
    "import pyLDAvis.gensim_models\n",
    "from bokeh.models import ColumnDataSource, OpenURL, TapTool, HoverTool, CustomJS, Title, MultiChoice\n",
    "from bokeh.plotting import figure, output_file, output_notebook, save, show\n",
    "from bokeh.layouts import column\n",
    "from bokeh.io import reset_output\n",
    "output_notebook()"
   ]
  },
  {
   "cell_type": "markdown",
   "metadata": {},
   "source": [
    "Create directory (if necessary) for visualization output."
   ]
  },
  {
   "cell_type": "code",
   "execution_count": 5,
   "metadata": {},
   "outputs": [],
   "source": [
    "os.makedirs('vis', exist_ok=True)"
   ]
  },
  {
   "cell_type": "code",
   "execution_count": 6,
   "metadata": {},
   "outputs": [],
   "source": [
    "ldamodel = gensim.models.ldamodel.LdaModel.load('output/ldasaved')\n",
    "dictionary = gensim.corpora.Dictionary.load('output/ldadict')\n",
    "corpus = gensim.corpora.MmCorpus('output/ldacorpus')"
   ]
  },
  {
   "cell_type": "markdown",
   "metadata": {},
   "source": [
    "# Get the Model\n"
   ]
  },
  {
   "cell_type": "code",
   "execution_count": 7,
   "metadata": {
    "collapsed": false,
    "jupyter": {
     "outputs_hidden": false
    }
   },
   "outputs": [],
   "source": [
    "with open('output/topic_model.p', 'rb') as r:\n",
    "    topic_model = pickle.load(r)"
   ]
  },
  {
   "cell_type": "code",
   "execution_count": 8,
   "metadata": {
    "collapsed": false,
    "jupyter": {
     "outputs_hidden": false
    }
   },
   "outputs": [
    {
     "data": {
      "text/plain": [
       "[(0,\n",
       "  [('manû[unit]n', 0.07460955),\n",
       "   ('ṣarpu[silver]n', 0.05077602),\n",
       "   ('hurāṣu[gold]n', 0.047348257),\n",
       "   ('biltu[load]n', 0.04248671),\n",
       "   ('šiqlu[unit]n', 0.034077335),\n",
       "   ('ammatu[unit]n', 0.026702428),\n",
       "   ('eleppu[ship]n', 0.021947471),\n",
       "   ('šawiru[ring]n', 0.01901914),\n",
       "   ('pūtu[forehead]n', 0.018668577),\n",
       "   ('kāru[quay]n', 0.017603515)]),\n",
       " (1,\n",
       "  [('sisû[horse]n', 0.044651676),\n",
       "   ('karābu[pray]v', 0.039131243),\n",
       "   ('dullu[trouble]n', 0.030765027),\n",
       "   ('ṭūbu[goodness]n', 0.027118457),\n",
       "   ('šīru[flesh]n', 0.014573547),\n",
       "   ('balāṭu[live]v', 0.013999887),\n",
       "   ('ilu[god]n', 0.013509653),\n",
       "   ('našû[lifted]aj', 0.013248313),\n",
       "   ('šattu[year]n', 0.011965697),\n",
       "   ('wadû[know]v', 0.011748885)]),\n",
       " (2,\n",
       "  [('rabû[big]aj', 0.05999384),\n",
       "   ('ilūtu[divinity]n', 0.03386138),\n",
       "   ('immeru[sheep]n', 0.03187009),\n",
       "   ('šalmu[intact]aj', 0.026799057),\n",
       "   ('luʾʾû[sullied]aj', 0.022594161),\n",
       "   ('pû[mouth]n', 0.018162629),\n",
       "   ('bīru[divination]n', 0.016008219),\n",
       "   ('qātu[hand]n', 0.014118909),\n",
       "   ('kīnu[permanent]aj', 0.013327742),\n",
       "   ('ginû[regular-contribution-(to-temple)]n', 0.013140853)]),\n",
       " (3,\n",
       "  [('eqlu[field]n', 0.091810696),\n",
       "   ('imēru[unit]n', 0.06265141),\n",
       "   ('rabû[big-one]n', 0.040649366),\n",
       "   ('nišu[people]n', 0.032817382),\n",
       "   ('qû[unit]n', 0.03132064),\n",
       "   ('kirû[garden]n', 0.030543396),\n",
       "   ('ikkaru[farmer]n', 0.02208803),\n",
       "   ('sinništu[woman]n', 0.020546293),\n",
       "   ('alpu[ox]n', 0.017380334),\n",
       "   ('immeru[sheep]n', 0.016580258)]),\n",
       " (4,\n",
       "  [('ilu[god]n', 0.07133241),\n",
       "   ('rabû[big]aj', 0.026914202),\n",
       "   ('naqû[pour-(a-libation)]v', 0.01806095),\n",
       "   ('šamû[sky]n', 0.016255554),\n",
       "   ('qaqqaru[ground]n', 0.013443946),\n",
       "   ('šumu[name]n', 0.011382145),\n",
       "   ('šarrūtu[kingship]n', 0.011314183),\n",
       "   ('abnu[stone]n', 0.010422454),\n",
       "   ('ṣalmu[effigy]n', 0.010219364),\n",
       "   ('balāṭu[live]v', 0.010202975)]),\n",
       " (5,\n",
       "  [('mātu[land]n', 0.0913382),\n",
       "   ('ilu[god]n', 0.020048833),\n",
       "   ('pû[mouth]n', 0.016648956),\n",
       "   ('nakru[strange]aj', 0.014555632),\n",
       "   ('kīnu[permanent]aj', 0.014178495),\n",
       "   ('antalû[eclipse]n', 0.0114901215),\n",
       "   ('kittu[truth]n', 0.011427449),\n",
       "   ('tarbaṣu[courtyard]n', 0.010891589),\n",
       "   ('lawû[surround]v', 0.010569868),\n",
       "   ('tāmartu[view(ing)]n', 0.010146763)]),\n",
       " (6,\n",
       "  [('ahu[brother]n', 0.025647216),\n",
       "   ('abu[father]n', 0.024098821),\n",
       "   ('qātu[hand]n', 0.019723916),\n",
       "   ('ṣabātu[seize]v', 0.017514063),\n",
       "   ('ilu[god]n', 0.017240418),\n",
       "   ('wadû[know]v', 0.017153936),\n",
       "   ('dabābu[speak]v', 0.014443722),\n",
       "   ('mātu[land]n', 0.012277173),\n",
       "   ('karābu[pray]v', 0.012114545),\n",
       "   ('pû[mouth]n', 0.011418825)]),\n",
       " (7,\n",
       "  [('ṣābu[people]n', 0.045395833),\n",
       "   ('ālu[city]n', 0.03146621),\n",
       "   ('ṭēmu[(fore)thought]n', 0.030516356),\n",
       "   ('šipru[sending]n', 0.024050498),\n",
       "   ('pīhātu[responsibility]n', 0.02017288),\n",
       "   ('maṣṣartu[observation]n', 0.01887188),\n",
       "   ('emūqu[strength]n', 0.018657198),\n",
       "   ('ṣabātu[seize]v', 0.017753934),\n",
       "   ('birtu[fort]n', 0.017352711),\n",
       "   ('ēkallu[palace]n', 0.014352527)]),\n",
       " (8,\n",
       "  [('šību[witness]n', 0.24603245),\n",
       "   ('manû[unit]n', 0.0464436),\n",
       "   ('dīnu[legal-decision]n', 0.043395817),\n",
       "   ('ṣarpu[silver]n', 0.040816512),\n",
       "   ('dabābu[speak]v', 0.040319234),\n",
       "   ('kaspu[silver]n', 0.0315055),\n",
       "   ('leqû[take]v', 0.029349122),\n",
       "   ('târu[turn]v', 0.028120153),\n",
       "   ('kunukku[seal]n', 0.023233246),\n",
       "   ('līmu[eponym-(of-year)]n', 0.022411091)]),\n",
       " (9,\n",
       "  [('šamnu[oil]n', 0.027097745),\n",
       "   ('karānu[vine]n', 0.025334442),\n",
       "   ('ilu[god]n', 0.02416506),\n",
       "   ('šikaru[beer]n', 0.022146),\n",
       "   ('zamāru[sing]v', 0.02209866),\n",
       "   ('qerēbu[approach]v', 0.020972826),\n",
       "   ('karāru[put-(down)]v', 0.020932607),\n",
       "   ('nīqu[offering]n', 0.020494305),\n",
       "   ('šangû[priest]n', 0.020123659),\n",
       "   ('dišpu[honey]n', 0.018058566)])]"
      ]
     },
     "execution_count": 8,
     "metadata": {},
     "output_type": "execute_result"
    }
   ],
   "source": [
    "ntopics = len(ldamodel.show_topics())\n",
    "ldamodel.show_topics(ntopics, formatted = False)"
   ]
  },
  {
   "cell_type": "markdown",
   "metadata": {},
   "source": [
    "# pyLDAvis\n",
    "Use pyLDAvis to visualize the topic model. By default, pyLDAvis will order the topics by [prevalence](https://github.com/bmabey/pyLDAvis/issues/59) (topic 1 is the most prevalent topic). That means that the topic numbers in the visualization do not agree with the topic numbers in the lda model. To prevent this behaviour one may use `sort_topics=False` in the `prepare` command. The advantage of ordering the topics by prevalence, however, is that new instances of the lda model are more comparable (that is, the same topic will receive the same number). Note that the library was written in Java for R, and so the numbering in the visualization begins with 1 (not with 0). The topic numbers in the Document/Topic and Topic/Term matrices below will be adjusted to be compatible with the pyLDAvis visualization.\n",
    "\n",
    "PyLDAvis needs a large output box. The `%%html` lines below create such a box (for the code see [here](http://stackoverflow.com/questions/18770504/resize-ipython-notebook-output-window)). "
   ]
  },
  {
   "cell_type": "code",
   "execution_count": 9,
   "metadata": {},
   "outputs": [
    {
     "data": {
      "text/html": [
       "<style>\n",
       ".output_wrapper, .output {\n",
       "    height:auto !important;\n",
       "    max-height:1000px;  /* your desired max-height here */\n",
       "}\n",
       ".output_scroll {\n",
       "    box-shadow:none !important;\n",
       "    webkit-box-shadow:none !important;\n",
       "}\n",
       "</style>\n"
      ],
      "text/plain": [
       "<IPython.core.display.HTML object>"
      ]
     },
     "metadata": {},
     "output_type": "display_data"
    }
   ],
   "source": [
    "%%html\n",
    "<style>\n",
    ".output_wrapper, .output {\n",
    "    height:auto !important;\n",
    "    max-height:1000px;  /* your desired max-height here */\n",
    "}\n",
    ".output_scroll {\n",
    "    box-shadow:none !important;\n",
    "    webkit-box-shadow:none !important;\n",
    "}\n",
    "</style>\n"
   ]
  },
  {
   "cell_type": "code",
   "execution_count": 10,
   "metadata": {
    "collapsed": false,
    "jupyter": {
     "outputs_hidden": false
    }
   },
   "outputs": [
    {
     "data": {
      "text/html": [
       "\n",
       "<link rel=\"stylesheet\" type=\"text/css\" href=\"https://cdn.jsdelivr.net/gh/bmabey/pyLDAvis@3.4.0/pyLDAvis/js/ldavis.v1.0.0.css\">\n",
       "\n",
       "\n",
       "<div id=\"ldavis_el140420186680045125266376383\" style=\"background-color:white;\"></div>\n",
       "<script type=\"text/javascript\">\n",
       "\n",
       "var ldavis_el140420186680045125266376383_data = {\"mdsDat\": {\"x\": [0.1965831438084576, -0.10063205601891057, -0.11896020896771331, 0.17381599522588087, -0.11182327726665313, -0.18095898097060775, -0.07563407711198653, -0.050129495755677954, 0.3327350193132441, -0.06499606225603342], \"y\": [-0.27789669525539606, 0.10547242184780774, -0.019684474087100858, 0.1549784864915146, -0.10428238254985349, -0.08483138813955768, 0.14664938548247045, 0.16345806617928127, 0.057292665013177604, -0.1411560849823433], \"topics\": [1, 2, 3, 4, 5, 6, 7, 8, 9, 10], \"cluster\": [1, 1, 1, 1, 1, 1, 1, 1, 1, 1], \"Freq\": [3.665190778615641, 6.495742575580141, 16.98479001151057, 8.427124621466552, 8.501181907873212, 11.607520053467974, 12.75849920107303, 10.186960513716164, 15.242389269585251, 6.13060106711147]}, \"tinfo\": {\"Term\": [\"\\u0161\\u012bbu[witness]n\", \"man\\u00fb[unit]n\", \"eqlu[field]n\", \"m\\u0101tu[land]n\", \"\\u1e63arpu[silver]n\", \"rab\\u00fb[big]aj\", \"im\\u0113ru[unit]n\", \"ilu[god]n\", \"d\\u012bnu[legal-decision]n\", \"il\\u016btu[divinity]n\", \"\\u1e63\\u0101bu[people]n\", \"dab\\u0101bu[speak]v\", \"kaspu[silver]n\", \"sis\\u00fb[horse]n\", \"hur\\u0101\\u1e63u[gold]n\", \"kar\\u0101bu[pray]v\", \"immeru[sheep]n\", \"rab\\u00fb[big-one]n\", \"leq\\u00fb[take]v\", \"lu\\u02be\\u02be\\u00fb[sullied]aj\", \"\\u0161almu[intact]aj\", \"\\u0161iqlu[unit]n\", \"kir\\u00fb[garden]n\", \"q\\u00fb[unit]n\", \"\\u1e6d\\u0113mu[(fore)thought]n\", \"ahu[brother]n\", \"dullu[trouble]n\", \"biltu[load]n\", \"kunukku[seal]n\", \"ni\\u0161u[people]n\", \"ammatu[unit]n\", \"rup\\u0161u[width]n\", \"aladlamm\\u00fb[human-headed-bull-colossus]n\", \"kit\\u00fb[flax]n\", \"at\\u0101nu[she-ass]n\", \"m\\u016braku[length]n\", \"\\u0161uqultu[weight]n\", \"\\u0161ip\\u0161atu[(length-of)-wood]n\", \"bir\\u0161u[felt]n\", \"urnatu[(a-garment)]n\", \"ma\\u0161kittu[sacrificial-table]n\", \"\\u1e63ab\\u00fb[wished-for]aj\", \"maq\\u0101\\u1e6du[(a-garment)]n\", \"askuppu[(threshold)-slab]n\", \"maqarratu[bale-(of-straw)]n\", \"eleppu[ship]n\", \"da\\u02be\\u0101pu[push-(away)]v\", \"\\u0161awiru[ring]n\", \"s\\u0101yu[(a-qualification-of-textiles-perhaps-'knotted')]aj\", \"nindanu[rod]n\", \"ud\\u00fb[tools]n\", \"pappardaliu[agate?]n\", \"\\u0161up\\u0101l\\u012btu-halluptu[reinforced-lower-garment]n\", \"mak\\u00fb[destitute]aj\", \"takkassu[(small)-block-of-stone]n\", \"qullu[(a-large-ring)]n\", \"tappa\\u0161tu[(a-woollen-rug)]n\", \"kus\\u012btu[robe]n\", \"umn\\u012bnu[chest]n\", \"er\\u0113pu[cloud-over]v\", \"k\\u0101ru[quay]n\", \"biltu[load]n\", \"\\u0161\\u012bp\\u0101tu[wool]n\", \"s\\u0101mu[red]aj\", \"hur\\u0101\\u1e63u[gold]n\", \"r\\u016b\\u1e6du[unit]n\", \"\\u0161iqlu[unit]n\", \"\\u0161appatu[(a-pottery-vessel)]n\", \"man\\u00fb[unit]n\", \"\\u1e63arpu[silver]n\", \"er\\u00fb[copper]n\", \"\\u1e63almu[black]aj\", \"p\\u016btu[forehead]n\", \"kuzippu[cloak]n\", \"parri\\u1e63u[criminal]n\", \"dannu[strong]aj\", \"parzillu[iron]n\", \"bat\\u0101qu[cut-off]v\", \"m\\u0101tu[land]n\", \"abnu[stone]n\", \"k\\u016bdanu[mule]n\", \"p\\u016btuhhu[responsibility]n\", \"pilku[demarcated-zone]n\", \"salqu[boiled]aj\", \"\\u0161\\u012bb\\u016btu[old-age]n\", \"a\\u0161\\u0101ru[muster]v\", \"litt\\u016btu[(extreme)-old-age]n\", \"bul\\u1e6du[life]n\", \"mu\\u1e6d\\u00fb[deficit]n\", \"kisallu[courtyard]n\", \"irginu[(a-breed-or-colour-of-horse)]n\", \"ur\\u0101su[(a-foreman)]n\", \"\\u0161arpu[burning]n\", \"es\\u0113hu[assign]v\", \"dan\\u012bbu[victualler]n\", \"i\\u0161pallurtu[cross]n\", \"\\u1e6d\\u016bbu[goodness]n\", \"\\u0161\\u012bmu[purchase-(price)]n\", \"en\\u0161u[weak]aj\", \"niksu[cutting-(off)]n\", \"mand\\u0113tu[(result-of)-reconnoitring]n\", \"s\\u00earu[plaster]v\", \"\\u0161a\\u1e63butu[supplies]n\", \"\\u0161ulm\\u0101nu[greeting-gift]n\", \"\\u1e6d\\u00e2bu[be(come)-good]v\", \"et\\u0101ku[be-on-guard]v\", \"ra\\u1e63pu[built]aj\", \"rad\\u0101pu[pursue]v\", \"\\u0161eb\\u00fb[be(come)-full]v\", \"\\u0161atamm\\u016btu[post-of-\\u0161atammu]n\", \"l\\u0113\\u02beu[board]n\", \"itinnu[builder]n\", \"mad\\u0101du[measure-(out)]v\", \"sis\\u00fb[horse]n\", \"i\\u0161k\\u0101ru[work-assignment]n\", \"p\\u0113thallu[riding-horse]n\", \"im\\u0113ru[donkey]n\", \"kar\\u0101bu[pray]v\", \"dullu[trouble]n\", \"dam\\u0101qu[be(come)-good]v\", \"din\\u0101nu[substitution]n\", \"na\\u0161\\u00fb[lifted]aj\", \"ur\\u00fb[team]n\", \"ep\\u0161u[made]aj\", \"gamru[complete]aj\", \"m\\u012btu[dead]aj\", \"\\u0161\\u012bru[flesh]n\", \"bal\\u0101\\u1e6du[live]v\", \"\\u0161a\\u1e6d\\u0101ru[write]v\", \"arku[long]aj\", \"batqu[cut-(off)]aj\", \"paq\\u0101du[entrust]v\", \"r\\u0113htu[remainder]n\", \"\\u0161attu[year]n\", \"\\u0161al\\u0101mu[be(come)-healthy]v\", \"\\u012bnu[eye]n\", \"\\u1e6dup\\u0161arru[scribe]n\", \"wad\\u00fb[know]v\", \"ilu[god]n\", \"\\u1e63\\u0101bu[people]n\", \"q\\u0101tu[hand]n\", \"napi\\u0161tu[throat]n\", \"\\u1e6d\\u0113mu[(fore)thought]n\", \"mah\\u0101ru[face]v\", \"\\u0113kallu[palace]n\", \"il\\u016btu[divinity]n\", \"lu\\u02be\\u02be\\u00fb[sullied]aj\", \"b\\u012bru[divination]n\", \"annu[(word-of)-consent]n\", \"ha\\u1e6d\\u00fb[defective]aj\", \"tam\\u012btu[oath]n\", \"lab\\u0161u[clothed]aj\", \"ar\\u0161u[dirty]aj\", \"t\\u00eartu[instruction]n\", \"pad\\u0101nu[way]n\", \"martu[gall-bladder]n\", \"l\\u0101pitu[one-who-touches]n\", \"pa\\u0161\\u0101\\u0161u[anoint]v\", \"b\\u0113ru[distant]aj\", \"u\\u1e63urtu[design]n\", \"k\\u016bnu[firmness]n\", \"par\\u0101du[be(come)-scared]v\", \"\\u0101meru[that-sees]n\", \"\\u0161up\\u00ealu[exchange]v\", \"\\u0161\\u0113m\\u00fb[hearer]n\", \"t\\u012br\\u0101nu[coils]n\", \"lu\\u02be\\u02be\\u00fb[sully]v\", \"ad\\u0101nu[fixed-time]n\", \"kaskasu[gristly-extension-of-breast-bone]n\", \"kaptukk\\u00fb[two-s\\u016btu-container]n\", \"sulukannu[(a-food-container)]n\", \"eb\\u00fb[thick]aj\", \"\\u1e63ub\\u0101tu[textile]n\", \"ha\\u0161\\u00fb[lung(s)]n\", \"qabl\\u012btu[centre]n\", \"bar\\u00fb[see]v\", \"gin\\u00fb[regular-contribution-(to-temple)]n\", \"ub\\u0101nu[finger]n\", \"\\u0161almu[intact]aj\", \"ma\\u1e6d\\u00fb[small]aj\", \"rab\\u00fb[big]aj\", \"en\\u00fb[change]v\", \"immeru[sheep]n\", \"nashu[torn]aj\", \"a\\u0161ru[place]n\", \"ap\\u0101lu[pay]v\", \"\\u0161um\\u0113lu[left-side]n\", \"b\\u0101r\\u00fb[diviner]n\", \"\\u0161aknu[placed]aj\", \"k\\u012bnu[permanent]aj\", \"p\\u00fb[mouth]n\", \"imittu[right-side]n\", \"\\u0161\\u012bru[flesh]n\", \"q\\u0101tu[hand]n\", \"n\\u012bqu[offering]n\", \"p\\u016btu[forehead]n\", \"ak\\u0101lu[eat]v\", \"im\\u0113ru[unit]n\", \"ikkaru[farmer]n\", \"tillatu[vine]n\", \"nukaribbu[gardener]n\", \"nus\\u0101hu[(a-grain-tax)]n\", \"nahallu[stream]n\", \"er\\u0161u[tilled]aj\", \"kakardinnu[victualler]n\", \"\\u1e63uhurtu[the-young-youth(s)]n\", \"karaphu[fallow-land]n\", \"\\u0161a-r\\u0113\\u0161-\\u0161arri[royal-eunuch]n\", \"\\u0161a-patt\\u016bti[open-chariot]n\", \"\\u0161apartu[pledge]n\", \"qablu[plantation-(of-trees)]n\", \"tabku[(grain)-store]n\", \"hubullu[debt]n\", \"\\u0161ib\\u0161u[(an-agricultural-tax)]n\", \"tarammu[grain-heap]n\", \"zittu[share]n\", \"kirru[(a-big-jar)]n\", \"rubb\\u00fb[increase]n\", \"m\\u0101hi\\u1e63u[beater]n\", \"\\u0161ar\\u0101qu[steal]v\", \"sikkatu[peg]n\", \"ishunnatu[bunch-of-grapes]n\", \"kapru[village]n\", \"\\u0113\\u1e63idu[reaper]n\", \"ma\\u02be\\u02beuttu[subsistence-(field)]n\", \"kudimmu[(a-herb)]n\", \"yarhu[pond]n\", \"eqlu[field]n\", \"r\\u0113\\u0161tu[beginning]n\", \"kir\\u00fb[garden]n\", \"kibtu[wheat]n\", \"q\\u00fb[unit]n\", \"arqu[green]aj\", \"\\u0113p\\u00fb[baker]n\", \"rab\\u00fb[be(come)-big]v\", \"adru[threshing-floor]n\", \"s\\u012br\\u0101\\u0161\\u00fb[brewer]n\", \"p\\u016bhu[exchange]n\", \"alpu[ox]n\", \"h\\u016blu[way]n\", \"s\\u016btu[unit]n\", \"rab\\u00fb[big-one]n\", \"sinni\\u0161tu[woman]n\", \"ni\\u0161u[people]n\", \"y\\u0101bilu[ram]n\", \"\\u0161a-qurb\\u016bti[close-follower]n\", \"ummu[mother]n\", \"nuhatimmu[cook]n\", \"ki\\u1e63ru[knot]n\", \"napi\\u0161tu[throat]n\", \"\\u0161a-r\\u0113\\u0161i[eunuch]n\", \"\\u0161aknu[appointee]n\", \"kus\\u0101pu[bread]n\", \"immeru[sheep]n\", \"kurummatu[ration]n\", \"m\\u0101rtu[daughter]n\", \"z\\u0113ru[seed(s)]n\", \"p\\u012bh\\u0101tu[responsibility]n\", \"\\u0161attu[year]n\", \"\\u0113kallu[palace]n\", \"\\u1e6dup\\u0161arru[scribe]n\", \"ak\\u0101lu[eat]v\", \"\\u0101lu[city]n\", \"naq\\u00fb[pour-(a-libation)]v\", \"rittu[hand]n\", \"\\u0161urr\\u00fb[begin]v\", \"lamassu[(female)-tutelary-deity]n\", \"\\u0161i\\u0101mu[fix]v\", \"b\\u0113l\\u016btu[rule]n\", \"kibru[bank]n\", \"s\\u0101mtu[redness]n\", \"\\u0161iptu[incantation]n\", \"aps\\u00fb[(cosmic)-underground-water]n\", \"napharu[total]n\", \"ba\\u0161\\u00fb[existing]aj\", \"b\\u0101n\\u00fb[creator]n\", \"gizill\\u00fb[torch]n\", \"\\u1e63\\u012bru[exalted]aj\", \"h\\u012brtu[(equal-ranking)-wife]n\", \"\\u0161arratu[queen]n\", \"n\\u012b\\u0161u[(oath-on-the)-life]n\", \"ma\\u0161kanu[tent]n\", \"\\u0161aptu[lip]n\", \"p\\u016btu[opening]n\", \"\\u0161aq\\u00fb[high]aj\", \"qib\\u012btu[speech]n\", \"nip\\u0161u[tuft]n\", \"n\\u0101\\u1e63iru[guard]n\", \"\\u0161am\\u00fb[heaven]n\", \"\\u0161uk\\u00eanu[prostrate-oneself]v\", \"kil\\u012blu[wreath]n\", \"upnu[(cupped)-hand]n\", \"piri\\u0161tu[secret]n\", \"\\u0161\\u012bmtu[fate]n\", \"\\u1e63almu[effigy]n\", \"\\u1e6dabtu[salt]n\", \"mahru[front]n\", \"i\\u0161taru[goddess]n\", \"qerbu[centre]n\", \"abnu[stone]n\", \"zikru[utterance]n\", \"ilu[god]n\", \"\\u0161am\\u00fb[sky]n\", \"\\u0161arr\\u016btu[kingship]n\", \"b\\u0113ltu[lady]n\", \"qaqqaru[ground]n\", \"rid\\u00fbtu[appropriation]n\", \"kal\\u00fb[totality]n\", \"\\u0161umu[name]n\", \"rab\\u00fb[big]aj\", \"abullu[(city)-gate]n\", \"zak\\u0101ru[speak]v\", \"bal\\u0101\\u1e6du[live]v\", \"parakku[cult-dais]n\", \"\\u0161ad\\u00fb[mountain]n\", \"z\\u0113ru[seed(s)]n\", \"kar\\u0101bu[pray]v\", \"b\\u0101bu[gate]n\", \"\\u0101lu[city]n\", \"m\\u0101rtu[daughter]n\", \"rub\\u00fb[prince]n\", \"n\\u0101ru[river]n\", \"kuss\\u00fb[chair]n\", \"mah\\u0101ru[face]v\", \"dannu[strong]aj\", \"\\u0101\\u0161ibu[sitting]aj\", \"m\\u0101tu[land]n\", \"damqu[good]aj\", \"q\\u0101tu[hand]n\", \"nakru[strange]aj\", \"antal\\u00fb[eclipse]n\", \"t\\u0101martu[view(ing)]n\", \"nah\\u0101su[(re)cede]v\", \"b\\u016blu[animals]n\", \"miqittu[(down)fall]n\", \"bibbu[(a-kind-of-wild-sheep)]n\", \"aw\\u00fb[speak]v\", \"\\u0161ut\\u0101t\\u00fb[being-in-opposition]aj\", \"pi\\u0161ru[release]n\", \"rab\\u0101\\u1e63u[sit]v\", \"rigmu[voice]n\", \"\\u1e63eh\\u0113ru[be(come)-small]v\", \"qarnu[horn]n\", \"apru[covered-(with)]aj\", \"imbaru[fog]n\", \"atw\\u00fb[speech]n\", \"nukurtu[enmity]n\", \"sak\\u0101pu[push-down]v\", \"ed\\u0113ru[embrace]v\", \"ma\\u0161kanu[place-of-putting]n\", \"te\\u0161m\\u00fb[attention]n\", \"bibbulu[(day-of-the)-new-moon]n\", \"naq\\u0101ru[demolish]v\", \"rab\\u00fb[set]v\", \"nad\\u0101ru[be(come)-wild]v\", \"al\\u0101du[give-birth-(to)]v\", \"\\u0161an\\u00fb[be(come)-different]v\", \"nent\\u00fb[overlap]v\", \"\\u0161\\u0101t-urri[(the-watch)-of-dawn]n\", \"\\u1e6di\\u0101bu[be(come)-good]v\", \"rap\\u0101\\u0161u[be(come)-broad]v\", \"m\\u012blu[high-water]n\", \"\\u1e6deh\\u00fb[be(come)-near-to]v\", \"namburb\\u00fb[apotropaic-ritual]n\", \"kakkabu[star]n\", \"nap\\u0101hu[blow]v\", \"rah\\u0101\\u1e63u[flood]v\", \"zunnu[rain]n\", \"m\\u0101tu[land]n\", \"tarba\\u1e63u[courtyard]n\", \"pal\\u00fb[period-of-office]n\", \"lumnu[evil]n\", \"law\\u00fb[surround]v\", \"eb\\u016bru[harvest]n\", \"kittu[truth]n\", \"ittu[sign]n\", \"e\\u0161\\u0113ru[be(come)-straight]v\", \"ar\\u0101ku[be(come)-long]v\", \"k\\u012bnu[permanent]aj\", \"k\\u00e2nu[be(come)-permanent]v\", \"kuss\\u00fb[chair]n\", \"p\\u00fb[mouth]n\", \"ka\\u0161\\u0101du[reach]v\", \"ilu[god]n\", \"umm\\u0101nu[army]n\", \"\\u0161am\\u00fb[sky]n\", \"arku[long]aj\", \"damqu[good]aj\", \"arhu[month]n\", \"\\u0161attu[year]n\", \"ni\\u0161u[people]n\", \"\\u1e63\\u0113ru[back]n\", \"\\u0161ipirtu[message]n\", \"serqu[strewn-offering]n\", \"kal\\u00fb[lamentation-priest]n\", \"tam\\u00fb[swear]v\", \"\\u0161\\u012bbu[old-man]n\", \"abb\\u016btu[fatherhood]n\", \"\\u0113ribu[enterer]n\", \"rah\\u0101\\u1e63u[trust]v\", \"nad\\u00fb[throw-down]v\", \"qar\\u0101ru[writhe]v\", \"darr\\u00fb[sacrificial-sheep]n\", \"babban\\u00fb[excellent]aj\", \"r\\u00e2bu[quake]v\", \"qal\\u012btu[parched-grain]n\", \"u\\u1e63\\u1e63u\\u1e63u[interrogate]v\", \"s\\u0101ru[fan]n\", \"qer\\u012btu[banquet]n\", \"ha\\u1e63\\u0101nu[hug]v\", \"\\u0161a-ziqni[bearded-courtier]n\", \"\\u1e63\\u0113lu[rib]n\", \"r\\u012bbu[earthquake]n\", \"labi\\u0101nu[neck(\\u2011tendons)]n\", \"hurs\\u0101nu[river-ordeal]n\", \"paz\\u0101ru[hide-o.s.]v\", \"gi\\u0161ru[(wooden)-bar]n\", \"hibiltu[wrongdoing]n\", \"ad\\u00fb[(treaty-)oath]n\", \"sukkuku[deaf]aj\", \"kar\\u1e63u[slander]n\", \"b\\u0101rtu[rebellion]n\", \"\\u1e6d\\u0101btu[goodness]n\", \"abu[father]n\", \"hep\\u00fb[break]v\", \"gabar\\u00fb[copy]n\", \"\\u1e63illu[shade]n\", \"y\\u0101nu[(there)-is-not]v\", \"h\\u012b\\u1e6du[error]n\", \"ban\\u00fb[good]aj\", \"ha\\u1e6d\\u00fb[do-wrong]v\", \"ahu[brother]n\", \"pal\\u0101hu[fear]v\", \"r\\u00e2mu[love]v\", \"akalu[bread]n\", \"a\\u0161\\u0101ru[sink-down]v\", \"dibbu[words]n\", \"hal\\u0101qu[be(come)-lost]v\", \"\\u1e63ab\\u0101tu[seize]v\", \"wad\\u00fb[know]v\", \"\\u1e63abtu[seized]aj\", \"d\\u0101mu[blood]n\", \"\\u0161\\u0113pu[foot]n\", \"q\\u0101tu[hand]n\", \"ram\\u0101nu[self]n\", \"kar\\u0101bu[pray]v\", \"\\u1e6duppu[tablet]n\", \"nakru[enemy]n\", \"el\\u00fb[go-up]v\", \"d\\u00e2ku[kill]v\", \"ilu[god]n\", \"dab\\u0101bu[speak]v\", \"na\\u1e63\\u0101ru[guard]v\", \"\\u0113kallu[palace]n\", \"p\\u00fb[mouth]n\", \"a\\u1e63\\u00fb[go-out]v\", \"ak\\u0101lu[eat]v\", \"m\\u0101tu[land]n\", \"\\u1e6d\\u0113mu[(fore)thought]n\", \"\\u0161umu[name]n\", \"rab\\u00fb[big-one]n\", \"t\\u00e2ru[turn]v\", \"napi\\u0161tu[throat]n\", \"ni\\u0161u[people]n\", \"er\\u0161emmakku[(an-emesal-cult-song)]n\", \"er\\u0161ahung\\u00fb[(an-emesal-cultic-prayer)]n\", \"kissatu[fodder]n\", \"qar\\u0101bu[battle]n\", \"namark\\u00fb[be(come)-late]v\", \"ra\\u1e63\\u0101pu[build]v\", \"naquttu[critical-situation]n\", \"kan\\u012bku[sealed-document]n\", \"pitqudu[cautious]aj\", \"\\u1e63ahittu[wish]n\", \"\\u1e63\\u012bru[envoy]n\", \"ramm\\u00fb[released]aj\", \"re\\u02be\\u00fb[pasture]v\", \"saddinu[(a-tunic)]n\", \"hubtu[robbery]n\", \"b\\u00e2\\u0161u[come-to-shame]v\", \"q\\u00e2lu[pay-attention]v\", \"egertu[inscribed-tablet]n\", \"har\\u1e63u[broken-off]aj\", \"birtu[fort]n\", \"pahru[gathered]aj\", \"\\u0161el\\u00fb[be(come)-neglectful]v\", \"sek\\u0113ru[shut-off]v\", \"niqittu[anxiety]n\", \"maddattu[payment]n\", \"battu[side]n\", \"\\u0161\\u016bl\\u00fb[raised]aj\", \"eb\\u0113ru[cross-over]v\", \"es\\u0113ru[exact-payment]v\", \"e\\u1e63ru[drawn]aj\", \"r\\u0113hu[remaining]aj\", \"a\\u1e63appu[pack-animal]n\", \"har\\u0101\\u1e63u[break-off]v\", \"\\u0161ipru[sending]n\", \"mag\\u0101ru[consent]v\", \"\\u1e63\\u0101bu[people]n\", \"gu\\u0161\\u016bru[tree-trunk]n\", \"sah\\u0101ru[go-around]v\", \"nam\\u0101\\u0161u[set-(o.s.)-in-motion]v\", \"\\u1e6d\\u0113mu[(fore)thought]n\", \"em\\u016bqu[strength]n\", \"pah\\u0101ru[gather]v\", \"ma\\u1e63\\u1e63artu[observation]n\", \"p\\u012bh\\u0101tu[responsibility]n\", \"\\u0101lu[city]n\", \"rabiu[big-one]n\", \"tah\\u016bmu[boundary]n\", \"n\\u0101ru[river]n\", \"mat\\u0101hu[lift]v\", \"\\u1e63ab\\u0101tu[seize]v\", \"dullu[trouble]n\", \"ram\\u00fb[slacken]v\", \"na\\u1e63\\u0101ru[guard]v\", \"a\\u1e63\\u00fb[go-out]v\", \"kurummatu[ration]n\", \"\\u0113kallu[palace]n\", \"ar\\u0101du[go-down]v\", \"wad\\u00fb[know]v\", \"mah\\u0101ru[face]v\", \"ni\\u0161u[people]n\", \"el\\u00fb[go-up]v\", \"la\\u0161\\u0161u[(there)-is-not]v\", \"rab\\u00fb[big-one]n\", \"m\\u0101tu[land]n\", \"q\\u0101tu[hand]n\", \"dab\\u0101bu[speak]v\", \"sis\\u00fb[horse]n\", \"dibbu[words]n\", \"et\\u0113qu[proceed]v\", \"na\\u0161\\u00fb[lifted]aj\", \"\\u0161\\u012bbu[witness]n\", \"tadnu[given]aj\", \"leq\\u00fb[taken]aj\", \"zarpu[purchased]aj\", \"\\u1e63upru[nail]n\", \"sakru[refined]aj\", \"sartu[falsehood]n\", \"\\u0161akintu[(a-female-official)]n\", \"bennu[epilepsy]n\", \"harbakkannu[(a-kind-of-horse)]n\", \"zar\\u0101pu[purchase]v\", \"burku[knee]n\", \"kaspu[silver]n\", \"gammuru[finished]aj\", \"leq\\u00fb[take]v\", \"mes\\u00fb[washed]aj\", \"gerdu[plucked-wool]n\", \"kurru[tanning-fluid]n\", \"\\u1e63\\u0101bitu[recipient]n\", \"zaq\\u0101pu[fix-upright]v\", \"kunukku[seal]n\", \"ripittu[straying]n\", \"akkullu[hatchet]n\", \"aplu[paid-off]aj\", \"d\\u012bnu[legal-decision]n\", \"\\u0161inni\\u0161tu[woman]n\", \"muribb\\u0101nu[(a-function-or-prof.)]n\", \"l\\u012bmu[eponym-(of-year)]n\", \"tamk\\u0101ru[merchant]n\", \"appatu[bridle]n\", \"mukillu[holder]n\", \"\\u1e63arpu[silver]n\", \"bu\\u02be\\u02be\\u00fb[look-for]v\", \"man\\u00fb[unit]n\", \"t\\u00e2ru[turn]v\", \"dab\\u0101bu[speak]v\", \"la\\u0161\\u0161u[(there)-is-not]v\", \"\\u1e6dup\\u0161arru[scribe]n\", \"\\u0101\\u0161ibu[sitting]aj\", \"par\\u0101ku[lie-across]v\", \"aw\\u012blu[man]n\", \"ta\\u0161l\\u012b\\u0161u[third-man-on-chariot]n\", \"\\u0161iqlu[unit]n\", \"ki\\u1e63ru[knot]n\", \"rab\\u00fb[big-one]n\", \"ahu[brother]n\", \"sinni\\u0161tu[woman]n\", \"hur\\u0101\\u1e63u[gold]n\", \"ni\\u0161u[people]n\", \"zam\\u0101ru[sing]v\", \"di\\u0161pu[honey]n\", \"pa\\u0161\\u0161uru[table]n\", \"\\u0161\\u0113htu[incense-burner]n\", \"pagalu[(a-libation-vessel)]n\", \"sar\\u0101qu[strew]v\", \"kin\\u016bnu[brazier]n\", \"emdu[(an-aromatic-tree)]n\", \"maqq\\u00fb[libation-(vessel)]n\", \"\\u0161a-t\\u0113lissi[purification-device]n\", \"ak\\u012btu[(a-cultic-festival)]n\", \"silqu[boiled-meat]n\", \"har\\u00fb[(a-large-container)]n\", \"m\\u0101kaltu[wooden-dish]n\", \"bur\\u0101\\u0161u[(species-of)-juniper]n\", \"un\\u012bqu[female-kid]n\", \"itq\\u016bru[spoon]n\", \"\\u0161alh\\u00fb[outer-wall]n\", \"dum\\u0101q\\u016b[jewellery]n\", \"\\u0161er\\u0161erratu[chain]n\", \"z\\u012bqtu[torch]n\", \"nignakku[censer]n\", \"q\\u012b\\u0161tu[gift]n\", \"kam\\u0101nu[(a-loaf-or-cake)]n\", \"taml\\u012bu[filling]n\", \"el\\u0113lu[be(come)-pure]v\", \"\\u0161amnu[oil]n\", \"apu[hole]n\", \"n\\u0101\\u1e6du[(a-religious-ritual)]n\", \"hir\\u012b\\u1e63u[(city)-ditch]n\", \"mayy\\u0101lu[bed]n\", \"k\\u0101su[cup]n\", \"n\\u0101ru[musician]n\", \"\\u0161ikaru[beer]n\", \"kar\\u0101nu[vine]n\", \"kar\\u0101ru[put-(down)]v\", \"\\u0161ang\\u00fb[priest]n\", \"qer\\u0113bu[approach]v\", \"nas\\u0101hu[tear-out]v\", \"hep\\u00fb[broken]aj\", \"gam\\u0101ru[complete]v\", \"b\\u0101bu[gate]n\", \"n\\u012bqu[offering]n\", \"rak\\u0101su[bind]v\", \"nad\\u00fb[throw-(down)]v\", \"a\\u0161\\u0101bu[sit-(down)]v\", \"m\\u00fb[water]n\", \"ap\\u0101lu[pay]v\", \"ilu[god]n\", \"teb\\u00fb[arise]v\", \"et\\u0113qu[proceed]v\", \"q\\u0101tu[hand]n\", \"a\\u1e63\\u00fb[go-out]v\", \"\\u0113kallu[palace]n\", \"r\\u0113\\u0161u[head]n\", \"ar\\u0101du[go-down]v\"], \"Freq\": [4012.0, 1082.0, 905.0, 1616.0, 884.0, 1407.0, 565.0, 1435.0, 834.0, 616.0, 738.0, 1031.0, 547.0, 473.0, 403.0, 525.0, 780.0, 972.0, 519.0, 411.0, 517.0, 284.0, 323.0, 366.0, 541.0, 553.0, 401.0, 209.0, 423.0, 804.0, 104.68512503789623, 44.94597593925022, 43.9427569121337, 40.26279989493295, 33.40300751445127, 30.305004431283347, 21.522384405869147, 20.59990960445521, 18.590417330375463, 18.176827037193515, 17.582269197708357, 17.49195155366975, 16.670704149913053, 17.12926979285214, 15.663028846259875, 86.04362756925948, 13.301751785818611, 74.56329529684596, 12.152373825559273, 11.39931238191904, 10.810748882461791, 10.728970457390917, 10.646040994894246, 10.383113376852643, 9.97529287555686, 9.891926183141907, 8.469832679133752, 7.881058323494615, 7.798490328738323, 7.627687693437209, 69.01342914678487, 166.56636482671675, 37.935692489525145, 60.693752540276535, 185.62574821274302, 33.03810400494659, 133.59796567663406, 40.310535543798416, 292.5018570166863, 199.06406725742195, 52.35426823183344, 31.288775398610824, 73.18893652890596, 23.259822914260113, 19.76230852383845, 28.509199836389477, 20.291727320675264, 19.126877445771022, 20.934716360586922, 19.223949790008586, 67.5859443592645, 33.9955898782925, 27.92328071579158, 27.80147196644371, 26.046719674039263, 23.796546660277915, 23.897928307548444, 17.196153149426863, 16.669408283180157, 15.6838730014558, 14.272458444244402, 12.467980305348043, 12.058127092007926, 11.865194754885417, 11.102483453479424, 11.032134759337087, 188.421919095497, 10.585319605055881, 9.840350779458335, 9.816934108628404, 8.632219617628877, 8.564741588936467, 8.480680189420044, 22.387773859437175, 7.212214903449816, 7.140301862454798, 6.993513713156327, 6.988214831960925, 17.918404164422356, 6.392639917495308, 52.1250465960699, 21.386601580114053, 23.703698549354737, 310.2445809386443, 39.29761594471941, 37.67428011206414, 45.92784205154799, 271.8880255872584, 213.75866957595292, 23.00291160265434, 48.42802745863656, 92.05068551945797, 45.97279882407744, 48.15714146919752, 33.32827866005384, 52.531909431791426, 101.25855080650088, 97.27269856072091, 52.034000638604724, 63.41222165981811, 28.267902930199757, 68.2625445946987, 42.45947962719138, 83.13892989933805, 51.07675625425334, 44.71738701768764, 76.95696115487668, 81.63249785257943, 93.86649910654123, 71.81529762703556, 74.47752154307122, 55.79966661610696, 59.969526171515916, 47.05037011525647, 47.792271720965, 615.1803724184067, 410.48192818989133, 290.83108698203915, 218.36761329951133, 215.40744190256393, 211.5978912237177, 185.8878740767873, 177.21821575469053, 145.05354210185175, 137.4404219309352, 118.29262113244376, 116.28454976680565, 108.76898977396539, 104.8593324711878, 103.90711400053638, 101.04907115628899, 97.34772327640178, 96.29005149151861, 95.33822217870551, 94.38618982702025, 81.05678938868977, 77.24858384237164, 76.29631461200218, 76.29627231223715, 73.44008219769827, 69.09867965316347, 68.67958204115168, 192.9764348615073, 54.39796313216978, 50.589706826133614, 198.87200691299773, 238.73789422741456, 173.03058977596325, 486.87483008537396, 123.42623905640933, 1089.9447459345051, 104.8719716409802, 579.0033799330508, 112.52788225420593, 201.65125375493832, 232.50421169404794, 234.50857760026898, 136.87797041522046, 234.91670265323074, 242.133228687134, 329.97156716592116, 161.7576854742827, 169.30151017011923, 256.50684112511357, 155.43439511866637, 123.53867183187184, 125.60357716181069, 564.739161893975, 199.10127498165386, 85.55907302490338, 70.57702411632152, 49.97539935636813, 43.5920735822774, 31.33917927787084, 30.39840122736905, 26.149277031726708, 24.699239322249518, 24.256377278907294, 22.400816084729023, 19.674656372531736, 19.2519127836403, 18.99502786555388, 17.455822336858727, 16.10285417631025, 16.0183885683584, 15.15541579666183, 12.902483646085633, 12.780466458094068, 23.198296844078, 12.163222789270776, 11.289521294524713, 10.212432634996816, 52.775218300347106, 9.802035892290858, 9.717602814700369, 9.70349408216903, 9.692612151611202, 827.5806535855835, 17.206010148951645, 275.3178548874203, 14.824652329196166, 282.3239125171055, 31.269259988278936, 37.44531699092116, 92.83935950211185, 59.01398754349048, 24.507167476388137, 32.028357019957305, 156.66615314540715, 97.452777572849, 52.83295444492683, 366.41295740079335, 185.20406955100125, 295.81554199473226, 46.84882867303559, 103.22083458586087, 75.6572255890312, 42.20903372606878, 111.46872092119486, 114.21808632407256, 106.49202895959648, 104.30550177021892, 70.0965150005885, 149.45426857383816, 63.669846192769654, 73.59908209417311, 76.23383149095166, 89.60360013619464, 93.79707013038424, 102.3420615028423, 70.06375377860051, 66.80092495456664, 64.83042454940863, 164.23191141222534, 31.48511946098062, 27.75244610213957, 26.600210854656222, 26.4373237568737, 25.691539835922708, 23.701948545812048, 24.549625824293706, 22.044794205981024, 21.7148385866596, 20.638940258143272, 20.463216718722823, 19.811094572738053, 19.548837791914785, 19.231744020350312, 19.230520292283888, 19.1484521762999, 18.8175586477511, 18.726399375508947, 18.314460327266957, 17.991110298892313, 17.492061078627955, 17.326546564702817, 16.491736426919573, 16.244910687639766, 15.007969322146893, 14.918722918949747, 13.262988146019305, 26.893816669181085, 12.43919685377533, 49.56472138961735, 92.92676747408913, 80.30613387987736, 62.25263462136334, 28.89660432094921, 31.8793991393229, 94.77350439126933, 23.94537727526041, 648.6401696225948, 147.81507010701804, 102.88217215187025, 38.379330271426745, 122.24854531411633, 66.43787776429883, 58.88359269261278, 103.50016752847324, 244.73633158239488, 54.611016015525145, 34.85012181680603, 92.77773517988216, 36.3695622884562, 42.09927728181231, 61.48118205148967, 83.93799787559952, 47.557930156926034, 76.4726384548579, 51.059240575679524, 38.75787297620895, 43.93427233764929, 46.666442143360484, 49.25800178332186, 49.675174492083215, 42.77712947484074, 66.77297600554645, 46.55735250261568, 46.495954381636, 180.72080320363963, 142.6598284395877, 125.98086938477772, 77.9133228287033, 65.49788091029897, 46.936621505536685, 46.844457196149435, 45.05505252658605, 43.35957555103844, 42.50840135403351, 41.6629249129348, 39.96588112678284, 39.30359144064182, 120.22197895703795, 34.880022577445644, 33.18430566595678, 30.640553960260622, 27.52830150430451, 22.148968054674086, 21.31342727417898, 20.645890796069516, 19.617395266092554, 19.616019247923422, 19.61491785522922, 48.54167732076425, 17.921377711978497, 17.92043386758307, 17.91000677191907, 17.073803999489648, 17.07365512357429, 90.33780715221907, 69.96703182074495, 61.07835337777602, 59.34584243423517, 28.868112472664635, 79.97099611615283, 50.05189195092258, 27.91552342395894, 78.6105766739949, 1134.043038329923, 135.2285324669891, 97.91138224718836, 85.0147618071691, 131.23407891694967, 93.74351571830434, 141.88169594653132, 78.77177893698564, 86.19203785628645, 68.12561886781835, 176.03831744267734, 101.93022253940178, 102.71943255687859, 206.7112309562684, 106.22338766392224, 248.92365253659787, 66.50067438661675, 104.84864144435626, 88.99220592252958, 112.64299807640421, 97.1413439786563, 108.26345601303139, 113.4478993262803, 72.73973155790591, 119.24619807068773, 61.22735038186234, 56.74772551089815, 40.29702221107582, 29.997223226363378, 28.315632989290446, 26.140486224766406, 26.002482060263258, 25.863030571822254, 24.948386980614405, 24.735366634225464, 22.50088117696911, 22.28730795601335, 21.65342932155049, 20.8853721603917, 18.0105832849132, 17.665777024177856, 17.24471537994143, 16.544989066825927, 16.330971004264676, 15.984780968392256, 15.766149262894068, 15.565268326174944, 15.00446763517396, 14.583234409175413, 14.579790064172906, 140.98737398764112, 13.955394499507081, 31.72702158371126, 15.779075088973588, 105.91843853596644, 328.8766353598704, 41.32820953676197, 35.118055497240874, 56.83055501784037, 67.87798022425946, 110.41346128136067, 46.231800232158434, 82.36225802957362, 350.00757756241273, 110.6088738437723, 38.53312674466714, 78.74816782529122, 56.33988837210492, 132.13920754948364, 116.11019184958548, 239.0144368300581, 234.099775933565, 52.37023309511439, 52.416935108810755, 129.92707379418314, 269.17230824736407, 64.68172338513364, 165.3272128857853, 90.92853469721223, 88.44025598298374, 111.72355793880891, 99.75951753963764, 235.2800042617305, 197.11348419390777, 95.63725934988379, 141.38789665946408, 155.8327170143713, 117.77456036164587, 113.6935834728815, 167.5465912043752, 116.69260389901316, 97.5451214470292, 122.02408137985029, 102.9756778631691, 93.0093829849725, 93.17148326601303, 31.620237804377393, 25.530893214965122, 22.352454464232185, 22.068841974772788, 17.57910962737937, 42.2191376787123, 15.154292610311366, 13.223800821930727, 12.459101228571507, 12.113429638021575, 37.18448956097028, 11.073043178398875, 10.940396812846144, 20.635822577555356, 71.37214471167172, 9.879629907468457, 9.757516578440576, 115.28367947693954, 9.143261753172798, 189.08174480558012, 8.382218627301128, 7.962711763615325, 7.2750967205712875, 7.206888538424064, 60.749840908405226, 34.34158323526152, 6.372014579186239, 54.59741607086773, 5.6791618763829295, 5.6776047857182395, 29.161434984386066, 20.51825366995823, 33.03840934315882, 262.063379612636, 74.86476693762295, 494.6502604227583, 49.22503593933366, 148.7285713021958, 62.05046510418529, 332.51782646101753, 203.29592886358046, 51.87424399187188, 205.6351750276475, 219.81136480492378, 342.86777703082447, 68.30414713538325, 31.898121722397487, 78.68406488226769, 51.278081862449696, 193.45362410011458, 151.61466517069076, 65.96207981478807, 107.74338770019655, 148.61845486519343, 71.11029470485462, 156.39059902754082, 60.3759514100459, 129.09970498680715, 92.9633283532711, 147.0041748925385, 93.09487746145115, 97.37339474138587, 130.46042590546327, 153.5447015655491, 127.33726355620043, 125.46374162431013, 100.10295501475026, 76.96340295319435, 77.44206086880669, 73.47560612267162, 4011.2808336338658, 292.6302225143834, 256.16409219790376, 246.15882305655268, 111.8148287722252, 67.65755625727513, 46.40832065509285, 41.188620904291135, 23.5746462750466, 18.27825322273953, 16.183543106990893, 127.23278835651213, 513.6615359817779, 275.7505368510774, 478.5042500146751, 57.40206731925384, 9.657463586019036, 8.932565074932317, 47.9428699724656, 130.53565474898787, 378.7918052911205, 5.597341708894127, 5.597367332166588, 5.380448299594442, 707.519729628361, 4.866499547606601, 4.728005759956142, 365.38750087069803, 83.83772278636175, 163.28699514887208, 168.6807889028732, 665.4670729964909, 185.6616770022983, 757.2103838935977, 458.4672912910356, 657.3595203541898, 256.31547828764235, 262.3114303325926, 104.91065129381214, 145.76995430835672, 182.02356710106693, 111.7452625365043, 150.12837046084377, 145.99961475041252, 276.9190491802572, 180.4491062153012, 151.67291854853679, 149.71364545893505, 114.20344161913923, 144.91276400940464, 118.4197011099421, 112.30014654726004, 101.89066347273261, 59.310875549907195, 58.111944230786804, 38.114387874617734, 36.03357650584936, 33.63643451501534, 33.63637955038262, 30.480618752361995, 30.040614653089566, 25.687666136242008, 22.849362735257763, 19.63158198319136, 19.126788323102293, 17.298479896655508, 16.664691877553473, 14.958345390722428, 14.902383760638482, 14.332866191932968, 31.741974626296784, 12.565839513978652, 23.282920704548623, 11.241504095118543, 10.105291238918062, 177.69444046742774, 9.665595552306998, 9.664757341658046, 9.662825182138462, 39.00090632854899, 15.856978965782005, 48.986984622884904, 145.2231920406345, 166.1315184681264, 137.26632859289805, 131.96161860308266, 137.53006111504305, 117.49362033481651, 36.67944147619588, 93.62404989090317, 89.67211722718656, 134.3921424475209, 66.18418454978027, 63.26527551491471, 95.03441183054643, 74.28156813465164, 83.4293808154015, 158.46325598524925, 62.17981562645045, 72.68282407713869, 89.43798621335105, 52.4589416849801, 48.103477009390325, 42.66711145626119, 39.37511470886697], \"Total\": [4012.0, 1082.0, 905.0, 1616.0, 884.0, 1407.0, 565.0, 1435.0, 834.0, 616.0, 738.0, 1031.0, 547.0, 473.0, 403.0, 525.0, 780.0, 972.0, 519.0, 411.0, 517.0, 284.0, 323.0, 366.0, 541.0, 553.0, 401.0, 209.0, 423.0, 804.0, 105.57559837351513, 45.83647237148684, 44.83326484746722, 41.15330769944378, 34.293494302844444, 31.195474742027358, 22.412831646661143, 21.490404387636303, 19.480944503501348, 19.067266235231923, 18.472844583908994, 18.382608321969954, 17.56114289912059, 18.052812332016206, 16.553504294199904, 91.1353169027815, 14.19265182570625, 79.7611436514588, 13.042811583089843, 12.289750079988409, 11.70123953742353, 11.619422748473992, 11.536482452963316, 11.273746199582147, 10.865757536900224, 10.782387409726875, 9.36028029456684, 8.771549939698032, 8.688973814203838, 8.518265749308682, 80.5769443763955, 209.1728448339757, 50.380575925153906, 87.66621903265414, 403.1544734106473, 48.523567255311626, 284.52688327349233, 65.40737685152155, 1082.7863315464197, 884.5303645916869, 126.5644680357761, 57.35522951734442, 251.78844233739176, 37.90747449915869, 34.16895957669879, 297.9749936832518, 68.85239115114757, 54.256779140651936, 1616.0730529708487, 118.01783971955642, 69.06361727361275, 34.896904915505004, 28.824501829884934, 28.70394805002072, 26.948003583547884, 24.69777107493562, 24.859525723204218, 18.097365397195777, 17.57069565634851, 16.585384540612363, 15.173652012422815, 13.369239241886394, 12.962841427980715, 12.76650407263422, 12.004100571741063, 11.933646458092259, 204.13330149403492, 11.486642617299907, 10.741631128788125, 10.718776811688768, 9.53358464591353, 9.46602893671596, 9.38215412786673, 25.088541629459925, 8.113498296901199, 8.041525154161873, 7.894696319223631, 7.889496248418787, 20.267915379287814, 7.293832585686107, 59.97726944454995, 24.689038235228793, 28.7521719337622, 473.6514116024042, 52.23424027232893, 50.95613136333543, 65.72748699961957, 525.4034170299509, 401.34878211138556, 30.24432711213321, 75.74637435055415, 194.952024016759, 80.51974542711233, 90.5817126038886, 54.10816676043679, 110.0761136865385, 296.538039033858, 322.70209530545895, 123.75942947230028, 184.43952712487615, 46.2680239655894, 253.1853433337344, 106.63682985926839, 448.0050092849666, 170.0180240497466, 124.89882822409788, 453.4318108070925, 537.9559124452928, 1435.4219170602032, 738.7241977930744, 933.4044220042829, 342.5862802569666, 541.7594049618432, 285.7740786601797, 613.170521021445, 616.0434209396926, 411.34493499228194, 291.69415374942514, 219.2306572827594, 216.270455048545, 212.460921144754, 186.7509619146073, 178.08123180341633, 145.9166305213902, 138.30344889016447, 119.15565854088891, 117.14755617746046, 109.63207777453694, 105.72233963073094, 104.7701230156714, 101.91211399325216, 98.21073629881907, 97.15306633972625, 96.20123140074757, 95.24919855496073, 81.91979948071324, 78.11159088553266, 77.15932464948, 77.15928316206782, 74.30309244388721, 69.96174143161252, 69.54259171726291, 195.66716079570423, 55.260976865523354, 51.45271762918657, 204.37533337592396, 247.7209954953087, 178.39982026448874, 517.678142736428, 127.62055684473562, 1407.7737448939424, 109.61351545693888, 780.485954158835, 120.92822405759101, 257.16770532053437, 316.7184283704115, 326.2195897886674, 162.59977926076837, 391.9090036433792, 435.09958157846745, 791.3774792136638, 236.34893790005503, 296.538039033858, 933.4044220042829, 299.6973404740237, 251.78844233739176, 425.4935773085416, 565.627851522327, 199.98996235959672, 86.44774210614845, 71.4656986981762, 50.86408779335766, 44.48076700468393, 32.227852811031944, 31.287171539115914, 27.037936782339944, 25.58791688511632, 25.14536423017066, 23.28951453572343, 20.563399712544086, 20.140635132170775, 19.883759533314677, 18.344619485456935, 16.99152030498194, 16.907052157126028, 16.044342729642537, 13.7923186284095, 13.66917159618825, 24.879361409815022, 13.052311473435518, 12.179311741818909, 11.101601588632287, 57.391888152618876, 10.690737051285963, 10.606322130551426, 10.592536284726703, 10.581933350041874, 905.506582234737, 18.862101891711486, 323.6541731978221, 16.470353056531657, 366.49415992427345, 36.183530584299724, 45.743558421150624, 127.24972406018719, 78.3752939718944, 29.254931998964523, 40.21299980596514, 270.9876671909225, 158.07958584462162, 76.3555122514725, 972.8872765993459, 415.01627910182265, 804.002483099608, 70.48270931261222, 222.1851881573346, 151.891168042234, 62.245593777152564, 304.5077689922185, 342.5862802569666, 319.1208833923363, 319.9341909294048, 175.89228098487953, 780.485954158835, 149.65665375662596, 205.43429223231996, 223.63966103696512, 395.2480359289655, 448.0050092849666, 613.170521021445, 453.4318108070925, 425.4935773085416, 723.3792538673202, 165.1235336600662, 32.376763730305, 28.644168736162907, 27.4917558359145, 27.32885588280106, 26.58308388724928, 24.5935155840444, 25.488571975996425, 22.936379444340908, 22.606372852950333, 21.53047158186961, 21.3548794134426, 20.702631596287713, 20.44064128582384, 20.12325928792443, 20.12206129397613, 20.039980669128315, 19.709104808162675, 19.618056638621965, 19.206085446437886, 18.88263799006817, 18.38359942952462, 18.21809418284057, 17.383380861420825, 17.13651726077826, 15.89950257560036, 15.810362028159162, 14.154689355213335, 28.77049764952185, 13.330731594014614, 53.44402759522959, 101.91285957264877, 91.00296256400256, 70.49622803941871, 31.616246595430674, 35.49537867800136, 118.01783971955642, 26.342801480641953, 1435.4219170602032, 258.46536485173584, 171.99436151027123, 51.07435205059285, 284.1349022298907, 124.90836518326, 114.8480324211604, 300.48907453648064, 1407.7737448939424, 115.01751010957638, 53.20620278907683, 322.70209530545895, 62.05285283519284, 84.17935169717609, 223.63966103696512, 525.4034170299509, 156.42889795075698, 723.3792538673202, 205.43429223231996, 94.06897580915377, 146.9464612033813, 195.74597893685834, 285.7740786601797, 297.9749936832518, 154.41517210198856, 1616.0730529708487, 374.3450799093625, 933.4044220042829, 181.5982189013905, 143.53721390809247, 126.85829853515834, 78.7908442773733, 66.37528526410776, 47.814034090174864, 47.721833938696705, 45.932421934707, 44.23693918064559, 43.38582229614985, 42.54030346935907, 40.843283895470854, 40.18103987648154, 123.06092262861148, 35.75739062696705, 34.061671118465135, 31.51791948294769, 28.405704941037165, 23.026497415971924, 22.190791093916513, 21.523311426170782, 20.494762276259056, 20.49341528145465, 20.492328415893724, 50.802431091098505, 18.798747074411907, 18.7978191573486, 18.787499796244106, 17.951167486859553, 17.951022070345356, 95.59375322551026, 73.95323649796558, 64.57564230085026, 62.73025103920044, 30.562657698944935, 87.93461753230508, 54.69837412399258, 29.774522009854593, 90.55675892056422, 1616.0730529708487, 165.6083732716291, 119.26237352821495, 102.35500559919234, 167.0893805636646, 116.76226469007155, 207.90917254816284, 99.90023985418662, 113.71104569659062, 88.70724379240339, 435.09958157846745, 183.5263774461843, 195.74597893685834, 791.3774792136638, 249.301985569083, 1435.4219170602032, 97.87683889323544, 258.46536485173584, 184.43952712487615, 374.3450799093625, 283.35308001401904, 448.0050092849666, 804.002483099608, 185.85423244498133, 120.15376493222435, 62.135142836097316, 57.655454496568055, 41.20440989991002, 30.9045780702407, 29.223032782555936, 27.047987820747018, 26.90986226759207, 26.77043862467234, 25.855901106174123, 25.643014393928347, 23.40827171608987, 23.194847217163982, 22.561037911845627, 21.79288917259486, 18.918172357871057, 18.573214385995335, 18.152144261107765, 17.452461531981932, 17.238527617347795, 16.89224122135029, 16.673823039900498, 16.47266562235227, 15.91187140842389, 15.490632298114846, 15.487293181954493, 149.87388658877887, 14.862739855324389, 33.85583757395606, 16.849564122438824, 121.26344970127172, 410.5297849973564, 46.372792339956554, 39.58778726662633, 67.46651144113899, 83.02859372347689, 142.15646637144766, 55.053662417975666, 106.4635037832534, 553.326947686328, 161.75710010044102, 47.376009987778055, 115.43706897252754, 77.65810067345551, 232.45488000547317, 201.59517970690476, 533.193091393879, 537.9559124452928, 71.47347376552628, 72.36494515875619, 297.80452073993246, 933.4044220042829, 110.87757441716889, 525.4034170299509, 195.33500108046417, 193.25643527347603, 291.8943839712726, 249.0752401943161, 1435.4219170602032, 1031.0472352480674, 250.1787190761075, 613.170521021445, 791.3774792136638, 444.98979201530494, 425.4935773085416, 1616.0730529708487, 541.7594049618432, 300.48907453648064, 972.8872765993459, 684.324188965178, 342.5862802569666, 804.002483099608, 32.52869913707615, 26.439466011849667, 23.260986248480474, 22.97750528277055, 18.487629181344154, 44.609779297529585, 16.062855157995124, 14.132253149580666, 13.367643181084155, 13.022032856404243, 40.23182727413206, 11.981692718567325, 11.848910467257785, 22.357860340537112, 77.59288020702662, 10.788559020764776, 10.666219585431017, 126.34391451763628, 10.051732260668473, 209.4016303617432, 9.290708753071375, 8.87126694960142, 8.183580500565924, 8.115349054826902, 68.93148599253045, 39.191645914554975, 7.280626005114864, 62.55979988210365, 6.587808192174259, 6.586292758083174, 34.29970873284526, 24.146209834220574, 39.30395187708266, 354.51020229807784, 97.25978042935436, 738.7241977930744, 62.42144516094224, 212.0393068294099, 82.27890265226398, 541.7594049618432, 322.9328008255522, 69.9911738436601, 358.4663521872011, 395.2480359289655, 723.3792538673202, 107.0900770637318, 42.35741081028247, 146.9464612033813, 81.99151549280658, 533.193091393879, 401.34878211138556, 118.59997820714992, 250.1787190761075, 444.98979201530494, 149.65665375662596, 613.170521021445, 113.70064326843985, 537.9559124452928, 285.7740786601797, 804.002483099608, 291.8943839712726, 394.28681280341505, 972.8872765993459, 1616.0730529708487, 933.4044220042829, 1031.0472352480674, 473.6514116024042, 232.45488000547317, 244.5727930584773, 194.952024016759, 4012.1851438307203, 293.53459655320273, 257.06840191286904, 247.06311854240255, 112.71927360149995, 68.56192803252377, 47.31282711215686, 42.09309268933916, 24.479049421919097, 19.18290925024863, 17.08783484548218, 134.45468123911627, 547.8656826276383, 296.7051207016459, 519.0194985032335, 62.39319816012203, 10.561757645479602, 9.836860250991164, 52.82680834367351, 144.28384661806282, 423.8505904161307, 6.501632393157799, 6.501664133675759, 6.28474467057905, 834.463172218269, 5.770900285975788, 5.632299283445174, 446.6591018606669, 104.0268146913264, 205.47783095306306, 214.96091688446342, 884.5303645916869, 237.42659218997372, 1082.7863315464197, 684.324188965178, 1031.0472352480674, 394.28681280341505, 453.4318108070925, 154.41517210198856, 229.82674459537378, 361.49680299195285, 179.86839876215058, 284.52688327349233, 304.5077689922185, 972.8872765993459, 553.326947686328, 415.01627910182265, 403.1544734106473, 804.002483099608, 145.8287565124587, 119.33578322981197, 113.2162033366423, 102.8066590526045, 60.22686139458303, 59.027943316537566, 39.030429317162714, 36.94955877509376, 34.552418200330095, 34.552365479091364, 31.39670692850987, 30.956604184546755, 26.603684854059324, 23.765349560854297, 20.547610100257895, 20.042811729266912, 18.21447304543834, 17.580780554414392, 15.874549368795062, 15.818444835403408, 15.248873560082927, 33.90139349844702, 13.481867743683866, 25.16071026797873, 12.15753996212073, 11.021345523284449, 194.37642325515083, 10.58157165622954, 10.580763990677516, 10.578872755268495, 44.64762059044774, 17.674584865823185, 58.541760619859254, 188.88165252064698, 221.7359321881628, 192.86300009211845, 186.1673440935233, 213.97255215410243, 188.67139008951872, 46.97287932817554, 155.83816463063596, 156.42889795075698, 299.6973404740237, 129.1438153951346, 129.7443363853751, 269.99117006239845, 212.30453173584255, 316.7184283704115, 1435.4219170602032, 167.8194682247495, 244.5727930584773, 933.4044220042829, 444.98979201530494, 613.170521021445, 263.6458251406778, 113.70064326843985], \"Category\": [\"Default\", \"Default\", \"Default\", \"Default\", \"Default\", \"Default\", \"Default\", \"Default\", \"Default\", \"Default\", \"Default\", \"Default\", \"Default\", \"Default\", \"Default\", \"Default\", \"Default\", \"Default\", \"Default\", \"Default\", \"Default\", \"Default\", \"Default\", \"Default\", \"Default\", \"Default\", \"Default\", \"Default\", \"Default\", \"Default\", \"Topic1\", \"Topic1\", \"Topic1\", \"Topic1\", \"Topic1\", \"Topic1\", \"Topic1\", \"Topic1\", \"Topic1\", \"Topic1\", \"Topic1\", \"Topic1\", \"Topic1\", \"Topic1\", \"Topic1\", \"Topic1\", \"Topic1\", \"Topic1\", \"Topic1\", \"Topic1\", \"Topic1\", \"Topic1\", \"Topic1\", \"Topic1\", \"Topic1\", \"Topic1\", \"Topic1\", \"Topic1\", \"Topic1\", \"Topic1\", \"Topic1\", \"Topic1\", \"Topic1\", \"Topic1\", \"Topic1\", \"Topic1\", \"Topic1\", \"Topic1\", \"Topic1\", \"Topic1\", \"Topic1\", \"Topic1\", \"Topic1\", \"Topic1\", \"Topic1\", \"Topic1\", \"Topic1\", \"Topic1\", \"Topic1\", \"Topic1\", \"Topic2\", \"Topic2\", \"Topic2\", \"Topic2\", \"Topic2\", \"Topic2\", \"Topic2\", \"Topic2\", \"Topic2\", \"Topic2\", \"Topic2\", \"Topic2\", \"Topic2\", \"Topic2\", \"Topic2\", \"Topic2\", \"Topic2\", \"Topic2\", \"Topic2\", \"Topic2\", \"Topic2\", \"Topic2\", \"Topic2\", \"Topic2\", \"Topic2\", \"Topic2\", \"Topic2\", \"Topic2\", \"Topic2\", \"Topic2\", \"Topic2\", \"Topic2\", \"Topic2\", \"Topic2\", \"Topic2\", \"Topic2\", \"Topic2\", \"Topic2\", \"Topic2\", \"Topic2\", \"Topic2\", \"Topic2\", \"Topic2\", \"Topic2\", \"Topic2\", \"Topic2\", \"Topic2\", \"Topic2\", \"Topic2\", \"Topic2\", \"Topic2\", \"Topic2\", \"Topic2\", \"Topic2\", \"Topic2\", \"Topic2\", \"Topic2\", \"Topic2\", \"Topic2\", \"Topic2\", \"Topic2\", \"Topic2\", \"Topic2\", \"Topic2\", \"Topic2\", \"Topic3\", \"Topic3\", \"Topic3\", \"Topic3\", \"Topic3\", \"Topic3\", \"Topic3\", \"Topic3\", \"Topic3\", \"Topic3\", \"Topic3\", \"Topic3\", \"Topic3\", \"Topic3\", \"Topic3\", \"Topic3\", \"Topic3\", \"Topic3\", \"Topic3\", \"Topic3\", \"Topic3\", \"Topic3\", \"Topic3\", \"Topic3\", \"Topic3\", \"Topic3\", \"Topic3\", \"Topic3\", \"Topic3\", \"Topic3\", \"Topic3\", \"Topic3\", \"Topic3\", \"Topic3\", \"Topic3\", \"Topic3\", \"Topic3\", \"Topic3\", \"Topic3\", \"Topic3\", \"Topic3\", \"Topic3\", \"Topic3\", \"Topic3\", \"Topic3\", \"Topic3\", \"Topic3\", \"Topic3\", \"Topic3\", \"Topic3\", \"Topic3\", \"Topic3\", \"Topic4\", \"Topic4\", \"Topic4\", \"Topic4\", \"Topic4\", \"Topic4\", \"Topic4\", \"Topic4\", \"Topic4\", \"Topic4\", \"Topic4\", \"Topic4\", \"Topic4\", \"Topic4\", \"Topic4\", \"Topic4\", \"Topic4\", \"Topic4\", \"Topic4\", \"Topic4\", \"Topic4\", \"Topic4\", \"Topic4\", \"Topic4\", \"Topic4\", \"Topic4\", \"Topic4\", \"Topic4\", \"Topic4\", \"Topic4\", \"Topic4\", \"Topic4\", \"Topic4\", \"Topic4\", \"Topic4\", \"Topic4\", \"Topic4\", \"Topic4\", \"Topic4\", \"Topic4\", \"Topic4\", \"Topic4\", \"Topic4\", \"Topic4\", \"Topic4\", \"Topic4\", \"Topic4\", \"Topic4\", \"Topic4\", \"Topic4\", \"Topic4\", \"Topic4\", \"Topic4\", \"Topic4\", \"Topic4\", \"Topic4\", \"Topic4\", \"Topic4\", \"Topic4\", \"Topic4\", \"Topic4\", \"Topic4\", \"Topic4\", \"Topic4\", \"Topic4\", \"Topic4\", \"Topic5\", \"Topic5\", \"Topic5\", \"Topic5\", \"Topic5\", \"Topic5\", \"Topic5\", \"Topic5\", \"Topic5\", \"Topic5\", \"Topic5\", \"Topic5\", \"Topic5\", \"Topic5\", \"Topic5\", \"Topic5\", \"Topic5\", \"Topic5\", \"Topic5\", \"Topic5\", \"Topic5\", \"Topic5\", \"Topic5\", \"Topic5\", \"Topic5\", \"Topic5\", \"Topic5\", \"Topic5\", \"Topic5\", \"Topic5\", \"Topic5\", \"Topic5\", \"Topic5\", \"Topic5\", \"Topic5\", \"Topic5\", \"Topic5\", \"Topic5\", \"Topic5\", \"Topic5\", \"Topic5\", \"Topic5\", \"Topic5\", \"Topic5\", \"Topic5\", \"Topic5\", \"Topic5\", \"Topic5\", \"Topic5\", \"Topic5\", \"Topic5\", \"Topic5\", \"Topic5\", \"Topic5\", \"Topic5\", \"Topic5\", \"Topic5\", \"Topic5\", \"Topic5\", \"Topic5\", \"Topic5\", \"Topic5\", \"Topic5\", \"Topic5\", \"Topic5\", \"Topic5\", \"Topic6\", \"Topic6\", \"Topic6\", \"Topic6\", \"Topic6\", \"Topic6\", \"Topic6\", \"Topic6\", \"Topic6\", \"Topic6\", \"Topic6\", \"Topic6\", \"Topic6\", \"Topic6\", \"Topic6\", \"Topic6\", \"Topic6\", \"Topic6\", \"Topic6\", \"Topic6\", \"Topic6\", \"Topic6\", \"Topic6\", \"Topic6\", \"Topic6\", \"Topic6\", \"Topic6\", \"Topic6\", \"Topic6\", \"Topic6\", \"Topic6\", \"Topic6\", \"Topic6\", \"Topic6\", \"Topic6\", \"Topic6\", \"Topic6\", \"Topic6\", \"Topic6\", \"Topic6\", \"Topic6\", \"Topic6\", \"Topic6\", \"Topic6\", \"Topic6\", \"Topic6\", \"Topic6\", \"Topic6\", \"Topic6\", \"Topic6\", \"Topic6\", \"Topic6\", \"Topic6\", \"Topic6\", \"Topic6\", \"Topic6\", \"Topic6\", \"Topic6\", \"Topic6\", \"Topic6\", \"Topic6\", \"Topic6\", \"Topic6\", \"Topic7\", \"Topic7\", \"Topic7\", \"Topic7\", \"Topic7\", \"Topic7\", \"Topic7\", \"Topic7\", \"Topic7\", \"Topic7\", \"Topic7\", \"Topic7\", \"Topic7\", \"Topic7\", \"Topic7\", \"Topic7\", \"Topic7\", \"Topic7\", \"Topic7\", \"Topic7\", \"Topic7\", \"Topic7\", \"Topic7\", \"Topic7\", \"Topic7\", \"Topic7\", \"Topic7\", \"Topic7\", \"Topic7\", \"Topic7\", \"Topic7\", \"Topic7\", \"Topic7\", \"Topic7\", \"Topic7\", \"Topic7\", \"Topic7\", \"Topic7\", \"Topic7\", \"Topic7\", \"Topic7\", \"Topic7\", \"Topic7\", \"Topic7\", \"Topic7\", \"Topic7\", \"Topic7\", \"Topic7\", \"Topic7\", \"Topic7\", \"Topic7\", \"Topic7\", \"Topic7\", \"Topic7\", \"Topic7\", \"Topic7\", \"Topic7\", \"Topic7\", \"Topic7\", \"Topic7\", \"Topic7\", \"Topic7\", \"Topic7\", \"Topic7\", \"Topic7\", \"Topic7\", \"Topic7\", \"Topic7\", \"Topic7\", \"Topic7\", \"Topic7\", \"Topic7\", \"Topic8\", \"Topic8\", \"Topic8\", \"Topic8\", \"Topic8\", \"Topic8\", \"Topic8\", \"Topic8\", \"Topic8\", \"Topic8\", \"Topic8\", \"Topic8\", \"Topic8\", \"Topic8\", \"Topic8\", \"Topic8\", \"Topic8\", \"Topic8\", \"Topic8\", \"Topic8\", \"Topic8\", \"Topic8\", \"Topic8\", \"Topic8\", \"Topic8\", \"Topic8\", \"Topic8\", \"Topic8\", \"Topic8\", \"Topic8\", \"Topic8\", \"Topic8\", \"Topic8\", \"Topic8\", \"Topic8\", \"Topic8\", \"Topic8\", \"Topic8\", \"Topic8\", \"Topic8\", \"Topic8\", \"Topic8\", \"Topic8\", \"Topic8\", \"Topic8\", \"Topic8\", \"Topic8\", \"Topic8\", \"Topic8\", \"Topic8\", \"Topic8\", \"Topic8\", \"Topic8\", \"Topic8\", \"Topic8\", \"Topic8\", \"Topic8\", \"Topic8\", \"Topic8\", \"Topic8\", \"Topic8\", \"Topic8\", \"Topic8\", \"Topic8\", \"Topic8\", \"Topic8\", \"Topic8\", \"Topic8\", \"Topic8\", \"Topic8\", \"Topic9\", \"Topic9\", \"Topic9\", \"Topic9\", \"Topic9\", \"Topic9\", \"Topic9\", \"Topic9\", \"Topic9\", \"Topic9\", \"Topic9\", \"Topic9\", \"Topic9\", \"Topic9\", \"Topic9\", \"Topic9\", \"Topic9\", \"Topic9\", \"Topic9\", \"Topic9\", \"Topic9\", \"Topic9\", \"Topic9\", \"Topic9\", \"Topic9\", \"Topic9\", \"Topic9\", \"Topic9\", \"Topic9\", \"Topic9\", \"Topic9\", \"Topic9\", \"Topic9\", \"Topic9\", \"Topic9\", \"Topic9\", \"Topic9\", \"Topic9\", \"Topic9\", \"Topic9\", \"Topic9\", \"Topic9\", \"Topic9\", \"Topic9\", \"Topic9\", \"Topic9\", \"Topic9\", \"Topic9\", \"Topic9\", \"Topic10\", \"Topic10\", \"Topic10\", \"Topic10\", \"Topic10\", \"Topic10\", \"Topic10\", \"Topic10\", \"Topic10\", \"Topic10\", \"Topic10\", \"Topic10\", \"Topic10\", \"Topic10\", \"Topic10\", \"Topic10\", \"Topic10\", \"Topic10\", \"Topic10\", \"Topic10\", \"Topic10\", \"Topic10\", \"Topic10\", \"Topic10\", \"Topic10\", \"Topic10\", \"Topic10\", \"Topic10\", \"Topic10\", \"Topic10\", \"Topic10\", \"Topic10\", \"Topic10\", \"Topic10\", \"Topic10\", \"Topic10\", \"Topic10\", \"Topic10\", \"Topic10\", \"Topic10\", \"Topic10\", \"Topic10\", \"Topic10\", \"Topic10\", \"Topic10\", \"Topic10\", \"Topic10\", \"Topic10\", \"Topic10\", \"Topic10\", \"Topic10\", \"Topic10\", \"Topic10\", \"Topic10\", \"Topic10\", \"Topic10\"], \"logprob\": [30.0, 29.0, 28.0, 27.0, 26.0, 25.0, 24.0, 23.0, 22.0, 21.0, 20.0, 19.0, 18.0, 17.0, 16.0, 15.0, 14.0, 13.0, 12.0, 11.0, 10.0, 9.0, 8.0, 7.0, 6.0, 5.0, 4.0, 3.0, 2.0, 1.0, -3.623, -4.4685, -4.4911, -4.5785, -4.7653, -4.8626, -5.2049, -5.2487, -5.3513, -5.3738, -5.4071, -5.4122, -5.4603, -5.4332, -5.5227, -3.8191, -5.6861, -3.9623, -5.7764, -5.8404, -5.8934, -5.901, -5.9088, -5.9338, -5.9738, -5.9822, -6.1374, -6.2095, -6.22, -6.2422, -4.0397, -3.1586, -4.6381, -4.1681, -3.0502, -4.7763, -3.3791, -4.5773, -2.5955, -2.9803, -4.3159, -4.8307, -3.9809, -5.1272, -5.2902, -4.9237, -5.2637, -5.3229, -5.2325, -5.3178, -4.6328, -5.32, -5.5168, -5.5211, -5.5863, -5.6767, -5.6724, -6.0015, -6.0326, -6.0936, -6.1879, -6.3231, -6.3565, -6.3726, -6.4391, -6.4454, -3.6075, -6.4868, -6.5597, -6.5621, -6.6907, -6.6986, -6.7084, -5.7377, -6.8704, -6.8805, -6.9012, -6.902, -5.9604, -6.9911, -4.8926, -5.7835, -5.6806, -3.1089, -5.1751, -5.2172, -5.0192, -3.2408, -3.4814, -5.7106, -4.9661, -4.3239, -5.0182, -4.9718, -5.3398, -4.8848, -4.2285, -4.2687, -4.8943, -4.6966, -5.5045, -4.6229, -5.0977, -4.4257, -4.9129, -5.0459, -4.503, -4.444, -4.3044, -4.5721, -4.5357, -4.8245, -4.7524, -4.995, -4.9794, -3.3855, -3.7901, -4.1347, -4.4212, -4.4349, -4.4527, -4.5823, -4.63, -4.8303, -4.8842, -5.0342, -5.0514, -5.1182, -5.1548, -5.1639, -5.1918, -5.2291, -5.24, -5.25, -5.26, -5.4122, -5.4604, -5.4728, -5.4728, -5.5109, -5.5719, -5.5779, -4.5448, -5.8111, -5.8836, -4.5147, -4.332, -4.6539, -3.6194, -4.9918, -2.8135, -5.1547, -3.4461, -5.0842, -4.5009, -4.3585, -4.3499, -4.8883, -4.3482, -4.3179, -4.0084, -4.7213, -4.6757, -4.2602, -4.7612, -4.9908, -4.9743, -2.7702, -3.8127, -4.6573, -4.8498, -5.195, -5.3317, -5.6617, -5.6921, -5.8427, -5.8998, -5.9179, -5.9974, -6.1272, -6.1489, -6.1624, -6.2469, -6.3275, -6.3328, -6.3882, -6.5491, -6.5586, -5.9625, -6.6081, -6.6827, -6.7829, -5.1405, -6.8239, -6.8326, -6.834, -6.8352, -2.388, -6.2613, -3.4886, -6.4102, -3.4635, -5.6639, -5.4837, -4.5757, -5.0288, -5.9076, -5.6399, -4.0524, -4.5272, -5.1394, -3.2028, -3.8851, -3.4168, -5.2596, -4.4697, -4.7803, -5.3639, -4.3928, -4.3684, -4.4385, -4.4592, -4.8567, -4.0995, -4.9528, -4.8079, -4.7727, -4.6111, -4.5654, -4.4782, -4.8571, -4.9048, -4.9348, -4.014, -5.6658, -5.792, -5.8344, -5.8405, -5.8691, -5.9497, -5.9146, -6.0222, -6.0373, -6.0881, -6.0967, -6.129, -6.1424, -6.1587, -6.1588, -6.1631, -6.1805, -6.1853, -6.2076, -6.2254, -6.2535, -6.263, -6.3124, -6.3275, -6.4067, -6.4127, -6.5303, -5.8234, -6.5944, -5.212, -4.5835, -4.7294, -4.9841, -5.7516, -5.6533, -4.5638, -5.9395, -2.6404, -4.1193, -4.4817, -5.4678, -4.3092, -4.919, -5.0397, -4.4757, -3.6151, -5.115, -5.5642, -4.5851, -5.5216, -5.3753, -4.9966, -4.6852, -5.2533, -4.7783, -5.1823, -5.4579, -5.3326, -5.2723, -5.2182, -5.2098, -5.3593, -4.914, -5.2746, -5.2759, -4.2298, -4.4663, -4.5906, -5.0711, -5.2447, -5.5779, -5.5799, -5.6188, -5.6572, -5.677, -5.6971, -5.7387, -5.7554, -4.6374, -5.8748, -5.9247, -6.0044, -6.1115, -6.3289, -6.3674, -6.3992, -6.4503, -6.4504, -6.4504, -5.5443, -6.5407, -6.5408, -6.5414, -6.5892, -6.5892, -4.9232, -5.1787, -5.3146, -5.3433, -6.064, -5.0451, -5.5137, -6.0975, -5.0622, -2.3932, -4.5198, -4.8427, -4.9839, -4.5497, -4.8862, -4.4717, -5.0602, -4.9702, -5.2054, -4.256, -4.8024, -4.7947, -4.0954, -4.7612, -3.9096, -5.2295, -4.7742, -4.9382, -4.7025, -4.8506, -4.7422, -4.6954, -5.1398, -4.7401, -5.4067, -5.4827, -5.825, -6.1202, -6.1779, -6.2578, -6.2631, -6.2685, -6.3045, -6.313, -6.4077, -6.4173, -6.4461, -6.4822, -6.6303, -6.6496, -6.6738, -6.7152, -6.7282, -6.7496, -6.7634, -6.7762, -6.8129, -6.8414, -6.8416, -4.5726, -6.8854, -6.0641, -6.7626, -4.8586, -3.7256, -5.7997, -5.9626, -5.4812, -5.3036, -4.817, -5.6876, -5.1101, -3.6633, -4.8153, -5.8698, -5.155, -5.4899, -4.6374, -4.7667, -4.0448, -4.0655, -5.5629, -5.562, -4.6543, -3.9259, -5.3518, -4.4133, -5.0112, -5.0389, -4.8052, -4.9185, -4.0605, -4.2375, -4.9607, -4.5698, -4.4725, -4.7525, -4.7878, -4.4, -4.7617, -4.941, -4.7171, -4.8868, -4.9886, -4.9868, -5.8424, -6.0563, -6.1892, -6.202, -6.4295, -5.5533, -6.5779, -6.7142, -6.7737, -6.8019, -5.6803, -6.8917, -6.9037, -6.2692, -5.0283, -7.0057, -7.0181, -4.5488, -7.0832, -4.054, -7.1701, -7.2214, -7.3117, -7.3211, -5.1894, -5.7598, -7.4443, -5.2962, -7.5594, -7.5597, -5.9233, -6.2749, -5.7985, -3.7276, -4.9805, -3.0923, -5.3998, -4.2941, -5.1682, -3.4895, -3.9815, -5.3474, -3.9701, -3.9034, -3.4588, -5.0722, -5.8336, -4.9307, -5.3589, -4.0311, -4.2748, -5.1071, -4.6164, -4.2948, -5.032, -4.2438, -5.1956, -4.4356, -4.764, -4.3057, -4.7626, -4.7176, -4.4251, -4.2622, -4.4493, -4.4642, -4.69, -4.9529, -4.9467, -4.9992, -1.4023, -4.0202, -4.1533, -4.1932, -4.9823, -5.4847, -5.8617, -5.981, -6.539, -6.7934, -6.9152, -4.8531, -3.4576, -4.0797, -3.5285, -5.6491, -7.4314, -7.5095, -5.8291, -4.8275, -3.7622, -7.9769, -7.9769, -8.0164, -3.1374, -8.1168, -8.1457, -3.7982, -5.2703, -4.6036, -4.5711, -3.1987, -4.4752, -3.0695, -3.5713, -3.2109, -4.1527, -4.1296, -5.046, -4.7171, -4.495, -4.9829, -4.6877, -4.7156, -4.0754, -4.5037, -4.6774, -4.6904, -4.9612, -3.8122, -4.0141, -4.0672, -4.1645, -4.7056, -4.726, -5.1478, -5.2039, -5.2728, -5.2728, -5.3713, -5.3858, -5.5424, -5.6594, -5.8112, -5.8373, -5.9378, -5.9751, -6.0831, -6.0868, -6.1258, -5.3307, -6.2574, -5.6407, -6.3688, -6.4753, -3.6083, -6.5198, -6.5199, -6.5201, -5.1248, -6.0248, -4.8968, -3.8101, -3.6756, -3.8664, -3.9059, -3.8645, -4.022, -5.1862, -4.2491, -4.2922, -3.8876, -4.5959, -4.641, -4.2341, -4.4805, -4.3644, -3.7228, -4.6583, -4.5023, -4.2948, -4.8283, -4.915, -5.0349, -5.1152], \"loglift\": [30.0, 29.0, 28.0, 27.0, 26.0, 25.0, 24.0, 23.0, 22.0, 21.0, 20.0, 19.0, 18.0, 17.0, 16.0, 15.0, 14.0, 13.0, 12.0, 11.0, 10.0, 9.0, 8.0, 7.0, 6.0, 5.0, 4.0, 3.0, 2.0, 1.0, 3.2978, 3.2867, 3.2862, 3.2844, 3.28, 3.2773, 3.2657, 3.264, 3.2595, 3.2585, 3.2569, 3.2566, 3.2543, 3.2538, 3.251, 3.2488, 3.2415, 3.2389, 3.2356, 3.2311, 3.2271, 3.2266, 3.226, 3.224, 3.2208, 3.2201, 3.2063, 3.1992, 3.1982, 3.1959, 3.1514, 3.0785, 3.0226, 2.9386, 2.5307, 2.9219, 2.5503, 2.8223, 1.9975, 1.8149, 2.4236, 2.7003, 2.0707, 2.8179, 2.7587, 0.9595, 2.0845, 2.2637, -1.0401, 1.4916, 2.7124, 2.7079, 2.7023, 2.7021, 2.7, 2.6969, 2.6946, 2.6829, 2.6814, 2.6781, 2.6728, 2.6642, 2.6617, 2.6608, 2.6559, 2.6555, 2.6539, 2.6523, 2.6464, 2.6461, 2.6347, 2.634, 2.633, 2.6201, 2.6163, 2.6152, 2.6128, 2.6127, 2.6108, 2.6021, 2.5937, 2.5904, 2.5409, 2.3109, 2.4494, 2.432, 2.3756, 2.0752, 2.104, 2.4603, 2.2867, 1.9836, 2.1736, 2.1022, 2.2494, 1.9943, 1.6595, 1.5348, 1.8676, 1.6664, 2.2413, 1.4233, 1.8131, 1.0497, 1.5314, 1.7069, 0.9604, 0.8485, 0.0067, 0.4032, 0.2057, 0.9193, 0.533, 0.93, 0.1822, 1.7715, 1.7708, 1.7699, 1.7689, 1.7689, 1.7688, 1.7682, 1.768, 1.7669, 1.7666, 1.7656, 1.7655, 1.7649, 1.7647, 1.7646, 1.7643, 1.764, 1.7639, 1.7638, 1.7638, 1.7623, 1.7617, 1.7616, 1.7616, 1.7612, 1.7604, 1.7604, 1.759, 1.7571, 1.7559, 1.7456, 1.7359, 1.7423, 1.7115, 1.7394, 1.517, 1.7286, 1.4742, 1.7009, 1.5297, 1.4637, 1.4428, 1.6006, 1.2611, 1.1868, 0.8981, 1.3936, 1.2124, 0.4812, 1.1163, 1.0608, 0.5527, 2.4721, 2.4693, 2.4634, 2.4612, 2.4561, 2.4535, 2.4458, 2.4449, 2.4403, 2.4384, 2.4377, 2.4348, 2.4295, 2.4286, 2.428, 2.4241, 2.42, 2.4197, 2.4167, 2.407, 2.4065, 2.4038, 2.4032, 2.3979, 2.3902, 2.3899, 2.3869, 2.3862, 2.3861, 2.3859, 2.3837, 2.3818, 2.312, 2.3684, 2.2128, 2.3277, 2.2735, 2.1584, 2.19, 2.2966, 2.2461, 1.9258, 1.99, 2.1054, 1.4972, 1.6669, 1.4738, 2.0653, 1.7071, 1.7768, 2.0853, 1.4688, 1.3753, 1.3762, 1.3529, 1.5537, 0.8208, 1.6191, 1.4472, 1.3975, 0.9896, 0.91, 0.6834, 0.6063, 0.6222, 0.0616, 2.4596, 2.437, 2.4333, 2.432, 2.4318, 2.4309, 2.428, 2.4274, 2.4253, 2.4247, 2.4227, 2.4223, 2.4209, 2.4204, 2.4197, 2.4196, 2.4195, 2.4187, 2.4184, 2.4174, 2.4166, 2.4153, 2.4148, 2.4123, 2.4115, 2.4073, 2.4069, 2.3999, 2.3975, 2.3957, 2.3896, 2.3727, 2.3399, 2.3406, 2.375, 2.3575, 2.2456, 2.3695, 1.6706, 1.9062, 1.9511, 2.1792, 1.6216, 1.8337, 1.7969, 1.3991, 0.7154, 1.7201, 2.0418, 1.2184, 1.9307, 1.772, 1.1737, 0.6309, 1.2743, 0.218, 1.0728, 1.5783, 1.2576, 1.0312, 0.7068, 0.6735, 1.1813, -0.7215, 0.3805, -0.5345, 2.1487, 2.1474, 2.1466, 2.1423, 2.1402, 2.135, 2.135, 2.1342, 2.1335, 2.1331, 2.1327, 2.1318, 2.1314, 2.1302, 2.1287, 2.1274, 2.1253, 2.1221, 2.1147, 2.1132, 2.1119, 2.1098, 2.1098, 2.1098, 2.108, 2.1057, 2.1057, 2.1057, 2.1034, 2.1034, 2.097, 2.0981, 2.0978, 2.0981, 2.0965, 2.0586, 2.0647, 2.089, 2.012, 1.7993, 1.9509, 1.9563, 1.9679, 1.912, 1.9339, 1.7714, 1.9159, 1.8764, 1.8895, 1.2486, 1.5654, 1.5087, 0.8111, 1.3004, 0.4014, 1.767, 1.2513, 1.4247, 0.9526, 1.083, 0.7333, 0.1953, 1.2154, 2.0514, 2.0443, 2.0431, 2.0367, 2.0292, 2.0274, 2.0248, 2.0247, 2.0245, 2.0232, 2.0229, 2.0194, 2.0191, 2.0179, 2.0164, 2.0098, 2.0089, 2.0077, 2.0056, 2.0049, 2.0038, 2.003, 2.0023, 2.0003, 1.9986, 1.9986, 1.9978, 1.996, 1.994, 1.9933, 1.9237, 1.8372, 1.9438, 1.9392, 1.8874, 1.8575, 1.8063, 1.8843, 1.8023, 1.601, 1.6789, 1.8524, 1.6765, 1.7381, 1.4941, 1.5073, 1.2566, 1.2269, 1.748, 1.7365, 1.2295, 0.8155, 1.52, 0.9027, 1.2943, 1.2773, 1.0986, 1.144, 0.2505, 0.4044, 1.0974, 0.5918, 0.434, 0.7297, 0.7392, -0.2075, 0.5237, 0.9339, -0.0171, 0.165, 0.7551, -0.0962, 2.2557, 2.2491, 2.2442, 2.2437, 2.2337, 2.229, 2.2258, 2.2176, 2.2137, 2.2117, 2.2053, 2.2052, 2.2043, 2.2039, 2.2005, 2.1961, 2.195, 2.1924, 2.1893, 2.182, 2.1812, 2.176, 2.1664, 2.1653, 2.1577, 2.152, 2.1508, 2.1479, 2.1356, 2.1356, 2.1218, 2.1212, 2.1104, 1.9819, 2.0224, 1.883, 2.0466, 1.9294, 2.0019, 1.7959, 1.8213, 1.9845, 1.7283, 1.6973, 1.5375, 1.8344, 2.0005, 1.6594, 1.8147, 1.2702, 1.3106, 1.6974, 1.4416, 1.1874, 1.54, 0.9178, 1.6511, 0.8569, 1.1611, 0.5849, 1.1413, 0.8855, 0.2749, -0.0697, 0.2921, 0.1777, 0.7298, 1.1787, 1.1341, 1.3083, 1.8809, 1.878, 1.8776, 1.8774, 1.873, 1.8678, 1.8618, 1.8594, 1.8434, 1.8328, 1.8267, 1.8259, 1.8166, 1.8078, 1.7998, 1.7977, 1.7916, 1.7847, 1.7841, 1.781, 1.7687, 1.7313, 1.7313, 1.7257, 1.7161, 1.7106, 1.7061, 1.6803, 1.6653, 1.6513, 1.6386, 1.5965, 1.6352, 1.5234, 1.4805, 1.431, 1.4504, 1.3338, 1.4946, 1.4258, 1.195, 1.4051, 1.2418, 1.146, 0.6245, 0.7606, 0.8745, 0.8905, -0.0705, 2.7856, 2.7842, 2.7838, 2.7829, 2.7766, 2.7762, 2.7681, 2.7668, 2.765, 2.765, 2.7623, 2.7618, 2.7568, 2.7526, 2.7463, 2.7451, 2.7403, 2.7384, 2.7324, 2.7322, 2.7299, 2.7261, 2.7215, 2.7143, 2.7135, 2.7051, 2.7021, 2.7013, 2.7013, 2.7013, 2.6567, 2.6834, 2.6137, 2.529, 2.5032, 2.4518, 2.4477, 2.3499, 2.3183, 2.5445, 2.2823, 2.2354, 1.9899, 2.1234, 2.0736, 1.7477, 1.7417, 1.4579, 0.5882, 1.799, 1.5785, 0.4466, 0.6539, 0.2466, 0.9707, 1.7314]}, \"token.table\": {\"Topic\": [7, 1, 5, 10, 2, 5, 6, 7, 4, 5, 6, 8, 10, 4, 9, 3, 7, 9, 3, 4, 7, 8, 9, 3, 5, 6, 7, 10, 9, 3, 4, 5, 6, 7, 8, 9, 10, 10, 1, 1, 3, 4, 5, 6, 7, 8, 10, 6, 1, 3, 6, 9, 4, 9, 6, 5, 10, 3, 10, 2, 3, 4, 6, 8, 9, 10, 1, 2, 5, 6, 8, 4, 6, 6, 8, 10, 2, 6, 7, 3, 1, 6, 1, 6, 3, 4, 5, 7, 8, 9, 3, 5, 6, 8, 2, 6, 7, 8, 10, 2, 3, 6, 7, 1, 8, 2, 3, 4, 6, 7, 8, 9, 10, 7, 2, 3, 5, 6, 7, 2, 5, 7, 3, 6, 1, 2, 1, 2, 8, 10, 1, 4, 6, 7, 8, 5, 9, 6, 6, 1, 5, 9, 1, 3, 6, 8, 1, 2, 3, 5, 9, 10, 7, 8, 9, 8, 4, 5, 7, 10, 5, 7, 3, 4, 7, 8, 9, 4, 5, 9, 5, 3, 3, 6, 3, 7, 8, 9, 2, 3, 4, 5, 6, 7, 8, 9, 2, 5, 1, 2, 3, 4, 5, 6, 7, 8, 9, 10, 2, 7, 1, 3, 6, 7, 8, 2, 5, 8, 10, 1, 2, 7, 8, 10, 10, 3, 6, 7, 8, 2, 5, 7, 3, 5, 9, 3, 7, 8, 6, 8, 6, 1, 8, 1, 3, 2, 3, 7, 8, 9, 10, 10, 10, 2, 3, 5, 8, 3, 5, 2, 2, 3, 6, 8, 9, 10, 4, 9, 1, 4, 9, 1, 8, 8, 4, 2, 8, 2, 2, 6, 7, 8, 10, 6, 10, 8, 6, 7, 2, 5, 9, 10, 1, 2, 5, 6, 8, 1, 2, 6, 7, 8, 10, 9, 3, 4, 5, 7, 8, 9, 2, 6, 7, 8, 9, 10, 7, 8, 8, 3, 7, 3, 3, 7, 8, 2, 6, 7, 6, 10, 7, 10, 3, 8, 4, 7, 1, 2, 5, 7, 9, 10, 5, 2, 7, 8, 2, 4, 7, 8, 9, 4, 2, 3, 5, 6, 7, 8, 10, 3, 6, 3, 6, 10, 3, 4, 5, 8, 2, 4, 7, 4, 2, 4, 2, 9, 10, 6, 7, 2, 4, 8, 2, 3, 5, 4, 6, 10, 7, 5, 6, 7, 9, 3, 10, 8, 4, 5, 3, 4, 1, 2, 5, 7, 3, 4, 10, 1, 8, 10, 2, 7, 3, 7, 9, 3, 6, 7, 8, 10, 5, 4, 10, 5, 10, 4, 4, 9, 2, 8, 2, 3, 6, 7, 8, 1, 2, 4, 7, 8, 9, 4, 3, 4, 7, 9, 9, 4, 8, 10, 2, 4, 5, 6, 7, 10, 2, 3, 4, 8, 10, 1, 1, 2, 8, 2, 3, 5, 6, 7, 8, 10, 1, 2, 5, 1, 10, 3, 6, 7, 2, 8, 3, 7, 3, 5, 1, 6, 8, 10, 2, 8, 9, 2, 3, 5, 8, 9, 9, 2, 5, 6, 3, 3, 3, 2, 6, 10, 3, 4, 5, 9, 5, 8, 2, 7, 7, 8, 3, 5, 2, 5, 6, 7, 8, 10, 1, 2, 1, 9, 10, 1, 10, 1, 3, 2, 6, 8, 10, 5, 9, 10, 6, 5, 1, 4, 2, 6, 7, 8, 2, 3, 5, 9, 6, 4, 7, 9, 9, 2, 3, 4, 7, 8, 10, 4, 5, 10, 4, 5, 6, 7, 9, 1, 4, 5, 6, 7, 8, 9, 6, 8, 2, 6, 7, 8, 1, 3, 6, 7, 10, 7, 6, 4, 6, 3, 6, 7, 8, 6, 8, 1, 6, 2, 8, 10, 5, 2, 4, 5, 7, 9, 3, 6, 10, 8, 5, 6, 3, 10, 4, 7, 8, 10, 2, 5, 6, 7, 8, 10, 2, 5, 7, 8, 6, 5, 10, 2, 1, 5, 8, 2, 4, 5, 6, 7, 8, 9, 4, 7, 9, 4, 6, 4, 4, 7, 9, 10, 1, 4, 5, 6, 8, 10, 5, 10, 3, 5, 10, 5, 3, 10, 8, 5, 6, 7, 8, 2, 5, 6, 2, 5, 6, 7, 8, 1, 2, 3, 7, 8, 5, 10, 1, 7, 1, 2, 7, 10, 3, 3, 6, 9, 10, 7, 3, 10, 2, 5, 8, 6, 2, 3, 5, 6, 7, 8, 2, 8, 4, 7, 8, 9, 4, 6, 7, 1, 3, 5, 8, 10, 5, 2, 4, 3, 7, 5, 6, 7, 8, 9, 10, 6, 7, 8, 7, 3, 5, 7, 2, 7, 8, 10, 7, 5, 1, 8, 3, 4, 10, 2, 3, 4, 5, 6, 7, 8, 9, 10, 10, 1, 5, 7, 8, 10, 4, 5, 7, 2, 3, 4, 7, 8, 9, 2, 3, 5, 6, 7, 9, 6, 10, 6, 2, 5, 6, 7, 2, 5, 7, 9, 10, 8, 2, 5, 7, 8, 2, 3, 4, 5, 7, 5, 6, 2, 2, 8, 8, 3, 5, 7, 6, 9, 5, 4, 3, 5, 6, 1, 7, 5, 6, 7, 2, 3, 6, 7, 8, 1, 8, 4, 7, 2, 3, 4, 5, 6, 7, 8, 9, 10, 7, 1, 9, 5, 8, 1, 2, 7, 8, 10, 9, 6, 2, 9, 10, 8, 7, 4, 10, 1, 4, 6, 7, 9, 2, 3, 4, 8, 9, 7, 3, 2, 5, 1, 6, 7, 1, 4, 9, 4, 9, 10, 4, 9, 3, 8, 9, 1, 2, 4, 7, 9, 10, 7, 3, 1, 4, 2, 6, 9, 10, 4, 7, 8, 9, 3, 6, 8, 10, 6, 4, 2, 3, 5, 6, 7, 8, 9, 3, 6, 3, 1, 3, 6, 1, 2, 3, 4, 5, 7, 9, 3, 6, 1, 10, 5, 6, 1, 2, 4, 9, 2, 3, 7, 2, 3, 7, 8, 4, 4, 7, 6, 7, 2, 4, 5, 10, 8, 9, 9, 9, 2, 5, 4, 3, 6, 8, 2, 4, 5, 7, 8, 10, 3, 4, 5, 6, 7, 8, 9, 3, 2, 5, 8, 9, 1, 2, 3, 4, 5, 6, 7, 8, 9, 10, 4, 9, 7, 4, 1, 2, 4, 5, 7, 8, 4, 2, 4, 8, 9, 4, 2, 3, 4, 7, 8, 9, 10, 7, 1, 4, 5, 8, 9, 2, 4, 7, 8, 9, 2, 3, 4, 6, 7, 8, 10, 10, 2, 3, 5, 8, 2, 3, 4, 6, 7, 10, 5, 10, 5, 5, 6, 10, 7, 9, 10, 6, 4, 1, 4, 5, 5, 2, 5, 2, 5, 6, 7, 4, 2, 2, 3, 4, 5, 6, 7, 8, 9, 1, 5, 2, 2, 3, 5, 8, 2, 6, 8, 10, 4, 3, 7, 10, 9, 7, 3, 7, 8, 5, 1, 1, 9, 5, 5, 2, 5, 2, 3, 5, 6, 7, 8, 3, 5, 6, 7, 9, 10, 3, 1, 1, 5, 6, 6, 10, 3, 2, 3, 5, 6, 7, 8, 9, 10, 7, 9, 2, 5, 6, 2, 1, 5, 10, 2, 3, 5, 8, 7, 8, 10, 1, 2, 3, 6, 7, 8, 8, 1, 6, 2, 3, 5, 1, 5, 9, 10, 6, 2, 7, 8, 3, 10, 4, 9, 7, 9, 2, 3, 6, 7, 8, 7, 3, 4, 6, 8, 10, 2, 8, 5, 5, 7, 8, 5, 6, 6, 8, 2, 5, 6, 7, 8, 9, 2, 4, 7, 8, 9, 2, 5, 7, 2, 3, 5, 6, 7, 8, 2, 3, 5], \"Freq\": [0.9581483280104316, 0.1609926096355377, 0.8049630481776884, 0.025419885731927, 0.024358768511922698, 0.02192289166073043, 0.153460241625113, 0.8014034840422568, 0.0260829850788973, 0.47818805977978385, 0.12172059703485406, 0.2086638806311784, 0.16519223883301623, 0.7527882449941122, 0.24242333313369716, 0.026689105694410423, 0.9407909757279673, 0.026689105694410423, 0.9849749248746462, 0.016265247947226225, 0.6325374201699088, 0.023494247034882326, 0.3253049589445245, 0.16459184358294598, 0.025988185828886207, 0.05197637165777241, 0.6843555601606701, 0.06930182887702989, 0.9228406568900783, 0.2961266790371141, 0.15746418647211624, 0.021151905645508152, 0.0869578343204224, 0.26792413817643657, 0.08460762258203261, 0.028202540860677534, 0.05875529345974486, 0.9555142221860985, 0.9814141385798654, 0.029521638689053904, 0.14391798860913776, 0.5793621592726829, 0.055353072541976064, 0.02214122901679043, 0.003690204836131738, 0.11070614508395213, 0.055353072541976064, 0.95755788739798, 0.9945479979997013, 0.9943864726858337, 0.9962573196632029, 0.7955772687801684, 0.1995349075364026, 0.7932729250837469, 0.9788186270394168, 0.9731769064902778, 0.9450391987954682, 0.7356692226557138, 0.26206242695461046, 0.1094041398754736, 0.22586661135581645, 0.08117081345599654, 0.3423290828361593, 0.07764164765356191, 0.14116663209738528, 0.01764582901217316, 0.0325309877634725, 0.3415753715164612, 0.11385845717215375, 0.4825429851581754, 0.021687325175648333, 0.8567433718989022, 0.11054753185792286, 0.11433532499291005, 0.5277014999672771, 0.34300597497873014, 0.14654947492702144, 0.7665664842336507, 0.07891125572993463, 0.9939284348357951, 0.941681533455645, 0.9835674596723333, 0.9622816417766691, 0.9797001356463972, 0.16597657158626555, 0.011065104772417704, 0.044260419089670815, 0.23236720022077179, 0.03872786670346196, 0.5034622671450055, 0.7854796532411672, 0.04666215761828716, 0.1399864728548615, 0.02333107880914358, 0.03333442348473835, 0.1296338691073158, 0.3148251106891955, 0.16667211742369173, 0.3518633590055714, 0.9717476094171207, 0.038630870108640664, 0.2189082639489638, 0.7211095753612925, 0.12424310153009313, 0.8697017107106519, 0.022472425613880288, 0.026966910736656344, 0.10562040038523735, 0.08764245989413312, 0.26517462224378735, 0.3348391416468163, 0.040450366104984516, 0.1168566131921775, 0.9825586561433648, 0.3005868304269393, 0.024790666426964068, 0.28819149721345727, 0.10226149901122678, 0.2819938306067163, 0.0726563833234454, 0.0726563833234454, 0.8355484082196221, 0.973698717515794, 0.02446479189738176, 0.36742437958109675, 0.6051695663688652, 0.05103128366592129, 0.025515641832960644, 0.8675318223206618, 0.025515641832960644, 0.35018665503061963, 0.12901613606391252, 0.01843087658055893, 0.25803227212782504, 0.2396013955472661, 0.9365541061032767, 0.9804302277567141, 0.9848741366556875, 0.9759232282819564, 0.7983827926256439, 0.004780735285183496, 0.19601014669252334, 0.014326536019884243, 0.05730614407953697, 0.023877560033140406, 0.9025717692527073, 0.9753120541247419, 0.9393632513290683, 0.007437450230695833, 0.037187251153479164, 0.9445561792983708, 0.9733492071542168, 0.13899032831838604, 0.0758129063554833, 0.7834000323399941, 0.9269078456866173, 0.006392680720123688, 0.306848674565937, 0.1086755722421027, 0.5753412648111319, 0.9660607593281182, 0.9495794599631544, 0.8425595694092985, 0.01845020954910873, 0.09840111759524656, 0.01230013969940582, 0.03075034924851455, 0.17621368923260833, 0.7440133545376796, 0.05873789641086944, 0.9780656040615002, 0.9931675780799598, 0.9976202685569714, 0.9792801603995299, 0.049464271137616235, 0.19106787086490978, 0.12123595867062803, 0.637216198772821, 0.09349662084105473, 0.30720318276346553, 0.042741312384482165, 0.12555260512941635, 0.30186051871540526, 0.07212596464881366, 0.026713320240301354, 0.0373986483364219, 0.7604731926991035, 0.19838431113889657, 0.09732360303639129, 0.06040775360879459, 0.0906116304131919, 0.06040775360879459, 0.16779931557998498, 0.10739156197119039, 0.10739156197119039, 0.21142713763078108, 0.07383169885519339, 0.026847890492797597, 0.916353535548942, 0.9749243835357907, 0.9159669496333254, 0.07743438210278136, 0.021509550584105933, 0.5678521354203966, 0.33124707899523137, 0.6336936970455648, 0.0132019520217826, 0.330048800544565, 0.9888065155843527, 0.024915984414834277, 0.5332020664774535, 0.02242438597335085, 0.378722963105481, 0.03986557506373484, 0.9449087121481268, 0.21680195894972093, 0.10037127729153747, 0.4014851091661499, 0.2770247253246434, 0.08291307326823832, 0.19346383762588942, 0.7185799683247321, 0.1378131520104037, 0.013182127583603832, 0.8484496662901376, 0.9921977064146688, 0.11189294104507638, 0.8791588224970287, 0.8050546146009528, 0.1884170374597975, 0.9463385019093365, 0.07914904360988519, 0.9102140015136797, 0.9436517359317509, 0.04389077841543027, 0.09592510694812025, 0.010277690030155742, 0.383700427792481, 0.31860839093482796, 0.06509203685765302, 0.12333228036186888, 0.9073302328534493, 0.9743012147757005, 0.06812562843959714, 0.2786957527074429, 0.021676336321690002, 0.62861375332901, 0.957911071114663, 0.03649185032817764, 0.9309573080758177, 0.5299082852396787, 0.04415902376997322, 0.08831804753994645, 0.03311926782747992, 0.1655963391373996, 0.13247707130991968, 0.9144052801433477, 0.08503527363651904, 0.4108578087279687, 0.1580222341261418, 0.42666003214058285, 0.9391583023397992, 0.9833784081852218, 0.9837466867381259, 0.9619008806378923, 0.9399597518417537, 0.9107733293035879, 0.8704816394657631, 0.1267516292893131, 0.10221905587847831, 0.15537296493528702, 0.3148346921057132, 0.2984796431651566, 0.7563029560863367, 0.2374439513294313, 0.9109828883078978, 0.10104126237366436, 0.8841110457695631, 0.05055524476466102, 0.013481398603909605, 0.9302165036697627, 0.0067406993019548025, 0.16633348603081277, 0.6098894487796468, 0.018481498447868085, 0.07392599379147234, 0.1108889906872085, 0.019250740068137553, 0.10908752705277946, 0.012833826712091701, 0.0641691335604585, 0.18609048732532968, 0.6031898554683099, 0.9468121060588781, 0.9647950894195649, 0.032294396298562844, 0.9784428834857819, 0.9683271613015723, 0.7849866319765986, 0.19224162415753435, 0.044643924587308696, 0.13889220982718262, 0.5754105835697565, 0.24306136719756954, 0.9383352527597815, 0.9773082241286883, 0.12721367092135585, 0.8396102280809485, 0.895368058619726, 0.9771814228222581, 0.9365284759456042, 0.9941256190159686, 0.14089335281072615, 0.770216995365303, 0.07514312149905394, 0.021564368879688146, 0.06469310663906444, 0.8841391240672141, 0.19159992167228226, 0.7876885668749383, 0.9685359361232808, 0.9452802988881585, 0.06443890195414105, 0.9150324077488029, 0.9267022416832953, 0.9713060634393685, 0.46136161761137917, 0.017363071630535777, 0.07937404173959212, 0.03968702086979606, 0.372065820654338, 0.029765265652347044, 0.9442372589178009, 0.08441402847370029, 0.7737952610089193, 0.13365554508335878, 0.12651855009070082, 0.613614967939899, 0.044281492531745285, 0.17712597012698114, 0.031629637522675204, 0.9950499397673934, 0.06548597237007182, 0.016023163452251618, 0.4521318730657087, 0.17346816085263708, 0.16371493092517955, 0.018113141293849656, 0.11007216632416328, 0.9983062542278254, 0.968830915113569, 0.6854272392309416, 0.15231716427354258, 0.16077922895540608, 0.7418455090892884, 0.19090670268446283, 0.026906313801165902, 0.03971884418267347, 0.6998594058565825, 0.18257201891910846, 0.10650034436947994, 0.9988899918548262, 0.9226519751829069, 0.9007709311276046, 0.8505799132359517, 0.08100761078437635, 0.9333237342409698, 0.7907888921518867, 0.2001997195321232, 0.7466366849918603, 0.09572265192203337, 0.13401171269084672, 0.9217635228786966, 0.0632586159132833, 0.917249930742608, 0.9588594469939009, 0.9097668500191055, 0.07960459937667173, 0.9886315266735592, 0.5137223403500767, 0.06965726648814599, 0.20026464115341971, 0.2176789577754562, 0.03974450599165595, 0.9141236378080869, 0.9198816255556346, 0.9234754545635476, 0.06969626072177718, 0.9824624736195026, 0.9770236519152408, 0.007613197536117239, 0.5176974324559722, 0.159877148258462, 0.31404439836483605, 0.036078951756052254, 0.211963841566807, 0.7486382489380843, 0.06740536024945543, 0.217771163882856, 0.7103487964750302, 0.029537003709199622, 0.9451841186943879, 0.9849754544811824, 0.06023374167501697, 0.9381861582108705, 0.07621279051038682, 0.4251871470579475, 0.22462717203061378, 0.2206159725300671, 0.0481343940065601, 0.9758669889216872, 0.9107272897256712, 0.060715152648378075, 0.9184235466963427, 0.9735993342837864, 0.9425536307740544, 0.8496723440420959, 0.14830644550552946, 0.9647047954071284, 0.9457896481683854, 0.07695668163122311, 0.028858755611708666, 0.6829905494771051, 0.18758191147610634, 0.024048963009757222, 0.9719753340881669, 0.006567976924263988, 0.3645227192966513, 0.08209971155329984, 0.06567976924263988, 0.4794623154712711, 0.9440609624740133, 0.04718643892972822, 0.040108473090268985, 0.01887457557189129, 0.8941830177183498, 0.9149260811236145, 0.42764553658989213, 0.4744192671544116, 0.0935474611290389, 0.05108661773954342, 0.05108661773954342, 0.2401071033758541, 0.5261921627172973, 0.11239055902699553, 0.020434647095817368, 0.017055893432059665, 0.24446780585952188, 0.3979708467480589, 0.13644714745647732, 0.19898542337402944, 0.9120394975799918, 0.6067404991728071, 0.1846601519221587, 0.1846601519221587, 0.10352735265845585, 0.00544880803465557, 0.07083450445052242, 0.5557784195348682, 0.1634642410396671, 0.04359046427724456, 0.05993688838121128, 0.8563243559805813, 0.024820995825524095, 0.11169448121485843, 0.056578415141940334, 0.9052546422710454, 0.5561945132699624, 0.40450510055997263, 0.036773190959997516, 0.9845994560435639, 0.01447940376534653, 0.9910499943773853, 0.9595879698202363, 0.9959788056409011, 0.9821126071812378, 0.04787856638771744, 0.7840115245988731, 0.0299241039923234, 0.13166605756622296, 0.1014489927157248, 0.24601380733563263, 0.6492735533806387, 0.01348696921827955, 0.0038534197766513, 0.0231205186599078, 0.03660748787818735, 0.9228940365079864, 0.99584390028133, 0.9654246934243832, 0.16608860407442685, 0.8304430203721342, 0.9967303961277482, 0.9857691941371207, 0.9902041816756119, 0.8669951213446775, 0.0833649155139113, 0.03334596620556452, 0.09403144327528266, 0.06044878496268171, 0.02686612665008076, 0.8171780189399565, 0.1015501102175359, 0.8849366747528129, 0.8347195493714349, 0.13911992489523914, 0.2261983309326914, 0.7711306736341752, 0.09929609277940199, 0.8794796789032747, 0.1644655814143617, 0.17146411679369628, 0.027994141517338166, 0.17496338448336354, 0.3254318951390562, 0.1329721722073563, 0.8870165979406777, 0.944031058019478, 0.27059817016857024, 0.6991222348723811, 0.029553383772676616, 0.9665627117761498, 0.9840121696511297, 0.968046333752646, 0.9903012701617327, 0.2561240620298378, 0.036589151718548256, 0.6220155792153204, 0.07317830343709651, 0.04479522029507426, 0.0671928304426114, 0.8735067957539481, 0.9756862958580587, 0.9684955217528937, 0.9744032608642812, 0.9428338944368925, 0.11437614646350032, 0.14785209176989064, 0.16180040231421997, 0.5746703944263675, 0.02350718469007958, 0.9637945722932628, 0.06410955229021356, 0.9135611201355432, 0.9829749966581017, 0.1907323461131149, 0.018608033767133162, 0.786189426661376, 0.8877369167324489, 0.9675200306515861, 0.06594301066271792, 0.0847838708520659, 0.3014537630295676, 0.19782903198815377, 0.3485559135029376, 0.9244610269991252, 0.04019395769561414, 0.9677955689692458, 0.36021250004510175, 0.24825456084189446, 0.00486773648709597, 0.18984172299674282, 0.19470945948383878, 0.012994462076695988, 0.017944733344008746, 0.041458521863744345, 0.7017009521415833, 0.1039556966135679, 0.09529272189577058, 0.027226491970220167, 0.9446286219780553, 0.04645714534318305, 0.48148502181796693, 0.18169246106338374, 0.30887718380775236, 0.027253869159507563, 0.9616779436147903, 0.03082986210757546, 0.4470330005598442, 0.023122396580681596, 0.4855703281943135, 0.9712205453383089, 0.9575106217850482, 0.9891915756616043, 0.9899627388863962, 0.36738750717164126, 0.06726813511593431, 0.45535353001555534, 0.1086639105718939, 0.996705810745229, 0.9736240284483735, 0.03271966757113932, 0.9488703595630402, 0.0121537838712593, 0.7535346000180766, 0.2187681096826674, 0.9753618224360534, 0.16346247128751218, 0.3327628879781498, 0.032108699717189895, 0.27146446124533274, 0.1984901437062648, 0.018282079056557658, 0.9141039528278828, 0.05484623716967297, 0.9338314921263485, 0.9931957993196829, 0.9759749889860306, 0.9344385967843598, 0.06615494490508741, 0.1484061785240193, 0.16960706117030777, 0.058302427277293296, 0.6201258174039378, 0.47191097637484003, 0.015388401403527392, 0.05129467134509131, 0.0666830727486187, 0.37445110081916655, 0.015388401403527392, 0.12790856120046404, 0.05595999552520302, 0.38372568360139214, 0.43169139405156615, 0.9470136141531843, 0.029497312552824968, 0.943914001690399, 0.9329422727689464, 0.8950548162823483, 0.920419343483926, 0.8625630213449035, 0.013681549785260065, 0.3681580669488163, 0.03606954034295835, 0.14054682961221704, 0.11567128454810782, 0.18283525622120267, 0.1417906068654225, 0.6747465555612746, 0.2409809127004552, 0.08032697090015174, 0.9934836053287186, 0.9857174837984376, 0.983011829547241, 0.06832729247714274, 0.017081823119285685, 0.08540911559642841, 0.8370093328449985, 0.020415598820361175, 0.06805199606787057, 0.29942878269863055, 0.006805199606787058, 0.5376107689361775, 0.06805199606787057, 0.933678632391688, 0.9451113368383214, 0.5171884400269967, 0.03003029651769658, 0.4471177481523713, 0.9640214603826657, 0.9905754418951647, 0.9796293320592433, 0.8610753186462029, 0.05715006307702218, 0.05715006307702218, 0.1285876419232999, 0.7429508200012883, 0.050309245258987965, 0.11738823893763858, 0.8217176725634702, 0.11127795929095619, 0.024728435397990262, 0.012364217698995131, 0.6862140822942298, 0.16691693893643428, 0.9466907468742074, 0.2685779480938053, 0.17773540682678293, 0.32782308370273294, 0.22513151531392506, 0.5801506031578109, 0.4028823633040353, 0.5853265726486685, 0.4097286008540679, 0.29047647678778776, 0.21785735759084082, 0.261428829109009, 0.21785735759084082, 0.9876720576135867, 0.31327946678599605, 0.026106622232166338, 0.6352611409827142, 0.02175551852680528, 0.9426923845085162, 0.9942345544536989, 0.9892576919133564, 0.9713957994920107, 0.9001756516790046, 0.8976900293823347, 0.9911071802784734, 0.007581716889343096, 0.4169944289138703, 0.053072018225401675, 0.26156923268233684, 0.1971246391229205, 0.06444459355941631, 0.7457395014752282, 0.23549668467638782, 0.22770511632896492, 0.09361210337968558, 0.5566125065819143, 0.12144272870878128, 0.7957625681845591, 0.12433790127883737, 0.04973516051153495, 0.2899259367202462, 0.4924769336069935, 0.011914764522749843, 0.12311923340174838, 0.07943176348499896, 0.953256637630165, 0.9742984394267441, 0.9433664765442857, 0.9912012882886138, 0.9751324423088241, 0.42937350900063315, 0.0668696448443609, 0.24636184942659278, 0.06335018985255243, 0.09854473977063712, 0.09150582978702018, 0.9751267700320344, 0.016252112833867238, 0.9574581630711876, 0.966897262537497, 0.0281726815502256, 0.9015258096072192, 0.0563453631004512, 0.0794494425983976, 0.018693986493740614, 0.2570423142889334, 0.6449425340340512, 0.9691375776921224, 0.9331382212312921, 0.9274383881791266, 0.9375392958962699, 0.1664419427927694, 0.7694529158616552, 0.06275679810219174, 0.07927967583558379, 0.275336171483041, 0.018212898502769248, 0.049281960654552086, 0.01714155153201812, 0.2881923351320546, 0.1360610652853938, 0.03856849094704076, 0.09534988039685077, 0.9642580870213909, 0.028013799992081714, 0.08404139997624514, 0.14006899996040856, 0.6349794664871855, 0.11205519996832686, 0.7308463785431268, 0.11787844815211723, 0.14931270099268182, 0.026724576038121332, 0.05242128376708415, 0.3761998011520157, 0.12539993371733857, 0.13362288019060667, 0.28471952163690806, 0.009944779870187676, 0.7742721470360405, 0.17403364772828434, 0.019889559740375352, 0.011365462708785917, 0.010655121289486796, 0.9645207709082583, 0.01968409736547466, 0.9872990217442094, 0.8872556345283693, 0.03358576166794637, 0.9404013267024984, 0.9661885200844067, 0.054203137630574605, 0.03097322150318549, 0.21681255052229842, 0.17809602364331656, 0.5110581548025606, 0.9180672763334972, 0.3204047806284431, 0.01686340950676016, 0.10118045704056097, 0.5564925137230854, 0.2074359952488152, 0.06313269420616115, 0.05411373789099527, 0.09018956315165878, 0.5862321604857821, 0.04056617589796126, 0.9465441042857626, 0.886671217859889, 0.04483321889267353, 0.9414975967461442, 0.9283553986163042, 0.40029344653292215, 0.5283873494234572, 0.0560410825146091, 0.9793531808649606, 0.9228451621340961, 0.9574767959585678, 0.9510451974737918, 0.03189149211198356, 0.4145893974557863, 0.5527858632743817, 0.9817509435563113, 0.9484865234947611, 0.147754105966413, 0.021107729423773286, 0.8232014475271582, 0.39386017059423634, 0.08439860798447921, 0.028132869328159737, 0.10315385420325236, 0.37510492437546317, 0.11661906610214495, 0.8454882292405509, 0.9012781341972421, 0.05301636083513189, 0.121374954384069, 0.26171474539064876, 0.007585934649004313, 0.03034373859601725, 0.053101542543030185, 0.242749908768138, 0.10999605241056253, 0.011378901973506468, 0.16309759495359272, 0.9471804120211961, 0.6800819038379264, 0.30912813810814843, 0.044726999130006044, 0.9392669817301269, 0.01414832016223088, 0.023580533603718135, 0.1603476285052833, 0.7026999013908004, 0.09903824113561616, 0.9918040806516234, 0.9554210352782567, 0.9754755670267382, 0.9722521947579934, 0.9825854797104278, 0.8553713132675759, 0.9817310657981162, 0.9031709043320058, 0.9690985426294179, 0.004819088071264086, 0.4457656465919279, 0.03614316053448064, 0.14457264213792256, 0.3662506934160705, 0.6544897627376277, 0.05911520437630186, 0.014778801094075466, 0.2111257299153638, 0.0612264616754555, 0.9419528388626595, 0.9862533234317413, 0.9507682746554503, 0.9808317242544411, 0.6958210434201407, 0.296579461129896, 0.9514661173129103, 0.920047025409624, 0.8545567633137849, 0.1367290821302056, 0.6941214646749738, 0.15715957690754123, 0.14406294549857945, 0.9555537004038918, 0.9981787613471115, 0.1652603373551982, 0.7554758279094775, 0.07082585886651352, 0.9203223950138678, 0.08651615476937609, 0.03845162434194493, 0.05767743651291739, 0.8074841111808434, 0.9047883070319095, 0.9707698786893039, 0.9978305603577801, 0.8546752605948764, 0.9463506619192795, 0.024153368099566093, 0.8151761733603556, 0.018115026074674568, 0.1328435245476135, 0.2668617741100421, 0.05003658264563289, 0.06115582323355131, 0.6226774729234316, 0.02979392112781475, 0.32773313240596225, 0.2681452901503327, 0.3694446219849029, 0.9758590868442429, 0.9948206616478349, 0.005845182830740973, 0.04530016693824254, 0.040916279815186814, 0.00876777424611146, 0.15051345789158008, 0.08037126392268838, 0.6692734341198414, 0.993718121655394, 0.9932341948057859, 0.988771951511798, 0.0112107736265366, 0.9697319186954159, 0.0168161604398049, 0.9400713458449603, 0.1514242091653726, 0.006583661268059679, 0.5003582563725356, 0.09875491902089517, 0.19750983804179034, 0.03950196760835807, 0.3167245729484067, 0.684533754436879, 0.9207071135284612, 0.9479707865666284, 0.9384613477636082, 0.03475782769494846, 0.9440262582970672, 0.5712884430520199, 0.2980635355054017, 0.12419313979391737, 0.8975828603921973, 0.9926494023915939, 0.9636170694800789, 0.1524288479835956, 0.17287662027407794, 0.4349798832702606, 0.23979660231565647, 0.9450068970582232, 0.6668302120955756, 0.3263211676212391, 0.16861660991906463, 0.8189949624640281, 0.2631272157402329, 0.0751792044972094, 0.6578180393505821, 0.994316919842981, 0.09010017617850602, 0.9079325445680222, 0.9956969759441449, 0.9363386376729997, 0.07592206931634447, 0.9110648317961336, 0.9349089740078244, 0.11042798040919212, 0.8723810452326178, 0.011042798040919212, 0.022357393929217036, 0.33983238772409896, 0.27276020593644784, 0.13861584236114563, 0.21910246050632695, 0.9181006023059886, 0.100915252420813, 0.08985604667606638, 0.105062454575093, 0.07326723805894643, 0.07050243662275978, 0.4741634463060118, 0.0857088445217864, 0.9881314467657234, 0.012952095139194188, 0.27847004549267507, 0.025904190278388375, 0.6799849948076949, 0.021201280156691257, 0.07828164980932156, 0.006523470817443464, 0.16634850584480831, 0.04729516342646511, 0.029355618678495586, 0.2299523463148821, 0.25441536188029507, 0.08480512062676503, 0.07828164980932156, 0.8088570560984641, 0.15302701061322294, 0.9612544996806319, 0.9353892020753728, 0.04003240119297856, 0.360291610736807, 0.08006480238595712, 0.2241814466806799, 0.27222032811225416, 0.024019440715787134, 0.9446311114065746, 0.10351725149073913, 0.4635772566759187, 0.17552925252777504, 0.2520420036296257, 0.954450282776322, 0.03760330528180088, 0.12847795971281967, 0.33216252998924106, 0.22248622291732184, 0.11907713339236943, 0.1566804386741703, 0.9840136710921973, 0.9740746294639991, 0.02375879547272746, 0.04751759094545492, 0.4989347049272767, 0.4276583185090943, 0.9740315424811729, 0.053135927581279184, 0.3250668510854726, 0.28443349469978857, 0.09376928396696327, 0.2406744955152057, 0.08675483258593002, 0.5996289899321634, 0.03827419084673383, 0.0688935435241209, 0.10716773437085472, 0.0688935435241209, 0.028067739954271476, 0.9669650302148523, 0.02704383060485518, 0.9407389646117481, 0.007726808744244338, 0.023180426232733014, 0.2999681962253461, 0.12939804543054145, 0.15880669211930087, 0.2235057148345716, 0.12351631609278957, 0.06469902271527073, 0.0823145098158195, 0.915748921700992, 0.9434257410681041, 0.5726105704139416, 0.4062439857666478, 0.019344951703173702, 0.11280173814721453, 0.17188836289099357, 0.7090394969253484, 0.9580838427260269, 0.9726018206901653, 0.6115518145728771, 0.36693108874372626, 0.9372029532097299, 0.9247372945201082, 0.9257229648815737, 0.9481047069705806, 0.0639555849587726, 0.598856840977598, 0.05232729678445031, 0.279078916183735, 0.9193773857161457, 0.8226127936874766, 0.1852657856046548, 0.16964096031269596, 0.20981908249201867, 0.031249650583917675, 0.24106873307593635, 0.09598106965060428, 0.015624825291958837, 0.051338711673579035, 0.9403074801401532, 0.050149732274141504, 0.8526826452614461, 0.42017000419057837, 0.08080192388280354, 0.08080192388280354, 0.41208981180229803, 0.8881031750504819, 0.09867813056116466, 0.9017877655411367, 0.9482600948500551, 0.9416461689604535, 0.12706369136291054, 0.1005920889956375, 0.7676764686509178, 0.8664159407069987, 0.9903975965058177, 0.033849519484097125, 0.22284266993697274, 0.739047842069454, 0.9591749235482786, 0.9771803089978874, 0.470957255280503, 0.5271909574035482, 0.9513753561985976, 0.9487448784084855, 0.8768943338725899, 0.07971766671568999, 0.06988606834505895, 0.2030023890023141, 0.3461024337088634, 0.026623264131451028, 0.3261349856102751, 0.026623264131451028, 0.7203736604298915, 0.021457938821315917, 0.09502801478011334, 0.033719618147782154, 0.009196259494849679, 0.11955137343304582, 0.9875133469368643, 0.9534968778264372, 0.9815805671871611, 0.9775113482225214, 0.9720383190257708, 0.9470212856616994, 0.9921536303189101, 0.9868849441894263, 0.0503686108012418, 0.08058977728198688, 0.11752675853623087, 0.06380024034823961, 0.43652796027742896, 0.05708442557474071, 0.13431629546997814, 0.05708442557474071, 0.9707299653732612, 0.9997046138729309, 0.9648210087026019, 0.9355582325996515, 0.05613349395597909, 0.9576340421206297, 0.7542589440909396, 0.1190935174880431, 0.1190935174880431, 0.3405971130350264, 0.5699100208209847, 0.0843062160977788, 0.8241049596263859, 0.7275426428913981, 0.055964818683953706, 0.20986807006482638, 0.9247871521955058, 0.028132397516229708, 0.1031521242261756, 0.056264795032459416, 0.4482428670919267, 0.3619701813754889, 0.9215151069211436, 0.540491255302631, 0.43588004459889595, 0.03924921758424993, 0.04906152198031241, 0.9125443088338109, 0.2249781442967891, 0.015827608141482652, 0.7518113867204259, 0.005652717193386661, 0.9706070355542784, 0.044466505469418605, 0.8448636039189535, 0.10375517942864342, 0.9863688889599159, 0.010221439263833326, 0.9616118348565013, 0.9936188942802913, 0.07571913059705103, 0.9086295671646124, 0.09746533309061588, 0.15567379590862257, 0.010829481454512875, 0.06633057390889135, 0.6700741649979841, 0.9281535149149619, 0.49501159478428813, 0.03228336487723618, 0.3927809393397069, 0.010761121625745395, 0.06994729056734507, 0.0497118857260044, 0.9196698859310815, 0.9441810458309566, 0.8790922597023789, 0.08790922597023788, 0.02197730649255947, 0.04782381626570067, 0.9405350532254464, 0.9414841133780538, 0.04184373837235795, 0.17917935754679462, 0.12798525539056757, 0.03071646129373622, 0.46586632962166596, 0.05119410215622703, 0.13822407582181298, 0.16981605208276573, 0.15437822916615065, 0.08159992113067964, 0.015437822916615067, 0.577815657736164, 0.8627597793017989, 0.12369761900186722, 0.8741298409465285, 0.11075026930861658, 0.036916756436205525, 0.007383351287241105, 0.01476670257448221, 0.21596302515180232, 0.614663994662822, 0.9209668320849337, 0.029392558470795756, 0.04408883770619363], \"Term\": [\"abb\\u016btu[fatherhood]n\", \"abnu[stone]n\", \"abnu[stone]n\", \"abnu[stone]n\", \"abu[father]n\", \"abu[father]n\", \"abu[father]n\", \"abu[father]n\", \"abullu[(city)-gate]n\", \"abullu[(city)-gate]n\", \"abullu[(city)-gate]n\", \"abullu[(city)-gate]n\", \"abullu[(city)-gate]n\", \"adru[threshing-floor]n\", \"adru[threshing-floor]n\", \"ad\\u00fb[(treaty-)oath]n\", \"ad\\u00fb[(treaty-)oath]n\", \"ad\\u00fb[(treaty-)oath]n\", \"ad\\u0101nu[fixed-time]n\", \"ahu[brother]n\", \"ahu[brother]n\", \"ahu[brother]n\", \"ahu[brother]n\", \"akalu[bread]n\", \"akalu[bread]n\", \"akalu[bread]n\", \"akalu[bread]n\", \"akalu[bread]n\", \"akkullu[hatchet]n\", \"ak\\u0101lu[eat]v\", \"ak\\u0101lu[eat]v\", \"ak\\u0101lu[eat]v\", \"ak\\u0101lu[eat]v\", \"ak\\u0101lu[eat]v\", \"ak\\u0101lu[eat]v\", \"ak\\u0101lu[eat]v\", \"ak\\u0101lu[eat]v\", \"ak\\u012btu[(a-cultic-festival)]n\", \"aladlamm\\u00fb[human-headed-bull-colossus]n\", \"alpu[ox]n\", \"alpu[ox]n\", \"alpu[ox]n\", \"alpu[ox]n\", \"alpu[ox]n\", \"alpu[ox]n\", \"alpu[ox]n\", \"alpu[ox]n\", \"al\\u0101du[give-birth-(to)]v\", \"ammatu[unit]n\", \"annu[(word-of)-consent]n\", \"antal\\u00fb[eclipse]n\", \"aplu[paid-off]aj\", \"appatu[bridle]n\", \"appatu[bridle]n\", \"apru[covered-(with)]aj\", \"aps\\u00fb[(cosmic)-underground-water]n\", \"apu[hole]n\", \"ap\\u0101lu[pay]v\", \"ap\\u0101lu[pay]v\", \"arhu[month]n\", \"arhu[month]n\", \"arhu[month]n\", \"arhu[month]n\", \"arhu[month]n\", \"arhu[month]n\", \"arhu[month]n\", \"arku[long]aj\", \"arku[long]aj\", \"arku[long]aj\", \"arku[long]aj\", \"arku[long]aj\", \"arqu[green]aj\", \"arqu[green]aj\", \"ar\\u0101du[go-down]v\", \"ar\\u0101du[go-down]v\", \"ar\\u0101du[go-down]v\", \"ar\\u0101ku[be(come)-long]v\", \"ar\\u0101ku[be(come)-long]v\", \"ar\\u0101ku[be(come)-long]v\", \"ar\\u0161u[dirty]aj\", \"askuppu[(threshold)-slab]n\", \"atw\\u00fb[speech]n\", \"at\\u0101nu[she-ass]n\", \"aw\\u00fb[speak]v\", \"aw\\u012blu[man]n\", \"aw\\u012blu[man]n\", \"aw\\u012blu[man]n\", \"aw\\u012blu[man]n\", \"aw\\u012blu[man]n\", \"aw\\u012blu[man]n\", \"a\\u0161ru[place]n\", \"a\\u0161ru[place]n\", \"a\\u0161ru[place]n\", \"a\\u0161ru[place]n\", \"a\\u0161\\u0101bu[sit-(down)]v\", \"a\\u0161\\u0101bu[sit-(down)]v\", \"a\\u0161\\u0101bu[sit-(down)]v\", \"a\\u0161\\u0101bu[sit-(down)]v\", \"a\\u0161\\u0101bu[sit-(down)]v\", \"a\\u0161\\u0101ru[muster]v\", \"a\\u0161\\u0101ru[sink-down]v\", \"a\\u0161\\u0101ru[sink-down]v\", \"a\\u0161\\u0101ru[sink-down]v\", \"a\\u1e63appu[pack-animal]n\", \"a\\u1e63appu[pack-animal]n\", \"a\\u1e63\\u00fb[go-out]v\", \"a\\u1e63\\u00fb[go-out]v\", \"a\\u1e63\\u00fb[go-out]v\", \"a\\u1e63\\u00fb[go-out]v\", \"a\\u1e63\\u00fb[go-out]v\", \"a\\u1e63\\u00fb[go-out]v\", \"a\\u1e63\\u00fb[go-out]v\", \"a\\u1e63\\u00fb[go-out]v\", \"babban\\u00fb[excellent]aj\", \"bal\\u0101\\u1e6du[live]v\", \"bal\\u0101\\u1e6du[live]v\", \"bal\\u0101\\u1e6du[live]v\", \"bal\\u0101\\u1e6du[live]v\", \"bal\\u0101\\u1e6du[live]v\", \"ban\\u00fb[good]aj\", \"ban\\u00fb[good]aj\", \"ban\\u00fb[good]aj\", \"bar\\u00fb[see]v\", \"bar\\u00fb[see]v\", \"batqu[cut-(off)]aj\", \"batqu[cut-(off)]aj\", \"battu[side]n\", \"battu[side]n\", \"battu[side]n\", \"battu[side]n\", \"bat\\u0101qu[cut-off]v\", \"bat\\u0101qu[cut-off]v\", \"bat\\u0101qu[cut-off]v\", \"bat\\u0101qu[cut-off]v\", \"bat\\u0101qu[cut-off]v\", \"ba\\u0161\\u00fb[existing]aj\", \"bennu[epilepsy]n\", \"bibbu[(a-kind-of-wild-sheep)]n\", \"bibbulu[(day-of-the)-new-moon]n\", \"biltu[load]n\", \"biltu[load]n\", \"biltu[load]n\", \"birtu[fort]n\", \"birtu[fort]n\", \"birtu[fort]n\", \"birtu[fort]n\", \"bir\\u0161u[felt]n\", \"bul\\u1e6du[life]n\", \"burku[knee]n\", \"burku[knee]n\", \"burku[knee]n\", \"bur\\u0101\\u0161u[(species-of)-juniper]n\", \"bu\\u02be\\u02be\\u00fb[look-for]v\", \"bu\\u02be\\u02be\\u00fb[look-for]v\", \"bu\\u02be\\u02be\\u00fb[look-for]v\", \"b\\u00e2\\u0161u[come-to-shame]v\", \"b\\u0101bu[gate]n\", \"b\\u0101bu[gate]n\", \"b\\u0101bu[gate]n\", \"b\\u0101bu[gate]n\", \"b\\u0101n\\u00fb[creator]n\", \"b\\u0101rtu[rebellion]n\", \"b\\u0101r\\u00fb[diviner]n\", \"b\\u0101r\\u00fb[diviner]n\", \"b\\u0101r\\u00fb[diviner]n\", \"b\\u0101r\\u00fb[diviner]n\", \"b\\u0101r\\u00fb[diviner]n\", \"b\\u0113ltu[lady]n\", \"b\\u0113ltu[lady]n\", \"b\\u0113ltu[lady]n\", \"b\\u0113l\\u016btu[rule]n\", \"b\\u0113ru[distant]aj\", \"b\\u012bru[divination]n\", \"b\\u016blu[animals]n\", \"dab\\u0101bu[speak]v\", \"dab\\u0101bu[speak]v\", \"dab\\u0101bu[speak]v\", \"dab\\u0101bu[speak]v\", \"damqu[good]aj\", \"damqu[good]aj\", \"damqu[good]aj\", \"damqu[good]aj\", \"damqu[good]aj\", \"damqu[good]aj\", \"damqu[good]aj\", \"damqu[good]aj\", \"dam\\u0101qu[be(come)-good]v\", \"dam\\u0101qu[be(come)-good]v\", \"dannu[strong]aj\", \"dannu[strong]aj\", \"dannu[strong]aj\", \"dannu[strong]aj\", \"dannu[strong]aj\", \"dannu[strong]aj\", \"dannu[strong]aj\", \"dannu[strong]aj\", \"dannu[strong]aj\", \"dannu[strong]aj\", \"dan\\u012bbu[victualler]n\", \"darr\\u00fb[sacrificial-sheep]n\", \"da\\u02be\\u0101pu[push-(away)]v\", \"dibbu[words]n\", \"dibbu[words]n\", \"dibbu[words]n\", \"dibbu[words]n\", \"din\\u0101nu[substitution]n\", \"din\\u0101nu[substitution]n\", \"din\\u0101nu[substitution]n\", \"di\\u0161pu[honey]n\", \"dullu[trouble]n\", \"dullu[trouble]n\", \"dullu[trouble]n\", \"dullu[trouble]n\", \"dullu[trouble]n\", \"dum\\u0101q\\u016b[jewellery]n\", \"d\\u00e2ku[kill]v\", \"d\\u00e2ku[kill]v\", \"d\\u00e2ku[kill]v\", \"d\\u00e2ku[kill]v\", \"d\\u0101mu[blood]n\", \"d\\u0101mu[blood]n\", \"d\\u0101mu[blood]n\", \"d\\u012bnu[legal-decision]n\", \"d\\u012bnu[legal-decision]n\", \"d\\u012bnu[legal-decision]n\", \"eb\\u00fb[thick]aj\", \"eb\\u0113ru[cross-over]v\", \"eb\\u0113ru[cross-over]v\", \"eb\\u016bru[harvest]n\", \"eb\\u016bru[harvest]n\", \"ed\\u0113ru[embrace]v\", \"egertu[inscribed-tablet]n\", \"egertu[inscribed-tablet]n\", \"eleppu[ship]n\", \"eleppu[ship]n\", \"el\\u00fb[go-up]v\", \"el\\u00fb[go-up]v\", \"el\\u00fb[go-up]v\", \"el\\u00fb[go-up]v\", \"el\\u00fb[go-up]v\", \"el\\u00fb[go-up]v\", \"el\\u0113lu[be(come)-pure]v\", \"emdu[(an-aromatic-tree)]n\", \"em\\u016bqu[strength]n\", \"em\\u016bqu[strength]n\", \"em\\u016bqu[strength]n\", \"em\\u016bqu[strength]n\", \"en\\u00fb[change]v\", \"en\\u00fb[change]v\", \"en\\u0161u[weak]aj\", \"ep\\u0161u[made]aj\", \"ep\\u0161u[made]aj\", \"ep\\u0161u[made]aj\", \"ep\\u0161u[made]aj\", \"ep\\u0161u[made]aj\", \"ep\\u0161u[made]aj\", \"eqlu[field]n\", \"eqlu[field]n\", \"er\\u00fb[copper]n\", \"er\\u00fb[copper]n\", \"er\\u00fb[copper]n\", \"er\\u0113pu[cloud-over]v\", \"er\\u0161ahung\\u00fb[(an-emesal-cultic-prayer)]n\", \"er\\u0161emmakku[(an-emesal-cult-song)]n\", \"er\\u0161u[tilled]aj\", \"es\\u0113hu[assign]v\", \"es\\u0113ru[exact-payment]v\", \"et\\u0101ku[be-on-guard]v\", \"et\\u0113qu[proceed]v\", \"et\\u0113qu[proceed]v\", \"et\\u0113qu[proceed]v\", \"et\\u0113qu[proceed]v\", \"et\\u0113qu[proceed]v\", \"e\\u0161\\u0113ru[be(come)-straight]v\", \"e\\u0161\\u0113ru[be(come)-straight]v\", \"e\\u1e63ru[drawn]aj\", \"gabar\\u00fb[copy]n\", \"gabar\\u00fb[copy]n\", \"gammuru[finished]aj\", \"gammuru[finished]aj\", \"gammuru[finished]aj\", \"gammuru[finished]aj\", \"gamru[complete]aj\", \"gamru[complete]aj\", \"gamru[complete]aj\", \"gamru[complete]aj\", \"gamru[complete]aj\", \"gam\\u0101ru[complete]v\", \"gam\\u0101ru[complete]v\", \"gam\\u0101ru[complete]v\", \"gam\\u0101ru[complete]v\", \"gam\\u0101ru[complete]v\", \"gam\\u0101ru[complete]v\", \"gerdu[plucked-wool]n\", \"gin\\u00fb[regular-contribution-(to-temple)]n\", \"gin\\u00fb[regular-contribution-(to-temple)]n\", \"gizill\\u00fb[torch]n\", \"gi\\u0161ru[(wooden)-bar]n\", \"gu\\u0161\\u016bru[tree-trunk]n\", \"gu\\u0161\\u016bru[tree-trunk]n\", \"hal\\u0101qu[be(come)-lost]v\", \"hal\\u0101qu[be(come)-lost]v\", \"hal\\u0101qu[be(come)-lost]v\", \"hal\\u0101qu[be(come)-lost]v\", \"harbakkannu[(a-kind-of-horse)]n\", \"har\\u00fb[(a-large-container)]n\", \"har\\u0101\\u1e63u[break-off]v\", \"har\\u0101\\u1e63u[break-off]v\", \"har\\u1e63u[broken-off]aj\", \"ha\\u0161\\u00fb[lung(s)]n\", \"ha\\u1e63\\u0101nu[hug]v\", \"ha\\u1e6d\\u00fb[defective]aj\", \"ha\\u1e6d\\u00fb[do-wrong]v\", \"ha\\u1e6d\\u00fb[do-wrong]v\", \"ha\\u1e6d\\u00fb[do-wrong]v\", \"hep\\u00fb[break]v\", \"hep\\u00fb[break]v\", \"hep\\u00fb[break]v\", \"hep\\u00fb[broken]aj\", \"hep\\u00fb[broken]aj\", \"hibiltu[wrongdoing]n\", \"hir\\u012b\\u1e63u[(city)-ditch]n\", \"hubtu[robbery]n\", \"hubtu[robbery]n\", \"hubullu[debt]n\", \"hurs\\u0101nu[river-ordeal]n\", \"hur\\u0101\\u1e63u[gold]n\", \"hur\\u0101\\u1e63u[gold]n\", \"hur\\u0101\\u1e63u[gold]n\", \"hur\\u0101\\u1e63u[gold]n\", \"hur\\u0101\\u1e63u[gold]n\", \"hur\\u0101\\u1e63u[gold]n\", \"h\\u012brtu[(equal-ranking)-wife]n\", \"h\\u012b\\u1e6du[error]n\", \"h\\u012b\\u1e6du[error]n\", \"h\\u012b\\u1e6du[error]n\", \"h\\u016blu[way]n\", \"h\\u016blu[way]n\", \"h\\u016blu[way]n\", \"h\\u016blu[way]n\", \"h\\u016blu[way]n\", \"ikkaru[farmer]n\", \"ilu[god]n\", \"ilu[god]n\", \"ilu[god]n\", \"ilu[god]n\", \"ilu[god]n\", \"ilu[god]n\", \"ilu[god]n\", \"il\\u016btu[divinity]n\", \"imbaru[fog]n\", \"imittu[right-side]n\", \"imittu[right-side]n\", \"imittu[right-side]n\", \"immeru[sheep]n\", \"immeru[sheep]n\", \"immeru[sheep]n\", \"immeru[sheep]n\", \"im\\u0113ru[donkey]n\", \"im\\u0113ru[donkey]n\", \"im\\u0113ru[donkey]n\", \"im\\u0113ru[unit]n\", \"irginu[(a-breed-or-colour-of-horse)]n\", \"ishunnatu[bunch-of-grapes]n\", \"itinnu[builder]n\", \"itinnu[builder]n\", \"itq\\u016bru[spoon]n\", \"ittu[sign]n\", \"ittu[sign]n\", \"i\\u0161k\\u0101ru[work-assignment]n\", \"i\\u0161k\\u0101ru[work-assignment]n\", \"i\\u0161k\\u0101ru[work-assignment]n\", \"i\\u0161pallurtu[cross]n\", \"i\\u0161taru[goddess]n\", \"i\\u0161taru[goddess]n\", \"kakardinnu[victualler]n\", \"kakkabu[star]n\", \"kakkabu[star]n\", \"kal\\u00fb[lamentation-priest]n\", \"kal\\u00fb[totality]n\", \"kal\\u00fb[totality]n\", \"kal\\u00fb[totality]n\", \"kal\\u00fb[totality]n\", \"kam\\u0101nu[(a-loaf-or-cake)]n\", \"kam\\u0101nu[(a-loaf-or-cake)]n\", \"kan\\u012bku[sealed-document]n\", \"kapru[village]n\", \"kapru[village]n\", \"kaptukk\\u00fb[two-s\\u016btu-container]n\", \"karaphu[fallow-land]n\", \"kar\\u0101bu[pray]v\", \"kar\\u0101bu[pray]v\", \"kar\\u0101bu[pray]v\", \"kar\\u0101bu[pray]v\", \"kar\\u0101nu[vine]n\", \"kar\\u0101nu[vine]n\", \"kar\\u0101nu[vine]n\", \"kar\\u0101ru[put-(down)]v\", \"kar\\u0101ru[put-(down)]v\", \"kar\\u0101ru[put-(down)]v\", \"kar\\u1e63u[slander]n\", \"kar\\u1e63u[slander]n\", \"kaskasu[gristly-extension-of-breast-bone]n\", \"kaspu[silver]n\", \"kaspu[silver]n\", \"ka\\u0161\\u0101du[reach]v\", \"ka\\u0161\\u0101du[reach]v\", \"ka\\u0161\\u0101du[reach]v\", \"ka\\u0161\\u0101du[reach]v\", \"ka\\u0161\\u0101du[reach]v\", \"kibru[bank]n\", \"kibtu[wheat]n\", \"kibtu[wheat]n\", \"kil\\u012blu[wreath]n\", \"kin\\u016bnu[brazier]n\", \"kirru[(a-big-jar)]n\", \"kir\\u00fb[garden]n\", \"kir\\u00fb[garden]n\", \"kisallu[courtyard]n\", \"kissatu[fodder]n\", \"kittu[truth]n\", \"kittu[truth]n\", \"kittu[truth]n\", \"kittu[truth]n\", \"kittu[truth]n\", \"kit\\u00fb[flax]n\", \"ki\\u1e63ru[knot]n\", \"ki\\u1e63ru[knot]n\", \"ki\\u1e63ru[knot]n\", \"ki\\u1e63ru[knot]n\", \"ki\\u1e63ru[knot]n\", \"kudimmu[(a-herb)]n\", \"kunukku[seal]n\", \"kunukku[seal]n\", \"kunukku[seal]n\", \"kunukku[seal]n\", \"kurru[tanning-fluid]n\", \"kurummatu[ration]n\", \"kurummatu[ration]n\", \"kurummatu[ration]n\", \"kuss\\u00fb[chair]n\", \"kuss\\u00fb[chair]n\", \"kuss\\u00fb[chair]n\", \"kuss\\u00fb[chair]n\", \"kuss\\u00fb[chair]n\", \"kuss\\u00fb[chair]n\", \"kus\\u0101pu[bread]n\", \"kus\\u0101pu[bread]n\", \"kus\\u0101pu[bread]n\", \"kus\\u0101pu[bread]n\", \"kus\\u0101pu[bread]n\", \"kus\\u012btu[robe]n\", \"kuzippu[cloak]n\", \"kuzippu[cloak]n\", \"kuzippu[cloak]n\", \"k\\u00e2nu[be(come)-permanent]v\", \"k\\u00e2nu[be(come)-permanent]v\", \"k\\u00e2nu[be(come)-permanent]v\", \"k\\u00e2nu[be(come)-permanent]v\", \"k\\u00e2nu[be(come)-permanent]v\", \"k\\u00e2nu[be(come)-permanent]v\", \"k\\u00e2nu[be(come)-permanent]v\", \"k\\u0101ru[quay]n\", \"k\\u0101ru[quay]n\", \"k\\u0101ru[quay]n\", \"k\\u0101su[cup]n\", \"k\\u0101su[cup]n\", \"k\\u012bnu[permanent]aj\", \"k\\u012bnu[permanent]aj\", \"k\\u012bnu[permanent]aj\", \"k\\u016bdanu[mule]n\", \"k\\u016bdanu[mule]n\", \"k\\u016bnu[firmness]n\", \"labi\\u0101nu[neck(\\u2011tendons)]n\", \"lab\\u0161u[clothed]aj\", \"lamassu[(female)-tutelary-deity]n\", \"law\\u00fb[surround]v\", \"law\\u00fb[surround]v\", \"law\\u00fb[surround]v\", \"law\\u00fb[surround]v\", \"la\\u0161\\u0161u[(there)-is-not]v\", \"la\\u0161\\u0161u[(there)-is-not]v\", \"la\\u0161\\u0161u[(there)-is-not]v\", \"leq\\u00fb[take]v\", \"leq\\u00fb[take]v\", \"leq\\u00fb[take]v\", \"leq\\u00fb[take]v\", \"leq\\u00fb[take]v\", \"leq\\u00fb[taken]aj\", \"litt\\u016btu[(extreme)-old-age]n\", \"lumnu[evil]n\", \"lumnu[evil]n\", \"lu\\u02be\\u02be\\u00fb[sullied]aj\", \"lu\\u02be\\u02be\\u00fb[sully]v\", \"l\\u0101pitu[one-who-touches]n\", \"l\\u0113\\u02beu[board]n\", \"l\\u0113\\u02beu[board]n\", \"l\\u0113\\u02beu[board]n\", \"l\\u012bmu[eponym-(of-year)]n\", \"l\\u012bmu[eponym-(of-year)]n\", \"l\\u012bmu[eponym-(of-year)]n\", \"l\\u012bmu[eponym-(of-year)]n\", \"maddattu[payment]n\", \"maddattu[payment]n\", \"mad\\u0101du[measure-(out)]v\", \"mad\\u0101du[measure-(out)]v\", \"mag\\u0101ru[consent]v\", \"mag\\u0101ru[consent]v\", \"mahru[front]n\", \"mahru[front]n\", \"mah\\u0101ru[face]v\", \"mah\\u0101ru[face]v\", \"mah\\u0101ru[face]v\", \"mah\\u0101ru[face]v\", \"mah\\u0101ru[face]v\", \"mah\\u0101ru[face]v\", \"mak\\u00fb[destitute]aj\", \"mand\\u0113tu[(result-of)-reconnoitring]n\", \"man\\u00fb[unit]n\", \"man\\u00fb[unit]n\", \"man\\u00fb[unit]n\", \"maqarratu[bale-(of-straw)]n\", \"maqq\\u00fb[libation-(vessel)]n\", \"maq\\u0101\\u1e6du[(a-garment)]n\", \"martu[gall-bladder]n\", \"mat\\u0101hu[lift]v\", \"mat\\u0101hu[lift]v\", \"mat\\u0101hu[lift]v\", \"mat\\u0101hu[lift]v\", \"mayy\\u0101lu[bed]n\", \"mayy\\u0101lu[bed]n\", \"mayy\\u0101lu[bed]n\", \"ma\\u0161kanu[place-of-putting]n\", \"ma\\u0161kanu[tent]n\", \"ma\\u0161kittu[sacrificial-table]n\", \"ma\\u02be\\u02beuttu[subsistence-(field)]n\", \"ma\\u1e63\\u1e63artu[observation]n\", \"ma\\u1e63\\u1e63artu[observation]n\", \"ma\\u1e63\\u1e63artu[observation]n\", \"ma\\u1e63\\u1e63artu[observation]n\", \"ma\\u1e6d\\u00fb[small]aj\", \"ma\\u1e6d\\u00fb[small]aj\", \"mes\\u00fb[washed]aj\", \"mes\\u00fb[washed]aj\", \"miqittu[(down)fall]n\", \"mukillu[holder]n\", \"mukillu[holder]n\", \"mukillu[holder]n\", \"muribb\\u0101nu[(a-function-or-prof.)]n\", \"mu\\u1e6d\\u00fb[deficit]n\", \"m\\u00fb[water]n\", \"m\\u00fb[water]n\", \"m\\u00fb[water]n\", \"m\\u00fb[water]n\", \"m\\u00fb[water]n\", \"m\\u0101hi\\u1e63u[beater]n\", \"m\\u0101hi\\u1e63u[beater]n\", \"m\\u0101kaltu[wooden-dish]n\", \"m\\u0101rtu[daughter]n\", \"m\\u0101rtu[daughter]n\", \"m\\u0101rtu[daughter]n\", \"m\\u0101rtu[daughter]n\", \"m\\u0101rtu[daughter]n\", \"m\\u0101tu[land]n\", \"m\\u0101tu[land]n\", \"m\\u0101tu[land]n\", \"m\\u0101tu[land]n\", \"m\\u0101tu[land]n\", \"m\\u0101tu[land]n\", \"m\\u0101tu[land]n\", \"m\\u012blu[high-water]n\", \"m\\u012blu[high-water]n\", \"m\\u012btu[dead]aj\", \"m\\u012btu[dead]aj\", \"m\\u012btu[dead]aj\", \"m\\u012btu[dead]aj\", \"m\\u016braku[length]n\", \"nad\\u00fb[throw-(down)]v\", \"nad\\u00fb[throw-(down)]v\", \"nad\\u00fb[throw-(down)]v\", \"nad\\u00fb[throw-(down)]v\", \"nad\\u00fb[throw-down]v\", \"nad\\u0101ru[be(come)-wild]v\", \"nahallu[stream]n\", \"nah\\u0101su[(re)cede]v\", \"nakru[enemy]n\", \"nakru[enemy]n\", \"nakru[enemy]n\", \"nakru[enemy]n\", \"nakru[strange]aj\", \"namark\\u00fb[be(come)-late]v\", \"namburb\\u00fb[apotropaic-ritual]n\", \"namburb\\u00fb[apotropaic-ritual]n\", \"nam\\u0101\\u0161u[set-(o.s.)-in-motion]v\", \"nam\\u0101\\u0161u[set-(o.s.)-in-motion]v\", \"nam\\u0101\\u0161u[set-(o.s.)-in-motion]v\", \"napharu[total]n\", \"napi\\u0161tu[throat]n\", \"napi\\u0161tu[throat]n\", \"napi\\u0161tu[throat]n\", \"napi\\u0161tu[throat]n\", \"napi\\u0161tu[throat]n\", \"nap\\u0101hu[blow]v\", \"nap\\u0101hu[blow]v\", \"nap\\u0101hu[blow]v\", \"naquttu[critical-situation]n\", \"naq\\u00fb[pour-(a-libation)]v\", \"naq\\u0101ru[demolish]v\", \"nashu[torn]aj\", \"nashu[torn]aj\", \"nas\\u0101hu[tear-out]v\", \"nas\\u0101hu[tear-out]v\", \"nas\\u0101hu[tear-out]v\", \"nas\\u0101hu[tear-out]v\", \"na\\u0161\\u00fb[lifted]aj\", \"na\\u0161\\u00fb[lifted]aj\", \"na\\u0161\\u00fb[lifted]aj\", \"na\\u0161\\u00fb[lifted]aj\", \"na\\u0161\\u00fb[lifted]aj\", \"na\\u0161\\u00fb[lifted]aj\", \"na\\u1e63\\u0101ru[guard]v\", \"na\\u1e63\\u0101ru[guard]v\", \"na\\u1e63\\u0101ru[guard]v\", \"na\\u1e63\\u0101ru[guard]v\", \"nent\\u00fb[overlap]v\", \"nignakku[censer]n\", \"nignakku[censer]n\", \"niksu[cutting-(off)]n\", \"nindanu[rod]n\", \"nip\\u0161u[tuft]n\", \"niqittu[anxiety]n\", \"ni\\u0161u[people]n\", \"ni\\u0161u[people]n\", \"ni\\u0161u[people]n\", \"ni\\u0161u[people]n\", \"ni\\u0161u[people]n\", \"ni\\u0161u[people]n\", \"ni\\u0161u[people]n\", \"nuhatimmu[cook]n\", \"nuhatimmu[cook]n\", \"nuhatimmu[cook]n\", \"nukaribbu[gardener]n\", \"nukurtu[enmity]n\", \"nus\\u0101hu[(a-grain-tax)]n\", \"n\\u0101ru[musician]n\", \"n\\u0101ru[musician]n\", \"n\\u0101ru[musician]n\", \"n\\u0101ru[musician]n\", \"n\\u0101ru[river]n\", \"n\\u0101ru[river]n\", \"n\\u0101ru[river]n\", \"n\\u0101ru[river]n\", \"n\\u0101ru[river]n\", \"n\\u0101ru[river]n\", \"n\\u0101\\u1e63iru[guard]n\", \"n\\u0101\\u1e6du[(a-religious-ritual)]n\", \"n\\u012bqu[offering]n\", \"n\\u012bqu[offering]n\", \"n\\u012bqu[offering]n\", \"n\\u012b\\u0161u[(oath-on-the)-life]n\", \"pad\\u0101nu[way]n\", \"pagalu[(a-libation-vessel)]n\", \"pahru[gathered]aj\", \"pah\\u0101ru[gather]v\", \"pah\\u0101ru[gather]v\", \"pah\\u0101ru[gather]v\", \"pah\\u0101ru[gather]v\", \"pal\\u00fb[period-of-office]n\", \"pal\\u00fb[period-of-office]n\", \"pal\\u00fb[period-of-office]n\", \"pal\\u0101hu[fear]v\", \"pal\\u0101hu[fear]v\", \"pal\\u0101hu[fear]v\", \"pal\\u0101hu[fear]v\", \"pal\\u0101hu[fear]v\", \"pappardaliu[agate?]n\", \"paq\\u0101du[entrust]v\", \"paq\\u0101du[entrust]v\", \"paq\\u0101du[entrust]v\", \"paq\\u0101du[entrust]v\", \"parakku[cult-dais]n\", \"parakku[cult-dais]n\", \"parri\\u1e63u[criminal]n\", \"parri\\u1e63u[criminal]n\", \"parzillu[iron]n\", \"parzillu[iron]n\", \"parzillu[iron]n\", \"parzillu[iron]n\", \"par\\u0101du[be(come)-scared]v\", \"par\\u0101ku[lie-across]v\", \"par\\u0101ku[lie-across]v\", \"par\\u0101ku[lie-across]v\", \"par\\u0101ku[lie-across]v\", \"paz\\u0101ru[hide-o.s.]v\", \"pa\\u0161\\u0101\\u0161u[anoint]v\", \"pa\\u0161\\u0161uru[table]n\", \"pilku[demarcated-zone]n\", \"piri\\u0161tu[secret]n\", \"pitqudu[cautious]aj\", \"pi\\u0161ru[release]n\", \"p\\u00fb[mouth]n\", \"p\\u00fb[mouth]n\", \"p\\u00fb[mouth]n\", \"p\\u00fb[mouth]n\", \"p\\u00fb[mouth]n\", \"p\\u00fb[mouth]n\", \"p\\u0113thallu[riding-horse]n\", \"p\\u0113thallu[riding-horse]n\", \"p\\u012bh\\u0101tu[responsibility]n\", \"p\\u012bh\\u0101tu[responsibility]n\", \"p\\u012bh\\u0101tu[responsibility]n\", \"p\\u012bh\\u0101tu[responsibility]n\", \"p\\u016bhu[exchange]n\", \"p\\u016bhu[exchange]n\", \"p\\u016bhu[exchange]n\", \"p\\u016btu[forehead]n\", \"p\\u016btu[forehead]n\", \"p\\u016btu[forehead]n\", \"p\\u016btu[forehead]n\", \"p\\u016btu[forehead]n\", \"p\\u016btu[opening]n\", \"p\\u016btuhhu[responsibility]n\", \"qablu[plantation-(of-trees)]n\", \"qabl\\u012btu[centre]n\", \"qal\\u012btu[parched-grain]n\", \"qaqqaru[ground]n\", \"qaqqaru[ground]n\", \"qaqqaru[ground]n\", \"qaqqaru[ground]n\", \"qaqqaru[ground]n\", \"qaqqaru[ground]n\", \"qarnu[horn]n\", \"qarnu[horn]n\", \"qar\\u0101bu[battle]n\", \"qar\\u0101ru[writhe]v\", \"qerbu[centre]n\", \"qerbu[centre]n\", \"qerbu[centre]n\", \"qer\\u0113bu[approach]v\", \"qer\\u0113bu[approach]v\", \"qer\\u0113bu[approach]v\", \"qer\\u0113bu[approach]v\", \"qer\\u012btu[banquet]n\", \"qib\\u012btu[speech]n\", \"qullu[(a-large-ring)]n\", \"q\\u00e2lu[pay-attention]v\", \"q\\u00fb[unit]n\", \"q\\u00fb[unit]n\", \"q\\u00fb[unit]n\", \"q\\u0101tu[hand]n\", \"q\\u0101tu[hand]n\", \"q\\u0101tu[hand]n\", \"q\\u0101tu[hand]n\", \"q\\u0101tu[hand]n\", \"q\\u0101tu[hand]n\", \"q\\u0101tu[hand]n\", \"q\\u0101tu[hand]n\", \"q\\u0101tu[hand]n\", \"q\\u012b\\u0161tu[gift]n\", \"rabiu[big-one]n\", \"rabiu[big-one]n\", \"rabiu[big-one]n\", \"rabiu[big-one]n\", \"rabiu[big-one]n\", \"rab\\u00fb[be(come)-big]v\", \"rab\\u00fb[be(come)-big]v\", \"rab\\u00fb[be(come)-big]v\", \"rab\\u00fb[big-one]n\", \"rab\\u00fb[big-one]n\", \"rab\\u00fb[big-one]n\", \"rab\\u00fb[big-one]n\", \"rab\\u00fb[big-one]n\", \"rab\\u00fb[big-one]n\", \"rab\\u00fb[big]aj\", \"rab\\u00fb[big]aj\", \"rab\\u00fb[big]aj\", \"rab\\u00fb[big]aj\", \"rab\\u00fb[big]aj\", \"rab\\u00fb[big]aj\", \"rab\\u00fb[set]v\", \"rab\\u00fb[set]v\", \"rab\\u0101\\u1e63u[sit]v\", \"rad\\u0101pu[pursue]v\", \"rah\\u0101\\u1e63u[flood]v\", \"rah\\u0101\\u1e63u[flood]v\", \"rah\\u0101\\u1e63u[trust]v\", \"rak\\u0101su[bind]v\", \"rak\\u0101su[bind]v\", \"rak\\u0101su[bind]v\", \"rak\\u0101su[bind]v\", \"rak\\u0101su[bind]v\", \"ramm\\u00fb[released]aj\", \"ram\\u00fb[slacken]v\", \"ram\\u00fb[slacken]v\", \"ram\\u00fb[slacken]v\", \"ram\\u00fb[slacken]v\", \"ram\\u0101nu[self]n\", \"ram\\u0101nu[self]n\", \"ram\\u0101nu[self]n\", \"ram\\u0101nu[self]n\", \"ram\\u0101nu[self]n\", \"rap\\u0101\\u0161u[be(come)-broad]v\", \"rap\\u0101\\u0161u[be(come)-broad]v\", \"ra\\u1e63pu[built]aj\", \"ra\\u1e63\\u0101pu[build]v\", \"ra\\u1e63\\u0101pu[build]v\", \"re\\u02be\\u00fb[pasture]v\", \"rid\\u00fbtu[appropriation]n\", \"rid\\u00fbtu[appropriation]n\", \"rid\\u00fbtu[appropriation]n\", \"rigmu[voice]n\", \"ripittu[straying]n\", \"rittu[hand]n\", \"rubb\\u00fb[increase]n\", \"rub\\u00fb[prince]n\", \"rub\\u00fb[prince]n\", \"rub\\u00fb[prince]n\", \"rup\\u0161u[width]n\", \"r\\u00e2bu[quake]v\", \"r\\u00e2mu[love]v\", \"r\\u00e2mu[love]v\", \"r\\u00e2mu[love]v\", \"r\\u0113htu[remainder]n\", \"r\\u0113htu[remainder]n\", \"r\\u0113htu[remainder]n\", \"r\\u0113htu[remainder]n\", \"r\\u0113htu[remainder]n\", \"r\\u0113hu[remaining]aj\", \"r\\u0113hu[remaining]aj\", \"r\\u0113\\u0161tu[beginning]n\", \"r\\u0113\\u0161tu[beginning]n\", \"r\\u0113\\u0161u[head]n\", \"r\\u0113\\u0161u[head]n\", \"r\\u0113\\u0161u[head]n\", \"r\\u0113\\u0161u[head]n\", \"r\\u0113\\u0161u[head]n\", \"r\\u0113\\u0161u[head]n\", \"r\\u0113\\u0161u[head]n\", \"r\\u0113\\u0161u[head]n\", \"r\\u0113\\u0161u[head]n\", \"r\\u012bbu[earthquake]n\", \"r\\u016b\\u1e6du[unit]n\", \"r\\u016b\\u1e6du[unit]n\", \"saddinu[(a-tunic)]n\", \"saddinu[(a-tunic)]n\", \"sah\\u0101ru[go-around]v\", \"sah\\u0101ru[go-around]v\", \"sah\\u0101ru[go-around]v\", \"sah\\u0101ru[go-around]v\", \"sah\\u0101ru[go-around]v\", \"sakru[refined]aj\", \"sak\\u0101pu[push-down]v\", \"salqu[boiled]aj\", \"sartu[falsehood]n\", \"sar\\u0101qu[strew]v\", \"sek\\u0113ru[shut-off]v\", \"serqu[strewn-offering]n\", \"sikkatu[peg]n\", \"silqu[boiled-meat]n\", \"sinni\\u0161tu[woman]n\", \"sinni\\u0161tu[woman]n\", \"sinni\\u0161tu[woman]n\", \"sinni\\u0161tu[woman]n\", \"sinni\\u0161tu[woman]n\", \"sis\\u00fb[horse]n\", \"sis\\u00fb[horse]n\", \"sis\\u00fb[horse]n\", \"sis\\u00fb[horse]n\", \"sis\\u00fb[horse]n\", \"sukkuku[deaf]aj\", \"sulukannu[(a-food-container)]n\", \"s\\u00earu[plaster]v\", \"s\\u0101mtu[redness]n\", \"s\\u0101mu[red]aj\", \"s\\u0101mu[red]aj\", \"s\\u0101ru[fan]n\", \"s\\u0101yu[(a-qualification-of-textiles-perhaps-'knotted')]aj\", \"s\\u012br\\u0101\\u0161\\u00fb[brewer]n\", \"s\\u012br\\u0101\\u0161\\u00fb[brewer]n\", \"s\\u016btu[unit]n\", \"s\\u016btu[unit]n\", \"s\\u016btu[unit]n\", \"tabku[(grain)-store]n\", \"tadnu[given]aj\", \"tah\\u016bmu[boundary]n\", \"tah\\u016bmu[boundary]n\", \"tah\\u016bmu[boundary]n\", \"takkassu[(small)-block-of-stone]n\", \"tamk\\u0101ru[merchant]n\", \"tamk\\u0101ru[merchant]n\", \"tamk\\u0101ru[merchant]n\", \"tamk\\u0101ru[merchant]n\", \"taml\\u012bu[filling]n\", \"tam\\u00fb[swear]v\", \"tam\\u012btu[oath]n\", \"tappa\\u0161tu[(a-woollen-rug)]n\", \"tarammu[grain-heap]n\", \"tarba\\u1e63u[courtyard]n\", \"tarba\\u1e63u[courtyard]n\", \"tarba\\u1e63u[courtyard]n\", \"tarba\\u1e63u[courtyard]n\", \"ta\\u0161l\\u012b\\u0161u[third-man-on-chariot]n\", \"ta\\u0161l\\u012b\\u0161u[third-man-on-chariot]n\", \"ta\\u0161l\\u012b\\u0161u[third-man-on-chariot]n\", \"ta\\u0161l\\u012b\\u0161u[third-man-on-chariot]n\", \"teb\\u00fb[arise]v\", \"teb\\u00fb[arise]v\", \"teb\\u00fb[arise]v\", \"teb\\u00fb[arise]v\", \"te\\u0161m\\u00fb[attention]n\", \"tillatu[vine]n\", \"t\\u00e2ru[turn]v\", \"t\\u00e2ru[turn]v\", \"t\\u00e2ru[turn]v\", \"t\\u00e2ru[turn]v\", \"t\\u00e2ru[turn]v\", \"t\\u00e2ru[turn]v\", \"t\\u00e2ru[turn]v\", \"t\\u00eartu[instruction]n\", \"t\\u0101martu[view(ing)]n\", \"t\\u012br\\u0101nu[coils]n\", \"ub\\u0101nu[finger]n\", \"ub\\u0101nu[finger]n\", \"ub\\u0101nu[finger]n\", \"ud\\u00fb[tools]n\", \"ummu[mother]n\", \"ummu[mother]n\", \"ummu[mother]n\", \"ummu[mother]n\", \"ummu[mother]n\", \"ummu[mother]n\", \"umm\\u0101nu[army]n\", \"umm\\u0101nu[army]n\", \"umn\\u012bnu[chest]n\", \"un\\u012bqu[female-kid]n\", \"upnu[(cupped)-hand]n\", \"upnu[(cupped)-hand]n\", \"urnatu[(a-garment)]n\", \"ur\\u00fb[team]n\", \"ur\\u00fb[team]n\", \"ur\\u00fb[team]n\", \"ur\\u0101su[(a-foreman)]n\", \"u\\u1e63urtu[design]n\", \"u\\u1e63\\u1e63u\\u1e63u[interrogate]v\", \"wad\\u00fb[know]v\", \"wad\\u00fb[know]v\", \"wad\\u00fb[know]v\", \"wad\\u00fb[know]v\", \"yarhu[pond]n\", \"y\\u0101bilu[ram]n\", \"y\\u0101bilu[ram]n\", \"y\\u0101nu[(there)-is-not]v\", \"y\\u0101nu[(there)-is-not]v\", \"zak\\u0101ru[speak]v\", \"zak\\u0101ru[speak]v\", \"zak\\u0101ru[speak]v\", \"zam\\u0101ru[sing]v\", \"zaq\\u0101pu[fix-upright]v\", \"zaq\\u0101pu[fix-upright]v\", \"zarpu[purchased]aj\", \"zar\\u0101pu[purchase]v\", \"zikru[utterance]n\", \"zikru[utterance]n\", \"zittu[share]n\", \"zunnu[rain]n\", \"zunnu[rain]n\", \"zunnu[rain]n\", \"z\\u0113ru[seed(s)]n\", \"z\\u0113ru[seed(s)]n\", \"z\\u0113ru[seed(s)]n\", \"z\\u0113ru[seed(s)]n\", \"z\\u0113ru[seed(s)]n\", \"z\\u012bqtu[torch]n\", \"\\u0101lu[city]n\", \"\\u0101lu[city]n\", \"\\u0101lu[city]n\", \"\\u0101lu[city]n\", \"\\u0101lu[city]n\", \"\\u0101lu[city]n\", \"\\u0101lu[city]n\", \"\\u0101meru[that-sees]n\", \"\\u0101\\u0161ibu[sitting]aj\", \"\\u0101\\u0161ibu[sitting]aj\", \"\\u0101\\u0161ibu[sitting]aj\", \"\\u0101\\u0161ibu[sitting]aj\", \"\\u0113kallu[palace]n\", \"\\u0113kallu[palace]n\", \"\\u0113kallu[palace]n\", \"\\u0113kallu[palace]n\", \"\\u0113kallu[palace]n\", \"\\u0113kallu[palace]n\", \"\\u0113kallu[palace]n\", \"\\u0113kallu[palace]n\", \"\\u0113kallu[palace]n\", \"\\u0113kallu[palace]n\", \"\\u0113p\\u00fb[baker]n\", \"\\u0113p\\u00fb[baker]n\", \"\\u0113ribu[enterer]n\", \"\\u0113\\u1e63idu[reaper]n\", \"\\u012bnu[eye]n\", \"\\u012bnu[eye]n\", \"\\u012bnu[eye]n\", \"\\u012bnu[eye]n\", \"\\u012bnu[eye]n\", \"\\u012bnu[eye]n\", \"\\u0161a-patt\\u016bti[open-chariot]n\", \"\\u0161a-qurb\\u016bti[close-follower]n\", \"\\u0161a-qurb\\u016bti[close-follower]n\", \"\\u0161a-qurb\\u016bti[close-follower]n\", \"\\u0161a-qurb\\u016bti[close-follower]n\", \"\\u0161a-r\\u0113\\u0161-\\u0161arri[royal-eunuch]n\", \"\\u0161a-r\\u0113\\u0161i[eunuch]n\", \"\\u0161a-r\\u0113\\u0161i[eunuch]n\", \"\\u0161a-r\\u0113\\u0161i[eunuch]n\", \"\\u0161a-r\\u0113\\u0161i[eunuch]n\", \"\\u0161a-r\\u0113\\u0161i[eunuch]n\", \"\\u0161a-r\\u0113\\u0161i[eunuch]n\", \"\\u0161a-t\\u0113lissi[purification-device]n\", \"\\u0161a-ziqni[bearded-courtier]n\", \"\\u0161ad\\u00fb[mountain]n\", \"\\u0161ad\\u00fb[mountain]n\", \"\\u0161ad\\u00fb[mountain]n\", \"\\u0161ad\\u00fb[mountain]n\", \"\\u0161akintu[(a-female-official)]n\", \"\\u0161aknu[appointee]n\", \"\\u0161aknu[appointee]n\", \"\\u0161aknu[appointee]n\", \"\\u0161aknu[appointee]n\", \"\\u0161aknu[appointee]n\", \"\\u0161aknu[placed]aj\", \"\\u0161aknu[placed]aj\", \"\\u0161aknu[placed]aj\", \"\\u0161aknu[placed]aj\", \"\\u0161aknu[placed]aj\", \"\\u0161aknu[placed]aj\", \"\\u0161aknu[placed]aj\", \"\\u0161alh\\u00fb[outer-wall]n\", \"\\u0161almu[intact]aj\", \"\\u0161almu[intact]aj\", \"\\u0161almu[intact]aj\", \"\\u0161almu[intact]aj\", \"\\u0161al\\u0101mu[be(come)-healthy]v\", \"\\u0161al\\u0101mu[be(come)-healthy]v\", \"\\u0161al\\u0101mu[be(come)-healthy]v\", \"\\u0161al\\u0101mu[be(come)-healthy]v\", \"\\u0161al\\u0101mu[be(come)-healthy]v\", \"\\u0161al\\u0101mu[be(come)-healthy]v\", \"\\u0161amnu[oil]n\", \"\\u0161amnu[oil]n\", \"\\u0161am\\u00fb[heaven]n\", \"\\u0161am\\u00fb[sky]n\", \"\\u0161am\\u00fb[sky]n\", \"\\u0161am\\u00fb[sky]n\", \"\\u0161ang\\u00fb[priest]n\", \"\\u0161ang\\u00fb[priest]n\", \"\\u0161ang\\u00fb[priest]n\", \"\\u0161an\\u00fb[be(come)-different]v\", \"\\u0161apartu[pledge]n\", \"\\u0161appatu[(a-pottery-vessel)]n\", \"\\u0161appatu[(a-pottery-vessel)]n\", \"\\u0161aptu[lip]n\", \"\\u0161aq\\u00fb[high]aj\", \"\\u0161arpu[burning]n\", \"\\u0161arratu[queen]n\", \"\\u0161arr\\u016btu[kingship]n\", \"\\u0161arr\\u016btu[kingship]n\", \"\\u0161arr\\u016btu[kingship]n\", \"\\u0161arr\\u016btu[kingship]n\", \"\\u0161ar\\u0101qu[steal]v\", \"\\u0161atamm\\u016btu[post-of-\\u0161atammu]n\", \"\\u0161attu[year]n\", \"\\u0161attu[year]n\", \"\\u0161attu[year]n\", \"\\u0161attu[year]n\", \"\\u0161attu[year]n\", \"\\u0161attu[year]n\", \"\\u0161attu[year]n\", \"\\u0161attu[year]n\", \"\\u0161awiru[ring]n\", \"\\u0161awiru[ring]n\", \"\\u0161a\\u1e63butu[supplies]n\", \"\\u0161a\\u1e6d\\u0101ru[write]v\", \"\\u0161a\\u1e6d\\u0101ru[write]v\", \"\\u0161a\\u1e6d\\u0101ru[write]v\", \"\\u0161a\\u1e6d\\u0101ru[write]v\", \"\\u0161eb\\u00fb[be(come)-full]v\", \"\\u0161eb\\u00fb[be(come)-full]v\", \"\\u0161el\\u00fb[be(come)-neglectful]v\", \"\\u0161er\\u0161erratu[chain]n\", \"\\u0161ib\\u0161u[(an-agricultural-tax)]n\", \"\\u0161ikaru[beer]n\", \"\\u0161ikaru[beer]n\", \"\\u0161ikaru[beer]n\", \"\\u0161inni\\u0161tu[woman]n\", \"\\u0161ipirtu[message]n\", \"\\u0161ipru[sending]n\", \"\\u0161ipru[sending]n\", \"\\u0161ipru[sending]n\", \"\\u0161iptu[incantation]n\", \"\\u0161ip\\u0161atu[(length-of)-wood]n\", \"\\u0161iqlu[unit]n\", \"\\u0161iqlu[unit]n\", \"\\u0161i\\u0101mu[fix]v\", \"\\u0161uk\\u00eanu[prostrate-oneself]v\", \"\\u0161ulm\\u0101nu[greeting-gift]n\", \"\\u0161ulm\\u0101nu[greeting-gift]n\", \"\\u0161umu[name]n\", \"\\u0161umu[name]n\", \"\\u0161umu[name]n\", \"\\u0161umu[name]n\", \"\\u0161umu[name]n\", \"\\u0161umu[name]n\", \"\\u0161um\\u0113lu[left-side]n\", \"\\u0161um\\u0113lu[left-side]n\", \"\\u0161um\\u0113lu[left-side]n\", \"\\u0161um\\u0113lu[left-side]n\", \"\\u0161um\\u0113lu[left-side]n\", \"\\u0161um\\u0113lu[left-side]n\", \"\\u0161up\\u00ealu[exchange]v\", \"\\u0161up\\u0101l\\u012btu-halluptu[reinforced-lower-garment]n\", \"\\u0161uqultu[weight]n\", \"\\u0161urr\\u00fb[begin]v\", \"\\u0161ut\\u0101t\\u00fb[being-in-opposition]aj\", \"\\u0161\\u0101t-urri[(the-watch)-of-dawn]n\", \"\\u0161\\u0113htu[incense-burner]n\", \"\\u0161\\u0113m\\u00fb[hearer]n\", \"\\u0161\\u0113pu[foot]n\", \"\\u0161\\u0113pu[foot]n\", \"\\u0161\\u0113pu[foot]n\", \"\\u0161\\u0113pu[foot]n\", \"\\u0161\\u0113pu[foot]n\", \"\\u0161\\u0113pu[foot]n\", \"\\u0161\\u0113pu[foot]n\", \"\\u0161\\u0113pu[foot]n\", \"\\u0161\\u012bbu[old-man]n\", \"\\u0161\\u012bbu[witness]n\", \"\\u0161\\u012bb\\u016btu[old-age]n\", \"\\u0161\\u012bmtu[fate]n\", \"\\u0161\\u012bmtu[fate]n\", \"\\u0161\\u012bmu[purchase-(price)]n\", \"\\u0161\\u012bp\\u0101tu[wool]n\", \"\\u0161\\u012bp\\u0101tu[wool]n\", \"\\u0161\\u012bp\\u0101tu[wool]n\", \"\\u0161\\u012bru[flesh]n\", \"\\u0161\\u012bru[flesh]n\", \"\\u0161\\u012bru[flesh]n\", \"\\u0161\\u016bl\\u00fb[raised]aj\", \"\\u1e63abtu[seized]aj\", \"\\u1e63abtu[seized]aj\", \"\\u1e63abtu[seized]aj\", \"\\u1e63ab\\u00fb[wished-for]aj\", \"\\u1e63ab\\u0101tu[seize]v\", \"\\u1e63ab\\u0101tu[seize]v\", \"\\u1e63ab\\u0101tu[seize]v\", \"\\u1e63ab\\u0101tu[seize]v\", \"\\u1e63ab\\u0101tu[seize]v\", \"\\u1e63ahittu[wish]n\", \"\\u1e63almu[black]aj\", \"\\u1e63almu[black]aj\", \"\\u1e63almu[effigy]n\", \"\\u1e63almu[effigy]n\", \"\\u1e63almu[effigy]n\", \"\\u1e63arpu[silver]n\", \"\\u1e63arpu[silver]n\", \"\\u1e63arpu[silver]n\", \"\\u1e63arpu[silver]n\", \"\\u1e63eh\\u0113ru[be(come)-small]v\", \"\\u1e63illu[shade]n\", \"\\u1e63illu[shade]n\", \"\\u1e63illu[shade]n\", \"\\u1e63ub\\u0101tu[textile]n\", \"\\u1e63ub\\u0101tu[textile]n\", \"\\u1e63uhurtu[the-young-youth(s)]n\", \"\\u1e63upru[nail]n\", \"\\u1e63\\u0101bitu[recipient]n\", \"\\u1e63\\u0101bitu[recipient]n\", \"\\u1e63\\u0101bu[people]n\", \"\\u1e63\\u0101bu[people]n\", \"\\u1e63\\u0101bu[people]n\", \"\\u1e63\\u0101bu[people]n\", \"\\u1e63\\u0101bu[people]n\", \"\\u1e63\\u0113lu[rib]n\", \"\\u1e63\\u0113ru[back]n\", \"\\u1e63\\u0113ru[back]n\", \"\\u1e63\\u0113ru[back]n\", \"\\u1e63\\u0113ru[back]n\", \"\\u1e63\\u0113ru[back]n\", \"\\u1e63\\u012bru[envoy]n\", \"\\u1e63\\u012bru[envoy]n\", \"\\u1e63\\u012bru[exalted]aj\", \"\\u1e6dabtu[salt]n\", \"\\u1e6dabtu[salt]n\", \"\\u1e6dabtu[salt]n\", \"\\u1e6deh\\u00fb[be(come)-near-to]v\", \"\\u1e6deh\\u00fb[be(come)-near-to]v\", \"\\u1e6di\\u0101bu[be(come)-good]v\", \"\\u1e6di\\u0101bu[be(come)-good]v\", \"\\u1e6duppu[tablet]n\", \"\\u1e6duppu[tablet]n\", \"\\u1e6duppu[tablet]n\", \"\\u1e6duppu[tablet]n\", \"\\u1e6duppu[tablet]n\", \"\\u1e6duppu[tablet]n\", \"\\u1e6dup\\u0161arru[scribe]n\", \"\\u1e6dup\\u0161arru[scribe]n\", \"\\u1e6dup\\u0161arru[scribe]n\", \"\\u1e6dup\\u0161arru[scribe]n\", \"\\u1e6dup\\u0161arru[scribe]n\", \"\\u1e6d\\u00e2bu[be(come)-good]v\", \"\\u1e6d\\u0101btu[goodness]n\", \"\\u1e6d\\u0101btu[goodness]n\", \"\\u1e6d\\u0113mu[(fore)thought]n\", \"\\u1e6d\\u0113mu[(fore)thought]n\", \"\\u1e6d\\u0113mu[(fore)thought]n\", \"\\u1e6d\\u0113mu[(fore)thought]n\", \"\\u1e6d\\u0113mu[(fore)thought]n\", \"\\u1e6d\\u0113mu[(fore)thought]n\", \"\\u1e6d\\u016bbu[goodness]n\", \"\\u1e6d\\u016bbu[goodness]n\", \"\\u1e6d\\u016bbu[goodness]n\"]}, \"R\": 30, \"lambda.step\": 0.01, \"plot.opts\": {\"xlab\": \"PC1\", \"ylab\": \"PC2\"}, \"topic.order\": [1, 2, 3, 4, 5, 6, 7, 8, 9, 10]};\n",
       "\n",
       "function LDAvis_load_lib(url, callback){\n",
       "  var s = document.createElement('script');\n",
       "  s.src = url;\n",
       "  s.async = true;\n",
       "  s.onreadystatechange = s.onload = callback;\n",
       "  s.onerror = function(){console.warn(\"failed to load library \" + url);};\n",
       "  document.getElementsByTagName(\"head\")[0].appendChild(s);\n",
       "}\n",
       "\n",
       "if(typeof(LDAvis) !== \"undefined\"){\n",
       "   // already loaded: just create the visualization\n",
       "   !function(LDAvis){\n",
       "       new LDAvis(\"#\" + \"ldavis_el140420186680045125266376383\", ldavis_el140420186680045125266376383_data);\n",
       "   }(LDAvis);\n",
       "}else if(typeof define === \"function\" && define.amd){\n",
       "   // require.js is available: use it to load d3/LDAvis\n",
       "   require.config({paths: {d3: \"https://d3js.org/d3.v5\"}});\n",
       "   require([\"d3\"], function(d3){\n",
       "      window.d3 = d3;\n",
       "      LDAvis_load_lib(\"https://cdn.jsdelivr.net/gh/bmabey/pyLDAvis@3.4.0/pyLDAvis/js/ldavis.v3.0.0.js\", function(){\n",
       "        new LDAvis(\"#\" + \"ldavis_el140420186680045125266376383\", ldavis_el140420186680045125266376383_data);\n",
       "      });\n",
       "    });\n",
       "}else{\n",
       "    // require.js not available: dynamically load d3 & LDAvis\n",
       "    LDAvis_load_lib(\"https://d3js.org/d3.v5.js\", function(){\n",
       "         LDAvis_load_lib(\"https://cdn.jsdelivr.net/gh/bmabey/pyLDAvis@3.4.0/pyLDAvis/js/ldavis.v3.0.0.js\", function(){\n",
       "                 new LDAvis(\"#\" + \"ldavis_el140420186680045125266376383\", ldavis_el140420186680045125266376383_data);\n",
       "            })\n",
       "         });\n",
       "}\n",
       "</script>"
      ],
      "text/plain": [
       "<IPython.core.display.HTML object>"
      ]
     },
     "execution_count": 10,
     "metadata": {},
     "output_type": "execute_result"
    }
   ],
   "source": [
    "pyLDAvis.enable_notebook()\n",
    "vis = pyLDAvis.gensim_models.prepare(ldamodel, corpus, dictionary, sort_topics=False)\n",
    "if not os.path.exists('vis'):\n",
    "    os.makedirs('vis')\n",
    "pyLDAvis.save_html(vis, 'vis/lda_terms.html')\n",
    "pyLDAvis.display(vis)"
   ]
  },
  {
   "cell_type": "markdown",
   "metadata": {},
   "source": [
    "# Visualize the Documents 1: Using MDS\n",
    "While pyLDAvis is an excellent tool for exploring the topic/term aspect of a topic model (the words and their probabilities in each topic) it does not provide access to the document/topic aspect (the probability distribution of topics in each document). The visualization below plots all the documents according to their (cosine) distances (using Multi-Dimensional Scaling) in the Document/Term DataFrame. Each document (data point in the visualization) is colored according to the most prevalent topic and the size of the dot represents the probability of the most prevalent topic in that document."
   ]
  },
  {
   "cell_type": "markdown",
   "metadata": {},
   "source": [
    "Compute the distances between each of the documents. Use either the Document/Topic Dataframe or the Document/Term Dataframe (constructed below) to measure distance.\n",
    "\n",
    "Since the data is already in list format, CountVectorizer does not need to preprocess or tokenize. The only way to prevent CountVectorizer from doing so is by creating dummy functions for the preprocessor and the tokenizer. The function DoNothing() simply returns the argument it receives."
   ]
  },
  {
   "cell_type": "code",
   "execution_count": null,
   "metadata": {},
   "outputs": [],
   "source": [
    "def DoNothing(x):\n",
    "    return x"
   ]
  },
  {
   "cell_type": "code",
   "execution_count": null,
   "metadata": {
    "collapsed": false,
    "jupyter": {
     "outputs_hidden": false
    }
   },
   "outputs": [],
   "source": [
    "df = topic_model['df']\n",
    "texts = topic_model['texts']\n",
    "cv = CountVectorizer(analyzer='word', preprocessor=DoNothing, tokenizer=DoNothing, \n",
    "                     token_pattern=None)\n",
    "dtm = cv.fit_transform(texts)\n",
    "dtm_df = pd.DataFrame(dtm.toarray(), columns = cv.get_feature_names_out(), index = df.index.values)\n",
    "dtm_df.head()"
   ]
  },
  {
   "cell_type": "code",
   "execution_count": null,
   "metadata": {
    "collapsed": false,
    "jupyter": {
     "outputs_hidden": false
    }
   },
   "outputs": [],
   "source": [
    "dist = squareform(pdist(dtm_df, 'cosine'))"
   ]
  },
  {
   "cell_type": "markdown",
   "metadata": {},
   "source": [
    "Compute the position of each document using Multi-Dimensional Scaling. The variable `pos` holds the `x` and `y`  coordinates. Execution of the following cell may take several minutes."
   ]
  },
  {
   "cell_type": "code",
   "execution_count": null,
   "metadata": {
    "collapsed": false,
    "jupyter": {
     "outputs_hidden": false
    }
   },
   "outputs": [],
   "source": [
    "seed = 15\n",
    "mds = MDS(\n",
    "    n_components=2, \n",
    "    max_iter=3000,\n",
    "    random_state=seed, \n",
    "    dissimilarity=\"precomputed\", \n",
    "    n_jobs=1,\n",
    "    normalized_stress='auto')\n",
    "pos = mds.fit_transform(dist)"
   ]
  },
  {
   "cell_type": "markdown",
   "metadata": {},
   "source": [
    "Create lists of x and y values (coordinates)."
   ]
  },
  {
   "cell_type": "code",
   "execution_count": null,
   "metadata": {
    "collapsed": false,
    "jupyter": {
     "outputs_hidden": false
    }
   },
   "outputs": [],
   "source": [
    "mds_x = [x for x, y in pos]\n",
    "mds_y = [y for x, y in pos]"
   ]
  },
  {
   "cell_type": "markdown",
   "metadata": {},
   "source": [
    "Create lists of the most prevalent topic, the probability of the most prevalent topic, and the text name for each document. These lists are used in the tooltips of the Bokeh visualization."
   ]
  },
  {
   "cell_type": "code",
   "execution_count": null,
   "metadata": {
    "collapsed": false,
    "jupyter": {
     "outputs_hidden": false
    }
   },
   "outputs": [],
   "source": [
    "d_t_df = topic_model['d_t_df']\n",
    "prevalent_topic = d_t_df.idxmax(axis=1)\n",
    "probability = d_t_df.max(axis=1)\n",
    "designation = list(df['designation'])"
   ]
  },
  {
   "cell_type": "markdown",
   "metadata": {},
   "source": [
    "# Main Visualization Function\n",
    "Interactive features in Bokeh, such as a drop-down menu, use a callback function that is activated when a certain event takes place. This event can be a mouse movement, a click, or a change in the drop-down menu. Custom callback functions need to be written in JavaScript."
   ]
  },
  {
   "cell_type": "markdown",
   "metadata": {},
   "source": [
    "Draw the visualization. The visualization provides various tools for further exploration:\n",
    "- tooltips (provides topic, probability, text name and URL)\n",
    "- box zoom\n",
    "- wheel zoom\n",
    "- pan\n",
    "- reset\n",
    "- link to document edition\n",
    "- save the visualization\n",
    "\n",
    "In addition, the visualization has a drop-down menu that allow the user to select two topics.\n",
    "This function was written with feedback from ChatGPT."
   ]
  },
  {
   "cell_type": "code",
   "execution_count": null,
   "metadata": {},
   "outputs": [],
   "source": [
    "def drawviz(title, outputfile):\n",
    "    colormap = {\n",
    "        str(i): color for i, color in enumerate([\n",
    "            'grey', 'orange', 'olive', 'firebrick', 'gold', 'red', 'fuchsia', 'green',\n",
    "            'blue', 'purple', 'aqua', 'yellow', 'indigo', 'blueviolet', 'beige', 'navy',\n",
    "            'chocolate', 'azure', 'coral', 'crimson', 'darkblue', 'darkkhaki', \n",
    "            'darkseagreen', 'darkturquoise', 'deeppink', 'black'\n",
    "        ])\n",
    "    }\n",
    "\n",
    "    colormap_source = ColumnDataSource(data=dict(\n",
    "        topic=list(colormap.keys()),\n",
    "        color=list(colormap.values())\n",
    "    ))\n",
    "\n",
    "    d_mds = dict(\n",
    "        x=mds_x,\n",
    "        y=mds_y,\n",
    "        id_text=list(df.id_text),\n",
    "        size=probability / max(probability) * 15,\n",
    "        probability=probability,\n",
    "        topic=[str(n) for n in prevalent_topic],  # ensure string topics\n",
    "        color=[colormap[str(n)] for n in prevalent_topic],\n",
    "        alpha=[0.5] * len(mds_x),\n",
    "        designation=designation\n",
    "    )\n",
    "\n",
    "    source_mds = ColumnDataSource(data=d_mds)\n",
    "\n",
    "    p = figure(width=1000, height=1000,\n",
    "               tools=\"tap,pan,wheel_zoom,box_zoom,reset,save\", \n",
    "               title=title)\n",
    "\n",
    "    p.add_tools(HoverTool(tooltips=[\n",
    "        (\"url\", \"http://oracc.org/\" + \"@id_text\"),\n",
    "        (\"topic, probability\", \"@topic, @probability\"),\n",
    "        (\"designation\", \"@designation\")\n",
    "    ]))\n",
    "\n",
    "    p.circle('x', 'y', color='color', fill_alpha='alpha', size='size', source=source_mds)\n",
    "    p.axis.visible = False\n",
    "\n",
    "    # MultiChoice selector instead of sliders\n",
    "    topic_selector = MultiChoice(title=\"Select Topics\",\n",
    "                                 options=[str(i+1) for i in range(ntopics)],\n",
    "                                 value=[])\n",
    "\n",
    "    callback = CustomJS(args=dict(\n",
    "        source=source_mds,\n",
    "        selector=topic_selector,\n",
    "        colormap=colormap_source\n",
    "    ), code=\"\"\"\n",
    "        const selected = selector.value;\n",
    "        const data = source.data;\n",
    "        const topics = data['topic'];\n",
    "        const alpha = data['alpha'];\n",
    "        const colors = data['color'];\n",
    "        const cmap_data = colormap.data;\n",
    "\n",
    "        let cmap = {};\n",
    "        for (let i = 0; i < cmap_data['topic'].length; i++) {\n",
    "            cmap[cmap_data['topic'][i]] = cmap_data['color'][i];\n",
    "        }\n",
    "\n",
    "        for (let i = 0; i < topics.length; i++) {\n",
    "            const currentTopic = topics[i];\n",
    "            const highlight = selected.length === 0 || selected.includes(currentTopic);\n",
    "            alpha[i] = highlight ? 0.5 : 0.1;\n",
    "            colors[i] = highlight ? cmap[currentTopic] : 'grey';\n",
    "        }\n",
    "\n",
    "        source.change.emit();\n",
    "    \"\"\")\n",
    "\n",
    "    topic_selector.js_on_change('value', callback)\n",
    "\n",
    "    # Tap tool\n",
    "    taptool = p.select(type=TapTool)\n",
    "    taptool.callback = OpenURL(url=\"http://oracc.museum.upenn.edu/@id_text\")\n",
    "\n",
    "    instructions = [\n",
    "        \"Highlight one or more topics using the dropdown. If none are selected, all are shown.\",\n",
    "        \"Hover over a data point for more info. Click to view the document edition.\",\n",
    "        \"Use the toolbar to zoom, pan, reset, or save as .png.\"\n",
    "    ]\n",
    "    for line in instructions:\n",
    "        p.add_layout(Title(text=line), 'below')\n",
    "\n",
    "    layout = column(topic_selector, p)\n",
    "    reset_output()\n",
    "    output_file(outputfile)\n",
    "    save(layout)\n",
    "    show(layout)\n"
   ]
  },
  {
   "cell_type": "code",
   "execution_count": null,
   "metadata": {},
   "outputs": [],
   "source": [
    "drawviz('Visualize with MDS', 'vis/lda_mds.html')"
   ]
  },
  {
   "cell_type": "code",
   "execution_count": null,
   "metadata": {},
   "outputs": [],
   "source": [
    "reset_output()\n",
    "output_notebook()\n",
    "title = \"Projection with MDS. Size of the circle represents prevalence of the topic.\"\n",
    "outputfile = 'vis/mds1.html'\n",
    "drawviz(d_mds, title, 'vis/mds1.html')"
   ]
  },
  {
   "cell_type": "code",
   "execution_count": null,
   "metadata": {},
   "outputs": [],
   "source": [
    "from bokeh.plotting import figure, show, output_file, save\n",
    "from bokeh.models import (\n",
    "    ColumnDataSource, HoverTool, Slider, CustomJS,\n",
    "    OpenURL, TapTool, Title\n",
    ")\n",
    "from bokeh.layouts import column\n",
    "\n",
    "def drawviz(data, title, outputfile, ntopics, colormap, instructions):\n",
    "    source = ColumnDataSource(data=data)\n",
    "\n",
    "    # Create figure\n",
    "    p = figure(\n",
    "        width=1000, height=1000,\n",
    "        tools=\"tap,pan,wheel_zoom,box_zoom,reset,save\",\n",
    "        title=title\n",
    "    )\n",
    "\n",
    "    # Add hover tool\n",
    "    hover = HoverTool(\n",
    "        tooltips=[\n",
    "            (\"URL\", \"@id_text\",),  # Actual link handled below\n",
    "            (\"Topic, Probability\", \"@topic, @probability\"),\n",
    "            (\"Designation\", \"@designation\")\n",
    "        ]\n",
    "    )\n",
    "    p.add_tools(hover)\n",
    "\n",
    "    # Draw circles\n",
    "    p.circle(\n",
    "        x='x', y='y',\n",
    "        color='color', fill_alpha='alpha', size='size',\n",
    "        source=source\n",
    "    )\n",
    "    p.axis.visible = False\n",
    "\n",
    "    # Create sliders\n",
    "    slider1 = Slider(start=0, end=ntopics, value=0, step=1, title=\"Topic A\")\n",
    "    slider2 = Slider(start=0, end=ntopics, value=0, step=1, title=\"Topic B\")\n",
    "\n",
    "    # JavaScript callback (from earlier improved version)\n",
    "    callback_code = \"\"\"\n",
    "        var data = source.data;\n",
    "        var topics = data['topic'];\n",
    "        var alpha = data['alpha'];\n",
    "        var colors = data['color'];\n",
    "        var selected1 = topic1.value;\n",
    "        var selected2 = topic2.value;\n",
    "\n",
    "        for (var i = 0; i < topics.length; i++) {\n",
    "            var currentTopic = topics[i];\n",
    "            var highlight = (selected1 === 0 && selected2 === 0) ||\n",
    "                            (currentTopic === selected1 || currentTopic === selected2);\n",
    "            alpha[i] = highlight ? 0.5 : 0.1;\n",
    "            colors[i] = highlight ? cm[currentTopic] : 'grey';\n",
    "        }\n",
    "        source.change.emit();\n",
    "    \"\"\"\n",
    "\n",
    "    callback = CustomJS(args=dict(source=source, topic1=slider1, topic2=slider2, cm=colormap), code=callback_code)\n",
    "    slider1.js_on_change('value', callback)\n",
    "    slider2.js_on_change('value', callback)\n",
    "\n",
    "    # Set up TapTool with dynamic URL\n",
    "    taptool = p.select(type=TapTool)\n",
    "    taptool.callback = OpenURL(url=\"http://oracc.museum.upenn.edu/@id_text\")\n",
    "\n",
    "    # Add instructional text as layout titles\n",
    "    for line in instructions:\n",
    "        p.add_layout(Title(text=line), 'below')\n",
    "\n",
    "    # Build layout and show\n",
    "    layout = column(slider1, slider2, p)\n",
    "    output_file(outputfile)\n",
    "    show(layout)\n",
    "    save(layout);\n"
   ]
  },
  {
   "cell_type": "markdown",
   "metadata": {},
   "source": [
    "## Alternative: plotting based on Document/Topic table\n",
    "The following visualization uses the same approach, but takes the document/topic table as the basis for distance measurements. Documents that share approximately the same distribution of topics will be plotted n the same region. Since the sum of each row in the document/topic table is 1 the distance matrix is computed with euclidean distance (not cosine)."
   ]
  },
  {
   "cell_type": "code",
   "execution_count": null,
   "metadata": {
    "collapsed": false,
    "jupyter": {
     "outputs_hidden": false
    }
   },
   "outputs": [],
   "source": [
    "dist_dt = squareform(pdist(d_t_df))"
   ]
  },
  {
   "cell_type": "code",
   "execution_count": null,
   "metadata": {},
   "outputs": [],
   "source": [
    "mds = MDS(n_components=2, max_iter=3000,\n",
    "       random_state=seed, dissimilarity=\"precomputed\", n_jobs=1)\n",
    "pos = mds.fit_transform(dist_dt)"
   ]
  },
  {
   "cell_type": "code",
   "execution_count": null,
   "metadata": {},
   "outputs": [],
   "source": [
    "drawviz(d_mds2, 'Visualize with MDS, version 2', 'vis/lda_mds2.html')"
   ]
  },
  {
   "cell_type": "code",
   "execution_count": null,
   "metadata": {},
   "outputs": [],
   "source": [
    "d_mds2 = d_mds.copy() # the data source is the same as for the previous visualization, except for the x and y coordinates.\n",
    "d_mds2['x'] = [x for x, y in pos]\n",
    "d_mds2['y'] = [y for x, y in pos]"
   ]
  },
  {
   "cell_type": "code",
   "execution_count": null,
   "metadata": {},
   "outputs": [],
   "source": [
    "reset_output()\n",
    "output_notebook()\n",
    "title = \"Projection with MDS, based on Document/Topic distribution. Size of the circle represents prevalence of the topic.\"\n",
    "outputfile = 'vis/mds2.html'\n",
    "drawviz(d_mds2, title, outputfile)"
   ]
  },
  {
   "cell_type": "markdown",
   "metadata": {},
   "source": [
    "# Visualize the Documents 2: Using TSNE"
   ]
  },
  {
   "cell_type": "markdown",
   "metadata": {},
   "source": [
    "# TSNE based on Document/Term Matrix (Cosine distance)\n",
    "\n",
    "Cosine distances have been computed earlier; the matrix is stored in the variable `dist`."
   ]
  },
  {
   "cell_type": "code",
   "execution_count": null,
   "metadata": {
    "collapsed": false,
    "jupyter": {
     "outputs_hidden": false
    }
   },
   "outputs": [],
   "source": [
    "X = dist\n",
    "tsne = TSNE(n_components = 2, random_state=0, metric=\"precomputed\")\n",
    "X_tsne = tsne.fit_transform(X)"
   ]
  },
  {
   "cell_type": "code",
   "execution_count": null,
   "metadata": {},
   "outputs": [],
   "source": [
    "d_tsne = d_mds.copy() # the data source is the same as for the previous visualization, except for the x and y coordinates.\n",
    "d_tsne['x'] = [x for x, y in X_tsne]\n",
    "d_tsne['y'] = [y for x, y in X_tsne]"
   ]
  },
  {
   "cell_type": "code",
   "execution_count": null,
   "metadata": {},
   "outputs": [],
   "source": [
    "title = \"Projection with tSNE. Size of the circle represents prevalence of the topic.\"\n",
    "outputfile = 'vis/tsne1.html'\n",
    "drawviz(d_tsne, title, outputfile)"
   ]
  },
  {
   "cell_type": "markdown",
   "metadata": {},
   "source": [
    "# TSNE based on Document/Topic Matrix"
   ]
  },
  {
   "cell_type": "code",
   "execution_count": null,
   "metadata": {
    "collapsed": false,
    "jupyter": {
     "outputs_hidden": false
    }
   },
   "outputs": [],
   "source": [
    "X = dist_dt\n",
    "tsne = TSNE(n_components = 2, random_state=0, metric=\"precomputed\")\n",
    "X_tsne = tsne.fit_transform(X)"
   ]
  },
  {
   "cell_type": "code",
   "execution_count": null,
   "metadata": {},
   "outputs": [],
   "source": [
    "d_tsne2 = d_mds.copy() # the data source is the same as for the previous visualization, except for the x and y coordinates.\n",
    "d_tsne2['x'] = [x for x, y in X_tsne]\n",
    "d_tsne2['y'] = [y for x, y in X_tsne]"
   ]
  },
  {
   "cell_type": "code",
   "execution_count": null,
   "metadata": {},
   "outputs": [],
   "source": [
    "title = \"Projection with tSNE, based on Document/Topic distribution. Size of the circle represents prevalence of the topic.\"\n",
    "outputfile = 'vis/tsne2.html'\n",
    "drawviz(d_tsne2, title, outputfile)"
   ]
  },
  {
   "cell_type": "code",
   "execution_count": null,
   "metadata": {},
   "outputs": [],
   "source": []
  }
 ],
 "metadata": {
  "anaconda-cloud": {},
  "kernelspec": {
   "display_name": "Python 3 (ipykernel)",
   "language": "python",
   "name": "python3"
  },
  "language_info": {
   "codemirror_mode": {
    "name": "ipython",
    "version": 3
   },
   "file_extension": ".py",
   "mimetype": "text/x-python",
   "name": "python",
   "nbconvert_exporter": "python",
   "pygments_lexer": "ipython3",
   "version": "3.8.8"
  }
 },
 "nbformat": 4,
 "nbformat_minor": 4
}
