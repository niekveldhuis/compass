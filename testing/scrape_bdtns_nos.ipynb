{
 "cells": [
  {
   "cell_type": "code",
   "execution_count": 1,
   "metadata": {},
   "outputs": [],
   "source": [
    "from bs4 import BeautifulSoup as bs"
   ]
  },
  {
   "cell_type": "code",
   "execution_count": 2,
   "metadata": {},
   "outputs": [],
   "source": [
    "files = ['lineas_lexema.html', 'lineas_lexema2.html', 'lineas_lexema3.html']"
   ]
  },
  {
   "cell_type": "code",
   "execution_count": 3,
   "metadata": {},
   "outputs": [],
   "source": [
    "bdtns_nos = []\n",
    "for file in files:\n",
    "    with open(file, encoding='utf8') as fp:\n",
    "        soup = bs(fp, 'html.parser') \n",
    "    text_list = soup.find_all('div', {id})\n",
    "    for t in text_list:\n",
    "        n = t.get('id')\n",
    "        if n:\n",
    "            n = n[-6:]\n",
    "            bdtns_nos.append(n)"
   ]
  },
  {
   "cell_type": "code",
   "execution_count": 14,
   "metadata": {},
   "outputs": [
    {
     "data": {
      "text/plain": [
       "232"
      ]
     },
     "execution_count": 14,
     "metadata": {},
     "output_type": "execute_result"
    }
   ],
   "source": [
    "len(bdtns_nos)"
   ]
  },
  {
   "cell_type": "code",
   "execution_count": null,
   "metadata": {},
   "outputs": [],
   "source": []
  }
 ],
 "metadata": {
  "kernelspec": {
   "display_name": "Python 3",
   "language": "python",
   "name": "python3"
  },
  "language_info": {
   "codemirror_mode": {
    "name": "ipython",
    "version": 3
   },
   "file_extension": ".py",
   "mimetype": "text/x-python",
   "name": "python",
   "nbconvert_exporter": "python",
   "pygments_lexer": "ipython3",
   "version": "3.7.6"
  },
  "widgets": {
   "state": {
    "5ccd37d2faeb4710907f874f300c048a": {
     "views": [
      {
       "cell_index": 5
      }
     ]
    },
    "9e105c292ec24e9ea2d66dc4e4dc2d39": {
     "views": [
      {
       "cell_index": 5
      }
     ]
    },
    "c1acbffd4bf24f438aa03f82d66d7133": {
     "views": [
      {
       "cell_index": 5
      }
     ]
    },
    "c33cfd2662af4a5c8b0c2424058962c5": {
     "views": [
      {
       "cell_index": 5
      }
     ]
    }
   },
   "version": "1.2.0"
  }
 },
 "nbformat": 4,
 "nbformat_minor": 4
}
