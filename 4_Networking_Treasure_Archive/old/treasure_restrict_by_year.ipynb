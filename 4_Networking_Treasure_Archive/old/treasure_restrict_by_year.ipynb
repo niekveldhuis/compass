{
 "cells": [
  {
   "cell_type": "code",
   "execution_count": null,
   "metadata": {
    "tags": []
   },
   "outputs": [],
   "source": [
    "import networkx as nx\n",
    "import networkx.algorithms.community as nxcom\n",
    "import matplotlib.pyplot as plt\n",
    "from matplotlib.lines import Line2D\n",
    "from ipywidgets import interact, IntRangeSlider\n",
    "%matplotlib inline\n",
    "from IPython.display import display, clear_output\n",
    "import pickle\n",
    "import numpy as np"
   ]
  },
  {
   "cell_type": "code",
   "execution_count": null,
   "metadata": {},
   "outputs": [],
   "source": [
    "with open('pickle/treasury.p', 'rb') as f: \n",
    "    G = pickle.load(f)"
   ]
  },
  {
   "cell_type": "code",
   "execution_count": null,
   "metadata": {},
   "outputs": [],
   "source": [
    "H = nx.DiGraph.to_undirected(G)"
   ]
  },
  {
   "cell_type": "code",
   "execution_count": null,
   "metadata": {},
   "outputs": [],
   "source": [
    "minyear = min(nx.get_edge_attributes(G, \"min_date\").values())\n",
    "maxyear = max(nx.get_edge_attributes(G, \"max_date\").values())"
   ]
  },
  {
   "cell_type": "code",
   "execution_count": null,
   "metadata": {},
   "outputs": [],
   "source": [
    "def discrete_cmap(N, base_cmap=None):\n",
    "    \"\"\"Create an N-bin discrete colormap from the specified input map\n",
    "    https://gist.github.com/jakevdp/91077b0cae40f8f8244a\n",
    "    by Jake VanderPlas\"\"\"\n",
    "    base = plt.cm.get_cmap(base_cmap)\n",
    "    color_list = base(np.linspace(0, 1, N))\n",
    "    return color_list"
   ]
  },
  {
   "cell_type": "code",
   "execution_count": null,
   "metadata": {},
   "outputs": [],
   "source": [
    "@interact(years = IntRangeSlider(value = [minyear, maxyear], min = minyear, max=maxyear))\n",
    "def restrict_by_years(years):\n",
    "    s_edges = [(s, t) for s,t,a in H.edges(data=True) if years[0] < a['min_date'] and years[1] > a['max_date']]\n",
    "    graph = H.edge_subgraph(s_edges)\n",
    "    k_clique_com = sorted(nxcom.k_clique_communities(graph, 4), key=len, reverse=True)\n",
    "    # Count the communities\n",
    "    N = len(k_clique_com)\n",
    "    colmap = discrete_cmap(N+2, \"jet\")\n",
    "    colmap[0] = [0, 0, 0, 1]  # 0 = black\n",
    "    print(f\"The graph has {N} clique communities.\")\n",
    "    print(f\"Edges: {graph.number_of_edges()}\")\n",
    "    nx.set_node_attributes(H, {0}, \"cliques\") # set {0} as default\n",
    "    for c, v_c in enumerate(k_clique_com):\n",
    "        for v in v_c:\n",
    "            if min(graph.nodes[v]['cliques']) > 0:  # node is already in a clique\n",
    "                graph.nodes[v]['cliques'].add(c+1) # add clique no. to the set\n",
    "            else:\n",
    "                graph.nodes[v]['cliques'] = {c+1}\n",
    "    nx.set_edge_attributes(H, 0, \"clique\")  # default is 0\n",
    "    for v, w, in H.edges:\n",
    "        c = H.nodes[v]['cliques'].intersection(H.nodes[w]['cliques']) # do the two nodes share a community?\n",
    "        if c:\n",
    "            # Internal edge, mark with community\n",
    "            H.edges[v, w]['clique'] = min(c)\n",
    "    nodes = [x for x, y in graph.nodes(data=True) if min(y[\"cliques\"]) > 0 or y[\"degree\"] > 8] # select nodes\n",
    "    I = graph.subgraph(nodes)\n",
    "    node_color = [colmap[min(I.nodes[v]['cliques'])] if len(I.nodes[v]['cliques'])==1 else colmap[N+1] for v in I.nodes]\n",
    "    edge_color = [colmap[I.edges[v, w]['clique']] for v, w in I.edges]\n",
    "    labels = nx.get_node_attributes(I, 'name')\n",
    "    label_pos = {}\n",
    "    pos = nx.circular_layout(I)\n",
    "    for k, v in pos.items():   # shift position of label slightly away from the node\n",
    "        label_pos[k] = (v[0], v[1]+0.03)\n",
    "    fig = plt.figure(figsize=(15, 12))\n",
    "    plt.gca().margins(0.15, 0.15) # provide margins to prevent labels from going over the edge\n",
    "    nx.draw(\n",
    "        I,\n",
    "        pos=pos,\n",
    "        node_color=node_color,\n",
    "        edge_color=edge_color, \n",
    "        #node_size = node_size, \n",
    "        with_labels = False,\n",
    "        cmap = colmap, \n",
    "        width = 3, \n",
    "        alpha = .65\n",
    "        #cmap= plt.cm.jet\n",
    "        )\n",
    "    nx.draw_networkx_labels(I, label_pos, labels, font_size=16)\n",
    "    # the following are fake \"lines\" used to create the legend.\n",
    "    legend_elements = [Line2D([1], [0], marker='o', color='w', label=str(i+1),\n",
    "                          markerfacecolor=colmap[i+1], markersize=15) for i, c in enumerate(k_clique_com)]\n",
    "    no_com = [Line2D([0], [0], marker='o', color='w', label=\"None\",\n",
    "                          markerfacecolor=colmap[0], markersize=15)]\n",
    "    mult_com = [Line2D([0], [0], marker='o', color='w', label=\"Multiple\",\n",
    "                          markerfacecolor=colmap[N+1], markersize=15)]\n",
    "    legend_elements = no_com + legend_elements + mult_com\n",
    "    fig.legend(handles=legend_elements)\n",
    "    plt.show()"
   ]
  },
  {
   "cell_type": "code",
   "execution_count": null,
   "metadata": {},
   "outputs": [],
   "source": []
  }
 ],
 "metadata": {
  "kernelspec": {
   "display_name": "Python 3",
   "language": "python",
   "name": "python3"
  },
  "language_info": {
   "codemirror_mode": {
    "name": "ipython",
    "version": 3
   },
   "file_extension": ".py",
   "mimetype": "text/x-python",
   "name": "python",
   "nbconvert_exporter": "python",
   "pygments_lexer": "ipython3",
   "version": "3.7.6"
  }
 },
 "nbformat": 4,
 "nbformat_minor": 4
}
