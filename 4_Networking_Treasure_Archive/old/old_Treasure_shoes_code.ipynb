{
 "cells": [
  {
   "cell_type": "markdown",
   "metadata": {},
   "source": [
    "The following is old code that was used in the Treasure_shoes notebook, displaying a network for a single node (Ego) or for a single document. It has options for various layouts. All the dropdown menus call a single function - which, as a consequence - got a little too complex."
   ]
  },
  {
   "cell_type": "code",
   "execution_count": null,
   "metadata": {},
   "outputs": [],
   "source": [
    "def display_texts(change):\n",
    "    Ego = dropdown3.value\n",
    "    id_text = dropdown.value\n",
    "    n = dropdown4.value\n",
    "    eigenv = None\n",
    "    graph = G\n",
    "    layout_ = f\"{dropdown2.value.lower()}_layout\"\n",
    "    plt.figure(figsize=(8, 8))\n",
    "    if widget_list.index(change.owner) == 0: # call from first widget\n",
    "        Ego = 'None' # reset third widget to None\n",
    "    elif widget_list.index(change.owner) == 2: # call from third widget\n",
    "        id_text = 'None'\n",
    "    if id_text != 'None':\n",
    "            s_edges = ((u, v, e) for u,v,e in G.edges(data=True) if id_text in e['id_text'])\n",
    "            graph = nx.Graph(s_edges, create_using = nx.DiGraph())\n",
    "    elif Ego != 'None':\n",
    "            graph = nx.ego_graph(G, Ego, radius=n, undirected=False)  \n",
    "            eigenv = eigenvector.get(Ego)\n",
    "    edge_color = ['blue' if graph[source][target]['edge_type'] == 'relation' \n",
    "                 else 'red' for source, target in graph.edges]\n",
    "    node_color = ['#00ffff' if node.endswith('DN') else '#cc0066' for node in graph.nodes]\n",
    "    pos = getattr(nx, layout_)(graph)\n",
    "    nx.draw(graph,pos=pos, with_labels=True,node_size=300, font_size = 12, edge_color=edge_color, \n",
    "                node_color=node_color, width=2.0, alpha=0.8);\n",
    "    with out2:\n",
    "        clear_output()\n",
    "        print(f\"Nodes: {str(graph.number_of_nodes())}; Density: {str(nx.density(graph))}\")\n",
    "        print(f\"Edges: {str(graph.number_of_edges())}; Eigenvector Centrality: {eigenv}\")\n",
    "        plt.show();\n",
    "    return\n",
    "def open_edition_page(change):\n",
    "    id_text = dropdown.value\n",
    "    if id_text != 'None':\n",
    "        url = f\"http://build-oracc.museum.upenn.edu/treasury/{id_text}\"\n",
    "        webbrowser.open(url)"
   ]
  },
  {
   "cell_type": "code",
   "execution_count": null,
   "metadata": {},
   "outputs": [],
   "source": [
    "layouts = ['Circular', 'Kamada_kawai', 'Random', \n",
    "           'Shell', 'Spectral', 'Spiral', 'Spring']\n",
    "sortorder = \" ʾAaāâBbCcDdEeēêFfGgŊŋHhIiīîJjKkLlMmNnOoPpQqRrSsṢṣŠšTtṬṭUuūûVvWwXxYyZz0123456789₀₁₂₃₄₅₆₇₈₉{}[].-\"\n",
    "Egos = sorted(list(G.nodes), key=lambda word: [sortorder.index(c) for c in word]) # use custom sort order\n",
    "button = widgets.Button(description = 'Open Edition in ORACC', layout=Layout(width='180px'))\n",
    "button.style.button_color = \"lightblue\"\n",
    "dropdown = widgets.Dropdown(options = ['None'] + ids, value='None', description = 'Select Pno')\n",
    "dropdown2 = widgets.Dropdown(options = layouts, value='Circular', description = 'Layout')\n",
    "dropdown3 = widgets.Dropdown(options = ['None'] + Egos, value='None', description = 'Ego')\n",
    "dropdown4 = widgets.Dropdown(options = range(2,10), value=2, description = 'Radius')\n",
    "#row = widgets\n",
    "out = widgets.Output()\n",
    "out2 = widgets.Output()\n",
    "dropdown.observe(display_texts, 'value')\n",
    "dropdown2.observe(display_texts, 'value')\n",
    "dropdown3.observe(display_texts, 'value')\n",
    "dropdown4.observe(display_texts, 'value')\n",
    "button.on_click(open_edition_page)\n",
    "widget_list = [dropdown, dropdown2, dropdown3, dropdown4]\n",
    "row1 = widgets.HBox([dropdown, dropdown3])\n",
    "row2 = widgets.HBox([dropdown2, dropdown4])\n",
    "row3 = widgets.HBox([button, out2])\n",
    "col = widgets.VBox([row1, row2, row3, out])\n",
    "display(col)"
   ]
  },
  {
   "cell_type": "code",
   "execution_count": null,
   "metadata": {},
   "outputs": [],
   "source": []
  }
 ],
 "metadata": {
  "kernelspec": {
   "display_name": "Python 3",
   "language": "python",
   "name": "python3"
  },
  "language_info": {
   "codemirror_mode": {
    "name": "ipython",
    "version": 3
   },
   "file_extension": ".py",
   "mimetype": "text/x-python",
   "name": "python",
   "nbconvert_exporter": "python",
   "pygments_lexer": "ipython3",
   "version": "3.7.6"
  }
 },
 "nbformat": 4,
 "nbformat_minor": 4
}
