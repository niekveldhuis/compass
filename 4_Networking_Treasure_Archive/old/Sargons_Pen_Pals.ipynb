{
 "cells": [
  {
   "cell_type": "markdown",
   "metadata": {},
   "source": [
    "# Sargon's Pen Pals\n",
    "This notebook will pull all the names (senders and people mentioned) from letters to Sargon II, who reigned over Assyria 722-705 BCE. These letters were published in the series *State Archives of Assyria* (SAA) volumes 1, 5, and 15 (1987, 1990, and 2001). Electronic versions of these volumes are found in the [ORACC](http://oracc.org) project *State Archives of Assyria online* ([SAAo](http://oracc.org/saao)).\n",
    "\n",
    "In the letters to Sargon (and to other Assyrian kings) the addressee is hardly ever mentioned by name. Instead, the letter opens with \"to the king my lord\". Simo Parpola, the main editor of the SAA series, assigned the letters to kings, based on his vast knowledge of the corpus.\n",
    "\n",
    "The current notebook will use a network approach to evaluate these assignments, by using the names of a few individuals that are known to have been contemporaries of Sargon. If these people are mentioned in a letter, it is likely that the letter is to Sargon. We may also look at second or third degree relationships, to estimate the plausibility that a letter was indeed sent to Sargon."
   ]
  },
  {
   "cell_type": "markdown",
   "metadata": {},
   "source": [
    "# 1. Import Libraries"
   ]
  },
  {
   "cell_type": "code",
   "execution_count": 1,
   "metadata": {},
   "outputs": [],
   "source": [
    "import pandas as pd\n",
    "import zipfile\n",
    "import json\n",
    "import os\n",
    "import sys\n",
    "util_dir = os.path.abspath('../utils')\n",
    "sys.path.append(util_dir)\n",
    "from utils import *"
   ]
  },
  {
   "cell_type": "markdown",
   "metadata": {},
   "source": [
    "## 0 Create Directories, if Necessary\n",
    "The two directories needed for this script are `jsonzip` and `output`. The directories are created with the function `make_dirs()` from the `utils` module. "
   ]
  },
  {
   "cell_type": "code",
   "execution_count": 2,
   "metadata": {},
   "outputs": [],
   "source": [
    "directories = ['jsonzip', 'output']\n",
    "make_dirs(directories)"
   ]
  },
  {
   "cell_type": "markdown",
   "metadata": {},
   "source": [
    "# 3. Download the JSON ZIP files\n",
    "Using the function `oracc_download()` from the `utils` module."
   ]
  },
  {
   "cell_type": "code",
   "execution_count": 3,
   "metadata": {},
   "outputs": [
    {
     "name": "stdout",
     "output_type": "stream",
     "text": [
      "Saving http://oracc.ub.uni-muenchen.de/saao/saa01/json/saao-saa01.zip as jsonzip/saao-saa01.zip.\n"
     ]
    },
    {
     "data": {
      "application/vnd.jupyter.widget-view+json": {
       "model_id": "71af5fc853934e4bb03dba174b04954f",
       "version_major": 2,
       "version_minor": 0
      },
      "text/plain": [
       "HBox(children=(FloatProgress(value=1.0, bar_style='info', description='saao/saa01', max=1.0, style=ProgressSty…"
      ]
     },
     "metadata": {},
     "output_type": "display_data"
    },
    {
     "name": "stdout",
     "output_type": "stream",
     "text": [
      "Saving http://oracc.ub.uni-muenchen.de/saao/saa05/json/saao-saa05.zip as jsonzip/saao-saa05.zip.\n"
     ]
    },
    {
     "data": {
      "application/vnd.jupyter.widget-view+json": {
       "model_id": "b8ad10bbffd746b6b6894f7d27e3812b",
       "version_major": 2,
       "version_minor": 0
      },
      "text/plain": [
       "HBox(children=(FloatProgress(value=1.0, bar_style='info', description='saao/saa05', max=1.0, style=ProgressSty…"
      ]
     },
     "metadata": {},
     "output_type": "display_data"
    },
    {
     "name": "stdout",
     "output_type": "stream",
     "text": [
      "Saving http://oracc.ub.uni-muenchen.de/saao/saa15/json/saao-saa15.zip as jsonzip/saao-saa15.zip.\n"
     ]
    },
    {
     "data": {
      "application/vnd.jupyter.widget-view+json": {
       "model_id": "a94ace0e5b6c455e87ab4d6c5467ee06",
       "version_major": 2,
       "version_minor": 0
      },
      "text/plain": [
       "HBox(children=(FloatProgress(value=1.0, bar_style='info', description='saao/saa15', max=1.0, style=ProgressSty…"
      ]
     },
     "metadata": {},
     "output_type": "display_data"
    },
    {
     "data": {
      "text/plain": [
       "['saao/saa01', 'saao/saa05', 'saao/saa15']"
      ]
     },
     "execution_count": 3,
     "metadata": {},
     "output_type": "execute_result"
    }
   ],
   "source": [
    "volumes = [\"saao/saa01\", \"saao/saa05\", \"saao/saa15\"]\n",
    "oracc_download(volumes, 'lmu')"
   ]
  },
  {
   "cell_type": "markdown",
   "metadata": {},
   "source": [
    "# 4. Extract Proper Nouns\n",
    "Each of the ZIP files contains a file `gloss-qpn.json` which contains the glossary of proper nouns in that volume. This file is extracted and loaded in `json`. The extracted data are put in a list, each element of the list represents the proper nouns of one SAA volume."
   ]
  },
  {
   "cell_type": "code",
   "execution_count": 4,
   "metadata": {},
   "outputs": [],
   "source": [
    "json_l = []\n",
    "for v in volumes:\n",
    "    file = f\"jsonzip/{v.replace('/', '-')}.zip\"\n",
    "    z = zipfile.ZipFile(file)\n",
    "    filename = f\"{v}/gloss-qpn.json\"\n",
    "    qpn = z.read(filename).decode('utf-8')         #read and decode the qpn glossary json file\n",
    "    data_json = json.loads(qpn)  \n",
    "    json_l.append(data_json)"
   ]
  },
  {
   "cell_type": "markdown",
   "metadata": {},
   "source": [
    "# 5. Entries and Instances\n",
    "The function `parse()` builds two DataFrames from different elements in the `gloss-qpn.json`. The key `entries` holds all the headwords (lemmas) in the glossary, with information such as Part of Speech (`pos`), original spelling, number of attestations, etc. The elements to be extracted for the Proper Noun DataFrame (`df_pn`) are Citation Form (`cf`), Part of Speech (`pos`), Guide Word (`gw`) and `xis`. The field `xis` holds an ID for this entry. Note that the `xis` ID is unique *within a project* and may well be duplicated in another project. Moreover, the `xis` is *not persistent*. After a new build of the project, the `xis` IDs will be realigned.\n",
    "\n",
    "The key `instances` in `gloss-qpn.json` provides all the instances (in list form) of each headword, using the same `xis` field to identify the headword. The instance is referred to in the format PROJECT:ID_TEXT.ID_LINE.ID_WORD, for instance: `saao/saa01:P243567.9.1`. We can iterate through the field `xis` in `df_pn` to select the headwords that we need. We build a second DataFrame (`dinst_df`) with two columns: the `xis` ID and the text ID. The text ID can be extracted from the reference by taking the part between the colon and the first dot.\n",
    "\n",
    "The two DataFarmes share the field `xis`. In the second DataFrame (`inst_df`) the same `xis` ID may appear multiple times (because the same name may appear in multiple texts, or multiple times in the same text). We can merge the two DataFrames with the `pandas` function `merge()`, merging on `xis` and using the keys from `inst_df`. The DataFrame that is returned will now have a row for each name instance, associated with a text ID (a P, Q, or X number). Each volume of [SAAo](http://oracc.org/saao) will return a separate DataFrame. "
   ]
  },
  {
   "cell_type": "code",
   "execution_count": 5,
   "metadata": {},
   "outputs": [],
   "source": [
    "def parse(data_json):\n",
    "    entries = data_json[\"entries\"]\n",
    "    df_pn = pd.DataFrame(entries)\n",
    "    df_pn = df_pn[[\"cf\", \"gw\", \"pos\", \"xis\"]]\n",
    "    df_pn = df_pn.loc[df_pn[\"pos\"].isin([\"PN\", \"RN\"])]\n",
    "    instances = data_json[\"instances\"]\n",
    "    l = []\n",
    "    for i in df_pn[\"xis\"]:\n",
    "        for k in instances[i]:\n",
    "            QPN = k.split(\":\")[1]\n",
    "            QPN = QPN.split(\".\")[0]\n",
    "            d = [i, QPN]\n",
    "            l.append(d)\n",
    "    inst_df = pd.DataFrame(l)\n",
    "    inst_df.columns = [\"xis\", \"id_text\"]\n",
    "    df = inst_df.merge(df_pn, on='xis', how='left')\n",
    "    return df"
   ]
  },
  {
   "cell_type": "markdown",
   "metadata": {},
   "source": [
    "# 6. Create and Concatenate the Lists of Name Instances\n",
    "For each of the projects with Sargon letters in [SAAo](http://oracc.org/saao) the `json` data from its `gloss-qpn.json` are sent to the `parse()` function. This function refturns a DataFrame with all name instances, associated with text IDs. The code below collects those DataFrames in the list `pn_l`, concatenates them and then drops the field `xis`. Since `xis` is project-specific, it has become meaningless at this stage"
   ]
  },
  {
   "cell_type": "code",
   "execution_count": 6,
   "metadata": {},
   "outputs": [
    {
     "data": {
      "text/html": [
       "<div>\n",
       "<style scoped>\n",
       "    .dataframe tbody tr th:only-of-type {\n",
       "        vertical-align: middle;\n",
       "    }\n",
       "\n",
       "    .dataframe tbody tr th {\n",
       "        vertical-align: top;\n",
       "    }\n",
       "\n",
       "    .dataframe thead th {\n",
       "        text-align: right;\n",
       "    }\n",
       "</style>\n",
       "<table border=\"1\" class=\"dataframe\">\n",
       "  <thead>\n",
       "    <tr style=\"text-align: right;\">\n",
       "      <th></th>\n",
       "      <th>id_text</th>\n",
       "      <th>cf</th>\n",
       "      <th>gw</th>\n",
       "      <th>pos</th>\n",
       "    </tr>\n",
       "  </thead>\n",
       "  <tbody>\n",
       "    <tr>\n",
       "      <th>0</th>\n",
       "      <td>P313425</td>\n",
       "      <td>Abattu</td>\n",
       "      <td>1</td>\n",
       "      <td>PN</td>\n",
       "    </tr>\n",
       "    <tr>\n",
       "      <th>1</th>\n",
       "      <td>X900008</td>\n",
       "      <td>Abu-lešir</td>\n",
       "      <td>1</td>\n",
       "      <td>PN</td>\n",
       "    </tr>\n",
       "    <tr>\n",
       "      <th>2</th>\n",
       "      <td>X900008</td>\n",
       "      <td>Abu-lešir</td>\n",
       "      <td>1</td>\n",
       "      <td>PN</td>\n",
       "    </tr>\n",
       "    <tr>\n",
       "      <th>3</th>\n",
       "      <td>P334830</td>\n",
       "      <td>Adad-abuʾa</td>\n",
       "      <td>1</td>\n",
       "      <td>PN</td>\n",
       "    </tr>\n",
       "    <tr>\n",
       "      <th>4</th>\n",
       "      <td>P334209</td>\n",
       "      <td>Adad-ibni</td>\n",
       "      <td>1</td>\n",
       "      <td>PN</td>\n",
       "    </tr>\n",
       "    <tr>\n",
       "      <th>...</th>\n",
       "      <td>...</td>\n",
       "      <td>...</td>\n",
       "      <td>...</td>\n",
       "      <td>...</td>\n",
       "    </tr>\n",
       "    <tr>\n",
       "      <th>519</th>\n",
       "      <td>P334155</td>\n",
       "      <td>Zazaya</td>\n",
       "      <td>1</td>\n",
       "      <td>PN</td>\n",
       "    </tr>\n",
       "    <tr>\n",
       "      <th>520</th>\n",
       "      <td>P313920</td>\n",
       "      <td>Zer-Babili</td>\n",
       "      <td>1</td>\n",
       "      <td>PN</td>\n",
       "    </tr>\n",
       "    <tr>\n",
       "      <th>521</th>\n",
       "      <td>P334708</td>\n",
       "      <td>Zeru-iddina</td>\n",
       "      <td>1</td>\n",
       "      <td>PN</td>\n",
       "    </tr>\n",
       "    <tr>\n",
       "      <th>522</th>\n",
       "      <td>P334708</td>\n",
       "      <td>Zeru-iddina</td>\n",
       "      <td>1</td>\n",
       "      <td>PN</td>\n",
       "    </tr>\n",
       "    <tr>\n",
       "      <th>523</th>\n",
       "      <td>P334708</td>\n",
       "      <td>Zeru-iddina</td>\n",
       "      <td>1</td>\n",
       "      <td>PN</td>\n",
       "    </tr>\n",
       "  </tbody>\n",
       "</table>\n",
       "<p>1359 rows × 4 columns</p>\n",
       "</div>"
      ],
      "text/plain": [
       "     id_text           cf gw pos\n",
       "0    P313425       Abattu  1  PN\n",
       "1    X900008    Abu-lešir  1  PN\n",
       "2    X900008    Abu-lešir  1  PN\n",
       "3    P334830   Adad-abuʾa  1  PN\n",
       "4    P334209    Adad-ibni  1  PN\n",
       "..       ...          ... ..  ..\n",
       "519  P334155       Zazaya  1  PN\n",
       "520  P313920   Zer-Babili  1  PN\n",
       "521  P334708  Zeru-iddina  1  PN\n",
       "522  P334708  Zeru-iddina  1  PN\n",
       "523  P334708  Zeru-iddina  1  PN\n",
       "\n",
       "[1359 rows x 4 columns]"
      ]
     },
     "execution_count": 6,
     "metadata": {},
     "output_type": "execute_result"
    }
   ],
   "source": [
    "pn_l = []\n",
    "for j in json_l:\n",
    "    pns = parse(j)\n",
    "    pn_l.append(pns)\n",
    "df = pd.concat(pn_l)\n",
    "df = df.drop(\"xis\", axis = 1)\n",
    "df"
   ]
  },
  {
   "cell_type": "markdown",
   "metadata": {},
   "source": [
    "# 7. Node List\n",
    "The Node List is simply the list of all unique headwords. Add to the nodes list whether a name is known as a (Sargon-period) eponym. Save the nodes list as `nodes.csv` in the `output` directory."
   ]
  },
  {
   "cell_type": "code",
   "execution_count": 7,
   "metadata": {},
   "outputs": [],
   "source": [
    "n_df = df[[\"cf\", \"gw\"]].copy()\n",
    "n_df = n_df.drop_duplicates().reset_index(drop=True)\n",
    "n_df.columns = [\"label\", \"namesake\"]"
   ]
  },
  {
   "cell_type": "code",
   "execution_count": 8,
   "metadata": {},
   "outputs": [],
   "source": [
    "with open(\"csv/sargoneponyms.csv\", mode=\"r\", encoding=\"utf-8\") as f:\n",
    "    eponyms = pd.read_csv(f)\n",
    "eponyms[\"eponym\"] = True"
   ]
  },
  {
   "cell_type": "code",
   "execution_count": 9,
   "metadata": {},
   "outputs": [
    {
     "data": {
      "text/html": [
       "<div>\n",
       "<style scoped>\n",
       "    .dataframe tbody tr th:only-of-type {\n",
       "        vertical-align: middle;\n",
       "    }\n",
       "\n",
       "    .dataframe tbody tr th {\n",
       "        vertical-align: top;\n",
       "    }\n",
       "\n",
       "    .dataframe thead th {\n",
       "        text-align: right;\n",
       "    }\n",
       "</style>\n",
       "<table border=\"1\" class=\"dataframe\">\n",
       "  <thead>\n",
       "    <tr style=\"text-align: right;\">\n",
       "      <th></th>\n",
       "      <th>label</th>\n",
       "      <th>namesake</th>\n",
       "      <th>eponym</th>\n",
       "      <th>Id</th>\n",
       "    </tr>\n",
       "  </thead>\n",
       "  <tbody>\n",
       "    <tr>\n",
       "      <th>0</th>\n",
       "      <td>Abattu</td>\n",
       "      <td>1</td>\n",
       "      <td>False</td>\n",
       "      <td>Abattu</td>\n",
       "    </tr>\n",
       "    <tr>\n",
       "      <th>1</th>\n",
       "      <td>Abu-lešir</td>\n",
       "      <td>1</td>\n",
       "      <td>False</td>\n",
       "      <td>Abu-lešir</td>\n",
       "    </tr>\n",
       "    <tr>\n",
       "      <th>2</th>\n",
       "      <td>Adad-abuʾa</td>\n",
       "      <td>1</td>\n",
       "      <td>False</td>\n",
       "      <td>Adad-abuʾa</td>\n",
       "    </tr>\n",
       "    <tr>\n",
       "      <th>3</th>\n",
       "      <td>Adad-ibni</td>\n",
       "      <td>1</td>\n",
       "      <td>False</td>\n",
       "      <td>Adad-ibni</td>\n",
       "    </tr>\n",
       "    <tr>\n",
       "      <th>4</th>\n",
       "      <td>Adad-iriba</td>\n",
       "      <td>1</td>\n",
       "      <td>False</td>\n",
       "      <td>Adad-iriba</td>\n",
       "    </tr>\n",
       "    <tr>\n",
       "      <th>...</th>\n",
       "      <td>...</td>\n",
       "      <td>...</td>\n",
       "      <td>...</td>\n",
       "      <td>...</td>\n",
       "    </tr>\n",
       "    <tr>\n",
       "      <th>475</th>\n",
       "      <td>Zala</td>\n",
       "      <td>1</td>\n",
       "      <td>False</td>\n",
       "      <td>Zala</td>\n",
       "    </tr>\n",
       "    <tr>\n",
       "      <th>476</th>\n",
       "      <td>Zaqiru</td>\n",
       "      <td>1</td>\n",
       "      <td>False</td>\n",
       "      <td>Zaqiru</td>\n",
       "    </tr>\n",
       "    <tr>\n",
       "      <th>477</th>\n",
       "      <td>Zazaya</td>\n",
       "      <td>1</td>\n",
       "      <td>False</td>\n",
       "      <td>Zazaya</td>\n",
       "    </tr>\n",
       "    <tr>\n",
       "      <th>478</th>\n",
       "      <td>Zer-Babili</td>\n",
       "      <td>1</td>\n",
       "      <td>False</td>\n",
       "      <td>Zer-Babili</td>\n",
       "    </tr>\n",
       "    <tr>\n",
       "      <th>479</th>\n",
       "      <td>Zeru-iddina</td>\n",
       "      <td>1</td>\n",
       "      <td>False</td>\n",
       "      <td>Zeru-iddina</td>\n",
       "    </tr>\n",
       "  </tbody>\n",
       "</table>\n",
       "<p>480 rows × 4 columns</p>\n",
       "</div>"
      ],
      "text/plain": [
       "           label namesake  eponym           Id\n",
       "0         Abattu        1   False       Abattu\n",
       "1      Abu-lešir        1   False    Abu-lešir\n",
       "2     Adad-abuʾa        1   False   Adad-abuʾa\n",
       "3      Adad-ibni        1   False    Adad-ibni\n",
       "4     Adad-iriba        1   False   Adad-iriba\n",
       "..           ...      ...     ...          ...\n",
       "475         Zala        1   False         Zala\n",
       "476       Zaqiru        1   False       Zaqiru\n",
       "477       Zazaya        1   False       Zazaya\n",
       "478   Zer-Babili        1   False   Zer-Babili\n",
       "479  Zeru-iddina        1   False  Zeru-iddina\n",
       "\n",
       "[480 rows x 4 columns]"
      ]
     },
     "execution_count": 9,
     "metadata": {},
     "output_type": "execute_result"
    }
   ],
   "source": [
    "nodes_df = n_df.merge(eponyms, on = \"label\", how=\"outer\")\n",
    "nodes_df[\"eponym\"] = nodes_df[\"eponym\"].fillna(False)\n",
    "nodes_df[\"Id\"] = nodes_df[\"label\"].copy()\n",
    "nodes_df"
   ]
  },
  {
   "cell_type": "code",
   "execution_count": 10,
   "metadata": {},
   "outputs": [],
   "source": [
    "with open(\"output/nodes.csv\", mode=\"w\", encoding=\"utf-8\") as w:\n",
    "    nodes_df.to_csv(w, index=False)"
   ]
  },
  {
   "cell_type": "markdown",
   "metadata": {},
   "source": [
    "# 8 Edge List\n",
    "Transform the Pandas Dataframe into a simple list of list. In order to produce the edge list we use a loop within a loop. The first loop goes through all the items in the list (all names). For each name, it goes through the entire list again, to find items that match the same text ID (P number). This way, the routine finds all pairs of names that appear in each letter.\n",
    "\n",
    "The secondary loop begins at the location of the index of the primary loop. This way, the edge A == B is not duplicated by the edge B == A (since the edges are undirected).\n",
    "\n",
    "If there is a text ID match in the secondary loop, make a list that contains `id_text`, `source`, and `target` - this list represents a single edge. Add this list to the list of lists `edges`."
   ]
  },
  {
   "cell_type": "code",
   "execution_count": 11,
   "metadata": {},
   "outputs": [],
   "source": [
    "data = df.values.tolist()\n",
    "edges = []\n",
    "for idx, item in enumerate(data):\n",
    "    textid = item[0]\n",
    "    source = item[1]\n",
    "    for idx_2, item_2 in enumerate(data[idx:len(data)]):\n",
    "        if item[0] == item_2[0]:\n",
    "            if not item[1] == item_2[1]:   # no SELF == SELF edges\n",
    "                target = item_2[1]\n",
    "                edge = [textid, source, target]\n",
    "                edges.append(edge)  "
   ]
  },
  {
   "cell_type": "markdown",
   "metadata": {},
   "source": [
    "The object `edges` is a list of lists that can be transformed again into a Dataframe. If the same name is mentioned multiple times in the same letter, that will create duplicate edges. Drop the duplicates."
   ]
  },
  {
   "cell_type": "code",
   "execution_count": 12,
   "metadata": {},
   "outputs": [
    {
     "data": {
      "text/html": [
       "<div>\n",
       "<style scoped>\n",
       "    .dataframe tbody tr th:only-of-type {\n",
       "        vertical-align: middle;\n",
       "    }\n",
       "\n",
       "    .dataframe tbody tr th {\n",
       "        vertical-align: top;\n",
       "    }\n",
       "\n",
       "    .dataframe thead th {\n",
       "        text-align: right;\n",
       "    }\n",
       "</style>\n",
       "<table border=\"1\" class=\"dataframe\">\n",
       "  <thead>\n",
       "    <tr style=\"text-align: right;\">\n",
       "      <th></th>\n",
       "      <th>id_text</th>\n",
       "      <th>source</th>\n",
       "      <th>target</th>\n",
       "    </tr>\n",
       "  </thead>\n",
       "  <tbody>\n",
       "    <tr>\n",
       "      <th>0</th>\n",
       "      <td>P313425</td>\n",
       "      <td>Abattu</td>\n",
       "      <td>Amiru</td>\n",
       "    </tr>\n",
       "    <tr>\n",
       "      <th>1</th>\n",
       "      <td>P313425</td>\n",
       "      <td>Abattu</td>\n",
       "      <td>Ammi-leti</td>\n",
       "    </tr>\n",
       "    <tr>\n",
       "      <th>2</th>\n",
       "      <td>P313425</td>\n",
       "      <td>Abattu</td>\n",
       "      <td>Bel-liqbi</td>\n",
       "    </tr>\n",
       "    <tr>\n",
       "      <th>3</th>\n",
       "      <td>P313425</td>\n",
       "      <td>Abattu</td>\n",
       "      <td>Qanni</td>\n",
       "    </tr>\n",
       "    <tr>\n",
       "      <th>4</th>\n",
       "      <td>X900008</td>\n",
       "      <td>Abu-lešir</td>\n",
       "      <td>Adad-isseʾa</td>\n",
       "    </tr>\n",
       "    <tr>\n",
       "      <th>...</th>\n",
       "      <td>...</td>\n",
       "      <td>...</td>\n",
       "      <td>...</td>\n",
       "    </tr>\n",
       "    <tr>\n",
       "      <th>1171</th>\n",
       "      <td>P313421</td>\n",
       "      <td>Šamaš-ilaʾi</td>\n",
       "      <td>Šarru-emuranni</td>\n",
       "    </tr>\n",
       "    <tr>\n",
       "      <th>1172</th>\n",
       "      <td>P334413</td>\n",
       "      <td>Šarru-emuranni</td>\n",
       "      <td>Umadi</td>\n",
       "    </tr>\n",
       "    <tr>\n",
       "      <th>1173</th>\n",
       "      <td>P334648</td>\n",
       "      <td>Teši-eṭir</td>\n",
       "      <td>Yadiʾ</td>\n",
       "    </tr>\n",
       "    <tr>\n",
       "      <th>1174</th>\n",
       "      <td>P334446</td>\n",
       "      <td>Uaksatar</td>\n",
       "      <td>Uppite</td>\n",
       "    </tr>\n",
       "    <tr>\n",
       "      <th>1175</th>\n",
       "      <td>P334155</td>\n",
       "      <td>Ubaru</td>\n",
       "      <td>Zazaya</td>\n",
       "    </tr>\n",
       "  </tbody>\n",
       "</table>\n",
       "<p>1176 rows × 3 columns</p>\n",
       "</div>"
      ],
      "text/plain": [
       "      id_text          source          target\n",
       "0     P313425          Abattu           Amiru\n",
       "1     P313425          Abattu       Ammi-leti\n",
       "2     P313425          Abattu       Bel-liqbi\n",
       "3     P313425          Abattu           Qanni\n",
       "4     X900008       Abu-lešir     Adad-isseʾa\n",
       "...       ...             ...             ...\n",
       "1171  P313421     Šamaš-ilaʾi  Šarru-emuranni\n",
       "1172  P334413  Šarru-emuranni           Umadi\n",
       "1173  P334648       Teši-eṭir           Yadiʾ\n",
       "1174  P334446        Uaksatar          Uppite\n",
       "1175  P334155           Ubaru          Zazaya\n",
       "\n",
       "[1176 rows x 3 columns]"
      ]
     },
     "execution_count": 12,
     "metadata": {},
     "output_type": "execute_result"
    }
   ],
   "source": [
    "edges_df = pd.DataFrame(edges, columns= [\"id_text\", \"source\", \"target\"])\n",
    "edges_df = edges_df.drop_duplicates().reset_index(drop=True)\n",
    "edges_df"
   ]
  },
  {
   "cell_type": "markdown",
   "metadata": {},
   "source": [
    "# 9. Save Edge List\n",
    "Save the edge list as `edges.csv` in the `output` directory."
   ]
  },
  {
   "cell_type": "code",
   "execution_count": 13,
   "metadata": {},
   "outputs": [],
   "source": [
    "with open(\"output/edges.csv\", mode=\"w\", encoding=\"utf-8\") as w:\n",
    "    edges_df.to_csv(w, index=False)"
   ]
  },
  {
   "cell_type": "code",
   "execution_count": null,
   "metadata": {},
   "outputs": [],
   "source": []
  }
 ],
 "metadata": {
  "kernelspec": {
   "display_name": "Python 3",
   "language": "python",
   "name": "python3"
  },
  "language_info": {
   "codemirror_mode": {
    "name": "ipython",
    "version": 3
   },
   "file_extension": ".py",
   "mimetype": "text/x-python",
   "name": "python",
   "nbconvert_exporter": "python",
   "pygments_lexer": "ipython3",
   "version": "3.7.6"
  }
 },
 "nbformat": 4,
 "nbformat_minor": 4
}
