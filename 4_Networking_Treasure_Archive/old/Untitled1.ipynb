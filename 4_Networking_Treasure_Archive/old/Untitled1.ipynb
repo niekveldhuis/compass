{
 "cells": [
  {
   "cell_type": "code",
   "execution_count": null,
   "metadata": {},
   "outputs": [],
   "source": [
    "import networkx as nx"
   ]
  },
  {
   "cell_type": "code",
   "execution_count": null,
   "metadata": {},
   "outputs": [],
   "source": [
    "G = nx.karate_club_graph()"
   ]
  },
  {
   "cell_type": "code",
   "execution_count": null,
   "metadata": {},
   "outputs": [],
   "source": [
    "pos = nx.spring_layout(G)\n",
    "pos2 = {n: (pos[n][0], pos[n][1]) for n in pos}\n",
    "node_indices = list(G.nodes)\n",
    "startnodes = [s[0] for s in list(G.edges)]\n",
    "endnodes = [s[1] for s in list(G.edges)]"
   ]
  },
  {
   "cell_type": "code",
   "execution_count": null,
   "metadata": {},
   "outputs": [],
   "source": [
    "from bokeh.io import output_file, show\n",
    "from bokeh.models import GraphRenderer, Circle, StaticLayoutProvider, HoverTool, BoxZoomTool, ResetTool\n",
    "from bokeh.palettes import Spectral8\n",
    "from bokeh.plotting import figure,  output_notebook\n",
    "output_notebook()\n",
    "\n",
    "plot = figure(title='Graph Layout Demonstration', x_range=(-1.1,1.1), y_range=(-1.1,1.1),\n",
    "              tools='', toolbar_location=None)\n",
    "\n",
    "graph = GraphRenderer()\n",
    "\n",
    "graph.node_renderer.data_source.add(node_indices, 'index')\n",
    "graph.node_renderer.glyph = Circle(size=5, fill_color='blue')\n",
    "\n",
    "graph.edge_renderer.data_source.data = dict(start = startnodes, end = endnodes)\n",
    "\n",
    "graph.layout_provider = StaticLayoutProvider(graph_layout=pos2)\n",
    "node_hover_tool = HoverTool(tooltips=[(\"node_index\", \"$index\")], renderers = [graph.node_renderer])\n",
    "#edge_hover_tool = HoverTool(tooltips=[(\"start\", \"$start\"), (\"end\", \"$end\")], renderers = [graph.edge_renderer])\n",
    "plot.renderers.append(graph)\n",
    "plot.add_tools(node_hover_tool, BoxZoomTool(), ResetTool())\n",
    "output_file('graph.html')\n",
    "show(plot)"
   ]
  },
  {
   "cell_type": "code",
   "execution_count": null,
   "metadata": {},
   "outputs": [],
   "source": [
    "from bokeh.io import output_file, show\n",
    "from bokeh.models import GraphRenderer, Circle, StaticLayoutProvider\n",
    "from bokeh.palettes import Spectral8\n",
    "from bokeh.plotting import figure\n",
    "\n",
    "plot = figure(title='Graph Layout Demonstration', x_range=(-1.1,1.1), y_range=(-1.1,1.1),\n",
    "              tools='', toolbar_location=None)\n",
    "\n",
    "nodes = GraphRenderer()\n",
    "#edges = GraphRenderer()\n",
    "\n",
    "nodes.node_renderer.data_source.add(node_indices, 'index')\n",
    "#graph.node_renderer.data_source.add(Spectral8, 'color')\n",
    "nodes.node_renderer.glyph = Circle(size=15, fill_color='red')\n",
    "\n",
    "nodes.edge_renderer.data_source.data = dict(\n",
    "    start=startnodes,\n",
    "    end=endnodes)\n",
    "\n",
    "### start of layout code\n",
    "#circ = [i*2*math.pi/8 for i in node_indices]\n",
    "#x = [math.cos(i) for i in circ]\n",
    "#y = [math.sin(i) for i in circ]\n",
    "\n",
    "nodes.layout_provider = StaticLayoutProvider(graph_layout=pos2)\n",
    "\n",
    "plot.renderers.append(nodes)\n",
    "#plot.renderers.append(edges)\n",
    "\n",
    "output_file('graph.html')\n",
    "show(plot)\n"
   ]
  },
  {
   "cell_type": "code",
   "execution_count": null,
   "metadata": {},
   "outputs": [],
   "source": [
    "import networkx as nx\n",
    "from bokeh.io import show, output_notebook\n",
    "from bokeh.plotting import figure\n",
    "from bokeh.models import ColumnDataSource, LabelSet\n",
    "from bokeh.models.graphs import from_networkx\n",
    "output_notebook()\n",
    "\n",
    "G = nx.karate_club_graph()\n",
    "\n",
    "plot = figure(title=\"Karate Club Graph\", tools=\"\", x_range=(-1.5, 1.5),\n",
    "          y_range=(-1.5, 1.5), toolbar_location=None)\n",
    "graph = from_networkx(G, nx.spring_layout)\n",
    "plot.renderers.append(graph)\n",
    "\n",
    "x, y = zip(*graph.layout_provider.graph_layout.values())\n",
    "node_labels = nx.get_node_attributes(G, 'club')\n",
    "source = ColumnDataSource({'x': x, 'y': y,\n",
    "                           'club': [node_labels[i] for i in range(len(x))]})\n",
    "labels = LabelSet(x='x', y='y', text='club', source=source,\n",
    "                  background_fill_color='white')\n",
    "\n",
    "plot.renderers.append(labels)\n",
    "show(plot)"
   ]
  },
  {
   "cell_type": "code",
   "execution_count": null,
   "metadata": {},
   "outputs": [],
   "source": [
    "from bokeh.io import output_file, show\n",
    "from bokeh.models import Button\n",
    "\n",
    "output_file(\"button.html\")\n",
    "\n",
    "button = Button(label=\"Foo\", button_type=\"success\")\n",
    "\n",
    "show(button)\n"
   ]
  },
  {
   "cell_type": "code",
   "execution_count": null,
   "metadata": {},
   "outputs": [],
   "source": [
    "from datetime import date\n",
    "from random import randint\n",
    "\n",
    "from bokeh.io import output_file, show\n",
    "from bokeh.models import ColumnDataSource, DataTable, DateFormatter, TableColumn\n",
    "\n",
    "output_file(\"data_table.html\")\n",
    "\n",
    "data = dict(\n",
    "        dates=[date(2014, 3, i+1) for i in range(10)],\n",
    "        downloads=[randint(0, 100) for i in range(10)],\n",
    "    )\n",
    "source = ColumnDataSource(data)\n",
    "\n",
    "columns = [\n",
    "        TableColumn(field=\"dates\", title=\"Date\", formatter=DateFormatter()),\n",
    "        TableColumn(field=\"downloads\", title=\"Downloads\"),\n",
    "    ]\n",
    "data_table = DataTable(source=source, columns=columns, width=400, height=280)\n",
    "\n",
    "show(data_table)\n"
   ]
  },
  {
   "cell_type": "code",
   "execution_count": 22,
   "metadata": {},
   "outputs": [
    {
     "data": {
      "text/html": [
       "\n",
       "\n",
       "\n",
       "\n",
       "\n",
       "\n",
       "  <div class=\"bk-root\" id=\"918b03b9-f7e4-46d7-98d8-39d5bad0c882\" data-root-id=\"1555\"></div>\n"
      ]
     },
     "metadata": {},
     "output_type": "display_data"
    },
    {
     "data": {
      "application/javascript": [
       "(function(root) {\n",
       "  function embed_document(root) {\n",
       "    \n",
       "  var docs_json = {\"18884180-1f1a-40bb-80eb-a08496d22558\":{\"roots\":{\"references\":[{\"attributes\":{\"below\":[{\"id\":\"1566\",\"type\":\"LinearAxis\"}],\"center\":[{\"id\":\"1570\",\"type\":\"Grid\"},{\"id\":\"1575\",\"type\":\"Grid\"}],\"left\":[{\"id\":\"1571\",\"type\":\"LinearAxis\"}],\"plot_height\":400,\"plot_width\":400,\"renderers\":[{\"id\":\"1581\",\"type\":\"GlyphRenderer\"},{\"id\":\"1587\",\"type\":\"GlyphRenderer\"}],\"title\":{\"id\":\"1556\",\"type\":\"Title\"},\"toolbar\":{\"id\":\"1576\",\"type\":\"Toolbar\"},\"toolbar_location\":null,\"x_range\":{\"id\":\"1558\",\"type\":\"DataRange1d\"},\"x_scale\":{\"id\":\"1562\",\"type\":\"LinearScale\"},\"y_range\":{\"id\":\"1560\",\"type\":\"DataRange1d\"},\"y_scale\":{\"id\":\"1564\",\"type\":\"LinearScale\"}},\"id\":\"1555\",\"subtype\":\"Figure\",\"type\":\"Plot\"},{\"attributes\":{\"fill_color\":{\"value\":\"olive\"},\"line_color\":{\"value\":\"olive\"},\"size\":{\"units\":\"screen\",\"value\":30},\"x\":{\"field\":\"x\"},\"y\":{\"field\":\"y\"}},\"id\":\"1586\",\"type\":\"Circle\"},{\"attributes\":{\"formatter\":{\"id\":\"1620\",\"type\":\"BasicTickFormatter\"},\"ticker\":{\"id\":\"1567\",\"type\":\"BasicTicker\"}},\"id\":\"1566\",\"type\":\"LinearAxis\"},{\"attributes\":{\"callback\":null,\"data\":{\"x\":[2,3,5,6,8,7],\"y\":[6,4,3,8,7,5]},\"selected\":{\"id\":\"1626\",\"type\":\"Selection\"},\"selection_policy\":{\"id\":\"1625\",\"type\":\"UnionRenderers\"}},\"id\":\"1583\",\"type\":\"ColumnDataSource\"},{\"attributes\":{},\"id\":\"1564\",\"type\":\"LinearScale\"},{\"attributes\":{},\"id\":\"1622\",\"type\":\"BasicTickFormatter\"},{\"attributes\":{},\"id\":\"1624\",\"type\":\"Selection\"},{\"attributes\":{\"source\":{\"id\":\"1583\",\"type\":\"ColumnDataSource\"}},\"id\":\"1588\",\"type\":\"CDSView\"},{\"attributes\":{},\"id\":\"1567\",\"type\":\"BasicTicker\"},{\"attributes\":{},\"id\":\"1626\",\"type\":\"Selection\"},{\"attributes\":{\"callback\":null,\"data\":{\"x0\":[],\"x1\":[],\"y0\":[],\"y1\":[]},\"selected\":{\"id\":\"1624\",\"type\":\"Selection\"},\"selection_policy\":{\"id\":\"1623\",\"type\":\"UnionRenderers\"}},\"id\":\"1577\",\"type\":\"ColumnDataSource\"},{\"attributes\":{\"ticker\":{\"id\":\"1567\",\"type\":\"BasicTicker\"}},\"id\":\"1570\",\"type\":\"Grid\"},{\"attributes\":{\"formatter\":{\"id\":\"1622\",\"type\":\"BasicTickFormatter\"},\"ticker\":{\"id\":\"1572\",\"type\":\"BasicTicker\"}},\"id\":\"1571\",\"type\":\"LinearAxis\"},{\"attributes\":{},\"id\":\"1572\",\"type\":\"BasicTicker\"},{\"attributes\":{},\"id\":\"1620\",\"type\":\"BasicTickFormatter\"},{\"attributes\":{\"fill_alpha\":{\"value\":0.1},\"fill_color\":{\"value\":\"#1f77b4\"},\"line_alpha\":{\"value\":0.1},\"line_color\":{\"value\":\"#1f77b4\"},\"size\":{\"units\":\"screen\",\"value\":30},\"x\":{\"field\":\"x\"},\"y\":{\"field\":\"y\"}},\"id\":\"1585\",\"type\":\"Circle\"},{\"attributes\":{\"data_source\":{\"id\":\"1583\",\"type\":\"ColumnDataSource\"},\"glyph\":{\"id\":\"1584\",\"type\":\"Circle\"},\"hover_glyph\":{\"id\":\"1586\",\"type\":\"Circle\"},\"muted_glyph\":null,\"nonselection_glyph\":{\"id\":\"1585\",\"type\":\"Circle\"},\"selection_glyph\":null,\"view\":{\"id\":\"1588\",\"type\":\"CDSView\"}},\"id\":\"1587\",\"type\":\"GlyphRenderer\"},{\"attributes\":{},\"id\":\"1623\",\"type\":\"UnionRenderers\"},{\"attributes\":{\"dimension\":1,\"ticker\":{\"id\":\"1572\",\"type\":\"BasicTicker\"}},\"id\":\"1575\",\"type\":\"Grid\"},{\"attributes\":{\"active_drag\":\"auto\",\"active_inspect\":\"auto\",\"active_multi\":null,\"active_scroll\":\"auto\",\"active_tap\":\"auto\",\"tools\":[{\"id\":\"1590\",\"type\":\"HoverTool\"}]},\"id\":\"1576\",\"type\":\"Toolbar\"},{\"attributes\":{\"line_alpha\":{\"value\":0.6},\"line_color\":{\"value\":\"olive\"},\"line_width\":{\"value\":3},\"x0\":{\"field\":\"x0\"},\"x1\":{\"field\":\"x1\"},\"y0\":{\"field\":\"y0\"},\"y1\":{\"field\":\"y1\"}},\"id\":\"1579\",\"type\":\"Segment\"},{\"attributes\":{\"text\":\"Hover over points\"},\"id\":\"1556\",\"type\":\"Title\"},{\"attributes\":{\"callback\":null},\"id\":\"1558\",\"type\":\"DataRange1d\"},{\"attributes\":{},\"id\":\"1625\",\"type\":\"UnionRenderers\"},{\"attributes\":{},\"id\":\"1562\",\"type\":\"LinearScale\"},{\"attributes\":{\"callback\":{\"id\":\"1589\",\"type\":\"CustomJS\"},\"renderers\":[{\"id\":\"1587\",\"type\":\"GlyphRenderer\"}],\"tooltips\":null},\"id\":\"1590\",\"type\":\"HoverTool\"},{\"attributes\":{\"data_source\":{\"id\":\"1577\",\"type\":\"ColumnDataSource\"},\"glyph\":{\"id\":\"1579\",\"type\":\"Segment\"},\"hover_glyph\":null,\"muted_glyph\":null,\"nonselection_glyph\":{\"id\":\"1580\",\"type\":\"Segment\"},\"selection_glyph\":null,\"view\":{\"id\":\"1582\",\"type\":\"CDSView\"}},\"id\":\"1581\",\"type\":\"GlyphRenderer\"},{\"attributes\":{\"source\":{\"id\":\"1577\",\"type\":\"ColumnDataSource\"}},\"id\":\"1582\",\"type\":\"CDSView\"},{\"attributes\":{\"callback\":null},\"id\":\"1560\",\"type\":\"DataRange1d\"},{\"attributes\":{\"line_alpha\":{\"value\":0.1},\"line_color\":{\"value\":\"#1f77b4\"},\"line_width\":{\"value\":3},\"x0\":{\"field\":\"x0\"},\"x1\":{\"field\":\"x1\"},\"y0\":{\"field\":\"y0\"},\"y1\":{\"field\":\"y1\"}},\"id\":\"1580\",\"type\":\"Segment\"},{\"attributes\":{\"fill_alpha\":{\"value\":0.4},\"fill_color\":{\"value\":\"olive\"},\"line_alpha\":{\"value\":0.4},\"line_color\":{\"value\":\"olive\"},\"size\":{\"units\":\"screen\",\"value\":30},\"x\":{\"field\":\"x\"},\"y\":{\"field\":\"y\"}},\"id\":\"1584\",\"type\":\"Circle\"},{\"attributes\":{\"args\":{\"circle\":{\"id\":\"1583\",\"type\":\"ColumnDataSource\"},\"segment\":{\"id\":\"1577\",\"type\":\"ColumnDataSource\"}},\"code\":\"\\nconst links = {0: [1, 2], 1: [0, 3, 4], 2: [0, 5], 3: [1, 4], 4: [1, 3], 5: [2, 3, 4]}\\nconst data = {'x0': [], 'y0': [], 'x1': [], 'y1': []}\\nconst indices = cb_data.index.indices\\nfor (var i = 0; i < indices.length; i++) {\\n    const start = indices[i]\\n    for (var j = 0; j < links[start].length; j++) {\\n        const end = links[start][j]\\n        data['x0'].push(circle.data.x[start])\\n        data['y0'].push(circle.data.y[start])\\n        data['x1'].push(circle.data.x[end])\\n        data['y1'].push(circle.data.y[end])\\n    }\\n}\\nsegment.data = data\\n\"},\"id\":\"1589\",\"type\":\"CustomJS\"}],\"root_ids\":[\"1555\"]},\"title\":\"Bokeh Application\",\"version\":\"1.4.0\"}};\n",
       "  var render_items = [{\"docid\":\"18884180-1f1a-40bb-80eb-a08496d22558\",\"roots\":{\"1555\":\"918b03b9-f7e4-46d7-98d8-39d5bad0c882\"}}];\n",
       "  root.Bokeh.embed.embed_items_notebook(docs_json, render_items);\n",
       "\n",
       "  }\n",
       "  if (root.Bokeh !== undefined) {\n",
       "    embed_document(root);\n",
       "  } else {\n",
       "    var attempts = 0;\n",
       "    var timer = setInterval(function(root) {\n",
       "      if (root.Bokeh !== undefined) {\n",
       "        clearInterval(timer);\n",
       "        embed_document(root);\n",
       "      } else {\n",
       "        attempts++;\n",
       "        if (attempts > 100) {\n",
       "          clearInterval(timer);\n",
       "          console.log(\"Bokeh: ERROR: Unable to run BokehJS code because BokehJS library is missing\");\n",
       "        }\n",
       "      }\n",
       "    }, 10, root)\n",
       "  }\n",
       "})(window);"
      ],
      "application/vnd.bokehjs_exec.v0+json": ""
     },
     "metadata": {
      "application/vnd.bokehjs_exec.v0+json": {
       "id": "1555"
      }
     },
     "output_type": "display_data"
    }
   ],
   "source": [
    "from bokeh.models import ColumnDataSource, CustomJS, HoverTool\n",
    "from bokeh.plotting import figure, output_file, show\n",
    "\n",
    "output_file(\"hover_callback.html\")\n",
    "\n",
    "# define some points and a little graph between them\n",
    "x = [2, 3, 5, 6, 8, 7]\n",
    "y = [6, 4, 3, 8, 7, 5]\n",
    "links = {\n",
    "    0: [1, 2],\n",
    "    1: [0, 3, 4],\n",
    "    2: [0, 5],\n",
    "    3: [1, 4],\n",
    "    4: [1, 3],\n",
    "    5: [2, 3, 4]\n",
    "}\n",
    "\n",
    "p = figure(plot_width=400, plot_height=400, tools=\"\", toolbar_location=None, title='Hover over points')\n",
    "\n",
    "source = ColumnDataSource({'x0': [], 'y0': [], 'x1': [], 'y1': []})\n",
    "sr = p.segment(x0='x0', y0='y0', x1='x1', y1='y1', color='olive', alpha=0.6, line_width=3, source=source, )\n",
    "cr = p.circle(x, y, color='olive', size=30, alpha=0.4, hover_color='olive', hover_alpha=1.0)\n",
    "\n",
    "# Add a hover tool, that sets the link data for a hovered circle\n",
    "code = \"\"\"\n",
    "const links = %s\n",
    "const data = {'x0': [], 'y0': [], 'x1': [], 'y1': []}\n",
    "const indices = cb_data.index.indices\n",
    "for (var i = 0; i < indices.length; i++) {\n",
    "    const start = indices[i]\n",
    "    for (var j = 0; j < links[start].length; j++) {\n",
    "        const end = links[start][j]\n",
    "        data['x0'].push(circle.data.x[start])\n",
    "        data['y0'].push(circle.data.y[start])\n",
    "        data['x1'].push(circle.data.x[end])\n",
    "        data['y1'].push(circle.data.y[end])\n",
    "    }\n",
    "}\n",
    "segment.data = data\n",
    "\"\"\" % links\n",
    "\n",
    "callback = CustomJS(args={'circle': cr.data_source, 'segment': sr.data_source}, code=code)\n",
    "p.add_tools(HoverTool(tooltips=None, callback=callback, renderers=[cr]))\n",
    "\n",
    "show(p)"
   ]
  },
  {
   "cell_type": "code",
   "execution_count": null,
   "metadata": {},
   "outputs": [],
   "source": []
  }
 ],
 "metadata": {
  "kernelspec": {
   "display_name": "Python 3",
   "language": "python",
   "name": "python3"
  },
  "language_info": {
   "codemirror_mode": {
    "name": "ipython",
    "version": 3
   },
   "file_extension": ".py",
   "mimetype": "text/x-python",
   "name": "python",
   "nbconvert_exporter": "python",
   "pygments_lexer": "ipython3",
   "version": "3.7.6"
  }
 },
 "nbformat": 4,
 "nbformat_minor": 4
}
