{
 "cells": [
  {
   "cell_type": "markdown",
   "metadata": {},
   "source": [
    "# Converting BDTNS dates to Processed Dates\n",
    "\n",
    "The purpose of this notebook is to take the dates from the Drehem dataset and convert to dates that are easier to work with. The 0th date in the processed dates is the beginning of Ur-Namma's period. \n",
    "\n",
    "Notebook by Tiffany Chien for the Sumerian Network project."
   ]
  },
  {
   "cell_type": "markdown",
   "metadata": {},
   "source": [
    "# 1. Getting text file from BDTNS\n",
    "\n",
    "In order to get P numbers and dates, go to \n",
    "http://bdtns.filol.csic.es/ \n",
    "\n",
    "In the Catalogue & Transliteration drop down menu choose \"Search\" \n",
    "\n",
    "In the Search form go to Provenience (another drop down menu) and choose Puzrish-Dagan (the ancient name of Drehem) and hit \"Search\". This will yield a long list of all tablets from Drehem - some 15,000 of them. In the left pane there is an Export button. Once you hit the button you get a number of options. Select \"CDLI number\" (= P number) and Date and hit \"export\". This will produce a .txt file that you can manipulate further.\n"
   ]
  },
  {
   "cell_type": "markdown",
   "metadata": {},
   "source": [
    "Importing information from text file as a dataframe"
   ]
  },
  {
   "cell_type": "code",
   "execution_count": null,
   "metadata": {},
   "outputs": [],
   "source": [
    "import pandas as pd\n",
    "import glob\n",
    "import os\n",
    "list_of_files = glob.glob('bdtns_metadata/*')\n",
    "list_of_files = [f for f in list_of_files if 'query_cat_' in f]\n",
    "list_of_files.sort()\n",
    "TEXT_FILE_PATH = list_of_files[0]\n",
    "drehem_date_data = pd.read_csv(TEXT_FILE_PATH, delimiter='\\t', header=None)"
   ]
  },
  {
   "cell_type": "markdown",
   "metadata": {},
   "source": [
    "Column 1 contains the CDLI numbers and Column 2 contains the unprocessed dates."
   ]
  },
  {
   "cell_type": "code",
   "execution_count": null,
   "metadata": {},
   "outputs": [],
   "source": [
    "drehem_date_data.head(7)"
   ]
  },
  {
   "cell_type": "markdown",
   "metadata": {},
   "source": [
    "#  2. Removing rows with null dates"
   ]
  },
  {
   "cell_type": "code",
   "execution_count": null,
   "metadata": {},
   "outputs": [],
   "source": [
    "dates = drehem_date_data[2]\n",
    "drehem_date_data = drehem_date_data[~dates.isna()]"
   ]
  },
  {
   "cell_type": "markdown",
   "metadata": {},
   "source": [
    "Mapping KINGS to years. We subtract the years from the bias as we want processed dates to start from the beginning of Ur-Namma's reigning period as 0. \n",
    "\n",
    "The names mapping is not used later in the code but is there to show which abbreviation stands for whom. "
   ]
  },
  {
   "cell_type": "code",
   "execution_count": null,
   "metadata": {},
   "outputs": [],
   "source": [
    "BIAS = 2112\n",
    "\n",
    "KINGS = {\n",
    "\t'Ur-Namma': (BIAS - 2112, BIAS - 2095),\n",
    "\t'SH': (BIAS - 2094, BIAS - 2047),\n",
    "\t'AS': (BIAS - 2046, BIAS - 2038),\n",
    "\t'SS': (BIAS - 2037, BIAS - 2029),\n",
    "\t'IS': (BIAS - 2028, BIAS - 2004)\n",
    "}\n",
    "\n",
    "\n",
    "names = {'IS': 'Ibbi-Suen',\n",
    "         'SS': 'Shu-Suen',\n",
    "         'AS': 'Amar-Suen',\n",
    "         'SH': 'Shulgi',\n",
    "        }"
   ]
  },
  {
   "cell_type": "markdown",
   "metadata": {},
   "source": [
    "# 3. Converting months and days to appropriate decimal representation"
   ]
  },
  {
   "cell_type": "markdown",
   "metadata": {},
   "source": [
    "If any part of the dates has an invalid value, we represent it as 0 in this dataset. The catch_num_formatting function converts a number to its appropriate value for adding to the total date.\n",
    "\n",
    "For example, **catch_num_formatting(07, '0.')** would return 0.07. This value would then be added to the total date as month. \n",
    "\n",
    "To represent month, we call **catch_num_formatting(month, '0.')**.<br />\n",
    "To represent a day, we call **catch_num_formatting(day, '0.00')**.\n",
    "\n",
    "Note: Could also choose to exclude it from entire dataset if needed"
   ]
  },
  {
   "cell_type": "code",
   "execution_count": null,
   "metadata": {},
   "outputs": [],
   "source": [
    "INVALID_DATES = {'00', '--', '--,', 'XX', '??'}\n",
    "\n",
    "def catch_num_formatting(number, decimal):\n",
    "    if number in INVALID_DATES or 'x' in number:\n",
    "        return 0\n",
    "    try:\n",
    "        return float(decimal + number)\n",
    "    except ValueError:\n",
    "        print('num formatting', number)\n",
    "        return 0"
   ]
  },
  {
   "cell_type": "markdown",
   "metadata": {},
   "source": [
    "Here is an example of converting a singular date to a proccessed date. Splitting the date by '-' and stripping them of white spaces seperates the year, month, and day into 3 strings. \n",
    "\n",
    "The processed date is the summation of the year, the converted month, and the converted date. The first two characters of the string contain information about the King(retrieved from the KINGS mapping) and the last two characters specify the amount of years into the king's period. "
   ]
  },
  {
   "cell_type": "code",
   "execution_count": null,
   "metadata": {},
   "outputs": [],
   "source": [
    "a_date = drehem_date_data[2][0].split('-')\n",
    "print(a_date)\n",
    "year = a_date[0].strip()\n",
    "month = a_date[1].strip()\n",
    "day = a_date[2].strip()\n",
    "\n",
    "\n",
    "processed = KINGS[year[0:2]][0]+int(year[2:]) + catch_num_formatting(month, '0.') + catch_num_formatting(day, '0.00')\n",
    "print('processed',processed)"
   ]
  },
  {
   "cell_type": "markdown",
   "metadata": {},
   "source": [
    "Processing all dates in dataframe from txt file"
   ]
  },
  {
   "cell_type": "code",
   "execution_count": null,
   "metadata": {},
   "outputs": [],
   "source": [
    "def process_dates(a_date):\n",
    "    try:\n",
    "        if a_date not in INVALID_DATES:\n",
    "            split_date = a_date.split('-')\n",
    "            year = process_year(split_date[0])\n",
    "            month = split_date[1].strip()[0:2]\n",
    "            day = split_date[2].strip()[0:2]\n",
    "            processed = year + catch_num_formatting(month, '0.') + catch_num_formatting(day, '0.00')\n",
    "            return processed\n",
    "    except:\n",
    "        print('This date caused an error: ',a_date)\n",
    "        return 0\n",
    "\n",
    "def process_year(year):\n",
    "    try:\n",
    "        if year[0:2] in INVALID_DATES:\n",
    "            return 0\n",
    "        else:\n",
    "            return KINGS[year[0:2]][0]+int(year[2:])\n",
    "    except:\n",
    "        return 0\n",
    "        \n",
    "drehem_date_data[3] = drehem_date_data[2].apply(process_dates)\n",
    "drehem_date_data[drehem_date_data[2]!=0].head()\n"
   ]
  },
  {
   "cell_type": "code",
   "execution_count": null,
   "metadata": {},
   "outputs": [],
   "source": [
    "#adding column names\n",
    "drehem_date_data.rename(columns={0: 'BDTNS No', 1: 'CDLI No', 2: 'Original date', 3:'Converted Date'}, inplace = True)\n",
    "drehem_date_data.head(3)"
   ]
  },
  {
   "cell_type": "markdown",
   "metadata": {},
   "source": [
    "# 4. Writing to CSV"
   ]
  },
  {
   "cell_type": "code",
   "execution_count": null,
   "metadata": {},
   "outputs": [],
   "source": [
    "drehem_date_data.to_csv(\"bdtns_metadata/dates.csv\")"
   ]
  },
  {
   "cell_type": "code",
   "execution_count": null,
   "metadata": {},
   "outputs": [],
   "source": [
    "#outlier\n",
    "#removed from dataset for visualization purposes\n",
    "\n",
    "print('Removed the following rows in visualization:')\n",
    "print(drehem_date_data[drehem_date_data['Converted Date']>400])\n",
    "drehem_date_data = drehem_date_data[drehem_date_data['Converted Date']<400]\n",
    "\n"
   ]
  },
  {
   "cell_type": "code",
   "execution_count": null,
   "metadata": {},
   "outputs": [],
   "source": [
    "ax = drehem_date_data.plot.scatter(x=0, \n",
    "                                   y = 'Converted Date',)"
   ]
  },
  {
   "cell_type": "code",
   "execution_count": null,
   "metadata": {},
   "outputs": [],
   "source": []
  },
  {
   "cell_type": "code",
   "execution_count": null,
   "metadata": {},
   "outputs": [],
   "source": []
  },
  {
   "cell_type": "code",
   "execution_count": null,
   "metadata": {},
   "outputs": [],
   "source": []
  },
  {
   "cell_type": "code",
   "execution_count": null,
   "metadata": {},
   "outputs": [],
   "source": []
  },
  {
   "cell_type": "code",
   "execution_count": null,
   "metadata": {},
   "outputs": [],
   "source": []
  },
  {
   "cell_type": "code",
   "execution_count": null,
   "metadata": {},
   "outputs": [],
   "source": []
  }
 ],
 "metadata": {
  "kernelspec": {
   "display_name": "Python 3",
   "language": "python",
   "name": "python3"
  },
  "language_info": {
   "codemirror_mode": {
    "name": "ipython",
    "version": 3
   },
   "file_extension": ".py",
   "mimetype": "text/x-python",
   "name": "python",
   "nbconvert_exporter": "python",
   "pygments_lexer": "ipython3",
   "version": "3.7.6"
  }
 },
 "nbformat": 4,
 "nbformat_minor": 4
}
