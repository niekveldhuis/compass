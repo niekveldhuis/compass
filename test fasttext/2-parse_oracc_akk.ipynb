{
 "cells": [
  {
   "cell_type": "markdown",
   "metadata": {},
   "source": [
    "# Represent ORACC Texts in UTF-8 Cuneiform\n",
    "The code in this notebook will parse [ORACC](http://oracc.org) `JSON` files to extract Akkadian text in lemmatizations, transliterations and cuneiform from one or more [ORACC](http://oracc.org) projects. "
   ]
  },
  {
   "cell_type": "code",
   "execution_count": 1,
   "metadata": {},
   "outputs": [],
   "source": [
    "import pandas as pd\n",
    "import zipfile\n",
    "import json\n",
    "import tqdm\n",
    "import os\n",
    "import sys\n",
    "import pickle\n",
    "import re\n",
    "util_dir = os.path.abspath('../utils')\n",
    "sys.path.append(util_dir)\n",
    "from utils import *"
   ]
  },
  {
   "cell_type": "markdown",
   "metadata": {},
   "source": [
    "## 0 Create Directories, if Necessary\n",
    "The two directories needed for this script are `jsonzip` and `output`. If they do not exist they are created, else: do nothing.\n",
    "\n",
    "For the code, see [Stack Overflow](http://stackoverflow.com/questions/18973418/os-mkdirpath-returns-oserror-when-directory-does-not-exist)."
   ]
  },
  {
   "cell_type": "code",
   "execution_count": 2,
   "metadata": {},
   "outputs": [],
   "source": [
    "directories = ['jsonzip', 'output', 'corpus']\n",
    "make_dirs(directories)"
   ]
  },
  {
   "cell_type": "markdown",
   "metadata": {},
   "source": [
    "## 1.1 Input Project Names\n",
    "Provide a list of one or more project names, separated by commas. Note that subprojects must be listed separately, they are not included in the main project. For instance:\n",
    "\n",
    "blms, akklove, cams/anzu, cams/barutu, cams/gkab, cams/selbi, ccpo, cmawro, cmawro/cmawr2, cmawro/maqlu, dcclt, dcclt/nineveh, dcclt/signlists, glass, hbtin, riao, ribo/babylon0, ribo/babylon1, ribo/babylon2, ribo/babylon3, ribo/babylon4, ribo/babylon5, ribo/babylon6, ribo/babylon7, ribo/babylon8, ribo/babylon10, rimanum, rinap/rinap1, rinap/rinap3, rinap/rinap4, rinap/rinap5, saao/saa01, saao/saa02, saao/saa03, saao/saa04, saao/saa05, saao/saa06, saao/saa07, saao/saa08, saao/saa09, saao/saa10, saao/saa11, saao/saa12, saao/saa13, saao/saa14, saao/saa15, saao/saa16, saao/saa17, saao/saa18, saao/saa19, saao/saa20, saao/saa21, suhu"
   ]
  },
  {
   "cell_type": "code",
   "execution_count": 3,
   "metadata": {},
   "outputs": [
    {
     "name": "stdout",
     "output_type": "stream",
     "text": [
      "Project(s): blms, akklove, cams/anzu, cams/barutu, cams/gkab, cams/selbi, ccpo, cmawro, cmawro/cmawr2, cmawro/maqlu, dcclt, dcclt/nineveh, dcclt/signlists, glass, hbtin, riao, ribo/babylon0, ribo/babylon1, ribo/babylon2, ribo/babylon3, ribo/babylon4, ribo/babylon5, ribo/babylon6, ribo/babylon7, ribo/babylon8, ribo/babylon10, rimanum, rinap/rinap1, rinap/rinap3, rinap/rinap4, rinap/rinap5, saao/saa01, saao/saa02, saao/saa03, saao/saa04, saao/saa05, saao/saa06, saao/saa07, saao/saa08, saao/saa09, saao/saa10, saao/saa11, saao/saa12, saao/saa13, saao/saa14, saao/saa15, saao/saa16, saao/saa17, saao/saa18, saao/saa19, saao/saa20, saao/saa21, suhu\n"
     ]
    }
   ],
   "source": [
    "projects = input('Project(s): ').lower()"
   ]
  },
  {
   "cell_type": "markdown",
   "metadata": {},
   "source": [
    "## 1.2 Split the List of Projects and Download the ZIP files.\n",
    "Split the list of projects and create a list of project names, using the `format_project_list()` and `oracc_download()` functions in the `utils` module. The code of these functions is discussed in more detail in 2.1.0. Download ORACC JSON Files."
   ]
  },
  {
   "cell_type": "code",
   "execution_count": 4,
   "metadata": {},
   "outputs": [],
   "source": [
    "p = format_project_list(projects)\n",
    "oracc_download(p)"
   ]
  },
  {
   "cell_type": "markdown",
   "metadata": {},
   "source": [
    "## <a name=\"head21\"></a>2.1 The `parsejson()` function\n",
    "The `parsejson()` function will \"dig into\" the `json` file (transformed into a dictionary) until it finds the relevant data. The `json` file consists of a hierarchy of `cdl` nodes; only the lowest nodes contain lemmatization data. The function goes down this hierarchy by calling itself when another `cdl` node is encountered. For nore information about the data hierarchy in the [ORACC](http://oracc.org) `json` files, see [ORACC Open Data](http://oracc.museum.upenn.edu/doc/opendata/index.html).\n",
    "\n",
    "The argument of the `parsejson()` function is a `JSON` object, a dictionary that initially contains the entire contents of the original JSON file. The code takes the key `cdl` which itself contains an array (a list) of `JSON` objects. Iterating through these objects, if an object contains another `cdl` node, the function calls itself with this object as first argument. This way the function digs deeper and deeper into the `JSON` tree, until it does not encounter a `cdl` key anymore. Here we are at the level of individual words. The code checks for a key `f`, if it exists the signs are in the node `gdl` within the `f` node. "
   ]
  },
  {
   "cell_type": "code",
   "execution_count": 7,
   "metadata": {},
   "outputs": [],
   "source": [
    "def parsejson_signs(text):\n",
    "    for JSONobject in text[\"cdl\"]:\n",
    "        field = ''\n",
    "        if \"cdl\" in JSONobject: \n",
    "            parsejson_signs(JSONobject)\n",
    "        if \"type\" in JSONobject and JSONobject[\"type\"] == \"field-start\":\n",
    "            field = JSONobject[\"subtype\"]\n",
    "        if \"f\" in JSONobject and not field in ['sg', 'pr']: # skip the fields \"sign\" and \"pronunciation\"\n",
    "                                # in lexical texts\n",
    "            lang = JSONobject[\"f\"][\"lang\"]     #[:3] == \"akk\": #only Akkadian and Akkadian dialects\n",
    "            word = JSONobject[\"f\"]\n",
    "            f = word[\"form\"]\n",
    "            if \"sexified\" in word[\"gdl\"][0]:\n",
    "                f = word[\"gdl\"][0][\"sexified\"]\n",
    "            if \"cf\" in word:\n",
    "                if 'pos' in word:  #for some reason some words appear without pos. Provisionally treated as Noun\n",
    "                    lemm = word[\"cf\"] + '[' + word[\"gw\"] + \"]\" + word[\"pos\"]\n",
    "                else:\n",
    "                    lemm = word[\"cf\"] + '[' + word[\"gw\"] + \"]N\"\n",
    "                lemm = lemm.replace(' ', '-') # remove commas and spaces from lemm\n",
    "                lemm = lemm.replace(',', '')\n",
    "            else:\n",
    "                lemm = word[\"form\"] # if word is unlemmatized\n",
    "            all_.append(f)\n",
    "            lemm_.append(lemm)\n",
    "            lang_.append(lang)\n",
    "    return"
   ]
  },
  {
   "cell_type": "markdown",
   "metadata": {},
   "source": [
    "## 2.2 Call the `parsejson()` function for every `JSON` file\n",
    "The code in this cell will iterate through the list of projects entered above (1.1). For each project the `JSON` zip file is located in the directory `jsonzip`, named PROJECT.zip. \n",
    "\n",
    "Each of these files is extracted from the `zip` file and read with the command `json.loads()`, which reads the json data and transforms it into a Python dictionary (a sequence of keys and values).\n",
    "\n",
    "This dictionary, which is called `text` is now sent to the `parsejson()` function. The function adds signs to the `sign_l` list."
   ]
  },
  {
   "cell_type": "code",
   "execution_count": 8,
   "metadata": {},
   "outputs": [
    {
     "name": "stderr",
     "output_type": "stream",
     "text": [
      "  9%|███▋                                     | 36/395 [00:00<00:04, 86.55it/s]"
     ]
    },
    {
     "name": "stdout",
     "output_type": "stream",
     "text": [
      "blms/P357131 is not available or not complete\n"
     ]
    },
    {
     "name": "stderr",
     "output_type": "stream",
     "text": [
      " 31%|████████████▎                           | 122/395 [00:01<00:03, 87.08it/s]"
     ]
    },
    {
     "name": "stdout",
     "output_type": "stream",
     "text": [
      "blms/P384976 is not available or not complete\n"
     ]
    },
    {
     "name": "stderr",
     "output_type": "stream",
     "text": [
      " 64%|████████████████████████▉              | 252/395 [00:02<00:01, 117.33it/s]"
     ]
    },
    {
     "name": "stdout",
     "output_type": "stream",
     "text": [
      "blms/P384968 is not available or not complete\n"
     ]
    },
    {
     "name": "stderr",
     "output_type": "stream",
     "text": [
      "100%|███████████████████████████████████████| 395/395 [00:03<00:00, 114.55it/s]\n",
      "100%|█████████████████████████████████████████| 32/32 [00:00<00:00, 109.58it/s]\n",
      "100%|████████████████████████████████████████████| 3/3 [00:00<00:00, 19.87it/s]\n",
      "100%|████████████████████████████████████████████| 3/3 [00:00<00:00, 22.93it/s]\n",
      " 45%|██████████████████▏                     | 266/585 [00:04<00:07, 43.20it/s]"
     ]
    },
    {
     "name": "stdout",
     "output_type": "stream",
     "text": [
      "cams/gkab/P363695 is not available or not complete\n"
     ]
    },
    {
     "name": "stderr",
     "output_type": "stream",
     "text": [
      "100%|████████████████████████████████████████| 585/585 [00:09<00:00, 63.00it/s]\n",
      "100%|███████████████████████████████████████████| 3/3 [00:00<00:00, 124.99it/s]\n",
      "100%|███████████████████████████████████████| 205/205 [00:01<00:00, 103.05it/s]\n",
      "0it [00:00, ?it/s]\n",
      "  0%|                                                   | 0/82 [00:00<?, ?it/s]"
     ]
    },
    {
     "name": "stdout",
     "output_type": "stream",
     "text": [
      "cmawro/cmawr2/Q005082 is not available or not complete\n",
      "cmawro/cmawr2/Q005112 is not available or not complete\n",
      "cmawro/cmawr2/Q005074 is not available or not complete\n",
      "cmawro/cmawr2/Q005087 is not available or not complete\n"
     ]
    },
    {
     "name": "stderr",
     "output_type": "stream",
     "text": [
      "  5%|██                                         | 4/82 [00:00<00:01, 39.92it/s]"
     ]
    },
    {
     "name": "stdout",
     "output_type": "stream",
     "text": [
      "cmawro/cmawr2/Q005093 is not available or not complete\n",
      "cmawro/cmawr2/Q005073 is not available or not complete\n",
      "cmawro/cmawr2/Q005064 is not available or not complete\n",
      "cmawro/cmawr2/Q005043 is not available or not complete\n"
     ]
    },
    {
     "name": "stderr",
     "output_type": "stream",
     "text": [
      " 10%|████▏                                      | 8/82 [00:00<00:01, 39.12it/s]"
     ]
    },
    {
     "name": "stdout",
     "output_type": "stream",
     "text": [
      "cmawro/cmawr2/Q005038 is not available or not complete\n",
      "cmawro/cmawr2/Q005066 is not available or not complete\n",
      "cmawro/cmawr2/Q005100 is not available or not complete\n",
      "cmawro/cmawr2/Q005067 is not available or not complete\n",
      "cmawro/cmawr2/Q005104 is not available or not complete\n",
      "cmawro/cmawr2/Q005105 is not available or not complete\n",
      "cmawro/cmawr2/Q005070 is not available or not complete\n"
     ]
    },
    {
     "name": "stderr",
     "output_type": "stream",
     "text": [
      " 18%|███████▋                                  | 15/82 [00:00<00:01, 41.19it/s]"
     ]
    },
    {
     "name": "stdout",
     "output_type": "stream",
     "text": [
      "cmawro/cmawr2/Q005040 is not available or not complete\n",
      "cmawro/cmawr2/Q005921 is not available or not complete\n",
      "cmawro/cmawr2/Q005041 is not available or not complete\n",
      "cmawro/cmawr2/Q005099 is not available or not complete\n",
      "cmawro/cmawr2/Q005063 is not available or not complete\n",
      "cmawro/cmawr2/Q005039 is not available or not complete\n"
     ]
    },
    {
     "name": "stderr",
     "output_type": "stream",
     "text": [
      " 26%|██████████▊                               | 21/82 [00:00<00:01, 41.33it/s]"
     ]
    },
    {
     "name": "stdout",
     "output_type": "stream",
     "text": [
      "cmawro/cmawr2/Q005068 is not available or not complete\n",
      "cmawro/cmawr2/Q005065 is not available or not complete\n",
      "cmawro/cmawr2/Q005052 is not available or not complete\n",
      "cmawro/cmawr2/Q005114 is not available or not complete\n"
     ]
    },
    {
     "name": "stderr",
     "output_type": "stream",
     "text": [
      " 30%|████████████▊                             | 25/82 [00:00<00:01, 38.75it/s]"
     ]
    },
    {
     "name": "stdout",
     "output_type": "stream",
     "text": [
      "cmawro/cmawr2/Q005042 is not available or not complete\n",
      "cmawro/cmawr2/Q005110 is not available or not complete\n",
      "cmawro/cmawr2/Q005091 is not available or not complete\n",
      "cmawro/cmawr2/Q005048 is not available or not complete\n",
      "cmawro/cmawr2/Q005107 is not available or not complete\n",
      "cmawro/cmawr2/Q005079 is not available or not complete\n",
      "cmawro/cmawr2/Q005072 is not available or not complete\n"
     ]
    },
    {
     "name": "stderr",
     "output_type": "stream",
     "text": [
      " 40%|████████████████▉                         | 33/82 [00:00<00:01, 42.87it/s]"
     ]
    },
    {
     "name": "stdout",
     "output_type": "stream",
     "text": [
      "cmawro/cmawr2/Q005108 is not available or not complete\n",
      "cmawro/cmawr2/Q005051 is not available or not complete\n",
      "cmawro/cmawr2/Q005095 is not available or not complete\n",
      "cmawro/cmawr2/Q005050 is not available or not complete\n",
      "cmawro/cmawr2/Q005075 is not available or not complete\n",
      "cmawro/cmawr2/Q005085 is not available or not complete\n",
      "cmawro/cmawr2/Q005097 is not available or not complete\n",
      "cmawro/cmawr2/Q005086 is not available or not complete\n"
     ]
    },
    {
     "name": "stderr",
     "output_type": "stream",
     "text": [
      " 51%|█████████████████████▌                    | 42/82 [00:00<00:00, 50.01it/s]"
     ]
    },
    {
     "name": "stdout",
     "output_type": "stream",
     "text": [
      "cmawro/cmawr2/Q005096 is not available or not complete\n",
      "cmawro/cmawr2/Q005094 is not available or not complete\n",
      "cmawro/cmawr2/Q005092 is not available or not complete\n",
      "cmawro/cmawr2/Q005078 is not available or not complete\n",
      "cmawro/cmawr2/Q005083 is not available or not complete\n"
     ]
    },
    {
     "name": "stderr",
     "output_type": "stream",
     "text": [
      " 59%|████████████████████████▌                 | 48/82 [00:01<00:00, 46.47it/s]"
     ]
    },
    {
     "name": "stdout",
     "output_type": "stream",
     "text": [
      "cmawro/cmawr2/Q005037 is not available or not complete\n",
      "cmawro/cmawr2/Q005045 is not available or not complete\n",
      "cmawro/cmawr2/Q005106 is not available or not complete\n",
      "cmawro/cmawr2/Q005055 is not available or not complete\n",
      "cmawro/cmawr2/Q005049 is not available or not complete\n",
      "cmawro/cmawr2/Q005062 is not available or not complete\n",
      "cmawro/cmawr2/Q005109 is not available or not complete\n"
     ]
    },
    {
     "name": "stderr",
     "output_type": "stream",
     "text": [
      " 67%|████████████████████████████▏             | 55/82 [00:01<00:00, 50.65it/s]"
     ]
    },
    {
     "name": "stdout",
     "output_type": "stream",
     "text": [
      "cmawro/cmawr2/Q005089 is not available or not complete\n",
      "cmawro/cmawr2/Q005103 is not available or not complete\n",
      "cmawro/cmawr2/Q005036 is not available or not complete\n",
      "cmawro/cmawr2/Q005069 is not available or not complete\n",
      "cmawro/cmawr2/Q005101 is not available or not complete\n"
     ]
    },
    {
     "name": "stderr",
     "output_type": "stream",
     "text": [
      " 74%|███████████████████████████████▏          | 61/82 [00:01<00:00, 49.85it/s]"
     ]
    },
    {
     "name": "stdout",
     "output_type": "stream",
     "text": [
      "cmawro/cmawr2/Q005058 is not available or not complete\n",
      "cmawro/cmawr2/Q005056 is not available or not complete\n",
      "cmawro/cmawr2/Q005077 is not available or not complete\n",
      "cmawro/cmawr2/Q005111 is not available or not complete\n",
      "cmawro/cmawr2/Q005102 is not available or not complete\n",
      "cmawro/cmawr2/Q005098 is not available or not complete\n",
      "cmawro/cmawr2/Q005046 is not available or not complete\n",
      "cmawro/cmawr2/Q005076 is not available or not complete\n",
      "cmawro/cmawr2/Q005059 is not available or not complete\n",
      "cmawro/cmawr2/Q005084 is not available or not complete\n"
     ]
    },
    {
     "name": "stderr",
     "output_type": "stream",
     "text": [
      " 87%|████████████████████████████████████▎     | 71/82 [00:01<00:00, 58.31it/s]"
     ]
    },
    {
     "name": "stdout",
     "output_type": "stream",
     "text": [
      "cmawro/cmawr2/Q005081 is not available or not complete\n",
      "cmawro/cmawr2/Q005053 is not available or not complete\n",
      "cmawro/cmawr2/Q005047 is not available or not complete\n",
      "cmawro/cmawr2/Q005088 is not available or not complete\n",
      "cmawro/cmawr2/Q005057 is not available or not complete\n",
      "cmawro/cmawr2/Q005044 is not available or not complete\n"
     ]
    },
    {
     "name": "stderr",
     "output_type": "stream",
     "text": [
      " 95%|███████████████████████████████████████▉  | 78/82 [00:01<00:00, 57.88it/s]"
     ]
    },
    {
     "name": "stdout",
     "output_type": "stream",
     "text": [
      "cmawro/cmawr2/Q005113 is not available or not complete\n",
      "cmawro/cmawr2/Q005054 is not available or not complete\n",
      "cmawro/cmawr2/Q005071 is not available or not complete\n",
      "cmawro/cmawr2/Q005080 is not available or not complete\n"
     ]
    },
    {
     "name": "stderr",
     "output_type": "stream",
     "text": [
      "100%|██████████████████████████████████████████| 82/82 [00:01<00:00, 52.83it/s]\n",
      "  0%|                                                    | 0/9 [00:00<?, ?it/s]"
     ]
    },
    {
     "name": "stdout",
     "output_type": "stream",
     "text": [
      "cmawro/maqlu/Q002709 is not available or not complete\n",
      "cmawro/maqlu/Q002707 is not available or not complete\n"
     ]
    },
    {
     "name": "stderr",
     "output_type": "stream",
     "text": [
      " 22%|█████████▊                                  | 2/9 [00:00<00:00,  7.98it/s]"
     ]
    },
    {
     "name": "stdout",
     "output_type": "stream",
     "text": [
      "cmawro/maqlu/Q002713 is not available or not complete\n",
      "cmawro/maqlu/Q002708 is not available or not complete\n"
     ]
    },
    {
     "name": "stderr",
     "output_type": "stream",
     "text": [
      " 44%|███████████████████▌                        | 4/9 [00:00<00:00,  9.38it/s]"
     ]
    },
    {
     "name": "stdout",
     "output_type": "stream",
     "text": [
      "cmawro/maqlu/Q002710 is not available or not complete\n",
      "cmawro/maqlu/Q002712 is not available or not complete\n",
      "cmawro/maqlu/Q002711 is not available or not complete\n"
     ]
    },
    {
     "name": "stderr",
     "output_type": "stream",
     "text": [
      " 78%|██████████████████████████████████▏         | 7/9 [00:00<00:00, 11.12it/s]"
     ]
    },
    {
     "name": "stdout",
     "output_type": "stream",
     "text": [
      "cmawro/maqlu/Q002705 is not available or not complete\n",
      "cmawro/maqlu/Q002706 is not available or not complete\n"
     ]
    },
    {
     "name": "stderr",
     "output_type": "stream",
     "text": [
      "100%|████████████████████████████████████████████| 9/9 [00:00<00:00, 11.58it/s]\n",
      "  1%|▎                                      | 29/4305 [00:00<00:15, 277.77it/s]"
     ]
    },
    {
     "name": "stdout",
     "output_type": "stream",
     "text": [
      "dcclt/P429699 is not available or not complete\n"
     ]
    },
    {
     "name": "stderr",
     "output_type": "stream",
     "text": [
      "  1%|▌                                      | 59/4305 [00:00<00:15, 273.36it/s]"
     ]
    },
    {
     "name": "stdout",
     "output_type": "stream",
     "text": [
      "dcclt/Q000086 is not available or not complete\n"
     ]
    },
    {
     "name": "stderr",
     "output_type": "stream",
     "text": [
      "  2%|▉                                     | 101/4305 [00:00<00:19, 214.33it/s]"
     ]
    },
    {
     "name": "stdout",
     "output_type": "stream",
     "text": [
      "dcclt/P274552 is not available or not complete\n"
     ]
    },
    {
     "name": "stderr",
     "output_type": "stream",
     "text": [
      "  3%|█▏                                    | 131/4305 [00:00<00:18, 222.71it/s]"
     ]
    },
    {
     "name": "stdout",
     "output_type": "stream",
     "text": [
      "dcclt/P349776 is not available or not complete\n",
      "dcclt/P450974 is not available or not complete\n"
     ]
    },
    {
     "name": "stderr",
     "output_type": "stream",
     "text": [
      "  4%|█▎                                    | 151/4305 [00:00<00:19, 213.98it/s]"
     ]
    },
    {
     "name": "stdout",
     "output_type": "stream",
     "text": [
      "dcclt/P450780 is not available or not complete\n",
      "dcclt/P381847 is not available or not complete\n"
     ]
    },
    {
     "name": "stderr",
     "output_type": "stream",
     "text": [
      "  4%|█▌                                    | 170/4305 [00:00<00:28, 147.56it/s]"
     ]
    },
    {
     "name": "stdout",
     "output_type": "stream",
     "text": [
      "dcclt/P365407 is not available or not complete\n"
     ]
    },
    {
     "name": "stderr",
     "output_type": "stream",
     "text": [
      "  5%|█▋                                    | 197/4305 [00:01<00:25, 164.31it/s]"
     ]
    },
    {
     "name": "stdout",
     "output_type": "stream",
     "text": [
      "dcclt/P370336 is not available or not complete\n"
     ]
    },
    {
     "name": "stderr",
     "output_type": "stream",
     "text": [
      "  5%|█▉                                    | 222/4305 [00:01<00:22, 182.34it/s]"
     ]
    },
    {
     "name": "stdout",
     "output_type": "stream",
     "text": [
      "dcclt/P450812 is not available or not complete\n",
      "dcclt/P274484 is not available or not complete\n",
      "dcclt/P347739 is not available or not complete\n"
     ]
    },
    {
     "name": "stderr",
     "output_type": "stream",
     "text": [
      "  6%|██▏                                   | 242/4305 [00:01<00:26, 154.34it/s]"
     ]
    },
    {
     "name": "stdout",
     "output_type": "stream",
     "text": [
      "dcclt/P381792 is not available or not complete\n"
     ]
    },
    {
     "name": "stderr",
     "output_type": "stream",
     "text": [
      "  6%|██▎                                   | 260/4305 [00:01<00:27, 146.15it/s]"
     ]
    },
    {
     "name": "stdout",
     "output_type": "stream",
     "text": [
      "dcclt/P345997 is not available or not complete\n",
      "dcclt/P274488 is not available or not complete\n"
     ]
    },
    {
     "name": "stderr",
     "output_type": "stream",
     "text": [
      "  7%|██▊                                   | 313/4305 [00:01<00:24, 163.44it/s]"
     ]
    },
    {
     "name": "stdout",
     "output_type": "stream",
     "text": [
      "dcclt/P227761 is not available or not complete\n"
     ]
    },
    {
     "name": "stderr",
     "output_type": "stream",
     "text": [
      "  9%|███▎                                  | 380/4305 [00:02<00:25, 154.85it/s]"
     ]
    },
    {
     "name": "stdout",
     "output_type": "stream",
     "text": [
      "dcclt/P388211 is not available or not complete\n",
      "dcclt/P247815 is not available or not complete\n",
      "dcclt/X600019 is not available or not complete\n"
     ]
    },
    {
     "name": "stderr",
     "output_type": "stream",
     "text": [
      "  9%|███▌                                  | 404/4305 [00:02<00:24, 160.24it/s]"
     ]
    },
    {
     "name": "stdout",
     "output_type": "stream",
     "text": [
      "dcclt/P450800 is not available or not complete\n"
     ]
    },
    {
     "name": "stderr",
     "output_type": "stream",
     "text": [
      " 10%|███▋                                  | 423/4305 [00:02<00:29, 130.51it/s]"
     ]
    },
    {
     "name": "stdout",
     "output_type": "stream",
     "text": [
      "dcclt/P347726 is not available or not complete\n"
     ]
    },
    {
     "name": "stderr",
     "output_type": "stream",
     "text": [
      " 10%|███▉                                  | 445/4305 [00:02<00:29, 132.53it/s]"
     ]
    },
    {
     "name": "stdout",
     "output_type": "stream",
     "text": [
      "dcclt/P450934 is not available or not complete\n",
      "dcclt/P385957 is not available or not complete\n"
     ]
    },
    {
     "name": "stderr",
     "output_type": "stream",
     "text": [
      " 11%|████▎                                 | 485/4305 [00:03<00:31, 121.88it/s]"
     ]
    },
    {
     "name": "stdout",
     "output_type": "stream",
     "text": [
      "dcclt/X800152 is not available or not complete\n"
     ]
    },
    {
     "name": "stderr",
     "output_type": "stream",
     "text": [
      " 12%|████▌                                 | 512/4305 [00:03<00:25, 145.89it/s]"
     ]
    },
    {
     "name": "stdout",
     "output_type": "stream",
     "text": [
      "dcclt/P349912 is not available or not complete\n"
     ]
    },
    {
     "name": "stderr",
     "output_type": "stream",
     "text": [
      " 12%|████▋                                 | 536/4305 [00:03<00:24, 156.05it/s]"
     ]
    },
    {
     "name": "stdout",
     "output_type": "stream",
     "text": [
      "dcclt/P285564 is not available or not complete\n",
      "dcclt/P381829 is not available or not complete\n"
     ]
    },
    {
     "name": "stderr",
     "output_type": "stream",
     "text": [
      " 13%|█████                                 | 574/4305 [00:03<00:23, 160.44it/s]"
     ]
    },
    {
     "name": "stdout",
     "output_type": "stream",
     "text": [
      "dcclt/P271881 is not available or not complete\n"
     ]
    },
    {
     "name": "stderr",
     "output_type": "stream",
     "text": [
      " 14%|█████▎                                | 598/4305 [00:03<00:21, 173.67it/s]"
     ]
    },
    {
     "name": "stdout",
     "output_type": "stream",
     "text": [
      "dcclt/P274483 is not available or not complete\n",
      "dcclt/P381848 is not available or not complete\n",
      "dcclt/P349476 is not available or not complete\n",
      "dcclt/P348984 is not available or not complete\n"
     ]
    },
    {
     "name": "stderr",
     "output_type": "stream",
     "text": [
      " 15%|█████▋                                | 638/4305 [00:03<00:17, 206.21it/s]"
     ]
    },
    {
     "name": "stdout",
     "output_type": "stream",
     "text": [
      "dcclt/X800084 is not available or not complete\n",
      "dcclt/P264083 is not available or not complete\n"
     ]
    },
    {
     "name": "stderr",
     "output_type": "stream",
     "text": [
      " 16%|█████▉                                | 674/4305 [00:03<00:15, 232.31it/s]"
     ]
    },
    {
     "name": "stdout",
     "output_type": "stream",
     "text": [
      "dcclt/P347836 is not available or not complete\n",
      "dcclt/X800153 is not available or not complete\n",
      "dcclt/P282430 is not available or not complete\n"
     ]
    },
    {
     "name": "stderr",
     "output_type": "stream",
     "text": [
      " 16%|██████▏                               | 701/4305 [00:04<00:18, 198.67it/s]"
     ]
    },
    {
     "name": "stdout",
     "output_type": "stream",
     "text": [
      "dcclt/P385890 is not available or not complete\n",
      "dcclt/P274553 is not available or not complete\n",
      "dcclt/P282499 is not available or not complete\n",
      "dcclt/P382247 is not available or not complete\n"
     ]
    },
    {
     "name": "stderr",
     "output_type": "stream",
     "text": [
      " 18%|██████▋                               | 763/4305 [00:04<00:22, 156.74it/s]"
     ]
    },
    {
     "name": "stdout",
     "output_type": "stream",
     "text": [
      "dcclt/P346075 is not available or not complete\n"
     ]
    },
    {
     "name": "stderr",
     "output_type": "stream",
     "text": [
      " 19%|███████                               | 797/4305 [00:04<00:18, 186.72it/s]"
     ]
    },
    {
     "name": "stdout",
     "output_type": "stream",
     "text": [
      "dcclt/P370325 is not available or not complete\n",
      "dcclt/P274543 is not available or not complete\n"
     ]
    },
    {
     "name": "stderr",
     "output_type": "stream",
     "text": [
      " 19%|███████▎                              | 824/4305 [00:04<00:18, 191.32it/s]"
     ]
    },
    {
     "name": "stdout",
     "output_type": "stream",
     "text": [
      "dcclt/P450914 is not available or not complete\n"
     ]
    },
    {
     "name": "stderr",
     "output_type": "stream",
     "text": [
      " 20%|███████▍                              | 849/4305 [00:04<00:18, 184.81it/s]"
     ]
    },
    {
     "name": "stdout",
     "output_type": "stream",
     "text": [
      "dcclt/P348545 is not available or not complete\n",
      "dcclt/P450756 is not available or not complete\n"
     ]
    },
    {
     "name": "stderr",
     "output_type": "stream",
     "text": [
      " 20%|███████▋                              | 872/4305 [00:05<00:18, 183.60it/s]"
     ]
    },
    {
     "name": "stdout",
     "output_type": "stream",
     "text": [
      "dcclt/P274563 is not available or not complete\n"
     ]
    },
    {
     "name": "stderr",
     "output_type": "stream",
     "text": [
      " 21%|███████▉                              | 893/4305 [00:05<00:22, 154.90it/s]"
     ]
    },
    {
     "name": "stdout",
     "output_type": "stream",
     "text": [
      "dcclt/P271710 is not available or not complete\n",
      "dcclt/X800083 is not available or not complete\n",
      "dcclt/P271742 is not available or not complete\n"
     ]
    },
    {
     "name": "stderr",
     "output_type": "stream",
     "text": [
      " 21%|████████                              | 920/4305 [00:05<00:19, 173.77it/s]"
     ]
    },
    {
     "name": "stdout",
     "output_type": "stream",
     "text": [
      "dcclt/P450941 is not available or not complete\n",
      "dcclt/P230597 is not available or not complete\n",
      "dcclt/Q000107 is not available or not complete\n",
      "dcclt/P349850 is not available or not complete\n"
     ]
    },
    {
     "name": "stderr",
     "output_type": "stream",
     "text": [
      " 22%|████████▎                             | 940/4305 [00:05<00:19, 176.48it/s]"
     ]
    },
    {
     "name": "stdout",
     "output_type": "stream",
     "text": [
      "dcclt/Q003224 is not available or not complete\n"
     ]
    },
    {
     "name": "stderr",
     "output_type": "stream",
     "text": [
      " 22%|████████▍                             | 962/4305 [00:05<00:18, 183.39it/s]"
     ]
    },
    {
     "name": "stdout",
     "output_type": "stream",
     "text": [
      "dcclt/P345993 is not available or not complete\n"
     ]
    },
    {
     "name": "stderr",
     "output_type": "stream",
     "text": [
      " 23%|████████▋                             | 987/4305 [00:05<00:16, 195.31it/s]"
     ]
    },
    {
     "name": "stdout",
     "output_type": "stream",
     "text": [
      "dcclt/P346054 is not available or not complete\n"
     ]
    },
    {
     "name": "stderr",
     "output_type": "stream",
     "text": [
      " 24%|████████▊                            | 1027/4305 [00:05<00:19, 170.41it/s]"
     ]
    },
    {
     "name": "stdout",
     "output_type": "stream",
     "text": [
      "dcclt/Q000106 is not available or not complete\n"
     ]
    },
    {
     "name": "stderr",
     "output_type": "stream",
     "text": [
      " 25%|█████████▏                           | 1067/4305 [00:06<00:22, 142.15it/s]"
     ]
    },
    {
     "name": "stdout",
     "output_type": "stream",
     "text": [
      "dcclt/Q000831 is not available or not complete\n",
      "dcclt/P381807 is not available or not complete\n",
      "dcclt/P450763 is not available or not complete\n",
      "dcclt/P386385 is not available or not complete\n"
     ]
    },
    {
     "name": "stderr",
     "output_type": "stream",
     "text": [
      " 25%|█████████▎                           | 1083/4305 [00:06<00:24, 129.88it/s]"
     ]
    },
    {
     "name": "stdout",
     "output_type": "stream",
     "text": [
      "dcclt/P274557 is not available or not complete\n",
      "dcclt/P275016 is not available or not complete\n"
     ]
    },
    {
     "name": "stderr",
     "output_type": "stream",
     "text": [
      " 26%|█████████▌                           | 1110/4305 [00:06<00:20, 153.83it/s]"
     ]
    },
    {
     "name": "stdout",
     "output_type": "stream",
     "text": [
      "dcclt/P283795 is not available or not complete\n"
     ]
    },
    {
     "name": "stderr",
     "output_type": "stream",
     "text": [
      " 26%|█████████▋                           | 1129/4305 [00:06<00:21, 145.86it/s]"
     ]
    },
    {
     "name": "stdout",
     "output_type": "stream",
     "text": [
      "dcclt/P397726 is not available or not complete\n",
      "dcclt/X600004 is not available or not complete\n",
      "dcclt/P450813 is not available or not complete\n"
     ]
    },
    {
     "name": "stderr",
     "output_type": "stream",
     "text": [
      " 27%|█████████▊                           | 1148/4305 [00:06<00:24, 126.93it/s]"
     ]
    },
    {
     "name": "stdout",
     "output_type": "stream",
     "text": [
      "dcclt/P349952 is not available or not complete\n"
     ]
    },
    {
     "name": "stderr",
     "output_type": "stream",
     "text": [
      " 28%|██████████▏                          | 1187/4305 [00:06<00:19, 158.16it/s]"
     ]
    },
    {
     "name": "stdout",
     "output_type": "stream",
     "text": [
      "dcclt/P347779 is not available or not complete\n"
     ]
    },
    {
     "name": "stderr",
     "output_type": "stream",
     "text": [
      " 28%|██████████▍                          | 1216/4305 [00:07<00:18, 166.42it/s]"
     ]
    },
    {
     "name": "stdout",
     "output_type": "stream",
     "text": [
      "dcclt/P347126 is not available or not complete\n"
     ]
    },
    {
     "name": "stderr",
     "output_type": "stream",
     "text": [
      " 29%|██████████▋                          | 1237/4305 [00:07<00:23, 129.04it/s]"
     ]
    },
    {
     "name": "stdout",
     "output_type": "stream",
     "text": [
      "dcclt/P346053 is not available or not complete\n"
     ]
    },
    {
     "name": "stderr",
     "output_type": "stream",
     "text": [
      " 29%|██████████▊                          | 1254/4305 [00:07<00:22, 135.11it/s]"
     ]
    },
    {
     "name": "stdout",
     "output_type": "stream",
     "text": [
      "dcclt/P274549 is not available or not complete\n",
      "dcclt/P381862 is not available or not complete\n",
      "dcclt/P429487 is not available or not complete\n"
     ]
    },
    {
     "name": "stderr",
     "output_type": "stream",
     "text": [
      " 30%|███████████▏                         | 1304/4305 [00:07<00:21, 141.69it/s]"
     ]
    },
    {
     "name": "stdout",
     "output_type": "stream",
     "text": [
      "dcclt/P347745 is not available or not complete\n",
      "dcclt/P347786 is not available or not complete\n"
     ]
    },
    {
     "name": "stderr",
     "output_type": "stream",
     "text": [
      " 31%|███████████▌                         | 1350/4305 [00:07<00:17, 171.84it/s]"
     ]
    },
    {
     "name": "stdout",
     "output_type": "stream",
     "text": [
      "dcclt/P349851 is not available or not complete\n",
      "dcclt/P349917 is not available or not complete\n"
     ]
    },
    {
     "name": "stderr",
     "output_type": "stream",
     "text": [
      " 32%|███████████▊                         | 1378/4305 [00:08<00:15, 192.75it/s]"
     ]
    },
    {
     "name": "stdout",
     "output_type": "stream",
     "text": [
      "dcclt/P499089 is not available or not complete\n",
      "dcclt/P394157 is not available or not complete\n"
     ]
    },
    {
     "name": "stderr",
     "output_type": "stream",
     "text": [
      " 33%|████████████                         | 1403/4305 [00:08<00:14, 206.45it/s]"
     ]
    },
    {
     "name": "stdout",
     "output_type": "stream",
     "text": [
      "dcclt/Q000205 is not available or not complete\n"
     ]
    },
    {
     "name": "stderr",
     "output_type": "stream",
     "text": [
      " 34%|████████████▍                        | 1452/4305 [00:08<00:11, 248.30it/s]"
     ]
    },
    {
     "name": "stdout",
     "output_type": "stream",
     "text": [
      "dcclt/P347742 is not available or not complete\n"
     ]
    },
    {
     "name": "stderr",
     "output_type": "stream",
     "text": [
      " 34%|████████████▋                        | 1483/4305 [00:08<00:10, 264.06it/s]"
     ]
    },
    {
     "name": "stdout",
     "output_type": "stream",
     "text": [
      "dcclt/P429485 is not available or not complete\n",
      "dcclt/P451233 is not available or not complete\n",
      "dcclt/P450804 is not available or not complete\n"
     ]
    },
    {
     "name": "stderr",
     "output_type": "stream",
     "text": [
      " 36%|█████████████▎                       | 1545/4305 [00:08<00:10, 262.29it/s]"
     ]
    },
    {
     "name": "stdout",
     "output_type": "stream",
     "text": [
      "dcclt/P347757 is not available or not complete\n"
     ]
    },
    {
     "name": "stderr",
     "output_type": "stream",
     "text": [
      " 37%|█████████████▌                       | 1574/4305 [00:08<00:15, 173.23it/s]"
     ]
    },
    {
     "name": "stdout",
     "output_type": "stream",
     "text": [
      "dcclt/P274562 is not available or not complete\n"
     ]
    },
    {
     "name": "stderr",
     "output_type": "stream",
     "text": [
      " 37%|█████████████▋                       | 1598/4305 [00:08<00:14, 187.32it/s]"
     ]
    },
    {
     "name": "stdout",
     "output_type": "stream",
     "text": [
      "dcclt/P450830 is not available or not complete\n",
      "dcclt/P274545 is not available or not complete\n",
      "dcclt/P345986 is not available or not complete\n"
     ]
    },
    {
     "name": "stderr",
     "output_type": "stream",
     "text": [
      " 38%|██████████████                       | 1641/4305 [00:09<00:12, 216.38it/s]"
     ]
    },
    {
     "name": "stdout",
     "output_type": "stream",
     "text": [
      "dcclt/P450754 is not available or not complete\n",
      "dcclt/P272319 is not available or not complete\n",
      "dcclt/P274491 is not available or not complete\n"
     ]
    },
    {
     "name": "stderr",
     "output_type": "stream",
     "text": [
      " 39%|██████████████▍                      | 1676/4305 [00:09<00:12, 218.63it/s]"
     ]
    },
    {
     "name": "stdout",
     "output_type": "stream",
     "text": [
      "dcclt/P349867 is not available or not complete\n"
     ]
    },
    {
     "name": "stderr",
     "output_type": "stream",
     "text": [
      " 40%|██████████████▋                      | 1716/4305 [00:09<00:10, 253.04it/s]"
     ]
    },
    {
     "name": "stdout",
     "output_type": "stream",
     "text": [
      "dcclt/P370359 is not available or not complete\n",
      "dcclt/P349843 is not available or not complete\n"
     ]
    },
    {
     "name": "stderr",
     "output_type": "stream",
     "text": [
      " 42%|███████████████▎                     | 1788/4305 [00:09<00:08, 285.84it/s]"
     ]
    },
    {
     "name": "stdout",
     "output_type": "stream",
     "text": [
      "dcclt/P451215 is not available or not complete\n",
      "dcclt/P271567 is not available or not complete\n"
     ]
    },
    {
     "name": "stderr",
     "output_type": "stream",
     "text": [
      " 42%|███████████████▋                     | 1821/4305 [00:09<00:09, 275.28it/s]"
     ]
    },
    {
     "name": "stdout",
     "output_type": "stream",
     "text": [
      "dcclt/P381795 is not available or not complete\n",
      "dcclt/Q000093 is not available or not complete\n",
      "dcclt/X999901 is not available or not complete\n"
     ]
    },
    {
     "name": "stderr",
     "output_type": "stream",
     "text": [
      " 43%|███████████████▉                     | 1852/4305 [00:09<00:08, 274.85it/s]"
     ]
    },
    {
     "name": "stdout",
     "output_type": "stream",
     "text": [
      "dcclt/P370356 is not available or not complete\n"
     ]
    },
    {
     "name": "stderr",
     "output_type": "stream",
     "text": [
      " 44%|████████████████▏                    | 1882/4305 [00:10<00:11, 213.27it/s]"
     ]
    },
    {
     "name": "stdout",
     "output_type": "stream",
     "text": [
      "dcclt/Q002278 is not available or not complete\n",
      "dcclt/P451153 is not available or not complete\n"
     ]
    },
    {
     "name": "stderr",
     "output_type": "stream",
     "text": [
      " 44%|████████████████▍                    | 1907/4305 [00:10<00:16, 147.72it/s]"
     ]
    },
    {
     "name": "stdout",
     "output_type": "stream",
     "text": [
      "dcclt/P349948 is not available or not complete\n"
     ]
    },
    {
     "name": "stderr",
     "output_type": "stream",
     "text": [
      " 45%|████████████████▋                    | 1946/4305 [00:10<00:15, 152.27it/s]"
     ]
    },
    {
     "name": "stdout",
     "output_type": "stream",
     "text": [
      "dcclt/P349388 is not available or not complete\n",
      "dcclt/P349858 is not available or not complete\n"
     ]
    },
    {
     "name": "stderr",
     "output_type": "stream",
     "text": [
      " 46%|████████████████▉                    | 1964/4305 [00:10<00:15, 154.47it/s]"
     ]
    },
    {
     "name": "stdout",
     "output_type": "stream",
     "text": [
      "dcclt/Q000091 is not available or not complete\n",
      "dcclt/P381832 is not available or not complete\n",
      "dcclt/P370365 is not available or not complete\n"
     ]
    },
    {
     "name": "stderr",
     "output_type": "stream",
     "text": [
      " 46%|█████████████████                    | 1982/4305 [00:10<00:15, 145.52it/s]"
     ]
    },
    {
     "name": "stdout",
     "output_type": "stream",
     "text": [
      "dcclt/X000181 is not available or not complete\n",
      "dcclt/P370352 is not available or not complete\n"
     ]
    },
    {
     "name": "stderr",
     "output_type": "stream",
     "text": [
      " 47%|█████████████████▌                   | 2041/4305 [00:11<00:11, 190.58it/s]"
     ]
    },
    {
     "name": "stdout",
     "output_type": "stream",
     "text": [
      "dcclt/P381786 is not available or not complete\n"
     ]
    },
    {
     "name": "stderr",
     "output_type": "stream",
     "text": [
      " 48%|█████████████████▋                   | 2063/4305 [00:11<00:16, 136.47it/s]"
     ]
    },
    {
     "name": "stdout",
     "output_type": "stream",
     "text": [
      "dcclt/P451012 is not available or not complete\n"
     ]
    },
    {
     "name": "stderr",
     "output_type": "stream",
     "text": [
      " 49%|██████████████████                   | 2095/4305 [00:11<00:13, 164.42it/s]"
     ]
    },
    {
     "name": "stdout",
     "output_type": "stream",
     "text": [
      "dcclt/P451071 is not available or not complete\n",
      "dcclt/P347731 is not available or not complete\n"
     ]
    },
    {
     "name": "stderr",
     "output_type": "stream",
     "text": [
      " 49%|██████████████████▏                  | 2117/4305 [00:11<00:13, 162.02it/s]"
     ]
    },
    {
     "name": "stdout",
     "output_type": "stream",
     "text": [
      "dcclt/P346045 is not available or not complete\n"
     ]
    },
    {
     "name": "stderr",
     "output_type": "stream",
     "text": [
      " 50%|██████████████████▌                  | 2158/4305 [00:11<00:17, 123.09it/s]"
     ]
    },
    {
     "name": "stdout",
     "output_type": "stream",
     "text": [
      "dcclt/P271724 is not available or not complete\n",
      "dcclt/P499094 is not available or not complete\n",
      "dcclt/Q003221 is not available or not complete\n"
     ]
    },
    {
     "name": "stderr",
     "output_type": "stream",
     "text": [
      " 51%|██████████████████▊                  | 2189/4305 [00:12<00:17, 122.84it/s]"
     ]
    },
    {
     "name": "stdout",
     "output_type": "stream",
     "text": [
      "dcclt/Q000110 is not available or not complete\n"
     ]
    },
    {
     "name": "stderr",
     "output_type": "stream",
     "text": [
      " 51%|███████████████████                  | 2214/4305 [00:12<00:14, 142.18it/s]"
     ]
    },
    {
     "name": "stdout",
     "output_type": "stream",
     "text": [
      "dcclt/P271551 is not available or not complete\n"
     ]
    },
    {
     "name": "stderr",
     "output_type": "stream",
     "text": [
      " 52%|███████████████████▏                 | 2231/4305 [00:12<00:14, 140.34it/s]"
     ]
    },
    {
     "name": "stdout",
     "output_type": "stream",
     "text": [
      "dcclt/P479337 is not available or not complete\n"
     ]
    },
    {
     "name": "stderr",
     "output_type": "stream",
     "text": [
      " 52%|███████████████████▎                 | 2248/4305 [00:12<00:15, 136.73it/s]"
     ]
    },
    {
     "name": "stdout",
     "output_type": "stream",
     "text": [
      "dcclt/P345975 is not available or not complete\n",
      "dcclt/P274536 is not available or not complete\n"
     ]
    },
    {
     "name": "stderr",
     "output_type": "stream",
     "text": [
      " 53%|███████████████████▌                 | 2281/4305 [00:12<00:12, 164.87it/s]"
     ]
    },
    {
     "name": "stdout",
     "output_type": "stream",
     "text": [
      "dcclt/P347772 is not available or not complete\n",
      "dcclt/P349913 is not available or not complete\n",
      "dcclt/P387757 is not available or not complete\n"
     ]
    },
    {
     "name": "stderr",
     "output_type": "stream",
     "text": [
      " 53%|███████████████████▊                 | 2301/4305 [00:12<00:13, 148.46it/s]"
     ]
    },
    {
     "name": "stdout",
     "output_type": "stream",
     "text": [
      "dcclt/P424414 is not available or not complete\n",
      "dcclt/P282498 is not available or not complete\n"
     ]
    },
    {
     "name": "stderr",
     "output_type": "stream",
     "text": [
      " 54%|████████████████████                 | 2337/4305 [00:13<00:13, 150.92it/s]"
     ]
    },
    {
     "name": "stdout",
     "output_type": "stream",
     "text": [
      "dcclt/Q000083 is not available or not complete\n"
     ]
    },
    {
     "name": "stderr",
     "output_type": "stream",
     "text": [
      " 55%|████████████████████▏                | 2354/4305 [00:13<00:12, 152.73it/s]"
     ]
    },
    {
     "name": "stdout",
     "output_type": "stream",
     "text": [
      "dcclt/P346017 is not available or not complete\n"
     ]
    },
    {
     "name": "stderr",
     "output_type": "stream",
     "text": [
      " 55%|████████████████████▌                | 2387/4305 [00:13<00:11, 172.75it/s]"
     ]
    },
    {
     "name": "stdout",
     "output_type": "stream",
     "text": [
      "dcclt/P450953 is not available or not complete\n"
     ]
    },
    {
     "name": "stderr",
     "output_type": "stream",
     "text": [
      " 56%|████████████████████▊                | 2422/4305 [00:13<00:09, 200.47it/s]"
     ]
    },
    {
     "name": "stdout",
     "output_type": "stream",
     "text": [
      "dcclt/P271899 is not available or not complete\n"
     ]
    },
    {
     "name": "stderr",
     "output_type": "stream",
     "text": [
      " 57%|█████████████████████                | 2455/4305 [00:13<00:08, 222.09it/s]"
     ]
    },
    {
     "name": "stdout",
     "output_type": "stream",
     "text": [
      "dcclt/P347753 is not available or not complete\n",
      "dcclt/P450777 is not available or not complete\n",
      "dcclt/P370343 is not available or not complete\n"
     ]
    },
    {
     "name": "stderr",
     "output_type": "stream",
     "text": [
      " 58%|█████████████████████▍               | 2492/4305 [00:13<00:07, 252.35it/s]"
     ]
    },
    {
     "name": "stdout",
     "output_type": "stream",
     "text": [
      "dcclt/P349934 is not available or not complete\n",
      "dcclt/P282496 is not available or not complete\n"
     ]
    },
    {
     "name": "stderr",
     "output_type": "stream",
     "text": [
      " 59%|█████████████████████▊               | 2537/4305 [00:13<00:06, 289.86it/s]"
     ]
    },
    {
     "name": "stdout",
     "output_type": "stream",
     "text": [
      "dcclt/Q000314 is not available or not complete\n",
      "dcclt/P247819 is not available or not complete\n",
      "dcclt/P429521 is not available or not complete\n"
     ]
    },
    {
     "name": "stderr",
     "output_type": "stream",
     "text": [
      " 61%|██████████████████████▌              | 2622/4305 [00:13<00:05, 325.59it/s]"
     ]
    },
    {
     "name": "stdout",
     "output_type": "stream",
     "text": [
      "dcclt/P370332 is not available or not complete\n",
      "dcclt/P347832 is not available or not complete\n"
     ]
    },
    {
     "name": "stderr",
     "output_type": "stream",
     "text": [
      " 63%|███████████████████████▏             | 2692/4305 [00:14<00:08, 192.73it/s]"
     ]
    },
    {
     "name": "stdout",
     "output_type": "stream",
     "text": [
      "dcclt/X800046 is not available or not complete\n",
      "dcclt/P370334 is not available or not complete\n"
     ]
    },
    {
     "name": "stderr",
     "output_type": "stream",
     "text": [
      " 63%|███████████████████████▍             | 2727/4305 [00:14<00:07, 218.91it/s]"
     ]
    },
    {
     "name": "stdout",
     "output_type": "stream",
     "text": [
      "dcclt/P363629 is not available or not complete\n",
      "dcclt/X999902 is not available or not complete\n"
     ]
    },
    {
     "name": "stderr",
     "output_type": "stream",
     "text": [
      " 64%|███████████████████████▋             | 2755/4305 [00:14<00:07, 203.67it/s]"
     ]
    },
    {
     "name": "stdout",
     "output_type": "stream",
     "text": [
      "dcclt/P282337 is not available or not complete\n",
      "dcclt/P349857 is not available or not complete\n",
      "dcclt/P368989 is not available or not complete\n"
     ]
    },
    {
     "name": "stderr",
     "output_type": "stream",
     "text": [
      " 65%|████████████████████████             | 2804/4305 [00:15<00:08, 173.48it/s]"
     ]
    },
    {
     "name": "stdout",
     "output_type": "stream",
     "text": [
      "dcclt/P381811 is not available or not complete\n",
      "dcclt/P348779 is not available or not complete\n"
     ]
    },
    {
     "name": "stderr",
     "output_type": "stream",
     "text": [
      " 66%|████████████████████████▍            | 2846/4305 [00:15<00:08, 171.24it/s]"
     ]
    },
    {
     "name": "stdout",
     "output_type": "stream",
     "text": [
      "dcclt/P247830 is not available or not complete\n"
     ]
    },
    {
     "name": "stderr",
     "output_type": "stream",
     "text": [
      " 67%|████████████████████████▊            | 2883/4305 [00:15<00:09, 151.70it/s]"
     ]
    },
    {
     "name": "stdout",
     "output_type": "stream",
     "text": [
      "dcclt/P349893 is not available or not complete\n",
      "dcclt/P451229 is not available or not complete\n",
      "dcclt/P345999 is not available or not complete\n",
      "dcclt/P423635 is not available or not complete\n"
     ]
    },
    {
     "name": "stderr",
     "output_type": "stream",
     "text": [
      " 67%|████████████████████████▉            | 2900/4305 [00:15<00:10, 130.42it/s]"
     ]
    },
    {
     "name": "stdout",
     "output_type": "stream",
     "text": [
      "dcclt/P282493 is not available or not complete\n"
     ]
    },
    {
     "name": "stderr",
     "output_type": "stream",
     "text": [
      " 68%|█████████████████████████            | 2915/4305 [00:15<00:10, 129.41it/s]"
     ]
    },
    {
     "name": "stdout",
     "output_type": "stream",
     "text": [
      "dcclt/P450749 is not available or not complete\n"
     ]
    },
    {
     "name": "stderr",
     "output_type": "stream",
     "text": [
      " 68%|█████████████████████████▏           | 2929/4305 [00:15<00:10, 127.70it/s]"
     ]
    },
    {
     "name": "stdout",
     "output_type": "stream",
     "text": [
      "dcclt/P247811 is not available or not complete\n"
     ]
    },
    {
     "name": "stderr",
     "output_type": "stream",
     "text": [
      " 69%|█████████████████████████▍           | 2957/4305 [00:16<00:08, 151.11it/s]"
     ]
    },
    {
     "name": "stdout",
     "output_type": "stream",
     "text": [
      "dcclt/P338313 is not available or not complete\n"
     ]
    },
    {
     "name": "stderr",
     "output_type": "stream",
     "text": [
      " 69%|█████████████████████████▌           | 2975/4305 [00:16<00:10, 131.36it/s]"
     ]
    },
    {
     "name": "stdout",
     "output_type": "stream",
     "text": [
      "dcclt/X000011 is not available or not complete\n",
      "dcclt/P451001 is not available or not complete\n"
     ]
    },
    {
     "name": "stderr",
     "output_type": "stream",
     "text": [
      " 71%|██████████████████████████▎          | 3059/4305 [00:16<00:06, 194.10it/s]"
     ]
    },
    {
     "name": "stdout",
     "output_type": "stream",
     "text": [
      "dcclt/P256648 is not available or not complete\n",
      "dcclt/P370379 is not available or not complete\n",
      "dcclt/P387478 is not available or not complete\n"
     ]
    },
    {
     "name": "stderr",
     "output_type": "stream",
     "text": [
      " 72%|██████████████████████████▍          | 3082/4305 [00:16<00:07, 172.87it/s]"
     ]
    },
    {
     "name": "stdout",
     "output_type": "stream",
     "text": [
      "dcclt/P349911 is not available or not complete\n",
      "dcclt/P370405 is not available or not complete\n",
      "dcclt/P388202 is not available or not complete\n"
     ]
    },
    {
     "name": "stderr",
     "output_type": "stream",
     "text": [
      " 72%|██████████████████████████▋          | 3102/4305 [00:16<00:07, 150.98it/s]"
     ]
    },
    {
     "name": "stdout",
     "output_type": "stream",
     "text": [
      "dcclt/P278015 is not available or not complete\n",
      "dcclt/P381750 is not available or not complete\n"
     ]
    },
    {
     "name": "stderr",
     "output_type": "stream",
     "text": [
      " 73%|██████████████████████████▉          | 3127/4305 [00:17<00:07, 168.16it/s]"
     ]
    },
    {
     "name": "stdout",
     "output_type": "stream",
     "text": [
      "dcclt/X800063 is not available or not complete\n"
     ]
    },
    {
     "name": "stderr",
     "output_type": "stream",
     "text": [
      " 73%|███████████████████████████          | 3146/4305 [00:17<00:06, 172.64it/s]"
     ]
    },
    {
     "name": "stdout",
     "output_type": "stream",
     "text": [
      "dcclt/P228096 is not available or not complete\n",
      "dcclt/P271320 is not available or not complete\n"
     ]
    },
    {
     "name": "stderr",
     "output_type": "stream",
     "text": [
      " 74%|███████████████████████████▎         | 3183/4305 [00:17<00:05, 204.85it/s]"
     ]
    },
    {
     "name": "stdout",
     "output_type": "stream",
     "text": [
      "dcclt/P450857 is not available or not complete\n"
     ]
    },
    {
     "name": "stderr",
     "output_type": "stream",
     "text": [
      " 75%|███████████████████████████▌         | 3208/4305 [00:17<00:06, 174.20it/s]"
     ]
    },
    {
     "name": "stdout",
     "output_type": "stream",
     "text": [
      "dcclt/P349905 is not available or not complete\n",
      "dcclt/P247857 is not available or not complete\n"
     ]
    },
    {
     "name": "stderr",
     "output_type": "stream",
     "text": [
      " 75%|███████████████████████████▊         | 3229/4305 [00:17<00:07, 152.34it/s]"
     ]
    },
    {
     "name": "stdout",
     "output_type": "stream",
     "text": [
      "dcclt/P381851 is not available or not complete\n"
     ]
    },
    {
     "name": "stderr",
     "output_type": "stream",
     "text": [
      " 75%|███████████████████████████▉         | 3248/4305 [00:17<00:09, 113.70it/s]"
     ]
    },
    {
     "name": "stdout",
     "output_type": "stream",
     "text": [
      "dcclt/P373780 is not available or not complete\n"
     ]
    },
    {
     "name": "stderr",
     "output_type": "stream",
     "text": [
      " 76%|████████████████████████████         | 3267/4305 [00:17<00:08, 125.88it/s]"
     ]
    },
    {
     "name": "stdout",
     "output_type": "stream",
     "text": [
      "dcclt/P228044 is not available or not complete\n"
     ]
    },
    {
     "name": "stderr",
     "output_type": "stream",
     "text": [
      " 77%|████████████████████████████▎        | 3297/4305 [00:18<00:06, 151.45it/s]"
     ]
    },
    {
     "name": "stdout",
     "output_type": "stream",
     "text": [
      "dcclt/P347733 is not available or not complete\n",
      "dcclt/P451018 is not available or not complete\n",
      "dcclt/P347758 is not available or not complete\n"
     ]
    },
    {
     "name": "stderr",
     "output_type": "stream",
     "text": [
      " 78%|████████████████████████████▋        | 3341/4305 [00:18<00:05, 173.99it/s]"
     ]
    },
    {
     "name": "stdout",
     "output_type": "stream",
     "text": [
      "dcclt/Q000074 is not available or not complete\n"
     ]
    },
    {
     "name": "stderr",
     "output_type": "stream",
     "text": [
      " 78%|████████████████████████████▉        | 3361/4305 [00:18<00:07, 124.79it/s]"
     ]
    },
    {
     "name": "stdout",
     "output_type": "stream",
     "text": [
      "dcclt/P451706 is not available or not complete\n"
     ]
    },
    {
     "name": "stderr",
     "output_type": "stream",
     "text": [
      " 78%|█████████████████████████████        | 3378/4305 [00:18<00:06, 134.26it/s]"
     ]
    },
    {
     "name": "stdout",
     "output_type": "stream",
     "text": [
      "dcclt/X800010 is not available or not complete\n",
      "dcclt/P285556 is not available or not complete\n"
     ]
    },
    {
     "name": "stderr",
     "output_type": "stream",
     "text": [
      " 79%|█████████████████████████████▏       | 3399/4305 [00:18<00:06, 150.48it/s]"
     ]
    },
    {
     "name": "stdout",
     "output_type": "stream",
     "text": [
      "dcclt/P282501 is not available or not complete\n",
      "dcclt/Q000316 is not available or not complete\n",
      "dcclt/P365392 is not available or not complete\n"
     ]
    },
    {
     "name": "stderr",
     "output_type": "stream",
     "text": [
      " 80%|█████████████████████████████▌       | 3442/4305 [00:19<00:06, 132.21it/s]"
     ]
    },
    {
     "name": "stdout",
     "output_type": "stream",
     "text": [
      "dcclt/P347729 is not available or not complete\n"
     ]
    },
    {
     "name": "stderr",
     "output_type": "stream",
     "text": [
      " 81%|█████████████████████████████▉       | 3480/4305 [00:19<00:06, 135.92it/s]"
     ]
    },
    {
     "name": "stdout",
     "output_type": "stream",
     "text": [
      "dcclt/P370376 is not available or not complete\n"
     ]
    },
    {
     "name": "stderr",
     "output_type": "stream",
     "text": [
      " 81%|██████████████████████████████       | 3496/4305 [00:19<00:05, 139.73it/s]"
     ]
    },
    {
     "name": "stdout",
     "output_type": "stream",
     "text": [
      "dcclt/P332941 is not available or not complete\n",
      "dcclt/Q000264 is not available or not complete\n"
     ]
    },
    {
     "name": "stderr",
     "output_type": "stream",
     "text": [
      " 82%|██████████████████████████████▎      | 3530/4305 [00:19<00:06, 124.88it/s]"
     ]
    },
    {
     "name": "stdout",
     "output_type": "stream",
     "text": [
      "dcclt/P274504 is not available or not complete\n",
      "dcclt/P373927 is not available or not complete\n",
      "dcclt/P247828 is not available or not complete\n"
     ]
    },
    {
     "name": "stderr",
     "output_type": "stream",
     "text": [
      " 82%|██████████████████████████████▌      | 3550/4305 [00:19<00:05, 140.15it/s]"
     ]
    },
    {
     "name": "stdout",
     "output_type": "stream",
     "text": [
      "dcclt/P347741 is not available or not complete\n",
      "dcclt/P450801 is not available or not complete\n",
      "dcclt/P282487 is not available or not complete\n"
     ]
    },
    {
     "name": "stderr",
     "output_type": "stream",
     "text": [
      " 83%|██████████████████████████████▋      | 3574/4305 [00:20<00:04, 157.61it/s]"
     ]
    },
    {
     "name": "stdout",
     "output_type": "stream",
     "text": [
      "dcclt/P450753 is not available or not complete\n",
      "dcclt/P349937 is not available or not complete\n"
     ]
    },
    {
     "name": "stderr",
     "output_type": "stream",
     "text": [
      " 83%|██████████████████████████████▊      | 3592/4305 [00:20<00:04, 150.57it/s]"
     ]
    },
    {
     "name": "stdout",
     "output_type": "stream",
     "text": [
      "dcclt/Q000832 is not available or not complete\n"
     ]
    },
    {
     "name": "stderr",
     "output_type": "stream",
     "text": [
      " 84%|███████████████████████████████      | 3613/4305 [00:20<00:05, 120.72it/s]"
     ]
    },
    {
     "name": "stdout",
     "output_type": "stream",
     "text": [
      "dcclt/P349868 is not available or not complete\n"
     ]
    },
    {
     "name": "stderr",
     "output_type": "stream",
     "text": [
      " 84%|███████████████████████████████▎     | 3636/4305 [00:20<00:04, 138.45it/s]"
     ]
    },
    {
     "name": "stdout",
     "output_type": "stream",
     "text": [
      "dcclt/P363708 is not available or not complete\n",
      "dcclt/P451221 is not available or not complete\n"
     ]
    },
    {
     "name": "stderr",
     "output_type": "stream",
     "text": [
      " 85%|███████████████████████████████▍     | 3653/4305 [00:20<00:05, 128.06it/s]"
     ]
    },
    {
     "name": "stdout",
     "output_type": "stream",
     "text": [
      "dcclt/P348656 is not available or not complete\n",
      "dcclt/P370377 is not available or not complete\n"
     ]
    },
    {
     "name": "stderr",
     "output_type": "stream",
     "text": [
      " 85%|███████████████████████████████▌     | 3668/4305 [00:20<00:05, 108.20it/s]"
     ]
    },
    {
     "name": "stdout",
     "output_type": "stream",
     "text": [
      "dcclt/P381755 is not available or not complete\n"
     ]
    },
    {
     "name": "stderr",
     "output_type": "stream",
     "text": [
      " 86%|███████████████████████████████▊     | 3703/4305 [00:21<00:05, 112.00it/s]"
     ]
    },
    {
     "name": "stdout",
     "output_type": "stream",
     "text": [
      "dcclt/P348714 is not available or not complete\n"
     ]
    },
    {
     "name": "stderr",
     "output_type": "stream",
     "text": [
      " 87%|████████████████████████████████▎    | 3754/4305 [00:21<00:04, 123.23it/s]"
     ]
    },
    {
     "name": "stdout",
     "output_type": "stream",
     "text": [
      "dcclt/P349852 is not available or not complete\n",
      "dcclt/P370327 is not available or not complete\n"
     ]
    },
    {
     "name": "stderr",
     "output_type": "stream",
     "text": [
      " 88%|████████████████████████████████▍    | 3779/4305 [00:21<00:03, 137.25it/s]"
     ]
    },
    {
     "name": "stdout",
     "output_type": "stream",
     "text": [
      "dcclt/P373929 is not available or not complete\n",
      "dcclt/P451049 is not available or not complete\n"
     ]
    },
    {
     "name": "stderr",
     "output_type": "stream",
     "text": [
      " 88%|████████████████████████████████▌    | 3795/4305 [00:21<00:04, 103.36it/s]"
     ]
    },
    {
     "name": "stdout",
     "output_type": "stream",
     "text": [
      "dcclt/P349909 is not available or not complete\n"
     ]
    },
    {
     "name": "stderr",
     "output_type": "stream",
     "text": [
      " 90%|█████████████████████████████████▏   | 3867/4305 [00:22<00:02, 162.42it/s]"
     ]
    },
    {
     "name": "stdout",
     "output_type": "stream",
     "text": [
      "dcclt/P450779 is not available or not complete\n",
      "dcclt/P451529 is not available or not complete\n",
      "dcclt/P369429 is not available or not complete\n",
      "dcclt/P450852 is not available or not complete\n"
     ]
    },
    {
     "name": "stderr",
     "output_type": "stream",
     "text": [
      " 90%|█████████████████████████████████▍   | 3892/4305 [00:22<00:03, 108.26it/s]"
     ]
    },
    {
     "name": "stdout",
     "output_type": "stream",
     "text": [
      "dcclt/P382242 is not available or not complete\n"
     ]
    },
    {
     "name": "stderr",
     "output_type": "stream",
     "text": [
      " 93%|██████████████████████████████████▍  | 4003/4305 [00:22<00:01, 195.57it/s]"
     ]
    },
    {
     "name": "stdout",
     "output_type": "stream",
     "text": [
      "dcclt/P349915 is not available or not complete\n",
      "dcclt/P381865 is not available or not complete\n",
      "dcclt/P385917 is not available or not complete\n"
     ]
    },
    {
     "name": "stderr",
     "output_type": "stream",
     "text": [
      " 94%|██████████████████████████████████▋  | 4033/4305 [00:23<00:01, 179.55it/s]"
     ]
    },
    {
     "name": "stdout",
     "output_type": "stream",
     "text": [
      "dcclt/P381781 is not available or not complete\n",
      "dcclt/P451035 is not available or not complete\n",
      "dcclt/P370363 is not available or not complete\n",
      "dcclt/P247827 is not available or not complete\n"
     ]
    },
    {
     "name": "stderr",
     "output_type": "stream",
     "text": [
      " 95%|███████████████████████████████████▎ | 4110/4305 [00:23<00:01, 181.44it/s]"
     ]
    },
    {
     "name": "stdout",
     "output_type": "stream",
     "text": [
      "dcclt/P239209 is not available or not complete\n",
      "dcclt/P282500 is not available or not complete\n"
     ]
    },
    {
     "name": "stderr",
     "output_type": "stream",
     "text": [
      " 97%|███████████████████████████████████▊ | 4174/4305 [00:23<00:00, 147.66it/s]"
     ]
    },
    {
     "name": "stdout",
     "output_type": "stream",
     "text": [
      "dcclt/P271733 is not available or not complete\n"
     ]
    },
    {
     "name": "stderr",
     "output_type": "stream",
     "text": [
      " 97%|████████████████████████████████████ | 4191/4305 [00:24<00:00, 139.01it/s]"
     ]
    },
    {
     "name": "stdout",
     "output_type": "stream",
     "text": [
      "dcclt/P451157 is not available or not complete\n"
     ]
    },
    {
     "name": "stderr",
     "output_type": "stream",
     "text": [
      " 98%|████████████████████████████████████▎| 4222/4305 [00:24<00:00, 117.30it/s]"
     ]
    },
    {
     "name": "stdout",
     "output_type": "stream",
     "text": [
      "dcclt/P346027 is not available or not complete\n",
      "dcclt/P347787 is not available or not complete\n",
      "dcclt/P228105 is not available or not complete\n",
      "dcclt/P388213 is not available or not complete\n"
     ]
    },
    {
     "name": "stderr",
     "output_type": "stream",
     "text": [
      "100%|████████████████████████████████████▊| 4290/4305 [00:24<00:00, 161.79it/s]"
     ]
    },
    {
     "name": "stdout",
     "output_type": "stream",
     "text": [
      "dcclt/Q000109 is not available or not complete\n"
     ]
    },
    {
     "name": "stderr",
     "output_type": "stream",
     "text": [
      "100%|█████████████████████████████████████| 4305/4305 [00:24<00:00, 173.28it/s]\n",
      "  2%|▋                                        | 12/664 [00:00<00:21, 30.77it/s]"
     ]
    },
    {
     "name": "stdout",
     "output_type": "stream",
     "text": [
      "dcclt/nineveh/P370417 is not available or not complete\n"
     ]
    },
    {
     "name": "stderr",
     "output_type": "stream",
     "text": [
      "  3%|█▍                                       | 23/664 [00:00<00:17, 37.23it/s]"
     ]
    },
    {
     "name": "stdout",
     "output_type": "stream",
     "text": [
      "dcclt/nineveh/P382647 is not available or not complete\n",
      "dcclt/nineveh/P393814 is not available or not complete\n"
     ]
    },
    {
     "name": "stderr",
     "output_type": "stream",
     "text": [
      "  5%|██                                       | 34/664 [00:00<00:13, 45.91it/s]"
     ]
    },
    {
     "name": "stdout",
     "output_type": "stream",
     "text": [
      "dcclt/nineveh/P401791 is not available or not complete\n",
      "dcclt/nineveh/P382643 is not available or not complete\n",
      "dcclt/nineveh/P394149 is not available or not complete\n"
     ]
    },
    {
     "name": "stderr",
     "output_type": "stream",
     "text": [
      "  7%|██▊                                      | 46/664 [00:00<00:10, 56.22it/s]"
     ]
    },
    {
     "name": "stdout",
     "output_type": "stream",
     "text": [
      "dcclt/nineveh/P365275 is not available or not complete\n"
     ]
    },
    {
     "name": "stderr",
     "output_type": "stream",
     "text": [
      "  9%|███▊                                     | 61/664 [00:00<00:08, 68.33it/s]"
     ]
    },
    {
     "name": "stdout",
     "output_type": "stream",
     "text": [
      "dcclt/nineveh/P398414 is not available or not complete\n"
     ]
    },
    {
     "name": "stderr",
     "output_type": "stream",
     "text": [
      " 11%|████▍                                    | 72/664 [00:00<00:07, 75.47it/s]"
     ]
    },
    {
     "name": "stdout",
     "output_type": "stream",
     "text": [
      "dcclt/nineveh/P395481 is not available or not complete\n"
     ]
    },
    {
     "name": "stderr",
     "output_type": "stream",
     "text": [
      " 12%|█████                                    | 82/664 [00:01<00:10, 55.67it/s]"
     ]
    },
    {
     "name": "stdout",
     "output_type": "stream",
     "text": [
      "dcclt/nineveh/P365272 is not available or not complete\n"
     ]
    },
    {
     "name": "stderr",
     "output_type": "stream",
     "text": [
      " 14%|█████▋                                   | 92/664 [00:01<00:08, 63.74it/s]"
     ]
    },
    {
     "name": "stdout",
     "output_type": "stream",
     "text": [
      "dcclt/nineveh/P382648 is not available or not complete\n"
     ]
    },
    {
     "name": "stderr",
     "output_type": "stream",
     "text": [
      " 16%|██████▎                                 | 105/664 [00:01<00:07, 72.53it/s]"
     ]
    },
    {
     "name": "stdout",
     "output_type": "stream",
     "text": [
      "dcclt/nineveh/P386433 is not available or not complete\n"
     ]
    },
    {
     "name": "stderr",
     "output_type": "stream",
     "text": [
      " 19%|███████▍                                | 123/664 [00:01<00:06, 84.26it/s]"
     ]
    },
    {
     "name": "stdout",
     "output_type": "stream",
     "text": [
      "dcclt/nineveh/P365421 is not available or not complete\n",
      "dcclt/nineveh/P395491 is not available or not complete\n",
      "dcclt/nineveh/P395540 is not available or not complete\n",
      "dcclt/nineveh/P385988 is not available or not complete\n"
     ]
    },
    {
     "name": "stderr",
     "output_type": "stream",
     "text": [
      " 20%|████████                                | 134/664 [00:01<00:07, 71.84it/s]"
     ]
    },
    {
     "name": "stdout",
     "output_type": "stream",
     "text": [
      "dcclt/nineveh/P346068 is not available or not complete\n",
      "dcclt/nineveh/P395527 is not available or not complete\n"
     ]
    },
    {
     "name": "stderr",
     "output_type": "stream",
     "text": [
      " 23%|█████████▍                              | 156/664 [00:01<00:06, 84.04it/s]"
     ]
    },
    {
     "name": "stdout",
     "output_type": "stream",
     "text": [
      "dcclt/nineveh/P365387 is not available or not complete\n",
      "dcclt/nineveh/P365398 is not available or not complete\n",
      "dcclt/nineveh/P400632 is not available or not complete\n",
      "dcclt/nineveh/P397726 is not available or not complete\n",
      "dcclt/nineveh/P423632 is not available or not complete\n"
     ]
    },
    {
     "name": "stderr",
     "output_type": "stream",
     "text": [
      " 26%|██████████▍                             | 173/664 [00:01<00:05, 93.85it/s]"
     ]
    },
    {
     "name": "stdout",
     "output_type": "stream",
     "text": [
      "dcclt/nineveh/P397258 is not available or not complete\n"
     ]
    },
    {
     "name": "stderr",
     "output_type": "stream",
     "text": [
      " 30%|███████████▋                           | 198/664 [00:02<00:04, 114.04it/s]"
     ]
    },
    {
     "name": "stdout",
     "output_type": "stream",
     "text": [
      "dcclt/nineveh/P238446 is not available or not complete\n",
      "dcclt/nineveh/P395719 is not available or not complete\n"
     ]
    },
    {
     "name": "stderr",
     "output_type": "stream",
     "text": [
      " 32%|████████████▊                           | 213/664 [00:02<00:05, 78.06it/s]"
     ]
    },
    {
     "name": "stdout",
     "output_type": "stream",
     "text": [
      "dcclt/nineveh/P393788 is not available or not complete\n"
     ]
    },
    {
     "name": "stderr",
     "output_type": "stream",
     "text": [
      " 35%|██████████████                          | 233/664 [00:02<00:04, 93.76it/s]"
     ]
    },
    {
     "name": "stdout",
     "output_type": "stream",
     "text": [
      "dcclt/nineveh/P395526 is not available or not complete\n",
      "dcclt/nineveh/P395632 is not available or not complete\n"
     ]
    },
    {
     "name": "stderr",
     "output_type": "stream",
     "text": [
      " 38%|██████████████▋                        | 250/664 [00:02<00:03, 106.46it/s]"
     ]
    },
    {
     "name": "stdout",
     "output_type": "stream",
     "text": [
      "dcclt/nineveh/P365274 is not available or not complete\n"
     ]
    },
    {
     "name": "stderr",
     "output_type": "stream",
     "text": [
      " 40%|███████████████▋                       | 267/664 [00:02<00:03, 116.89it/s]"
     ]
    },
    {
     "name": "stdout",
     "output_type": "stream",
     "text": [
      "dcclt/nineveh/P365399 is not available or not complete\n",
      "dcclt/nineveh/P289805 is not available or not complete\n"
     ]
    },
    {
     "name": "stderr",
     "output_type": "stream",
     "text": [
      " 42%|████████████████▌                      | 282/664 [00:02<00:03, 109.79it/s]"
     ]
    },
    {
     "name": "stdout",
     "output_type": "stream",
     "text": [
      "dcclt/nineveh/P423623 is not available or not complete\n",
      "dcclt/nineveh/P238140 is not available or not complete\n"
     ]
    },
    {
     "name": "stderr",
     "output_type": "stream",
     "text": [
      " 44%|█████████████████▎                     | 295/664 [00:03<00:03, 107.50it/s]"
     ]
    },
    {
     "name": "stdout",
     "output_type": "stream",
     "text": [
      "dcclt/nineveh/P365314 is not available or not complete\n",
      "dcclt/nineveh/P385899 is not available or not complete\n",
      "dcclt/nineveh/P365385 is not available or not complete\n"
     ]
    },
    {
     "name": "stderr",
     "output_type": "stream",
     "text": [
      " 46%|██████████████████                     | 308/664 [00:03<00:03, 100.41it/s]"
     ]
    },
    {
     "name": "stdout",
     "output_type": "stream",
     "text": [
      "dcclt/nineveh/P393806 is not available or not complete\n",
      "dcclt/nineveh/P365236 is not available or not complete\n"
     ]
    },
    {
     "name": "stderr",
     "output_type": "stream",
     "text": [
      " 48%|███████████████████▎                    | 320/664 [00:03<00:03, 88.99it/s]"
     ]
    },
    {
     "name": "stdout",
     "output_type": "stream",
     "text": [
      "dcclt/nineveh/P395652 is not available or not complete\n"
     ]
    },
    {
     "name": "stderr",
     "output_type": "stream",
     "text": [
      " 50%|███████████████████▉                    | 331/664 [00:03<00:03, 91.48it/s]"
     ]
    },
    {
     "name": "stdout",
     "output_type": "stream",
     "text": [
      "dcclt/nineveh/P365317 is not available or not complete\n",
      "dcclt/nineveh/P365316 is not available or not complete\n"
     ]
    },
    {
     "name": "stderr",
     "output_type": "stream",
     "text": [
      " 54%|█████████████████████▌                  | 358/664 [00:03<00:03, 91.73it/s]"
     ]
    },
    {
     "name": "stdout",
     "output_type": "stream",
     "text": [
      "dcclt/nineveh/P400375 is not available or not complete\n"
     ]
    },
    {
     "name": "stderr",
     "output_type": "stream",
     "text": [
      " 59%|███████████████████████                | 392/664 [00:03<00:02, 101.50it/s]"
     ]
    },
    {
     "name": "stdout",
     "output_type": "stream",
     "text": [
      "dcclt/nineveh/P373795 is not available or not complete\n"
     ]
    },
    {
     "name": "stderr",
     "output_type": "stream",
     "text": [
      " 64%|█████████████████████████▊              | 428/664 [00:04<00:02, 80.98it/s]"
     ]
    },
    {
     "name": "stdout",
     "output_type": "stream",
     "text": [
      "dcclt/nineveh/P382585 is not available or not complete\n",
      "dcclt/nineveh/P386429 is not available or not complete\n"
     ]
    },
    {
     "name": "stderr",
     "output_type": "stream",
     "text": [
      " 66%|██████████████████████████▍             | 439/664 [00:04<00:02, 86.40it/s]"
     ]
    },
    {
     "name": "stdout",
     "output_type": "stream",
     "text": [
      "dcclt/nineveh/P373894 is not available or not complete\n",
      "dcclt/nineveh/P365245 is not available or not complete\n",
      "dcclt/nineveh/P423635 is not available or not complete\n"
     ]
    },
    {
     "name": "stderr",
     "output_type": "stream",
     "text": [
      " 68%|███████████████████████████             | 450/664 [00:04<00:02, 85.54it/s]"
     ]
    },
    {
     "name": "stdout",
     "output_type": "stream",
     "text": [
      "dcclt/nineveh/P373851 is not available or not complete\n"
     ]
    },
    {
     "name": "stderr",
     "output_type": "stream",
     "text": [
      " 71%|████████████████████████████▍           | 472/664 [00:04<00:02, 89.59it/s]"
     ]
    },
    {
     "name": "stdout",
     "output_type": "stream",
     "text": [
      "dcclt/nineveh/P370415 is not available or not complete\n"
     ]
    },
    {
     "name": "stderr",
     "output_type": "stream",
     "text": [
      " 73%|█████████████████████████████▏          | 484/664 [00:05<00:02, 80.27it/s]"
     ]
    },
    {
     "name": "stdout",
     "output_type": "stream",
     "text": [
      "dcclt/nineveh/P399148 is not available or not complete\n",
      "dcclt/nineveh/P365391 is not available or not complete\n",
      "dcclt/nineveh/P373903 is not available or not complete\n"
     ]
    },
    {
     "name": "stderr",
     "output_type": "stream",
     "text": [
      " 75%|██████████████████████████████          | 499/664 [00:05<00:01, 91.30it/s]"
     ]
    },
    {
     "name": "stdout",
     "output_type": "stream",
     "text": [
      "dcclt/nineveh/P346056 is not available or not complete\n",
      "dcclt/nineveh/P395476 is not available or not complete\n",
      "dcclt/nineveh/P346052 is not available or not complete\n"
     ]
    },
    {
     "name": "stderr",
     "output_type": "stream",
     "text": [
      " 79%|██████████████████████████████▊        | 525/664 [00:05<00:01, 110.67it/s]"
     ]
    },
    {
     "name": "stdout",
     "output_type": "stream",
     "text": [
      "dcclt/nineveh/P395629 is not available or not complete\n",
      "dcclt/nineveh/P423633 is not available or not complete\n"
     ]
    },
    {
     "name": "stderr",
     "output_type": "stream",
     "text": [
      " 82%|███████████████████████████████▊       | 542/664 [00:05<00:01, 121.18it/s]"
     ]
    },
    {
     "name": "stdout",
     "output_type": "stream",
     "text": [
      "dcclt/nineveh/P382606 is not available or not complete\n",
      "dcclt/nineveh/P382646 is not available or not complete\n"
     ]
    },
    {
     "name": "stderr",
     "output_type": "stream",
     "text": [
      " 85%|█████████████████████████████████      | 562/664 [00:05<00:00, 126.62it/s]"
     ]
    },
    {
     "name": "stdout",
     "output_type": "stream",
     "text": [
      "dcclt/nineveh/P373913 is not available or not complete\n",
      "dcclt/nineveh/P373867 is not available or not complete\n"
     ]
    },
    {
     "name": "stderr",
     "output_type": "stream",
     "text": [
      " 88%|██████████████████████████████████▍    | 587/664 [00:05<00:00, 146.23it/s]"
     ]
    },
    {
     "name": "stdout",
     "output_type": "stream",
     "text": [
      "dcclt/nineveh/P397568 is not available or not complete\n",
      "dcclt/nineveh/P365320 is not available or not complete\n",
      "dcclt/nineveh/P385911 is not available or not complete\n",
      "dcclt/nineveh/P423640 is not available or not complete\n"
     ]
    },
    {
     "name": "stderr",
     "output_type": "stream",
     "text": [
      " 91%|███████████████████████████████████▍   | 604/664 [00:05<00:00, 123.60it/s]"
     ]
    },
    {
     "name": "stdout",
     "output_type": "stream",
     "text": [
      "dcclt/nineveh/P393770 is not available or not complete\n",
      "dcclt/nineveh/P395535 is not available or not complete\n"
     ]
    },
    {
     "name": "stderr",
     "output_type": "stream",
     "text": [
      " 97%|█████████████████████████████████████▋ | 641/664 [00:06<00:00, 135.65it/s]"
     ]
    },
    {
     "name": "stdout",
     "output_type": "stream",
     "text": [
      "dcclt/nineveh/P395490 is not available or not complete\n"
     ]
    },
    {
     "name": "stderr",
     "output_type": "stream",
     "text": [
      "100%|███████████████████████████████████████| 664/664 [00:06<00:00, 151.33it/s]\n",
      "  0%|                                                  | 0/305 [00:00<?, ?it/s]"
     ]
    },
    {
     "name": "stdout",
     "output_type": "stream",
     "text": [
      "dcclt/signlists/Q000154 is not available or not complete\n"
     ]
    },
    {
     "name": "stderr",
     "output_type": "stream",
     "text": [
      "  9%|███▍                                     | 26/305 [00:00<00:02, 99.15it/s]"
     ]
    },
    {
     "name": "stdout",
     "output_type": "stream",
     "text": [
      "dcclt/signlists/Q000153 is not available or not complete\n"
     ]
    },
    {
     "name": "stderr",
     "output_type": "stream",
     "text": [
      " 12%|████▊                                    | 36/305 [00:00<00:02, 93.39it/s]"
     ]
    },
    {
     "name": "stdout",
     "output_type": "stream",
     "text": [
      "dcclt/signlists/Q000159 is not available or not complete\n"
     ]
    },
    {
     "name": "stderr",
     "output_type": "stream",
     "text": [
      " 57%|██████████████████████▉                 | 175/305 [00:01<00:01, 92.81it/s]"
     ]
    },
    {
     "name": "stdout",
     "output_type": "stream",
     "text": [
      "dcclt/signlists/P370411 is not available or not complete\n"
     ]
    },
    {
     "name": "stderr",
     "output_type": "stream",
     "text": [
      " 62%|████████████████████████▋               | 188/305 [00:01<00:01, 79.10it/s]"
     ]
    },
    {
     "name": "stdout",
     "output_type": "stream",
     "text": [
      "dcclt/signlists/X003931 is not available or not complete\n"
     ]
    },
    {
     "name": "stderr",
     "output_type": "stream",
     "text": [
      " 68%|███████████████████████████             | 206/305 [00:01<00:01, 94.94it/s]"
     ]
    },
    {
     "name": "stdout",
     "output_type": "stream",
     "text": [
      "dcclt/signlists/X003934 is not available or not complete\n",
      "dcclt/signlists/Q000155 is not available or not complete\n"
     ]
    },
    {
     "name": "stderr",
     "output_type": "stream",
     "text": [
      " 89%|██████████████████████████████████▋    | 271/305 [00:02<00:00, 132.24it/s]"
     ]
    },
    {
     "name": "stdout",
     "output_type": "stream",
     "text": [
      "dcclt/signlists/P257722 is not available or not complete\n"
     ]
    },
    {
     "name": "stderr",
     "output_type": "stream",
     "text": [
      " 94%|████████████████████████████████████▌  | 286/305 [00:02<00:00, 100.02it/s]"
     ]
    },
    {
     "name": "stdout",
     "output_type": "stream",
     "text": [
      "dcclt/signlists/P467315 is not available or not complete\n"
     ]
    },
    {
     "name": "stderr",
     "output_type": "stream",
     "text": [
      "100%|████████████████████████████████████████| 305/305 [00:03<00:00, 99.78it/s]\n",
      "100%|██████████████████████████████████████████| 20/20 [00:00<00:00, 67.34it/s]\n",
      "100%|████████████████████████████████████████| 485/485 [00:13<00:00, 36.70it/s]\n",
      "100%|███████████████████████████████████████| 883/883 [00:06<00:00, 142.17it/s]\n",
      "100%|██████████████████████████████████████████| 51/51 [00:00<00:00, 91.26it/s]\n",
      "100%|█████████████████████████████████████████| 82/82 [00:00<00:00, 378.56it/s]\n",
      " 29%|████████████▏                             | 11/38 [00:00<00:00, 95.64it/s]"
     ]
    },
    {
     "name": "stdout",
     "output_type": "stream",
     "text": [
      "ribo/babylon2/Q006275 is not available or not complete\n"
     ]
    },
    {
     "name": "stderr",
     "output_type": "stream",
     "text": [
      "100%|█████████████████████████████████████████| 38/38 [00:00<00:00, 112.08it/s]\n",
      "100%|███████████████████████████████████████████| 4/4 [00:00<00:00, 129.02it/s]\n",
      "100%|███████████████████████████████████████████| 6/6 [00:00<00:00, 260.84it/s]\n",
      "100%|███████████████████████████████████████████| 1/1 [00:00<00:00, 199.99it/s]\n",
      " 34%|█████████████▉                           | 43/126 [00:00<00:01, 81.92it/s]"
     ]
    },
    {
     "name": "stdout",
     "output_type": "stream",
     "text": [
      "ribo/babylon6/Q003344 is not available or not complete\n"
     ]
    },
    {
     "name": "stderr",
     "output_type": "stream",
     "text": [
      "100%|████████████████████████████████████████| 126/126 [00:01<00:00, 94.28it/s]\n",
      "100%|█████████████████████████████████████████| 30/30 [00:00<00:00, 127.12it/s]\n",
      "100%|████████████████████████████████████████████| 3/3 [00:00<00:00, 64.10it/s]\n",
      "100%|████████████████████████████████████████████████████| 1/1 [00:00<?, ?it/s]\n",
      "100%|███████████████████████████████████████| 378/378 [00:01<00:00, 245.81it/s]\n",
      "  0%|                                                   | 0/92 [00:00<?, ?it/s]"
     ]
    },
    {
     "name": "stdout",
     "output_type": "stream",
     "text": [
      "rinap/rinap1/Q003630 is not available or not complete\n"
     ]
    },
    {
     "name": "stderr",
     "output_type": "stream",
     "text": [
      " 33%|█████████████▋                            | 30/92 [00:00<00:01, 57.33it/s]"
     ]
    },
    {
     "name": "stdout",
     "output_type": "stream",
     "text": [
      "rinap/rinap1/Q003624 is not available or not complete\n",
      "rinap/rinap1/Q003626 is not available or not complete\n"
     ]
    },
    {
     "name": "stderr",
     "output_type": "stream",
     "text": [
      " 49%|████████████████████▌                     | 45/92 [00:00<00:00, 67.02it/s]"
     ]
    },
    {
     "name": "stdout",
     "output_type": "stream",
     "text": [
      "rinap/rinap1/Q003625 is not available or not complete\n",
      "rinap/rinap1/Q003634 is not available or not complete\n",
      "rinap/rinap1/Q003633 is not available or not complete\n"
     ]
    },
    {
     "name": "stderr",
     "output_type": "stream",
     "text": [
      " 64%|██████████████████████████▉               | 59/92 [00:00<00:00, 64.22it/s]"
     ]
    },
    {
     "name": "stdout",
     "output_type": "stream",
     "text": [
      "rinap/rinap1/Q003629 is not available or not complete\n",
      "rinap/rinap1/Q003627 is not available or not complete\n",
      "rinap/rinap1/Q003628 is not available or not complete\n"
     ]
    },
    {
     "name": "stderr",
     "output_type": "stream",
     "text": [
      " 84%|███████████████████████████████████▏      | 77/92 [00:01<00:00, 76.75it/s]"
     ]
    },
    {
     "name": "stdout",
     "output_type": "stream",
     "text": [
      "rinap/rinap1/Q003622 is not available or not complete\n",
      "rinap/rinap1/Q003623 is not available or not complete\n"
     ]
    },
    {
     "name": "stderr",
     "output_type": "stream",
     "text": [
      "100%|██████████████████████████████████████████| 92/92 [00:01<00:00, 84.15it/s]\n",
      " 26%|██████████▌                              | 67/261 [00:01<00:05, 38.31it/s]"
     ]
    },
    {
     "name": "stdout",
     "output_type": "stream",
     "text": [
      "rinap/rinap3/Q004016 is not available or not complete\n"
     ]
    },
    {
     "name": "stderr",
     "output_type": "stream",
     "text": [
      " 69%|███████████████████████████▍            | 179/261 [00:02<00:01, 67.50it/s]"
     ]
    },
    {
     "name": "stdout",
     "output_type": "stream",
     "text": [
      "rinap/rinap3/Q003971 is not available or not complete\n"
     ]
    },
    {
     "name": "stderr",
     "output_type": "stream",
     "text": [
      "100%|████████████████████████████████████████| 261/261 [00:03<00:00, 73.74it/s]\n",
      " 41%|████████████████▊                        | 75/183 [00:00<00:02, 37.63it/s]"
     ]
    },
    {
     "name": "stdout",
     "output_type": "stream",
     "text": [
      "rinap/rinap4/Q003344 is not available or not complete\n"
     ]
    },
    {
     "name": "stderr",
     "output_type": "stream",
     "text": [
      "100%|████████████████████████████████████████| 183/183 [00:02<00:00, 85.26it/s]\n",
      "100%|████████████████████████████████████████| 140/140 [00:03<00:00, 35.68it/s]\n",
      "100%|███████████████████████████████████████| 264/264 [00:01<00:00, 138.70it/s]\n",
      "100%|██████████████████████████████████████████| 15/15 [00:00<00:00, 29.05it/s]\n",
      "100%|██████████████████████████████████████████| 52/52 [00:00<00:00, 72.60it/s]\n",
      " 32%|████████████▉                           | 115/354 [00:01<00:02, 88.30it/s]"
     ]
    },
    {
     "name": "stdout",
     "output_type": "stream",
     "text": [
      "saao/saa04/P336097 is not available or not complete\n",
      "saao/saa04/P336343 is not available or not complete\n"
     ]
    },
    {
     "name": "stderr",
     "output_type": "stream",
     "text": [
      " 65%|█████████████████████████▏             | 229/354 [00:02<00:00, 140.94it/s]"
     ]
    },
    {
     "name": "stdout",
     "output_type": "stream",
     "text": [
      "saao/saa04/P237370 is not available or not complete\n"
     ]
    },
    {
     "name": "stderr",
     "output_type": "stream",
     "text": [
      " 77%|█████████████████████████████▊         | 271/354 [00:02<00:00, 154.50it/s]"
     ]
    },
    {
     "name": "stdout",
     "output_type": "stream",
     "text": [
      "saao/saa04/P336332 is not available or not complete\n"
     ]
    },
    {
     "name": "stderr",
     "output_type": "stream",
     "text": [
      "100%|███████████████████████████████████████| 354/354 [00:02<00:00, 130.11it/s]\n",
      "100%|███████████████████████████████████████| 300/300 [00:01<00:00, 163.77it/s]\n",
      "  4%|█▌                                      | 14/350 [00:00<00:02, 129.86it/s]"
     ]
    },
    {
     "name": "stdout",
     "output_type": "stream",
     "text": [
      "saao/saa06/P335176 is not available or not complete\n"
     ]
    },
    {
     "name": "stderr",
     "output_type": "stream",
     "text": [
      "  8%|███▏                                    | 28/350 [00:00<00:02, 131.25it/s]"
     ]
    },
    {
     "name": "stdout",
     "output_type": "stream",
     "text": [
      "saao/saa06/P335202 is not available or not complete\n"
     ]
    },
    {
     "name": "stderr",
     "output_type": "stream",
     "text": [
      " 12%|████▋                                   | 41/350 [00:00<00:02, 125.12it/s]"
     ]
    },
    {
     "name": "stdout",
     "output_type": "stream",
     "text": [
      "saao/saa06/P335322 is not available or not complete\n",
      "saao/saa06/P335204 is not available or not complete\n"
     ]
    },
    {
     "name": "stderr",
     "output_type": "stream",
     "text": [
      " 15%|██████▏                                 | 54/350 [00:00<00:02, 122.89it/s]"
     ]
    },
    {
     "name": "stdout",
     "output_type": "stream",
     "text": [
      "saao/saa06/P335279 is not available or not complete\n"
     ]
    },
    {
     "name": "stderr",
     "output_type": "stream",
     "text": [
      " 26%|██████████▍                             | 91/350 [00:00<00:02, 120.43it/s]"
     ]
    },
    {
     "name": "stdout",
     "output_type": "stream",
     "text": [
      "saao/saa06/P335372 is not available or not complete\n"
     ]
    },
    {
     "name": "stderr",
     "output_type": "stream",
     "text": [
      " 29%|███████████▍                           | 103/350 [00:00<00:02, 113.73it/s]"
     ]
    },
    {
     "name": "stdout",
     "output_type": "stream",
     "text": [
      "saao/saa06/P335192 is not available or not complete\n"
     ]
    },
    {
     "name": "stderr",
     "output_type": "stream",
     "text": [
      " 69%|██████████████████████████▊            | 241/350 [00:02<00:00, 117.27it/s]"
     ]
    },
    {
     "name": "stdout",
     "output_type": "stream",
     "text": [
      "saao/saa06/P335226 is not available or not complete\n"
     ]
    },
    {
     "name": "stderr",
     "output_type": "stream",
     "text": [
      "100%|███████████████████████████████████████| 350/350 [00:03<00:00, 116.34it/s]\n",
      " 33%|█████████████▎                          | 73/219 [00:00<00:01, 105.80it/s]"
     ]
    },
    {
     "name": "stdout",
     "output_type": "stream",
     "text": [
      "saao/saa07/P335792 is not available or not complete\n"
     ]
    },
    {
     "name": "stderr",
     "output_type": "stream",
     "text": [
      "100%|███████████████████████████████████████| 219/219 [00:01<00:00, 109.54it/s]\n",
      "100%|███████████████████████████████████████| 568/568 [00:02<00:00, 212.61it/s]\n",
      "100%|██████████████████████████████████████████| 11/11 [00:00<00:00, 53.65it/s]\n",
      "100%|███████████████████████████████████████| 389/389 [00:03<00:00, 108.20it/s]\n",
      "100%|███████████████████████████████████████| 234/234 [00:01<00:00, 187.16it/s]\n",
      " 13%|█████▌                                    | 13/98 [00:00<00:01, 82.38it/s]"
     ]
    },
    {
     "name": "stdout",
     "output_type": "stream",
     "text": [
      "saao/saa12/P235242 is not available or not complete\n"
     ]
    },
    {
     "name": "stderr",
     "output_type": "stream",
     "text": [
      " 21%|█████████                                 | 21/98 [00:00<00:00, 78.48it/s]"
     ]
    },
    {
     "name": "stdout",
     "output_type": "stream",
     "text": [
      "saao/saa12/P285576 is not available or not complete\n"
     ]
    },
    {
     "name": "stderr",
     "output_type": "stream",
     "text": [
      "100%|██████████████████████████████████████████| 98/98 [00:01<00:00, 71.07it/s]\n",
      "100%|███████████████████████████████████████| 210/210 [00:01<00:00, 155.85it/s]\n",
      "  0%|                                                  | 0/479 [00:00<?, ?it/s]"
     ]
    },
    {
     "name": "stdout",
     "output_type": "stream",
     "text": [
      "saao/saa14/P335530 is not available or not complete\n"
     ]
    },
    {
     "name": "stderr",
     "output_type": "stream",
     "text": [
      "  8%|███▎                                    | 40/479 [00:00<00:02, 197.80it/s]"
     ]
    },
    {
     "name": "stdout",
     "output_type": "stream",
     "text": [
      "saao/saa14/P335415 is not available or not complete\n"
     ]
    },
    {
     "name": "stderr",
     "output_type": "stream",
     "text": [
      " 13%|█████                                   | 60/479 [00:00<00:02, 197.27it/s]"
     ]
    },
    {
     "name": "stdout",
     "output_type": "stream",
     "text": [
      "saao/saa14/P335587 is not available or not complete\n",
      "saao/saa14/P335263 is not available or not complete\n"
     ]
    },
    {
     "name": "stderr",
     "output_type": "stream",
     "text": [
      " 16%|██████▍                                 | 77/479 [00:00<00:02, 185.13it/s]"
     ]
    },
    {
     "name": "stdout",
     "output_type": "stream",
     "text": [
      "saao/saa14/P335079 is not available or not complete\n"
     ]
    },
    {
     "name": "stderr",
     "output_type": "stream",
     "text": [
      " 19%|███████▋                                | 92/479 [00:00<00:02, 171.78it/s]"
     ]
    },
    {
     "name": "stdout",
     "output_type": "stream",
     "text": [
      "saao/saa14/P335107 is not available or not complete\n",
      "saao/saa14/P335214 is not available or not complete\n"
     ]
    },
    {
     "name": "stderr",
     "output_type": "stream",
     "text": [
      " 27%|██████████▌                            | 130/479 [00:00<00:02, 172.13it/s]"
     ]
    },
    {
     "name": "stdout",
     "output_type": "stream",
     "text": [
      "saao/saa14/P335271 is not available or not complete\n"
     ]
    },
    {
     "name": "stderr",
     "output_type": "stream",
     "text": [
      " 32%|████████████▌                          | 155/479 [00:00<00:01, 185.56it/s]"
     ]
    },
    {
     "name": "stdout",
     "output_type": "stream",
     "text": [
      "saao/saa14/P334977 is not available or not complete\n",
      "saao/saa14/P334991 is not available or not complete\n",
      "saao/saa14/P335305 is not available or not complete\n"
     ]
    },
    {
     "name": "stderr",
     "output_type": "stream",
     "text": [
      " 37%|██████████████▍                        | 177/479 [00:00<00:01, 189.08it/s]"
     ]
    },
    {
     "name": "stdout",
     "output_type": "stream",
     "text": [
      "saao/saa14/P337155 is not available or not complete\n"
     ]
    },
    {
     "name": "stderr",
     "output_type": "stream",
     "text": [
      " 42%|████████████████▎                      | 200/479 [00:01<00:01, 198.19it/s]"
     ]
    },
    {
     "name": "stdout",
     "output_type": "stream",
     "text": [
      "saao/saa14/P336196 is not available or not complete\n"
     ]
    },
    {
     "name": "stderr",
     "output_type": "stream",
     "text": [
      " 46%|█████████████████▉                     | 220/479 [00:01<00:01, 195.80it/s]"
     ]
    },
    {
     "name": "stdout",
     "output_type": "stream",
     "text": [
      "saao/saa14/P335038 is not available or not complete\n",
      "saao/saa14/P335943 is not available or not complete\n",
      "saao/saa14/P335574 is not available or not complete\n"
     ]
    },
    {
     "name": "stderr",
     "output_type": "stream",
     "text": [
      " 50%|███████████████████▌                   | 240/479 [00:01<00:01, 188.67it/s]"
     ]
    },
    {
     "name": "stdout",
     "output_type": "stream",
     "text": [
      "saao/saa14/P336029 is not available or not complete\n",
      "saao/saa14/P335257 is not available or not complete\n"
     ]
    },
    {
     "name": "stderr",
     "output_type": "stream",
     "text": [
      " 54%|█████████████████████                  | 259/479 [00:01<00:01, 185.63it/s]"
     ]
    },
    {
     "name": "stdout",
     "output_type": "stream",
     "text": [
      "saao/saa14/P335331 is not available or not complete\n",
      "saao/saa14/P335525 is not available or not complete\n"
     ]
    },
    {
     "name": "stderr",
     "output_type": "stream",
     "text": [
      " 64%|████████████████████████▊              | 305/479 [00:01<00:00, 196.43it/s]"
     ]
    },
    {
     "name": "stdout",
     "output_type": "stream",
     "text": [
      "saao/saa14/P335197 is not available or not complete\n",
      "saao/saa14/P335081 is not available or not complete\n",
      "saao/saa14/P224949 is not available or not complete\n"
     ]
    },
    {
     "name": "stderr",
     "output_type": "stream",
     "text": [
      " 72%|████████████████████████████           | 344/479 [00:01<00:00, 178.75it/s]"
     ]
    },
    {
     "name": "stdout",
     "output_type": "stream",
     "text": [
      "saao/saa14/P336247 is not available or not complete\n",
      "saao/saa14/P335459 is not available or not complete\n"
     ]
    },
    {
     "name": "stderr",
     "output_type": "stream",
     "text": [
      " 79%|██████████████████████████████▉        | 380/479 [00:02<00:00, 150.67it/s]"
     ]
    },
    {
     "name": "stdout",
     "output_type": "stream",
     "text": [
      "saao/saa14/P335080 is not available or not complete\n"
     ]
    },
    {
     "name": "stderr",
     "output_type": "stream",
     "text": [
      " 83%|█████████████████████████████████       | 396/479 [00:02<00:00, 85.22it/s]"
     ]
    },
    {
     "name": "stdout",
     "output_type": "stream",
     "text": [
      "saao/saa14/P335489 is not available or not complete\n",
      "saao/saa14/P335539 is not available or not complete\n"
     ]
    },
    {
     "name": "stderr",
     "output_type": "stream",
     "text": [
      " 85%|██████████████████████████████████▏     | 409/479 [00:02<00:00, 94.63it/s]"
     ]
    },
    {
     "name": "stdout",
     "output_type": "stream",
     "text": [
      "saao/saa14/P335180 is not available or not complete\n",
      "saao/saa14/P336194 is not available or not complete\n"
     ]
    },
    {
     "name": "stderr",
     "output_type": "stream",
     "text": [
      " 89%|██████████████████████████████████▌    | 424/479 [00:02<00:00, 100.71it/s]"
     ]
    },
    {
     "name": "stdout",
     "output_type": "stream",
     "text": [
      "saao/saa14/P335537 is not available or not complete\n"
     ]
    },
    {
     "name": "stderr",
     "output_type": "stream",
     "text": [
      " 95%|█████████████████████████████████████▏ | 457/479 [00:02<00:00, 120.68it/s]"
     ]
    },
    {
     "name": "stdout",
     "output_type": "stream",
     "text": [
      "saao/saa14/P335196 is not available or not complete\n",
      "saao/saa14/P335154 is not available or not complete\n"
     ]
    },
    {
     "name": "stderr",
     "output_type": "stream",
     "text": [
      "100%|███████████████████████████████████████| 479/479 [00:03<00:00, 155.75it/s]\n",
      "100%|███████████████████████████████████████| 389/389 [00:02<00:00, 141.83it/s]\n",
      "100%|███████████████████████████████████████| 246/246 [00:01<00:00, 128.71it/s]\n",
      "100%|████████████████████████████████████████| 207/207 [00:02<00:00, 97.06it/s]\n",
      "100%|███████████████████████████████████████| 204/204 [00:01<00:00, 105.76it/s]\n",
      "100%|███████████████████████████████████████| 229/229 [00:02<00:00, 102.73it/s]\n",
      "100%|██████████████████████████████████████████| 55/55 [00:02<00:00, 27.26it/s]\n"
     ]
    },
    {
     "name": "stdout",
     "output_type": "stream",
     "text": [
      "jsonzip/saao-saa21.zip does not exist or is not a proper ZIP file\n"
     ]
    },
    {
     "name": "stderr",
     "output_type": "stream",
     "text": [
      "100%|██████████████████████████████████████████| 33/33 [00:00<00:00, 81.80it/s]\n"
     ]
    }
   ],
   "source": [
    "all_ = []\n",
    "lemm_ = []\n",
    "ids_ = []\n",
    "lang_ = []\n",
    "for project in p:\n",
    "    file = \"jsonzip/\" + project.replace(\"/\", \"-\") + \".zip\"\n",
    "    try:\n",
    "        z = zipfile.ZipFile(file)       # create a Zipfile object\n",
    "    except:\n",
    "        print(file + \" does not exist or is not a proper ZIP file\")\n",
    "        continue\n",
    "    files = z.namelist()     # list of all the files in the ZIP\n",
    "    files = [name for name in files if \"corpusjson\" in name and name[-5:] == '.json']                                                                                                  #that holds all the P, Q, and X numbers.\n",
    "    for filename in tqdm.tqdm(files):                            #iterate over the file names\n",
    "        id_no = filename[-13:-5]\n",
    "        if id_no in ids_ and not \"X\" in id_no: # Check if P/Q number is already in there\n",
    "            continue        # a text may appear in multiple projects\n",
    "        id_text = project + id_no # id_text is, for instance, blms/P414332\n",
    "        try:\n",
    "            text = z.read(filename).decode('utf-8')         #read and decode the json file of one particular text\n",
    "            data_json = json.loads(text)                # make it into a json object (essentially a dictionary)\n",
    "            all_.append('Start'+id_text)\n",
    "            lemm_.append('Start'+id_text)   # to keep all_ and lemm_ same length\n",
    "            lang_.append('Start'+id_text)\n",
    "            parsejson_signs(data_json)\n",
    "            ids_.append(id_no)\n",
    "            #print(filename)\n",
    "        except:\n",
    "            print(id_text + ' is not available or not complete')"
   ]
  },
  {
   "cell_type": "markdown",
   "metadata": {},
   "source": [
    "## 3 Data Structuring\n",
    "### 3.1 Transform the Data into a DataFrame\n"
   ]
  },
  {
   "cell_type": "code",
   "execution_count": 9,
   "metadata": {},
   "outputs": [
    {
     "name": "stderr",
     "output_type": "stream",
     "text": [
      "100%|█████████████████████████████| 1541908/1541908 [00:18<00:00, 83506.24it/s]\n"
     ]
    }
   ],
   "source": [
    "words_l = []\n",
    "separators = ['{', '}', '-']\n",
    "separators2 = ['.', '+', '|']\n",
    "operators = ['&', '%', '@', '×']\n",
    "for e in tqdm.tqdm(all_):\n",
    "    word = []\n",
    "    if '1(šar₂{gal})' in e: # this cheating but it seems to work (appears in SKL 38)\n",
    "            e = e.replace('1(šar₂{gal})', '1(šar₂)-gal')\n",
    "    for s in separators: # first split word into signs   \n",
    "        e = e.replace(s, ' ').strip()\n",
    "    s_l = e.split()\n",
    "    for sign in s_l:\n",
    "        if sign[0].isdigit(): # 1(geš₂), 2(DIŠ), etc.\n",
    "            sign = sign.lower()\n",
    "        elif sign[-1] == ')': # qualified sign - get only the qualifier\n",
    "            stack = []  # |GIŠ×(GIŠ%GIŠ)|(LAK277) becomes LAK277\n",
    "            ind = {}    # LAK277(|GIŠ×(GIŠ%GIŠ)|) becomes |GIŠ×(GIŠ%GIŠ)|\n",
    "            for i, c in reversed(list(enumerate(sign))):\n",
    "                if c == ')':\n",
    "                    stack.append(i)\n",
    "                if c == '(':\n",
    "                    ind[stack.pop()] = i   # find the opening parens that belongs to the closing parens at position -1    \n",
    "            start = ind[len(sign)-1]   # this line fails on 1(šar₂{gal}) in SKL.\n",
    "            t = sign[start+1:-1]\n",
    "            if t.isupper(): #leave 1(diš) etc. alone\n",
    "                sign = t\n",
    "            \n",
    "        if '|' in sign:  # separate |DU.DU| and |DU+DU| into its components but not |DU&DU|\n",
    "                        # and also not |DU.DU&DU|\n",
    "            flag = False\n",
    "            for o in operators:\n",
    "                if o in sign:\n",
    "                    flag = True\n",
    "            if not flag:\n",
    "                for s in separators2:\n",
    "                    sign = sign.replace(s, ' ').strip() \n",
    "                sign_l = sign.split()\n",
    "                word.extend(sign_l)\n",
    "                continue\n",
    "        elif \"+\" in sign:  # + as marker of gloss\n",
    "            sign = sign.replace('+', ' ').strip()\n",
    "            sign_l = sign.split()\n",
    "            word.extend(sign_l)\n",
    "            continue\n",
    "        word.append(sign)\n",
    "    words_l.append(word)           "
   ]
  },
  {
   "cell_type": "code",
   "execution_count": 10,
   "metadata": {},
   "outputs": [],
   "source": [
    "with open(\"output/ogsl.p\", \"rb\") as f:\n",
    "    o = pd.read_pickle(f)"
   ]
  },
  {
   "cell_type": "code",
   "execution_count": 11,
   "metadata": {},
   "outputs": [],
   "source": [
    "val = list(o[\"value\"])\n",
    "utf = list(o[\"utf8\"])\n",
    "names = list(o[\"name\"])"
   ]
  },
  {
   "cell_type": "code",
   "execution_count": 12,
   "metadata": {},
   "outputs": [],
   "source": [
    "d = dict(zip(names, utf))\n",
    "d2 = dict(zip(val,names))"
   ]
  },
  {
   "cell_type": "code",
   "execution_count": 13,
   "metadata": {},
   "outputs": [
    {
     "name": "stderr",
     "output_type": "stream",
     "text": [
      "100%|████████████████████████████| 1541908/1541908 [00:14<00:00, 104965.49it/s]\n"
     ]
    }
   ],
   "source": [
    "names_l = []\n",
    "utf8_l = []\n",
    "for w in tqdm.tqdm(words_l):\n",
    "    seq = [d2[s.lower()] if s.lower() in d2 else s for s in w]\n",
    "    names_l.append(seq)\n",
    "    utf8 = [d[n] if n in d else n for n in seq]\n",
    "    utf8_l.append(''.join(utf8))"
   ]
  },
  {
   "cell_type": "code",
   "execution_count": 14,
   "metadata": {},
   "outputs": [
    {
     "data": {
      "text/html": [
       "<div>\n",
       "<style scoped>\n",
       "    .dataframe tbody tr th:only-of-type {\n",
       "        vertical-align: middle;\n",
       "    }\n",
       "\n",
       "    .dataframe tbody tr th {\n",
       "        vertical-align: top;\n",
       "    }\n",
       "\n",
       "    .dataframe thead th {\n",
       "        text-align: right;\n",
       "    }\n",
       "</style>\n",
       "<table border=\"1\" class=\"dataframe\">\n",
       "  <thead>\n",
       "    <tr style=\"text-align: right;\">\n",
       "      <th></th>\n",
       "      <th>transliteration</th>\n",
       "      <th>words</th>\n",
       "      <th>names</th>\n",
       "      <th>utf-8</th>\n",
       "      <th>lemm</th>\n",
       "      <th>lang</th>\n",
       "    </tr>\n",
       "  </thead>\n",
       "  <tbody>\n",
       "    <tr>\n",
       "      <th>0</th>\n",
       "      <td>Startblms/P414332</td>\n",
       "      <td>[Startblms/P414332]</td>\n",
       "      <td>[Startblms/P414332]</td>\n",
       "      <td>Startblms/P414332</td>\n",
       "      <td>Startblms/P414332</td>\n",
       "      <td>Startblms/P414332</td>\n",
       "    </tr>\n",
       "    <tr>\n",
       "      <th>1</th>\n",
       "      <td>x-x</td>\n",
       "      <td>[x, x]</td>\n",
       "      <td>[X, X]</td>\n",
       "      <td>XX</td>\n",
       "      <td>x-x</td>\n",
       "      <td>sux</td>\n",
       "    </tr>\n",
       "    <tr>\n",
       "      <th>2</th>\n",
       "      <td>dam-ŋu₁₀</td>\n",
       "      <td>[dam, ŋu₁₀]</td>\n",
       "      <td>[DAM, MU]</td>\n",
       "      <td>𒁮𒈬</td>\n",
       "      <td>dam[spouse]N</td>\n",
       "      <td>sux</td>\n",
       "    </tr>\n",
       "    <tr>\n",
       "      <th>3</th>\n",
       "      <td>mu-ni-ib₂-be₂</td>\n",
       "      <td>[mu, ni, ib₂, be₂]</td>\n",
       "      <td>[MU, NI, TUM, BI]</td>\n",
       "      <td>𒈬𒉌𒌈𒁉</td>\n",
       "      <td>e[speak]V/t</td>\n",
       "      <td>sux</td>\n",
       "    </tr>\n",
       "    <tr>\n",
       "      <th>4</th>\n",
       "      <td>x-ri</td>\n",
       "      <td>[x, ri]</td>\n",
       "      <td>[X, RI]</td>\n",
       "      <td>X𒊑</td>\n",
       "      <td>x-ri</td>\n",
       "      <td>akk-x-stdbab</td>\n",
       "    </tr>\n",
       "    <tr>\n",
       "      <th>5</th>\n",
       "      <td>mu-ti-ma</td>\n",
       "      <td>[mu, ti, ma]</td>\n",
       "      <td>[MU, TI, MA]</td>\n",
       "      <td>𒈬𒋾𒈠</td>\n",
       "      <td>mutu[husband]N</td>\n",
       "      <td>akk-x-stdbab</td>\n",
       "    </tr>\n",
       "    <tr>\n",
       "      <th>6</th>\n",
       "      <td>i-qab-bi</td>\n",
       "      <td>[i, qab, bi]</td>\n",
       "      <td>[I, GABA, BI]</td>\n",
       "      <td>𒄿𒃮𒁉</td>\n",
       "      <td>qabû[say]V</td>\n",
       "      <td>akk-x-stdbab</td>\n",
       "    </tr>\n",
       "    <tr>\n",
       "      <th>7</th>\n",
       "      <td>x-x</td>\n",
       "      <td>[x, x]</td>\n",
       "      <td>[X, X]</td>\n",
       "      <td>XX</td>\n",
       "      <td>x-x</td>\n",
       "      <td>sux</td>\n",
       "    </tr>\n",
       "    <tr>\n",
       "      <th>8</th>\n",
       "      <td>dumu-ŋu₁₀</td>\n",
       "      <td>[dumu, ŋu₁₀]</td>\n",
       "      <td>[TUR, MU]</td>\n",
       "      <td>𒌉𒈬</td>\n",
       "      <td>dumu[child]N</td>\n",
       "      <td>sux</td>\n",
       "    </tr>\n",
       "    <tr>\n",
       "      <th>9</th>\n",
       "      <td>mu-ni-ib₂-be₂</td>\n",
       "      <td>[mu, ni, ib₂, be₂]</td>\n",
       "      <td>[MU, NI, TUM, BI]</td>\n",
       "      <td>𒈬𒉌𒌈𒁉</td>\n",
       "      <td>e[speak]V/t</td>\n",
       "      <td>sux</td>\n",
       "    </tr>\n",
       "    <tr>\n",
       "      <th>10</th>\n",
       "      <td>x-x</td>\n",
       "      <td>[x, x]</td>\n",
       "      <td>[X, X]</td>\n",
       "      <td>XX</td>\n",
       "      <td>x-x</td>\n",
       "      <td>akk-x-stdbab</td>\n",
       "    </tr>\n",
       "    <tr>\n",
       "      <th>11</th>\n",
       "      <td>ma-ri-ma</td>\n",
       "      <td>[ma, ri, ma]</td>\n",
       "      <td>[MA, RI, MA]</td>\n",
       "      <td>𒈠𒊑𒈠</td>\n",
       "      <td>māru[son]N</td>\n",
       "      <td>akk-x-stdbab</td>\n",
       "    </tr>\n",
       "    <tr>\n",
       "      <th>12</th>\n",
       "      <td>i-qab-bi</td>\n",
       "      <td>[i, qab, bi]</td>\n",
       "      <td>[I, GABA, BI]</td>\n",
       "      <td>𒄿𒃮𒁉</td>\n",
       "      <td>qabû[say]V</td>\n",
       "      <td>akk-x-stdbab</td>\n",
       "    </tr>\n",
       "    <tr>\n",
       "      <th>13</th>\n",
       "      <td>x</td>\n",
       "      <td>[x]</td>\n",
       "      <td>[X]</td>\n",
       "      <td>X</td>\n",
       "      <td>x</td>\n",
       "      <td>sux</td>\n",
       "    </tr>\n",
       "    <tr>\n",
       "      <th>14</th>\n",
       "      <td>mu-ni-ib₂-be₂</td>\n",
       "      <td>[mu, ni, ib₂, be₂]</td>\n",
       "      <td>[MU, NI, TUM, BI]</td>\n",
       "      <td>𒈬𒉌𒌈𒁉</td>\n",
       "      <td>e[speak]V/t</td>\n",
       "      <td>sux</td>\n",
       "    </tr>\n",
       "    <tr>\n",
       "      <th>15</th>\n",
       "      <td>x</td>\n",
       "      <td>[x]</td>\n",
       "      <td>[X]</td>\n",
       "      <td>X</td>\n",
       "      <td>x</td>\n",
       "      <td>akk-x-stdbab</td>\n",
       "    </tr>\n",
       "    <tr>\n",
       "      <th>16</th>\n",
       "      <td>i-qab-bi</td>\n",
       "      <td>[i, qab, bi]</td>\n",
       "      <td>[I, GABA, BI]</td>\n",
       "      <td>𒄿𒃮𒁉</td>\n",
       "      <td>qabû[say]V</td>\n",
       "      <td>akk-x-stdbab</td>\n",
       "    </tr>\n",
       "    <tr>\n",
       "      <th>17</th>\n",
       "      <td>x-ŋu₁₀</td>\n",
       "      <td>[x, ŋu₁₀]</td>\n",
       "      <td>[X, MU]</td>\n",
       "      <td>X𒈬</td>\n",
       "      <td>x-ŋu₁₀</td>\n",
       "      <td>sux</td>\n",
       "    </tr>\n",
       "    <tr>\n",
       "      <th>18</th>\n",
       "      <td>mu-ni-ib₂-be₂</td>\n",
       "      <td>[mu, ni, ib₂, be₂]</td>\n",
       "      <td>[MU, NI, TUM, BI]</td>\n",
       "      <td>𒈬𒉌𒌈𒁉</td>\n",
       "      <td>e[speak]V/t</td>\n",
       "      <td>sux</td>\n",
       "    </tr>\n",
       "    <tr>\n",
       "      <th>19</th>\n",
       "      <td>x</td>\n",
       "      <td>[x]</td>\n",
       "      <td>[X]</td>\n",
       "      <td>X</td>\n",
       "      <td>x</td>\n",
       "      <td>akk-x-stdbab</td>\n",
       "    </tr>\n",
       "    <tr>\n",
       "      <th>20</th>\n",
       "      <td>i-qab-bi</td>\n",
       "      <td>[i, qab, bi]</td>\n",
       "      <td>[I, GABA, BI]</td>\n",
       "      <td>𒄿𒃮𒁉</td>\n",
       "      <td>qabû[say]V</td>\n",
       "      <td>akk-x-stdbab</td>\n",
       "    </tr>\n",
       "    <tr>\n",
       "      <th>21</th>\n",
       "      <td>x</td>\n",
       "      <td>[x]</td>\n",
       "      <td>[X]</td>\n",
       "      <td>X</td>\n",
       "      <td>x</td>\n",
       "      <td>sux</td>\n",
       "    </tr>\n",
       "    <tr>\n",
       "      <th>22</th>\n",
       "      <td>mu-ni-ib₂-be₂</td>\n",
       "      <td>[mu, ni, ib₂, be₂]</td>\n",
       "      <td>[MU, NI, TUM, BI]</td>\n",
       "      <td>𒈬𒉌𒌈𒁉</td>\n",
       "      <td>e[speak]V/t</td>\n",
       "      <td>sux</td>\n",
       "    </tr>\n",
       "    <tr>\n",
       "      <th>23</th>\n",
       "      <td>mar-tu₄</td>\n",
       "      <td>[mar, tu₄]</td>\n",
       "      <td>[MAR, TUM]</td>\n",
       "      <td>𒈥𒌈</td>\n",
       "      <td>mārtu[daughter]N</td>\n",
       "      <td>akk-x-stdbab</td>\n",
       "    </tr>\n",
       "    <tr>\n",
       "      <th>24</th>\n",
       "      <td>x</td>\n",
       "      <td>[x]</td>\n",
       "      <td>[X]</td>\n",
       "      <td>X</td>\n",
       "      <td>x</td>\n",
       "      <td>akk-x-stdbab</td>\n",
       "    </tr>\n",
       "    <tr>\n",
       "      <th>25</th>\n",
       "      <td>e-sir₂-ra</td>\n",
       "      <td>[e, sir₂, ra]</td>\n",
       "      <td>[E, BU, RA]</td>\n",
       "      <td>𒂊𒁍𒊏</td>\n",
       "      <td>esir[street]N</td>\n",
       "      <td>sux</td>\n",
       "    </tr>\n",
       "    <tr>\n",
       "      <th>26</th>\n",
       "      <td>x</td>\n",
       "      <td>[x]</td>\n",
       "      <td>[X]</td>\n",
       "      <td>X</td>\n",
       "      <td>x</td>\n",
       "      <td>sux</td>\n",
       "    </tr>\n",
       "    <tr>\n",
       "      <th>27</th>\n",
       "      <td>ina</td>\n",
       "      <td>[ina]</td>\n",
       "      <td>[AŠ]</td>\n",
       "      <td>𒀸</td>\n",
       "      <td>ina[in]PRP</td>\n",
       "      <td>akk-x-stdbab</td>\n",
       "    </tr>\n",
       "    <tr>\n",
       "      <th>28</th>\n",
       "      <td>su-qi₂</td>\n",
       "      <td>[su, qi₂]</td>\n",
       "      <td>[SU, KI]</td>\n",
       "      <td>𒋢𒆠</td>\n",
       "      <td>sūqu[street]N</td>\n",
       "      <td>akk-x-stdbab</td>\n",
       "    </tr>\n",
       "    <tr>\n",
       "      <th>29</th>\n",
       "      <td>x</td>\n",
       "      <td>[x]</td>\n",
       "      <td>[X]</td>\n",
       "      <td>X</td>\n",
       "      <td>x</td>\n",
       "      <td>akk-x-stdbab</td>\n",
       "    </tr>\n",
       "    <tr>\n",
       "      <th>...</th>\n",
       "      <td>...</td>\n",
       "      <td>...</td>\n",
       "      <td>...</td>\n",
       "      <td>...</td>\n",
       "      <td>...</td>\n",
       "      <td>...</td>\n",
       "    </tr>\n",
       "    <tr>\n",
       "      <th>1541878</th>\n",
       "      <td>DINGIR.MEŠ</td>\n",
       "      <td>[DINGIR.MEŠ]</td>\n",
       "      <td>[DINGIR.MEŠ]</td>\n",
       "      <td>DINGIR.MEŠ</td>\n",
       "      <td>ilu[god]N</td>\n",
       "      <td>akk</td>\n",
       "    </tr>\n",
       "    <tr>\n",
       "      <th>1541879</th>\n",
       "      <td>a-šib</td>\n",
       "      <td>[a, šib]</td>\n",
       "      <td>[A, ME]</td>\n",
       "      <td>𒀀𒈨</td>\n",
       "      <td>wāšibu[sitting-one]N</td>\n",
       "      <td>akk</td>\n",
       "    </tr>\n",
       "    <tr>\n",
       "      <th>1541880</th>\n",
       "      <td>{URU}an-at</td>\n",
       "      <td>[URU, an, at]</td>\n",
       "      <td>[URU, AN, AD]</td>\n",
       "      <td>𒌷𒀭𒀜</td>\n",
       "      <td>Anat[1]SN</td>\n",
       "      <td>akk</td>\n",
       "    </tr>\n",
       "    <tr>\n",
       "      <th>1541881</th>\n",
       "      <td>EN.MEŠ-e-a</td>\n",
       "      <td>[EN.MEŠ, e, a]</td>\n",
       "      <td>[EN.MEŠ, E, A]</td>\n",
       "      <td>EN.MEŠ𒂊𒀀</td>\n",
       "      <td>bēlu[lord]N</td>\n",
       "      <td>akk</td>\n",
       "    </tr>\n",
       "    <tr>\n",
       "      <th>1541882</th>\n",
       "      <td>la-ba-riš</td>\n",
       "      <td>[la, ba, riš]</td>\n",
       "      <td>[LA, BA, SAG]</td>\n",
       "      <td>𒆷𒁀𒊕</td>\n",
       "      <td>labāriš[to-become-old]AV</td>\n",
       "      <td>akk</td>\n",
       "    </tr>\n",
       "    <tr>\n",
       "      <th>1541883</th>\n",
       "      <td>il-lik-ma</td>\n",
       "      <td>[il, lik, ma]</td>\n",
       "      <td>[IL, UR, MA]</td>\n",
       "      <td>𒅋𒌨𒈠</td>\n",
       "      <td>alāku[go]V</td>\n",
       "      <td>akk</td>\n",
       "    </tr>\n",
       "    <tr>\n",
       "      <th>1541884</th>\n",
       "      <td>up-te-eṭ-ṭir</td>\n",
       "      <td>[up, te, eṭ, ṭir]</td>\n",
       "      <td>[UB, TE, A₂, |SI.A|]</td>\n",
       "      <td>𒌒𒋼𒀉𒋛𒀀</td>\n",
       "      <td>paṭāru[untie]V</td>\n",
       "      <td>akk</td>\n",
       "    </tr>\n",
       "    <tr>\n",
       "      <th>1541885</th>\n",
       "      <td>x</td>\n",
       "      <td>[x]</td>\n",
       "      <td>[X]</td>\n",
       "      <td>X</td>\n",
       "      <td>x</td>\n",
       "      <td>akk</td>\n",
       "    </tr>\n",
       "    <tr>\n",
       "      <th>1541886</th>\n",
       "      <td>a-ki-tu₄</td>\n",
       "      <td>[a, ki, tu₄]</td>\n",
       "      <td>[A, KI, TUM]</td>\n",
       "      <td>𒀀𒆠𒌈</td>\n",
       "      <td>akītu[(a-cultic-festival)]N</td>\n",
       "      <td>akk</td>\n",
       "    </tr>\n",
       "    <tr>\n",
       "      <th>1541887</th>\n",
       "      <td>UR₅-tu₂</td>\n",
       "      <td>[UR₅, tu₂]</td>\n",
       "      <td>[|HI×AŠ₂|, UD]</td>\n",
       "      <td>𒄯𒌓</td>\n",
       "      <td>šuāti[him]IP</td>\n",
       "      <td>akk</td>\n",
       "    </tr>\n",
       "    <tr>\n",
       "      <th>1541888</th>\n",
       "      <td>u₂-dan-nin-ma</td>\n",
       "      <td>[u₂, dan, nin, ma]</td>\n",
       "      <td>[U₂, KAL, |SAL.TUG₂|, MA]</td>\n",
       "      <td>𒌑𒆗𒊩𒌆𒈠</td>\n",
       "      <td>danānu[be(come)-strong]V</td>\n",
       "      <td>akk</td>\n",
       "    </tr>\n",
       "    <tr>\n",
       "      <th>1541889</th>\n",
       "      <td>a-na</td>\n",
       "      <td>[a, na]</td>\n",
       "      <td>[A, NA]</td>\n",
       "      <td>𒀀𒈾</td>\n",
       "      <td>ana[to]PRP</td>\n",
       "      <td>akk</td>\n",
       "    </tr>\n",
       "    <tr>\n",
       "      <th>1541890</th>\n",
       "      <td>ba-laṭ</td>\n",
       "      <td>[ba, laṭ]</td>\n",
       "      <td>[BA, KUR]</td>\n",
       "      <td>𒁀𒆳</td>\n",
       "      <td>balāṭu[live]V</td>\n",
       "      <td>akk</td>\n",
       "    </tr>\n",
       "    <tr>\n",
       "      <th>1541891</th>\n",
       "      <td>ZI.MEŠ-ia</td>\n",
       "      <td>[ZI.MEŠ, ia]</td>\n",
       "      <td>[ZI.MEŠ, |I.A|]</td>\n",
       "      <td>ZI.MEŠ𒅀</td>\n",
       "      <td>napištu[throat]N</td>\n",
       "      <td>akk</td>\n",
       "    </tr>\n",
       "    <tr>\n",
       "      <th>1541892</th>\n",
       "      <td>ša₂-lam</td>\n",
       "      <td>[ša₂, lam]</td>\n",
       "      <td>[GAR, LAM]</td>\n",
       "      <td>𒃻𒇴</td>\n",
       "      <td>šalāmu[be(come)-healthy]V</td>\n",
       "      <td>akk</td>\n",
       "    </tr>\n",
       "    <tr>\n",
       "      <th>1541893</th>\n",
       "      <td>NUMUN-ia</td>\n",
       "      <td>[NUMUN, ia]</td>\n",
       "      <td>[KUL, |I.A|]</td>\n",
       "      <td>𒆰𒅀</td>\n",
       "      <td>zēru[seed(s)]N</td>\n",
       "      <td>akk</td>\n",
       "    </tr>\n",
       "    <tr>\n",
       "      <th>1541894</th>\n",
       "      <td>GID₂.DA</td>\n",
       "      <td>[GID₂.DA]</td>\n",
       "      <td>[GID₂.DA]</td>\n",
       "      <td>GID₂.DA</td>\n",
       "      <td>arāku[be-long]V</td>\n",
       "      <td>akk</td>\n",
       "    </tr>\n",
       "    <tr>\n",
       "      <th>1541895</th>\n",
       "      <td>UD.MEŠ-ia</td>\n",
       "      <td>[UD.MEŠ, ia]</td>\n",
       "      <td>[UD.MEŠ, |I.A|]</td>\n",
       "      <td>UD.MEŠ𒅀</td>\n",
       "      <td>ūmu[day]N</td>\n",
       "      <td>akk</td>\n",
       "    </tr>\n",
       "    <tr>\n",
       "      <th>1541896</th>\n",
       "      <td>ku-un</td>\n",
       "      <td>[ku, un]</td>\n",
       "      <td>[KU, UN]</td>\n",
       "      <td>𒆪𒌦</td>\n",
       "      <td>kânu[be(come)-permanent]V</td>\n",
       "      <td>akk</td>\n",
       "    </tr>\n",
       "    <tr>\n",
       "      <th>1541897</th>\n",
       "      <td>BALA.MEŠ-e-a</td>\n",
       "      <td>[BALA.MEŠ, e, a]</td>\n",
       "      <td>[BALA.MEŠ, E, A]</td>\n",
       "      <td>BALA.MEŠ𒂊𒀀</td>\n",
       "      <td>palû[reign-(of-a-king)]N</td>\n",
       "      <td>akk</td>\n",
       "    </tr>\n",
       "    <tr>\n",
       "      <th>1541898</th>\n",
       "      <td>sa-kap</td>\n",
       "      <td>[sa, kap]</td>\n",
       "      <td>[SA, KAB]</td>\n",
       "      <td>𒊓𒆏</td>\n",
       "      <td>sakāpu[push-down]V</td>\n",
       "      <td>akk</td>\n",
       "    </tr>\n",
       "    <tr>\n",
       "      <th>1541899</th>\n",
       "      <td>KUR</td>\n",
       "      <td>[KUR]</td>\n",
       "      <td>[KUR]</td>\n",
       "      <td>𒆳</td>\n",
       "      <td>mātu[land]N</td>\n",
       "      <td>akk</td>\n",
       "    </tr>\n",
       "    <tr>\n",
       "      <th>1541900</th>\n",
       "      <td>{LU₂}KUR₂-ia</td>\n",
       "      <td>[LU₂, KUR₂, ia]</td>\n",
       "      <td>[LU₂, PAP, |I.A|]</td>\n",
       "      <td>𒇽𒉽𒅀</td>\n",
       "      <td>nakru[enemy]N</td>\n",
       "      <td>akk</td>\n",
       "    </tr>\n",
       "    <tr>\n",
       "      <th>1541901</th>\n",
       "      <td>DU₃-ma</td>\n",
       "      <td>[DU₃, ma]</td>\n",
       "      <td>[KAK, MA]</td>\n",
       "      <td>𒆕𒈠</td>\n",
       "      <td>epēšu[do]V</td>\n",
       "      <td>akk</td>\n",
       "    </tr>\n",
       "    <tr>\n",
       "      <th>1541902</th>\n",
       "      <td>a-na</td>\n",
       "      <td>[a, na]</td>\n",
       "      <td>[A, NA]</td>\n",
       "      <td>𒀀𒈾</td>\n",
       "      <td>ana[to]PRP</td>\n",
       "      <td>akk</td>\n",
       "    </tr>\n",
       "    <tr>\n",
       "      <th>1541903</th>\n",
       "      <td>{d}IŠKUR</td>\n",
       "      <td>[d, IŠKUR]</td>\n",
       "      <td>[AN, IM]</td>\n",
       "      <td>𒀭𒅎</td>\n",
       "      <td>Adad[1]DN</td>\n",
       "      <td>akk</td>\n",
       "    </tr>\n",
       "    <tr>\n",
       "      <th>1541904</th>\n",
       "      <td>u</td>\n",
       "      <td>[u]</td>\n",
       "      <td>[U]</td>\n",
       "      <td>𒌋</td>\n",
       "      <td>u[and]CNJ</td>\n",
       "      <td>akk</td>\n",
       "    </tr>\n",
       "    <tr>\n",
       "      <th>1541905</th>\n",
       "      <td>{d}A-{d}IŠKUR</td>\n",
       "      <td>[d, A, d, IŠKUR]</td>\n",
       "      <td>[AN, A, AN, IM]</td>\n",
       "      <td>𒀭𒀀𒀭𒅎</td>\n",
       "      <td>Apla-Adad[1]DN</td>\n",
       "      <td>akk</td>\n",
       "    </tr>\n",
       "    <tr>\n",
       "      <th>1541906</th>\n",
       "      <td>EN.MEŠ-e-a</td>\n",
       "      <td>[EN.MEŠ, e, a]</td>\n",
       "      <td>[EN.MEŠ, E, A]</td>\n",
       "      <td>EN.MEŠ𒂊𒀀</td>\n",
       "      <td>bēlu[lord]N</td>\n",
       "      <td>akk</td>\n",
       "    </tr>\n",
       "    <tr>\n",
       "      <th>1541907</th>\n",
       "      <td>BA-iš₃</td>\n",
       "      <td>[BA, iš₃]</td>\n",
       "      <td>[BA, |U.U.U|]</td>\n",
       "      <td>𒁀𒌍</td>\n",
       "      <td>qiāšu[give]V</td>\n",
       "      <td>akk</td>\n",
       "    </tr>\n",
       "  </tbody>\n",
       "</table>\n",
       "<p>1541908 rows × 6 columns</p>\n",
       "</div>"
      ],
      "text/plain": [
       "           transliteration                words                      names  \\\n",
       "0        Startblms/P414332  [Startblms/P414332]        [Startblms/P414332]   \n",
       "1                      x-x               [x, x]                     [X, X]   \n",
       "2                 dam-ŋu₁₀          [dam, ŋu₁₀]                  [DAM, MU]   \n",
       "3            mu-ni-ib₂-be₂   [mu, ni, ib₂, be₂]          [MU, NI, TUM, BI]   \n",
       "4                     x-ri              [x, ri]                    [X, RI]   \n",
       "5                 mu-ti-ma         [mu, ti, ma]               [MU, TI, MA]   \n",
       "6                 i-qab-bi         [i, qab, bi]              [I, GABA, BI]   \n",
       "7                      x-x               [x, x]                     [X, X]   \n",
       "8                dumu-ŋu₁₀         [dumu, ŋu₁₀]                  [TUR, MU]   \n",
       "9            mu-ni-ib₂-be₂   [mu, ni, ib₂, be₂]          [MU, NI, TUM, BI]   \n",
       "10                     x-x               [x, x]                     [X, X]   \n",
       "11                ma-ri-ma         [ma, ri, ma]               [MA, RI, MA]   \n",
       "12                i-qab-bi         [i, qab, bi]              [I, GABA, BI]   \n",
       "13                       x                  [x]                        [X]   \n",
       "14           mu-ni-ib₂-be₂   [mu, ni, ib₂, be₂]          [MU, NI, TUM, BI]   \n",
       "15                       x                  [x]                        [X]   \n",
       "16                i-qab-bi         [i, qab, bi]              [I, GABA, BI]   \n",
       "17                  x-ŋu₁₀            [x, ŋu₁₀]                    [X, MU]   \n",
       "18           mu-ni-ib₂-be₂   [mu, ni, ib₂, be₂]          [MU, NI, TUM, BI]   \n",
       "19                       x                  [x]                        [X]   \n",
       "20                i-qab-bi         [i, qab, bi]              [I, GABA, BI]   \n",
       "21                       x                  [x]                        [X]   \n",
       "22           mu-ni-ib₂-be₂   [mu, ni, ib₂, be₂]          [MU, NI, TUM, BI]   \n",
       "23                 mar-tu₄           [mar, tu₄]                 [MAR, TUM]   \n",
       "24                       x                  [x]                        [X]   \n",
       "25               e-sir₂-ra        [e, sir₂, ra]                [E, BU, RA]   \n",
       "26                       x                  [x]                        [X]   \n",
       "27                     ina                [ina]                       [AŠ]   \n",
       "28                  su-qi₂            [su, qi₂]                   [SU, KI]   \n",
       "29                       x                  [x]                        [X]   \n",
       "...                    ...                  ...                        ...   \n",
       "1541878         DINGIR.MEŠ         [DINGIR.MEŠ]               [DINGIR.MEŠ]   \n",
       "1541879              a-šib             [a, šib]                    [A, ME]   \n",
       "1541880         {URU}an-at        [URU, an, at]              [URU, AN, AD]   \n",
       "1541881         EN.MEŠ-e-a       [EN.MEŠ, e, a]             [EN.MEŠ, E, A]   \n",
       "1541882          la-ba-riš        [la, ba, riš]              [LA, BA, SAG]   \n",
       "1541883          il-lik-ma        [il, lik, ma]               [IL, UR, MA]   \n",
       "1541884       up-te-eṭ-ṭir    [up, te, eṭ, ṭir]       [UB, TE, A₂, |SI.A|]   \n",
       "1541885                  x                  [x]                        [X]   \n",
       "1541886           a-ki-tu₄         [a, ki, tu₄]               [A, KI, TUM]   \n",
       "1541887            UR₅-tu₂           [UR₅, tu₂]             [|HI×AŠ₂|, UD]   \n",
       "1541888      u₂-dan-nin-ma   [u₂, dan, nin, ma]  [U₂, KAL, |SAL.TUG₂|, MA]   \n",
       "1541889               a-na              [a, na]                    [A, NA]   \n",
       "1541890             ba-laṭ            [ba, laṭ]                  [BA, KUR]   \n",
       "1541891          ZI.MEŠ-ia         [ZI.MEŠ, ia]            [ZI.MEŠ, |I.A|]   \n",
       "1541892            ša₂-lam           [ša₂, lam]                 [GAR, LAM]   \n",
       "1541893           NUMUN-ia          [NUMUN, ia]               [KUL, |I.A|]   \n",
       "1541894            GID₂.DA            [GID₂.DA]                  [GID₂.DA]   \n",
       "1541895          UD.MEŠ-ia         [UD.MEŠ, ia]            [UD.MEŠ, |I.A|]   \n",
       "1541896              ku-un             [ku, un]                   [KU, UN]   \n",
       "1541897       BALA.MEŠ-e-a     [BALA.MEŠ, e, a]           [BALA.MEŠ, E, A]   \n",
       "1541898             sa-kap            [sa, kap]                  [SA, KAB]   \n",
       "1541899                KUR                [KUR]                      [KUR]   \n",
       "1541900       {LU₂}KUR₂-ia      [LU₂, KUR₂, ia]          [LU₂, PAP, |I.A|]   \n",
       "1541901             DU₃-ma            [DU₃, ma]                  [KAK, MA]   \n",
       "1541902               a-na              [a, na]                    [A, NA]   \n",
       "1541903           {d}IŠKUR           [d, IŠKUR]                   [AN, IM]   \n",
       "1541904                  u                  [u]                        [U]   \n",
       "1541905      {d}A-{d}IŠKUR     [d, A, d, IŠKUR]            [AN, A, AN, IM]   \n",
       "1541906         EN.MEŠ-e-a       [EN.MEŠ, e, a]             [EN.MEŠ, E, A]   \n",
       "1541907             BA-iš₃            [BA, iš₃]              [BA, |U.U.U|]   \n",
       "\n",
       "                     utf-8                         lemm               lang  \n",
       "0        Startblms/P414332            Startblms/P414332  Startblms/P414332  \n",
       "1                       XX                          x-x                sux  \n",
       "2                       𒁮𒈬                 dam[spouse]N                sux  \n",
       "3                     𒈬𒉌𒌈𒁉                  e[speak]V/t                sux  \n",
       "4                       X𒊑                         x-ri       akk-x-stdbab  \n",
       "5                      𒈬𒋾𒈠               mutu[husband]N       akk-x-stdbab  \n",
       "6                      𒄿𒃮𒁉                   qabû[say]V       akk-x-stdbab  \n",
       "7                       XX                          x-x                sux  \n",
       "8                       𒌉𒈬                 dumu[child]N                sux  \n",
       "9                     𒈬𒉌𒌈𒁉                  e[speak]V/t                sux  \n",
       "10                      XX                          x-x       akk-x-stdbab  \n",
       "11                     𒈠𒊑𒈠                   māru[son]N       akk-x-stdbab  \n",
       "12                     𒄿𒃮𒁉                   qabû[say]V       akk-x-stdbab  \n",
       "13                       X                            x                sux  \n",
       "14                    𒈬𒉌𒌈𒁉                  e[speak]V/t                sux  \n",
       "15                       X                            x       akk-x-stdbab  \n",
       "16                     𒄿𒃮𒁉                   qabû[say]V       akk-x-stdbab  \n",
       "17                      X𒈬                       x-ŋu₁₀                sux  \n",
       "18                    𒈬𒉌𒌈𒁉                  e[speak]V/t                sux  \n",
       "19                       X                            x       akk-x-stdbab  \n",
       "20                     𒄿𒃮𒁉                   qabû[say]V       akk-x-stdbab  \n",
       "21                       X                            x                sux  \n",
       "22                    𒈬𒉌𒌈𒁉                  e[speak]V/t                sux  \n",
       "23                      𒈥𒌈             mārtu[daughter]N       akk-x-stdbab  \n",
       "24                       X                            x       akk-x-stdbab  \n",
       "25                     𒂊𒁍𒊏                esir[street]N                sux  \n",
       "26                       X                            x                sux  \n",
       "27                       𒀸                   ina[in]PRP       akk-x-stdbab  \n",
       "28                      𒋢𒆠                sūqu[street]N       akk-x-stdbab  \n",
       "29                       X                            x       akk-x-stdbab  \n",
       "...                    ...                          ...                ...  \n",
       "1541878         DINGIR.MEŠ                    ilu[god]N                akk  \n",
       "1541879                 𒀀𒈨         wāšibu[sitting-one]N                akk  \n",
       "1541880                𒌷𒀭𒀜                    Anat[1]SN                akk  \n",
       "1541881           EN.MEŠ𒂊𒀀                  bēlu[lord]N                akk  \n",
       "1541882                𒆷𒁀𒊕     labāriš[to-become-old]AV                akk  \n",
       "1541883                𒅋𒌨𒈠                   alāku[go]V                akk  \n",
       "1541884              𒌒𒋼𒀉𒋛𒀀               paṭāru[untie]V                akk  \n",
       "1541885                  X                            x                akk  \n",
       "1541886                𒀀𒆠𒌈  akītu[(a-cultic-festival)]N                akk  \n",
       "1541887                 𒄯𒌓                 šuāti[him]IP                akk  \n",
       "1541888              𒌑𒆗𒊩𒌆𒈠     danānu[be(come)-strong]V                akk  \n",
       "1541889                 𒀀𒈾                   ana[to]PRP                akk  \n",
       "1541890                 𒁀𒆳                balāṭu[live]V                akk  \n",
       "1541891            ZI.MEŠ𒅀             napištu[throat]N                akk  \n",
       "1541892                 𒃻𒇴    šalāmu[be(come)-healthy]V                akk  \n",
       "1541893                 𒆰𒅀               zēru[seed(s)]N                akk  \n",
       "1541894            GID₂.DA              arāku[be-long]V                akk  \n",
       "1541895            UD.MEŠ𒅀                    ūmu[day]N                akk  \n",
       "1541896                 𒆪𒌦    kânu[be(come)-permanent]V                akk  \n",
       "1541897         BALA.MEŠ𒂊𒀀     palû[reign-(of-a-king)]N                akk  \n",
       "1541898                 𒊓𒆏           sakāpu[push-down]V                akk  \n",
       "1541899                  𒆳                  mātu[land]N                akk  \n",
       "1541900                𒇽𒉽𒅀                nakru[enemy]N                akk  \n",
       "1541901                 𒆕𒈠                   epēšu[do]V                akk  \n",
       "1541902                 𒀀𒈾                   ana[to]PRP                akk  \n",
       "1541903                 𒀭𒅎                    Adad[1]DN                akk  \n",
       "1541904                  𒌋                    u[and]CNJ                akk  \n",
       "1541905               𒀭𒀀𒀭𒅎               Apla-Adad[1]DN                akk  \n",
       "1541906           EN.MEŠ𒂊𒀀                  bēlu[lord]N                akk  \n",
       "1541907                 𒁀𒌍                 qiāšu[give]V                akk  \n",
       "\n",
       "[1541908 rows x 6 columns]"
      ]
     },
     "execution_count": 14,
     "metadata": {},
     "output_type": "execute_result"
    }
   ],
   "source": [
    "df = pd.DataFrame({\"transliteration\":all_, \"words\":words_l, \"names\":names_l, \"utf-8\":utf8_l, \"lemm\" : lemm_, \"lang\" : lang_})\n",
    "df"
   ]
  },
  {
   "cell_type": "code",
   "execution_count": 15,
   "metadata": {},
   "outputs": [],
   "source": [
    "with open(\"corpus/all_df.p\", \"wb\") as w:\n",
    "    pickle.dump(df, w)"
   ]
  },
  {
   "cell_type": "markdown",
   "metadata": {},
   "source": [
    "# Save as Text\n",
    "Save three different representations of the Akkadian text. Each representation is saved in a separate text file:\n",
    "- in transliteration        ===> akk_tl.txt\n",
    "- in lemmatized format   ===> akk_lemm.txt\n",
    "- in cuneiform (utf-8)    ===> akk_utf8.txt"
   ]
  },
  {
   "cell_type": "code",
   "execution_count": 17,
   "metadata": {},
   "outputs": [],
   "source": [
    "df_akk = df[df[\"lang\"].str[:3].isin([\"akk\", \"Sta\"])]\n",
    "rep_d = {\"akk_utf8\": \"utf-8\", \"akk_lemm\": \"lemm\", \"akk_tl\" : \"transliteration\"}\n",
    "for rep in rep_d:\n",
    "    text = ' '.join(df_akk[rep_d[rep]]).strip()\n",
    "    text = text.replace(' Start', '\\n').strip()\n",
    "    text = text.replace('Start', '')\n",
    "    text = re.sub(r'\\n+', '\\n', text)\n",
    "    file = \"corpus/\" + rep + \".txt\"\n",
    "    with open(file, 'w', encoding=\"utf-8\") as w:\n",
    "        w.write(text)"
   ]
  },
  {
   "cell_type": "code",
   "execution_count": null,
   "metadata": {},
   "outputs": [],
   "source": []
  }
 ],
 "metadata": {
  "kernelspec": {
   "display_name": "Python 3 (ipykernel)",
   "language": "python",
   "name": "python3"
  },
  "language_info": {
   "codemirror_mode": {
    "name": "ipython",
    "version": 3
   },
   "file_extension": ".py",
   "mimetype": "text/x-python",
   "name": "python",
   "nbconvert_exporter": "python",
   "pygments_lexer": "ipython3",
   "version": "3.9.7"
  }
 },
 "nbformat": 4,
 "nbformat_minor": 4
}
