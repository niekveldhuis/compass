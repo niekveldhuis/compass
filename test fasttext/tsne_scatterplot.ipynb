{
 "cells": [
  {
   "cell_type": "markdown",
   "metadata": {},
   "source": [
    "# Visualizing FastText Model\n",
    "\n",
    "This notebook develops functions for visualizing semantic relationships preserved in a FastText model of the Sumerian corpus using t-SNE and Bokeh.\n",
    "\n",
    "Inspired by [*LDA visualized using t-SNE and Bokeh*](https://www.kaggle.com/yohanb/lda-visualized-using-t-sne-and-bokeh) by Yohan, and [*Visualizing Word Vectors with t-SNE*](https://www.kaggle.com/jeffd23/visualizing-word-vectors-with-t-sne) by Jeff Delayney.\n",
    "\n",
    "Note: for visualization Bokeh is preferred over Matplotlib primarily because of the difficulties in using a custom font in Matplotlib. This becomes a major obstacle when trying to represent tokens in cuneiform."
   ]
  },
  {
   "cell_type": "code",
   "execution_count": 1,
   "metadata": {},
   "outputs": [
    {
     "data": {
      "text/html": [
       "\n",
       "    <div class=\"bk-root\">\n",
       "        <a href=\"https://bokeh.org\" target=\"_blank\" class=\"bk-logo bk-logo-small bk-logo-notebook\"></a>\n",
       "        <span id=\"1001\">Loading BokehJS ...</span>\n",
       "    </div>"
      ]
     },
     "metadata": {},
     "output_type": "display_data"
    },
    {
     "data": {
      "application/javascript": [
       "\n",
       "(function(root) {\n",
       "  function now() {\n",
       "    return new Date();\n",
       "  }\n",
       "\n",
       "  var force = true;\n",
       "\n",
       "  if (typeof root._bokeh_onload_callbacks === \"undefined\" || force === true) {\n",
       "    root._bokeh_onload_callbacks = [];\n",
       "    root._bokeh_is_loading = undefined;\n",
       "  }\n",
       "\n",
       "  var JS_MIME_TYPE = 'application/javascript';\n",
       "  var HTML_MIME_TYPE = 'text/html';\n",
       "  var EXEC_MIME_TYPE = 'application/vnd.bokehjs_exec.v0+json';\n",
       "  var CLASS_NAME = 'output_bokeh rendered_html';\n",
       "\n",
       "  /**\n",
       "   * Render data to the DOM node\n",
       "   */\n",
       "  function render(props, node) {\n",
       "    var script = document.createElement(\"script\");\n",
       "    node.appendChild(script);\n",
       "  }\n",
       "\n",
       "  /**\n",
       "   * Handle when an output is cleared or removed\n",
       "   */\n",
       "  function handleClearOutput(event, handle) {\n",
       "    var cell = handle.cell;\n",
       "\n",
       "    var id = cell.output_area._bokeh_element_id;\n",
       "    var server_id = cell.output_area._bokeh_server_id;\n",
       "    // Clean up Bokeh references\n",
       "    if (id != null && id in Bokeh.index) {\n",
       "      Bokeh.index[id].model.document.clear();\n",
       "      delete Bokeh.index[id];\n",
       "    }\n",
       "\n",
       "    if (server_id !== undefined) {\n",
       "      // Clean up Bokeh references\n",
       "      var cmd = \"from bokeh.io.state import curstate; print(curstate().uuid_to_server['\" + server_id + \"'].get_sessions()[0].document.roots[0]._id)\";\n",
       "      cell.notebook.kernel.execute(cmd, {\n",
       "        iopub: {\n",
       "          output: function(msg) {\n",
       "            var id = msg.content.text.trim();\n",
       "            if (id in Bokeh.index) {\n",
       "              Bokeh.index[id].model.document.clear();\n",
       "              delete Bokeh.index[id];\n",
       "            }\n",
       "          }\n",
       "        }\n",
       "      });\n",
       "      // Destroy server and session\n",
       "      var cmd = \"import bokeh.io.notebook as ion; ion.destroy_server('\" + server_id + \"')\";\n",
       "      cell.notebook.kernel.execute(cmd);\n",
       "    }\n",
       "  }\n",
       "\n",
       "  /**\n",
       "   * Handle when a new output is added\n",
       "   */\n",
       "  function handleAddOutput(event, handle) {\n",
       "    var output_area = handle.output_area;\n",
       "    var output = handle.output;\n",
       "\n",
       "    // limit handleAddOutput to display_data with EXEC_MIME_TYPE content only\n",
       "    if ((output.output_type != \"display_data\") || (!output.data.hasOwnProperty(EXEC_MIME_TYPE))) {\n",
       "      return\n",
       "    }\n",
       "\n",
       "    var toinsert = output_area.element.find(\".\" + CLASS_NAME.split(' ')[0]);\n",
       "\n",
       "    if (output.metadata[EXEC_MIME_TYPE][\"id\"] !== undefined) {\n",
       "      toinsert[toinsert.length - 1].firstChild.textContent = output.data[JS_MIME_TYPE];\n",
       "      // store reference to embed id on output_area\n",
       "      output_area._bokeh_element_id = output.metadata[EXEC_MIME_TYPE][\"id\"];\n",
       "    }\n",
       "    if (output.metadata[EXEC_MIME_TYPE][\"server_id\"] !== undefined) {\n",
       "      var bk_div = document.createElement(\"div\");\n",
       "      bk_div.innerHTML = output.data[HTML_MIME_TYPE];\n",
       "      var script_attrs = bk_div.children[0].attributes;\n",
       "      for (var i = 0; i < script_attrs.length; i++) {\n",
       "        toinsert[toinsert.length - 1].firstChild.setAttribute(script_attrs[i].name, script_attrs[i].value);\n",
       "      }\n",
       "      // store reference to server id on output_area\n",
       "      output_area._bokeh_server_id = output.metadata[EXEC_MIME_TYPE][\"server_id\"];\n",
       "    }\n",
       "  }\n",
       "\n",
       "  function register_renderer(events, OutputArea) {\n",
       "\n",
       "    function append_mime(data, metadata, element) {\n",
       "      // create a DOM node to render to\n",
       "      var toinsert = this.create_output_subarea(\n",
       "        metadata,\n",
       "        CLASS_NAME,\n",
       "        EXEC_MIME_TYPE\n",
       "      );\n",
       "      this.keyboard_manager.register_events(toinsert);\n",
       "      // Render to node\n",
       "      var props = {data: data, metadata: metadata[EXEC_MIME_TYPE]};\n",
       "      render(props, toinsert[toinsert.length - 1]);\n",
       "      element.append(toinsert);\n",
       "      return toinsert\n",
       "    }\n",
       "\n",
       "    /* Handle when an output is cleared or removed */\n",
       "    events.on('clear_output.CodeCell', handleClearOutput);\n",
       "    events.on('delete.Cell', handleClearOutput);\n",
       "\n",
       "    /* Handle when a new output is added */\n",
       "    events.on('output_added.OutputArea', handleAddOutput);\n",
       "\n",
       "    /**\n",
       "     * Register the mime type and append_mime function with output_area\n",
       "     */\n",
       "    OutputArea.prototype.register_mime_type(EXEC_MIME_TYPE, append_mime, {\n",
       "      /* Is output safe? */\n",
       "      safe: true,\n",
       "      /* Index of renderer in `output_area.display_order` */\n",
       "      index: 0\n",
       "    });\n",
       "  }\n",
       "\n",
       "  // register the mime type if in Jupyter Notebook environment and previously unregistered\n",
       "  if (root.Jupyter !== undefined) {\n",
       "    var events = require('base/js/events');\n",
       "    var OutputArea = require('notebook/js/outputarea').OutputArea;\n",
       "\n",
       "    if (OutputArea.prototype.mime_types().indexOf(EXEC_MIME_TYPE) == -1) {\n",
       "      register_renderer(events, OutputArea);\n",
       "    }\n",
       "  }\n",
       "\n",
       "  \n",
       "  if (typeof (root._bokeh_timeout) === \"undefined\" || force === true) {\n",
       "    root._bokeh_timeout = Date.now() + 5000;\n",
       "    root._bokeh_failed_load = false;\n",
       "  }\n",
       "\n",
       "  var NB_LOAD_WARNING = {'data': {'text/html':\n",
       "     \"<div style='background-color: #fdd'>\\n\"+\n",
       "     \"<p>\\n\"+\n",
       "     \"BokehJS does not appear to have successfully loaded. If loading BokehJS from CDN, this \\n\"+\n",
       "     \"may be due to a slow or bad network connection. Possible fixes:\\n\"+\n",
       "     \"</p>\\n\"+\n",
       "     \"<ul>\\n\"+\n",
       "     \"<li>re-rerun `output_notebook()` to attempt to load from CDN again, or</li>\\n\"+\n",
       "     \"<li>use INLINE resources instead, as so:</li>\\n\"+\n",
       "     \"</ul>\\n\"+\n",
       "     \"<code>\\n\"+\n",
       "     \"from bokeh.resources import INLINE\\n\"+\n",
       "     \"output_notebook(resources=INLINE)\\n\"+\n",
       "     \"</code>\\n\"+\n",
       "     \"</div>\"}};\n",
       "\n",
       "  function display_loaded() {\n",
       "    var el = document.getElementById(\"1001\");\n",
       "    if (el != null) {\n",
       "      el.textContent = \"BokehJS is loading...\";\n",
       "    }\n",
       "    if (root.Bokeh !== undefined) {\n",
       "      if (el != null) {\n",
       "        el.textContent = \"BokehJS \" + root.Bokeh.version + \" successfully loaded.\";\n",
       "      }\n",
       "    } else if (Date.now() < root._bokeh_timeout) {\n",
       "      setTimeout(display_loaded, 100)\n",
       "    }\n",
       "  }\n",
       "\n",
       "\n",
       "  function run_callbacks() {\n",
       "    try {\n",
       "      root._bokeh_onload_callbacks.forEach(function(callback) {\n",
       "        if (callback != null)\n",
       "          callback();\n",
       "      });\n",
       "    } finally {\n",
       "      delete root._bokeh_onload_callbacks\n",
       "    }\n",
       "    console.debug(\"Bokeh: all callbacks have finished\");\n",
       "  }\n",
       "\n",
       "  function load_libs(css_urls, js_urls, callback) {\n",
       "    if (css_urls == null) css_urls = [];\n",
       "    if (js_urls == null) js_urls = [];\n",
       "\n",
       "    root._bokeh_onload_callbacks.push(callback);\n",
       "    if (root._bokeh_is_loading > 0) {\n",
       "      console.debug(\"Bokeh: BokehJS is being loaded, scheduling callback at\", now());\n",
       "      return null;\n",
       "    }\n",
       "    if (js_urls == null || js_urls.length === 0) {\n",
       "      run_callbacks();\n",
       "      return null;\n",
       "    }\n",
       "    console.debug(\"Bokeh: BokehJS not loaded, scheduling load and callback at\", now());\n",
       "    root._bokeh_is_loading = css_urls.length + js_urls.length;\n",
       "\n",
       "    function on_load() {\n",
       "      root._bokeh_is_loading--;\n",
       "      if (root._bokeh_is_loading === 0) {\n",
       "        console.debug(\"Bokeh: all BokehJS libraries/stylesheets loaded\");\n",
       "        run_callbacks()\n",
       "      }\n",
       "    }\n",
       "\n",
       "    function on_error() {\n",
       "      console.error(\"failed to load \" + url);\n",
       "    }\n",
       "\n",
       "    for (var i = 0; i < css_urls.length; i++) {\n",
       "      var url = css_urls[i];\n",
       "      const element = document.createElement(\"link\");\n",
       "      element.onload = on_load;\n",
       "      element.onerror = on_error;\n",
       "      element.rel = \"stylesheet\";\n",
       "      element.type = \"text/css\";\n",
       "      element.href = url;\n",
       "      console.debug(\"Bokeh: injecting link tag for BokehJS stylesheet: \", url);\n",
       "      document.body.appendChild(element);\n",
       "    }\n",
       "\n",
       "    for (var i = 0; i < js_urls.length; i++) {\n",
       "      var url = js_urls[i];\n",
       "      var element = document.createElement('script');\n",
       "      element.onload = on_load;\n",
       "      element.onerror = on_error;\n",
       "      element.async = false;\n",
       "      element.src = url;\n",
       "      console.debug(\"Bokeh: injecting script tag for BokehJS library: \", url);\n",
       "      document.head.appendChild(element);\n",
       "    }\n",
       "  };var element = document.getElementById(\"1001\");\n",
       "  if (element == null) {\n",
       "    console.error(\"Bokeh: ERROR: autoload.js configured with elementid '1001' but no matching script tag was found. \")\n",
       "    return false;\n",
       "  }\n",
       "\n",
       "  function inject_raw_css(css) {\n",
       "    const element = document.createElement(\"style\");\n",
       "    element.appendChild(document.createTextNode(css));\n",
       "    document.body.appendChild(element);\n",
       "  }\n",
       "\n",
       "  \n",
       "  var js_urls = [\"https://cdn.pydata.org/bokeh/release/bokeh-1.4.0.min.js\", \"https://cdn.pydata.org/bokeh/release/bokeh-widgets-1.4.0.min.js\", \"https://cdn.pydata.org/bokeh/release/bokeh-tables-1.4.0.min.js\", \"https://cdn.pydata.org/bokeh/release/bokeh-gl-1.4.0.min.js\"];\n",
       "  var css_urls = [];\n",
       "  \n",
       "\n",
       "  var inline_js = [\n",
       "    function(Bokeh) {\n",
       "      Bokeh.set_log_level(\"info\");\n",
       "    },\n",
       "    function(Bokeh) {\n",
       "    \n",
       "    \n",
       "    }\n",
       "  ];\n",
       "\n",
       "  function run_inline_js() {\n",
       "    \n",
       "    if (root.Bokeh !== undefined || force === true) {\n",
       "      \n",
       "    for (var i = 0; i < inline_js.length; i++) {\n",
       "      inline_js[i].call(root, root.Bokeh);\n",
       "    }\n",
       "    if (force === true) {\n",
       "        display_loaded();\n",
       "      }} else if (Date.now() < root._bokeh_timeout) {\n",
       "      setTimeout(run_inline_js, 100);\n",
       "    } else if (!root._bokeh_failed_load) {\n",
       "      console.log(\"Bokeh: BokehJS failed to load within specified timeout.\");\n",
       "      root._bokeh_failed_load = true;\n",
       "    } else if (force !== true) {\n",
       "      var cell = $(document.getElementById(\"1001\")).parents('.cell').data().cell;\n",
       "      cell.output_area.append_execute_result(NB_LOAD_WARNING)\n",
       "    }\n",
       "\n",
       "  }\n",
       "\n",
       "  if (root._bokeh_is_loading === 0) {\n",
       "    console.debug(\"Bokeh: BokehJS loaded, going straight to plotting\");\n",
       "    run_inline_js();\n",
       "  } else {\n",
       "    load_libs(css_urls, js_urls, function() {\n",
       "      console.debug(\"Bokeh: BokehJS plotting callback run at\", now());\n",
       "      run_inline_js();\n",
       "    });\n",
       "  }\n",
       "}(window));"
      ],
      "application/vnd.bokehjs_load.v0+json": "\n(function(root) {\n  function now() {\n    return new Date();\n  }\n\n  var force = true;\n\n  if (typeof root._bokeh_onload_callbacks === \"undefined\" || force === true) {\n    root._bokeh_onload_callbacks = [];\n    root._bokeh_is_loading = undefined;\n  }\n\n  \n\n  \n  if (typeof (root._bokeh_timeout) === \"undefined\" || force === true) {\n    root._bokeh_timeout = Date.now() + 5000;\n    root._bokeh_failed_load = false;\n  }\n\n  var NB_LOAD_WARNING = {'data': {'text/html':\n     \"<div style='background-color: #fdd'>\\n\"+\n     \"<p>\\n\"+\n     \"BokehJS does not appear to have successfully loaded. If loading BokehJS from CDN, this \\n\"+\n     \"may be due to a slow or bad network connection. Possible fixes:\\n\"+\n     \"</p>\\n\"+\n     \"<ul>\\n\"+\n     \"<li>re-rerun `output_notebook()` to attempt to load from CDN again, or</li>\\n\"+\n     \"<li>use INLINE resources instead, as so:</li>\\n\"+\n     \"</ul>\\n\"+\n     \"<code>\\n\"+\n     \"from bokeh.resources import INLINE\\n\"+\n     \"output_notebook(resources=INLINE)\\n\"+\n     \"</code>\\n\"+\n     \"</div>\"}};\n\n  function display_loaded() {\n    var el = document.getElementById(\"1001\");\n    if (el != null) {\n      el.textContent = \"BokehJS is loading...\";\n    }\n    if (root.Bokeh !== undefined) {\n      if (el != null) {\n        el.textContent = \"BokehJS \" + root.Bokeh.version + \" successfully loaded.\";\n      }\n    } else if (Date.now() < root._bokeh_timeout) {\n      setTimeout(display_loaded, 100)\n    }\n  }\n\n\n  function run_callbacks() {\n    try {\n      root._bokeh_onload_callbacks.forEach(function(callback) {\n        if (callback != null)\n          callback();\n      });\n    } finally {\n      delete root._bokeh_onload_callbacks\n    }\n    console.debug(\"Bokeh: all callbacks have finished\");\n  }\n\n  function load_libs(css_urls, js_urls, callback) {\n    if (css_urls == null) css_urls = [];\n    if (js_urls == null) js_urls = [];\n\n    root._bokeh_onload_callbacks.push(callback);\n    if (root._bokeh_is_loading > 0) {\n      console.debug(\"Bokeh: BokehJS is being loaded, scheduling callback at\", now());\n      return null;\n    }\n    if (js_urls == null || js_urls.length === 0) {\n      run_callbacks();\n      return null;\n    }\n    console.debug(\"Bokeh: BokehJS not loaded, scheduling load and callback at\", now());\n    root._bokeh_is_loading = css_urls.length + js_urls.length;\n\n    function on_load() {\n      root._bokeh_is_loading--;\n      if (root._bokeh_is_loading === 0) {\n        console.debug(\"Bokeh: all BokehJS libraries/stylesheets loaded\");\n        run_callbacks()\n      }\n    }\n\n    function on_error() {\n      console.error(\"failed to load \" + url);\n    }\n\n    for (var i = 0; i < css_urls.length; i++) {\n      var url = css_urls[i];\n      const element = document.createElement(\"link\");\n      element.onload = on_load;\n      element.onerror = on_error;\n      element.rel = \"stylesheet\";\n      element.type = \"text/css\";\n      element.href = url;\n      console.debug(\"Bokeh: injecting link tag for BokehJS stylesheet: \", url);\n      document.body.appendChild(element);\n    }\n\n    for (var i = 0; i < js_urls.length; i++) {\n      var url = js_urls[i];\n      var element = document.createElement('script');\n      element.onload = on_load;\n      element.onerror = on_error;\n      element.async = false;\n      element.src = url;\n      console.debug(\"Bokeh: injecting script tag for BokehJS library: \", url);\n      document.head.appendChild(element);\n    }\n  };var element = document.getElementById(\"1001\");\n  if (element == null) {\n    console.error(\"Bokeh: ERROR: autoload.js configured with elementid '1001' but no matching script tag was found. \")\n    return false;\n  }\n\n  function inject_raw_css(css) {\n    const element = document.createElement(\"style\");\n    element.appendChild(document.createTextNode(css));\n    document.body.appendChild(element);\n  }\n\n  \n  var js_urls = [\"https://cdn.pydata.org/bokeh/release/bokeh-1.4.0.min.js\", \"https://cdn.pydata.org/bokeh/release/bokeh-widgets-1.4.0.min.js\", \"https://cdn.pydata.org/bokeh/release/bokeh-tables-1.4.0.min.js\", \"https://cdn.pydata.org/bokeh/release/bokeh-gl-1.4.0.min.js\"];\n  var css_urls = [];\n  \n\n  var inline_js = [\n    function(Bokeh) {\n      Bokeh.set_log_level(\"info\");\n    },\n    function(Bokeh) {\n    \n    \n    }\n  ];\n\n  function run_inline_js() {\n    \n    if (root.Bokeh !== undefined || force === true) {\n      \n    for (var i = 0; i < inline_js.length; i++) {\n      inline_js[i].call(root, root.Bokeh);\n    }\n    if (force === true) {\n        display_loaded();\n      }} else if (Date.now() < root._bokeh_timeout) {\n      setTimeout(run_inline_js, 100);\n    } else if (!root._bokeh_failed_load) {\n      console.log(\"Bokeh: BokehJS failed to load within specified timeout.\");\n      root._bokeh_failed_load = true;\n    } else if (force !== true) {\n      var cell = $(document.getElementById(\"1001\")).parents('.cell').data().cell;\n      cell.output_area.append_execute_result(NB_LOAD_WARNING)\n    }\n\n  }\n\n  if (root._bokeh_is_loading === 0) {\n    console.debug(\"Bokeh: BokehJS loaded, going straight to plotting\");\n    run_inline_js();\n  } else {\n    load_libs(css_urls, js_urls, function() {\n      console.debug(\"Bokeh: BokehJS plotting callback run at\", now());\n      run_inline_js();\n    });\n  }\n}(window));"
     },
     "metadata": {},
     "output_type": "display_data"
    }
   ],
   "source": [
    "import gensim\n",
    "import numpy as np\n",
    "import pickle\n",
    "from sklearn.manifold import TSNE\n",
    "from gensim.models.fasttext import FastText as FT_gensim\n",
    "import pandas as pd\n",
    "from bokeh.io import output_notebook\n",
    "from bokeh.plotting import figure, show, output_file, save\n",
    "from bokeh.models import ColumnDataSource, LabelSet, Legend, LegendItem, Range1d #, HoverTool, CustomJS, , Slider\n",
    "from bokeh.layouts import column\n",
    "from bokeh.palettes import all_palettes\n",
    "from bokeh.palettes import Category20\n",
    "output_notebook()\n",
    "# note: more recent bokeh versions require notebook 5 or JupyterLab"
   ]
  },
  {
   "cell_type": "markdown",
   "metadata": {},
   "source": [
    "# Load the Models\n",
    "There are three models: \n",
    "- model_cuneiform.model: the Sumerian copus in Unicode cuneiform\n",
    "- model_tl.model: the Sumerian corpus in transliteration\n",
    "- model_lemm.model: the Sumerian corpus in lemmatization"
   ]
  },
  {
   "cell_type": "code",
   "execution_count": 2,
   "metadata": {},
   "outputs": [],
   "source": [
    "model_c = FT_gensim.load(\"model/model_cuneiform.model\")\n",
    "model_l = FT_gensim.load(\"model/model_lemm.model\")\n",
    "model_t = FT_gensim.load(\"model/model_tl.model\")"
   ]
  },
  {
   "cell_type": "markdown",
   "metadata": {},
   "source": [
    "# Cuneify\n",
    "Create a function that allows input in transliteration, with output in cuneiform."
   ]
  },
  {
   "cell_type": "code",
   "execution_count": 3,
   "metadata": {},
   "outputs": [],
   "source": [
    "with open(\"output/ogsl.p\", \"rb\") as p:\n",
    "    o = pd.read_pickle(p, compression = None)\n",
    "signs_d = dict(zip(o[\"value\"], o[\"utf8\"]))"
   ]
  },
  {
   "cell_type": "code",
   "execution_count": 4,
   "metadata": {},
   "outputs": [],
   "source": [
    "def cun(text): \n",
    "    \"\"\"transform transliterated input into cuneiform. Use unicode subscript numbers and separate all signs with hyphens; separate words with blanks\n",
    "    Examples: 'ma-an-gi₄'; 'd-en-lil₂ nibru-ki'.\n",
    "    Transliteration style (sugal₇ vs. sukkal; dug₄ vs. du₁₁; gen vs. ŋen; etc.) and capitalization are unimportant.\n",
    "    \"\"\"\n",
    "    cun_line = []\n",
    "    words = text.lower().split()\n",
    "    for word in words: \n",
    "        signs = word.lower().split('-')\n",
    "        seq = [signs_d[s] if s in signs_d else s for s in signs]\n",
    "        seq = ''.join(seq)\n",
    "        cun_line.append(seq)\n",
    "    line = ' '.join(cun_line)\n",
    "    return(line)"
   ]
  },
  {
   "cell_type": "markdown",
   "metadata": {},
   "source": [
    "# Create Lists of Semantically Related Words"
   ]
  },
  {
   "cell_type": "code",
   "execution_count": 5,
   "metadata": {},
   "outputs": [],
   "source": [
    "def word_categories(model, words, topn=10):\n",
    "    \"\"\"word_categories takes an iterable with one or more words from the vocabulary of model.\n",
    "    For each word a dictionary of similar words (with the target word) is construed.\n",
    "    The value of each word is numerical (integer) and indicates the category to which it belongs.\n",
    "    The function returns a dictionary.\"\"\"\n",
    "    word_d = {}\n",
    "    for idx, word in enumerate(words):\n",
    "        w = model.wv.most_similar(word, topn=topn)\n",
    "        w = [m[0] for m in w]\n",
    "        w.append(word)\n",
    "        for item in w:\n",
    "            if item in word_d:\n",
    "                word_d[item] = len(words)\n",
    "            else:\n",
    "                word_d[item] = idx\n",
    "    return word_d"
   ]
  },
  {
   "cell_type": "markdown",
   "metadata": {},
   "source": [
    "# Project and Visualize Related Words"
   ]
  },
  {
   "cell_type": "code",
   "execution_count": 6,
   "metadata": {},
   "outputs": [],
   "source": [
    "def tsne_bokeh(model, word_d, words, fontsize=\"12pt\"):\n",
    "\n",
    "    labels = []\n",
    "    tokens = []\n",
    "    categories = []\n",
    "    legend = []\n",
    "    \n",
    "    for word in word_d:\n",
    "        tokens.append(model.wv[word])\n",
    "        labels.append(word)\n",
    "        categories.append(word_d[word])\n",
    "        if word_d[word] == len(words): \n",
    "            legend.append(\"mixed\")\n",
    "        else: \n",
    "            legend.append(words[word_d[word]])\n",
    "    \n",
    "    color_d = {0: \"black\", 1: \"red\", 2: \"green\", 3: \"yellow\", 4: \"brown\", 5: \"blue\"}\n",
    "    colors = [color_d[category] for category in categories]\n",
    "    #c = Category20[len(words) + 1]\n",
    "    #colors = [c[category] for category in categories]\n",
    "    \n",
    "    tsne = TSNE(perplexity=40, n_components=2, init='pca', n_iter=2500, random_state=23)\n",
    "    tsne_embedding = tsne.fit_transform(tokens)\n",
    "    tsne_embedding = pd.DataFrame(tsne_embedding, columns=['x','y'])\n",
    "    tsne_embedding[\"color\"] = colors\n",
    "    tsne_embedding[\"labels\"] = labels\n",
    "    tsne_embedding[\"legend\"] = legend\n",
    "\n",
    "    source = ColumnDataSource(\n",
    "        data=dict(\n",
    "        x = tsne_embedding.x,\n",
    "        y = tsne_embedding.y,\n",
    "        colors = tsne_embedding.color,\n",
    "        labels=tsne_embedding.labels,\n",
    "        legend = tsne_embedding.legend\n",
    "        )\n",
    "    )\n",
    "\n",
    "    l = LabelSet(x='x', y='y', text='labels', level='glyph',\n",
    "              x_offset=5, y_offset=5, source=source, render_mode='canvas', \n",
    "             text_font_size=fontsize, text_font=\"CuneiformComposite\")\n",
    "\n",
    "    plot_tsne = figure(plot_width=900, plot_height=900) #, tools=tools_tsne, title='Papers')\n",
    "    plot_tsne.circle('x', 'y', size=7, fill_color='colors', \n",
    "                  line_alpha=0, line_width=0.01, source=source, legend_label=\"legend\")\n",
    "    plot_tsne.add_layout(l)\n",
    "    plot_tsne.legend.border_line_width = 3\n",
    "    plot_tsne.legend.border_line_color = \"black\"\n",
    "    plot_tsne.legend.border_line_alpha = 1\n",
    "    plot_tsne.legend.location = \"top_right\"\n",
    "    plot_tsne.legend.background_fill_color = \"beige\"\n",
    "    plot_tsne.legend.background_fill_alpha = 0.5\n",
    "    show(plot_tsne)\n",
    "    return plot_tsne"
   ]
  },
  {
   "cell_type": "code",
   "execution_count": 7,
   "metadata": {},
   "outputs": [
    {
     "data": {
      "text/html": [
       "\n",
       "\n",
       "\n",
       "\n",
       "\n",
       "\n",
       "  <div class=\"bk-root\" id=\"7501a2e6-d374-4a40-83f2-5ad7a1f59b93\" data-root-id=\"1005\"></div>\n"
      ]
     },
     "metadata": {},
     "output_type": "display_data"
    },
    {
     "data": {
      "application/javascript": [
       "(function(root) {\n",
       "  function embed_document(root) {\n",
       "    \n",
       "  var docs_json = {\"e4507ae5-cb78-4bef-8569-7de7c11146be\":{\"roots\":{\"references\":[{\"attributes\":{\"below\":[{\"id\":\"1014\",\"type\":\"LinearAxis\"}],\"center\":[{\"id\":\"1018\",\"type\":\"Grid\"},{\"id\":\"1023\",\"type\":\"Grid\"},{\"id\":\"1049\",\"type\":\"Legend\"},{\"id\":\"1003\",\"type\":\"LabelSet\"}],\"left\":[{\"id\":\"1019\",\"type\":\"LinearAxis\"}],\"plot_height\":900,\"plot_width\":900,\"renderers\":[{\"id\":\"1040\",\"type\":\"GlyphRenderer\"}],\"title\":{\"id\":\"1042\",\"type\":\"Title\"},\"toolbar\":{\"id\":\"1030\",\"type\":\"Toolbar\"},\"x_range\":{\"id\":\"1006\",\"type\":\"DataRange1d\"},\"x_scale\":{\"id\":\"1010\",\"type\":\"LinearScale\"},\"y_range\":{\"id\":\"1008\",\"type\":\"DataRange1d\"},\"y_scale\":{\"id\":\"1012\",\"type\":\"LinearScale\"}},\"id\":\"1005\",\"subtype\":\"Figure\",\"type\":\"Plot\"},{\"attributes\":{\"text\":\"\"},\"id\":\"1042\",\"type\":\"Title\"},{\"attributes\":{\"callback\":null,\"data\":{\"colors\":[\"black\",\"black\",\"black\",\"black\",\"black\",\"black\",\"black\",\"black\",\"black\",\"black\",\"black\",\"black\",\"black\",\"black\",\"black\",\"black\",\"black\",\"black\",\"black\",\"black\",\"black\",\"black\",\"black\",\"black\",\"black\",\"black\",\"black\",\"black\",\"black\",\"black\",\"black\",\"black\",\"black\",\"black\",\"black\",\"black\",\"red\",\"red\",\"red\",\"red\",\"red\",\"red\",\"red\",\"red\",\"red\",\"red\",\"red\",\"red\",\"red\",\"red\",\"red\",\"red\",\"red\",\"red\",\"red\",\"red\",\"red\",\"red\",\"red\",\"red\",\"red\",\"red\",\"red\",\"red\",\"red\",\"red\",\"red\",\"red\",\"red\",\"red\",\"red\",\"red\"],\"labels\":[\"bir-GAM-la-e\",\"lam-gal\",\"pa-u\\u2083-suh\\u2085\",\"x-u\\u2083-suh\\u2085\",\"x-suh\\u2085\",\"lam-tur\",\"x-la-e\",\"MES-\\u0161ar\\u2089-x\",\"\\u0161inig-kur-ra\",\"x-ur\\u2082-ma\",\"\\u0161inig-kur\",\"ildag\\u2082-bur-ra\",\"MES-\\u0161ar\\u2089-\\u0161a\\u2084-bid\\u2083\",\"\\u0161e-u\\u2083-suh\\u2085\",\"\\u0161ar\\u2089-\\u0161a\\u2084-bid\\u2083\",\"x-AK\",\"ildag\\u2082-kur-ra\",\"MES-\\u0161ar\\u2089-\\u0161a\\u2084-x\",\"lam\",\"\\u0161inig-x\",\"\\u014be\\u0161tin-gam-ma\",\"\\u0161ar\\u2089-\\u0161a\\u2084-x\",\"\\u014bi\\u2086-x\",\"ildag\\u2082-bur\",\"ildag\\u2082\",\"ma-nu\",\"\\u0161inig-dili\",\"u\\u2083-suh\\u2085\",\"ab-ba-me-luh-ha\",\"ig-ma\\u0161-tab-ba\",\"\\u0161ennur\",\"KID-da\",\"ildag\\u2082-kur\",\"ig-u\\u2083-ma\",\"\\u014be\\u0161tin-kir\\u2084\",\"\\u0161im-gig\",\"babbar-hi{sar}\",\"babbar\\u2082-hi{sar}\",\"u\\u2082-ge\\u0161{sar}\",\"ni\\u014bnagar[plant]N\",\"zahili[plant]N\",\"HI{sar}\",\"za-ha-din{sar}\",\"\\u0161um\\u2082-ha-din\",\"x-x{sar}\",\"x{sar}\",\"gamamtum[vegetable]N\",\"x-x-x{sar}\",\"babbarhi[plant]N\",\"kurgirina[plant]N\",\"ma-sar\",\"\\u0161imbirida[plant]N\",\"gada{sar}\",\"sar\",\"lu-a{sar}\",\"zibibitum[seed]N\",\"ga-ra\\u0161{sar}\",\"hurium[plant]N\",\"tab-ba{sar}\",\"{u\\u2082}sullim{sar}\",\"gub-ba{sar}\",\"dun\\u2083-la\\u2082{sar}\",\"u\\u2082-kur-bi\",\"gu\\u2084{sar}\",\"\\u0161e-lu\\u2082-gum\",\"gan\\u0161e[plant]N\",\"numun[seed]N\",\"{u\\u2082}sa\\u014b-ke\\u0161\\u2082\",\"dimgi[plant]N\",\"hizurbara[vegetable]N\",\"{u\\u2082}gamun\\u2082\",\"hi{sar}\"],\"legend\":[\"\\u0161im-gig\",\"\\u0161im-gig\",\"\\u0161im-gig\",\"\\u0161im-gig\",\"\\u0161im-gig\",\"\\u0161im-gig\",\"\\u0161im-gig\",\"\\u0161im-gig\",\"\\u0161im-gig\",\"\\u0161im-gig\",\"\\u0161im-gig\",\"\\u0161im-gig\",\"\\u0161im-gig\",\"\\u0161im-gig\",\"\\u0161im-gig\",\"\\u0161im-gig\",\"\\u0161im-gig\",\"\\u0161im-gig\",\"\\u0161im-gig\",\"\\u0161im-gig\",\"\\u0161im-gig\",\"\\u0161im-gig\",\"\\u0161im-gig\",\"\\u0161im-gig\",\"\\u0161im-gig\",\"\\u0161im-gig\",\"\\u0161im-gig\",\"\\u0161im-gig\",\"\\u0161im-gig\",\"\\u0161im-gig\",\"\\u0161im-gig\",\"\\u0161im-gig\",\"\\u0161im-gig\",\"\\u0161im-gig\",\"\\u0161im-gig\",\"\\u0161im-gig\",\"hi{sar}\",\"hi{sar}\",\"hi{sar}\",\"hi{sar}\",\"hi{sar}\",\"hi{sar}\",\"hi{sar}\",\"hi{sar}\",\"hi{sar}\",\"hi{sar}\",\"hi{sar}\",\"hi{sar}\",\"hi{sar}\",\"hi{sar}\",\"hi{sar}\",\"hi{sar}\",\"hi{sar}\",\"hi{sar}\",\"hi{sar}\",\"hi{sar}\",\"hi{sar}\",\"hi{sar}\",\"hi{sar}\",\"hi{sar}\",\"hi{sar}\",\"hi{sar}\",\"hi{sar}\",\"hi{sar}\",\"hi{sar}\",\"hi{sar}\",\"hi{sar}\",\"hi{sar}\",\"hi{sar}\",\"hi{sar}\",\"hi{sar}\",\"hi{sar}\"],\"x\":{\"__ndarray__\":\"tC2PwMqngcC3gZvAIcCawI1XocA4AIDA/o+LwHGImcDqjKTAisdiwBklr8DauoHAJgCkwJk1o8BeHqjA+sFhwAQAgsDbe6DAqi62wB2SsMCrToXAJVykwGLFb8D594PA5l6HwMMhUcDjIrDA6fSswDLnX8DvAl3A+LCkwP+QVcCBOYTAm+RfwJxAh8A8sIvAblCOv2vabr9m9Fe/VwuTv7bYTr+NCzu/a7eOv2+ftr7fYcS+HsdZvvTtH7+HUuG+8hqLv4aahb+qwPW/0Q03v6srcr+NDwjAqjmdvR15K78pdQ+/iltVv5Idar9JX4m/hYltv6dMh79BEUC+t/M0vqZlNz4Hna+/aUuJvy5R6b9uvaa/tB+fv0Qgtb51qZa/\",\"dtype\":\"float32\",\"shape\":[72]},\"y\":{\"__ndarray__\":\"zNqVwKQBkcC4lIrAUKKIwLMAisBQJZLA7FiWwB3DqcBxaKvA0WOOwIMTs8Ape3TAOIitwKaMgcCmR67AJfKPwLJDbcAVZa3A/QCVwL7vtMDL8LHAjImuwDAAj8AHbGfAtZhFwLXaecBFr7bApDiEwNmJj8Ac8qXAdyNVwJgUgcBKFF7AjwypwNI1t8DeIJPAVyrjwKbj1cCuxefAuFrEwEIKtcAHJ/nAri3zwIRSxcCsXvHAyxX6wGATtcDcrefATMbFwMqnwsBAq9XANqmzwOXIA8G/BQDBiibjwCQ8scD8iQjBGlK0wObX/MBy7fvAGM78wHfdAMHacbzASQP0wGGWuMBBh7vAjay6wHPg7cC5I7TA2gPDwMhZzsBvGN/A\",\"dtype\":\"float32\",\"shape\":[72]}},\"selected\":{\"id\":\"1058\",\"type\":\"Selection\"},\"selection_policy\":{\"id\":\"1059\",\"type\":\"UnionRenderers\"}},\"id\":\"1002\",\"type\":\"ColumnDataSource\"},{\"attributes\":{\"fill_color\":{\"field\":\"colors\"},\"line_alpha\":{\"value\":0},\"line_color\":{\"value\":\"#1f77b4\"},\"line_width\":{\"value\":0.01},\"size\":{\"units\":\"screen\",\"value\":7},\"x\":{\"field\":\"x\"},\"y\":{\"field\":\"y\"}},\"id\":\"1038\",\"type\":\"Circle\"},{\"attributes\":{},\"id\":\"1025\",\"type\":\"WheelZoomTool\"},{\"attributes\":{},\"id\":\"1015\",\"type\":\"BasicTicker\"},{\"attributes\":{},\"id\":\"1024\",\"type\":\"PanTool\"},{\"attributes\":{\"data_source\":{\"id\":\"1002\",\"type\":\"ColumnDataSource\"},\"glyph\":{\"id\":\"1038\",\"type\":\"Circle\"},\"hover_glyph\":null,\"muted_glyph\":null,\"nonselection_glyph\":{\"id\":\"1039\",\"type\":\"Circle\"},\"selection_glyph\":null,\"view\":{\"id\":\"1041\",\"type\":\"CDSView\"}},\"id\":\"1040\",\"type\":\"GlyphRenderer\"},{\"attributes\":{\"ticker\":{\"id\":\"1015\",\"type\":\"BasicTicker\"}},\"id\":\"1018\",\"type\":\"Grid\"},{\"attributes\":{\"bottom_units\":\"screen\",\"fill_alpha\":{\"value\":0.5},\"fill_color\":{\"value\":\"lightgrey\"},\"left_units\":\"screen\",\"level\":\"overlay\",\"line_alpha\":{\"value\":1.0},\"line_color\":{\"value\":\"black\"},\"line_dash\":[4,4],\"line_width\":{\"value\":2},\"render_mode\":\"css\",\"right_units\":\"screen\",\"top_units\":\"screen\"},\"id\":\"1048\",\"type\":\"BoxAnnotation\"},{\"attributes\":{},\"id\":\"1012\",\"type\":\"LinearScale\"},{\"attributes\":{},\"id\":\"1059\",\"type\":\"UnionRenderers\"},{\"attributes\":{\"callback\":null},\"id\":\"1006\",\"type\":\"DataRange1d\"},{\"attributes\":{},\"id\":\"1028\",\"type\":\"ResetTool\"},{\"attributes\":{\"label\":{\"value\":\"legend\"},\"renderers\":[{\"id\":\"1040\",\"type\":\"GlyphRenderer\"}]},\"id\":\"1050\",\"type\":\"LegendItem\"},{\"attributes\":{},\"id\":\"1010\",\"type\":\"LinearScale\"},{\"attributes\":{\"formatter\":{\"id\":\"1046\",\"type\":\"BasicTickFormatter\"},\"ticker\":{\"id\":\"1015\",\"type\":\"BasicTicker\"}},\"id\":\"1014\",\"type\":\"LinearAxis\"},{\"attributes\":{},\"id\":\"1058\",\"type\":\"Selection\"},{\"attributes\":{\"active_drag\":\"auto\",\"active_inspect\":\"auto\",\"active_multi\":null,\"active_scroll\":\"auto\",\"active_tap\":\"auto\",\"tools\":[{\"id\":\"1024\",\"type\":\"PanTool\"},{\"id\":\"1025\",\"type\":\"WheelZoomTool\"},{\"id\":\"1026\",\"type\":\"BoxZoomTool\"},{\"id\":\"1027\",\"type\":\"SaveTool\"},{\"id\":\"1028\",\"type\":\"ResetTool\"},{\"id\":\"1029\",\"type\":\"HelpTool\"}]},\"id\":\"1030\",\"type\":\"Toolbar\"},{\"attributes\":{\"overlay\":{\"id\":\"1048\",\"type\":\"BoxAnnotation\"}},\"id\":\"1026\",\"type\":\"BoxZoomTool\"},{\"attributes\":{},\"id\":\"1046\",\"type\":\"BasicTickFormatter\"},{\"attributes\":{\"fill_alpha\":{\"value\":0.1},\"fill_color\":{\"value\":\"#1f77b4\"},\"line_alpha\":{\"value\":0.1},\"line_color\":{\"value\":\"#1f77b4\"},\"line_width\":{\"value\":0.01},\"size\":{\"units\":\"screen\",\"value\":7},\"x\":{\"field\":\"x\"},\"y\":{\"field\":\"y\"}},\"id\":\"1039\",\"type\":\"Circle\"},{\"attributes\":{\"dimension\":1,\"ticker\":{\"id\":\"1020\",\"type\":\"BasicTicker\"}},\"id\":\"1023\",\"type\":\"Grid\"},{\"attributes\":{},\"id\":\"1020\",\"type\":\"BasicTicker\"},{\"attributes\":{\"level\":\"glyph\",\"source\":{\"id\":\"1002\",\"type\":\"ColumnDataSource\"},\"text\":{\"field\":\"labels\"},\"text_font\":\"CuneiformComposite\",\"text_font_size\":{\"value\":\"12pt\"},\"x\":{\"field\":\"x\"},\"x_offset\":{\"value\":5},\"y\":{\"field\":\"y\"},\"y_offset\":{\"value\":5}},\"id\":\"1003\",\"type\":\"LabelSet\"},{\"attributes\":{},\"id\":\"1029\",\"type\":\"HelpTool\"},{\"attributes\":{\"callback\":null},\"id\":\"1008\",\"type\":\"DataRange1d\"},{\"attributes\":{\"background_fill_alpha\":{\"value\":0.5},\"background_fill_color\":{\"value\":\"beige\"},\"border_line_alpha\":{\"value\":1},\"border_line_color\":{\"value\":\"black\"},\"border_line_width\":{\"value\":3},\"items\":[{\"id\":\"1050\",\"type\":\"LegendItem\"}]},\"id\":\"1049\",\"type\":\"Legend\"},{\"attributes\":{},\"id\":\"1027\",\"type\":\"SaveTool\"},{\"attributes\":{\"formatter\":{\"id\":\"1044\",\"type\":\"BasicTickFormatter\"},\"ticker\":{\"id\":\"1020\",\"type\":\"BasicTicker\"}},\"id\":\"1019\",\"type\":\"LinearAxis\"},{\"attributes\":{\"source\":{\"id\":\"1002\",\"type\":\"ColumnDataSource\"}},\"id\":\"1041\",\"type\":\"CDSView\"},{\"attributes\":{},\"id\":\"1044\",\"type\":\"BasicTickFormatter\"}],\"root_ids\":[\"1005\"]},\"title\":\"Bokeh Application\",\"version\":\"1.4.0\"}};\n",
       "  var render_items = [{\"docid\":\"e4507ae5-cb78-4bef-8569-7de7c11146be\",\"roots\":{\"1005\":\"7501a2e6-d374-4a40-83f2-5ad7a1f59b93\"}}];\n",
       "  root.Bokeh.embed.embed_items_notebook(docs_json, render_items);\n",
       "\n",
       "  }\n",
       "  if (root.Bokeh !== undefined) {\n",
       "    embed_document(root);\n",
       "  } else {\n",
       "    var attempts = 0;\n",
       "    var timer = setInterval(function(root) {\n",
       "      if (root.Bokeh !== undefined) {\n",
       "        clearInterval(timer);\n",
       "        embed_document(root);\n",
       "      } else {\n",
       "        attempts++;\n",
       "        if (attempts > 100) {\n",
       "          clearInterval(timer);\n",
       "          console.log(\"Bokeh: ERROR: Unable to run BokehJS code because BokehJS library is missing\");\n",
       "        }\n",
       "      }\n",
       "    }, 10, root)\n",
       "  }\n",
       "})(window);"
      ],
      "application/vnd.bokehjs_exec.v0+json": ""
     },
     "metadata": {
      "application/vnd.bokehjs_exec.v0+json": {
       "id": "1005"
      }
     },
     "output_type": "display_data"
    }
   ],
   "source": [
    "#output_file(\"graphs/vegetables_perfumes.html\")\n",
    "vegetables_perfumes = [\"šim-gig\", \"hi{sar}\"]\n",
    "words_d = word_categories(model_l, vegetables_perfumes, 35)\n",
    "p2 = tsne_bokeh(model_l, words_d, vegetables_perfumes, \"12pt\")\n",
    "#save(p2)\n",
    "#show(p2)"
   ]
  },
  {
   "cell_type": "code",
   "execution_count": 8,
   "metadata": {},
   "outputs": [
    {
     "data": {
      "text/html": [
       "\n",
       "\n",
       "\n",
       "\n",
       "\n",
       "\n",
       "  <div class=\"bk-root\" id=\"6e634aad-a347-4b0a-8b62-8ef8bb1f5867\" data-root-id=\"1117\"></div>\n"
      ]
     },
     "metadata": {},
     "output_type": "display_data"
    },
    {
     "data": {
      "application/javascript": [
       "(function(root) {\n",
       "  function embed_document(root) {\n",
       "    \n",
       "  var docs_json = {\"9901c30c-a37d-445c-9208-08f7978779f1\":{\"roots\":{\"references\":[{\"attributes\":{\"below\":[{\"id\":\"1126\",\"type\":\"LinearAxis\"}],\"center\":[{\"id\":\"1130\",\"type\":\"Grid\"},{\"id\":\"1135\",\"type\":\"Grid\"},{\"id\":\"1161\",\"type\":\"Legend\"},{\"id\":\"1115\",\"type\":\"LabelSet\"}],\"left\":[{\"id\":\"1131\",\"type\":\"LinearAxis\"}],\"plot_height\":900,\"plot_width\":900,\"renderers\":[{\"id\":\"1152\",\"type\":\"GlyphRenderer\"}],\"title\":{\"id\":\"1154\",\"type\":\"Title\"},\"toolbar\":{\"id\":\"1142\",\"type\":\"Toolbar\"},\"x_range\":{\"id\":\"1118\",\"type\":\"DataRange1d\"},\"x_scale\":{\"id\":\"1122\",\"type\":\"LinearScale\"},\"y_range\":{\"id\":\"1120\",\"type\":\"DataRange1d\"},\"y_scale\":{\"id\":\"1124\",\"type\":\"LinearScale\"}},\"id\":\"1117\",\"subtype\":\"Figure\",\"type\":\"Plot\"},{\"attributes\":{\"dimension\":1,\"ticker\":{\"id\":\"1132\",\"type\":\"BasicTicker\"}},\"id\":\"1135\",\"type\":\"Grid\"},{\"attributes\":{\"label\":{\"value\":\"legend\"},\"renderers\":[{\"id\":\"1152\",\"type\":\"GlyphRenderer\"}]},\"id\":\"1162\",\"type\":\"LegendItem\"},{\"attributes\":{},\"id\":\"1127\",\"type\":\"BasicTicker\"},{\"attributes\":{\"formatter\":{\"id\":\"1156\",\"type\":\"BasicTickFormatter\"},\"ticker\":{\"id\":\"1132\",\"type\":\"BasicTicker\"}},\"id\":\"1131\",\"type\":\"LinearAxis\"},{\"attributes\":{\"callback\":null,\"data\":{\"colors\":[\"black\",\"black\",\"black\",\"black\",\"black\",\"black\",\"black\",\"black\",\"yellow\",\"black\",\"black\",\"black\",\"black\",\"black\",\"black\",\"yellow\",\"black\",\"black\",\"black\",\"black\",\"yellow\",\"red\",\"red\",\"red\",\"red\",\"red\",\"red\",\"red\",\"red\",\"red\",\"red\",\"red\",\"yellow\",\"red\",\"red\",\"red\",\"red\",\"red\",\"yellow\",\"green\",\"green\",\"green\",\"green\",\"green\",\"green\",\"green\",\"green\",\"green\",\"green\",\"green\",\"green\",\"green\",\"green\",\"green\",\"green\",\"green\",\"green\",\"green\"],\"labels\":[\"\\ud808\\udf31\\ud808\\udda0\",\"\\ud808\\ude8d\",\"\\ud808\\udc8d\\ud808\\udc00\\ud808\\ude4c\\ud808\\ude4c\",\"\\ud808\\udc40\\ud808\\ude2c\",\"\\ud808\\ude3e\\ud808\\udc55\",\"\\ud808\\ude3e\\ud808\\udeb7\\ud808\\udeeb\",\"\\ud808\\ude3e\\ud808\\udeb7\\ud808\\udcb5\",\"\\ud808\\udf37\\ud808\\udc40\\ud808\\udc00\",\"\\ud808\\udf28\\ud808\\udf09\",\"\\ud808\\udf28\\ud808\\udda4\",\"\\ud808\\uddaf\",\"\\ud808\\udedb\\ud808\\udd95\",\"\\ud808\\udc97\\ud808\\udda4\\ud808\\udda0\",\"\\ud808\\udc2b\\ud808\\udc55\",\"\\ud808\\uded7\\ud808\\udc2d\\ud808\\udd42\",\"\\ud808\\ude4c\\ud808\\uddaa\",\"\\ud808\\udcb5\",\"\\ud808\\udf28\\ud808\\udeed\",\"\\ud808\\ude2c\\ud808\\udc7a\",\"\\ud808\\udda0\",\"\\ud808\\ude3e\\ud808\\udeb7\",\"\\ud808\\uddfd\\ud808\\udc2d\\ud808\\ude8f\",\"\\ud808\\udf28\\ud808\\udc2d\\ud808\\udc79\\ud808\\udc2d\",\"\\ud808\\udf28\\ud808\\udc2d\\ud808\\udf42\\ud808\\uddfd\\ud808\\udd2d\",\"\\ud808\\udf28\\ud808\\ude29\",\"\\ud808\\udc2d\\ud808\\uddf7\\ud808\\ude4c\",\"\\ud808\\udc40\\ud808\\udc2d\\ud808\\udf63\",\"\\ud808\\uddfd\\ud808\\udc2d\\ud808\\udeeb\",\"\\ud808\\udf28\\ud808\\udc2d\\ud808\\udea9\\ud808\\udf06\\ud808\\udcaf\",\"\\ud808\\udf28\\ud808\\udc2d\\ud808\\udc2d\\ud808\\udc79\\ud808\\udc2d\",\"\\ud808\\udf28\\ud808\\udc2d\\ud808\\udc97\\ud808\\udcf2\\ud808\\udc7a\\ud808\\udc7a\",\"\\ud808\\udf28\\ud808\\udc2d\\ud808\\udc39\\ud808\\udc2d\",\"\\ud808\\udc55\\ud808\\uddb7\\ud808\\udc00\",\"\\ud808\\udf28\\ud808\\udeb7\\ud808\\udcb5\",\"\\ud808\\udf28\\ud808\\udc2d\\ud808\\udd4e\",\"\\ud808\\uddfd\\ud808\\udc2d\\ud808\\udec0\\ud808\\udda0\",\"\\ud808\\udf28\\ud808\\udd2f\",\"\\ud808\\udc40\\ud808\\udcb5\\ud808\\udc00\",\"\\ud808\\udc0a\\ud808\\udc40\\ud808\\udeb7\\ud808\\udcb5\",\"\\ud808\\udd54\\ud808\\udeeb\\ud808\\udf13\\ud808\\udc7a\\ud808\\udeeb\",\"\\ud808\\udc00\\ud808\\udd37\\ud808\\ude7f\\ud808\\udd55\",\"\\ud808\\udd54\\ud808\\udeeb\\ud808\\udf13\\ud808\\udc7a\\ud808\\udc00\\ud808\\udeeb\",\"\\ud808\\udc2d\\ud808\\udec0\\ud808\\udda0\\ud808\\ude20\\ud808\\udc40\",\"\\ud808\\udf6a\\ud808\\udc40\\ud808\\udcb5\",\"\\ud808\\udc0a\\ud808\\udc40\\ud808\\udeb7\\ud808\\udcb5\\ud808\\udeeb\",\"\\ud808\\ude2d\\ud808\\udead\\ud808\\ude91\",\"\\ud808\\udda0\\ud808\\udc49\\ud808\\udd04\\ud808\\udc00\",\"\\ud808\\ude2c\\ud808\\udc7a\\ud808\\ude8f\\ud808\\udeeb\",\"\\ud808\\udc2d\\ud808\\udc84\\ud808\\udd00\\ud808\\udc00\\ud808\\udc00\\ud808\\ude2c\",\"\\ud808\\ude3e\\ud808\\ude1c\",\"\\ud808\\uded7\\ud808\\uddf2\\ud808\\udc00\",\"\\ud808\\udc55\\ud808\\udd2d\\ud808\\udd56\\ud808\\udc00\\ud808\\ude91\",\"\\ud808\\udf62\\ud808\\uddfb\\ud808\\udf51\\ud808\\udc2d\\ud808\\udc55\\ud808\\udcf6\\ud808\\udeeb\",\"\\ud808\\ude61\\ud808\\udf2b\\ud808\\udc2d\\ud808\\udc97\\ud808\\udf6a\",\"\\ud808\\udc2d\\ud808\\udc84\\ud808\\udd00\\ud808\\udc2d\\ud808\\udd97\\ud808\\ude2c\",\"\\ud808\\udc2d\\ud808\\udc84\\ud808\\udd00\\ud808\\ude4c\\ud808\\ude4c\\ud808\\udeeb\",\"\\ud808\\udd54\\ud808\\udc55\\ud808\\udc00\",\"\\ud808\\udd54\\ud808\\udeeb\\ud808\\udf13\\ud808\\udc7a\\ud808\\udc00\"],\"legend\":[\"\\ud808\\ude3e\\ud808\\udeb7\",\"\\ud808\\ude3e\\ud808\\udeb7\",\"\\ud808\\ude3e\\ud808\\udeb7\",\"\\ud808\\ude3e\\ud808\\udeb7\",\"\\ud808\\ude3e\\ud808\\udeb7\",\"\\ud808\\ude3e\\ud808\\udeb7\",\"\\ud808\\ude3e\\ud808\\udeb7\",\"\\ud808\\ude3e\\ud808\\udeb7\",\"mixed\",\"\\ud808\\ude3e\\ud808\\udeb7\",\"\\ud808\\ude3e\\ud808\\udeb7\",\"\\ud808\\ude3e\\ud808\\udeb7\",\"\\ud808\\ude3e\\ud808\\udeb7\",\"\\ud808\\ude3e\\ud808\\udeb7\",\"\\ud808\\ude3e\\ud808\\udeb7\",\"mixed\",\"\\ud808\\ude3e\\ud808\\udeb7\",\"\\ud808\\ude3e\\ud808\\udeb7\",\"\\ud808\\ude3e\\ud808\\udeb7\",\"\\ud808\\ude3e\\ud808\\udeb7\",\"mixed\",\"\\ud808\\udc0a\\ud808\\udc40\\ud808\\udeb7\\ud808\\udcb5\",\"\\ud808\\udc0a\\ud808\\udc40\\ud808\\udeb7\\ud808\\udcb5\",\"\\ud808\\udc0a\\ud808\\udc40\\ud808\\udeb7\\ud808\\udcb5\",\"\\ud808\\udc0a\\ud808\\udc40\\ud808\\udeb7\\ud808\\udcb5\",\"\\ud808\\udc0a\\ud808\\udc40\\ud808\\udeb7\\ud808\\udcb5\",\"\\ud808\\udc0a\\ud808\\udc40\\ud808\\udeb7\\ud808\\udcb5\",\"\\ud808\\udc0a\\ud808\\udc40\\ud808\\udeb7\\ud808\\udcb5\",\"\\ud808\\udc0a\\ud808\\udc40\\ud808\\udeb7\\ud808\\udcb5\",\"\\ud808\\udc0a\\ud808\\udc40\\ud808\\udeb7\\ud808\\udcb5\",\"\\ud808\\udc0a\\ud808\\udc40\\ud808\\udeb7\\ud808\\udcb5\",\"\\ud808\\udc0a\\ud808\\udc40\\ud808\\udeb7\\ud808\\udcb5\",\"mixed\",\"\\ud808\\udc0a\\ud808\\udc40\\ud808\\udeb7\\ud808\\udcb5\",\"\\ud808\\udc0a\\ud808\\udc40\\ud808\\udeb7\\ud808\\udcb5\",\"\\ud808\\udc0a\\ud808\\udc40\\ud808\\udeb7\\ud808\\udcb5\",\"\\ud808\\udc0a\\ud808\\udc40\\ud808\\udeb7\\ud808\\udcb5\",\"\\ud808\\udc0a\\ud808\\udc40\\ud808\\udeb7\\ud808\\udcb5\",\"mixed\",\"\\ud808\\udd54\\ud808\\udeeb\\ud808\\udf13\\ud808\\udc7a\\ud808\\udc00\",\"\\ud808\\udd54\\ud808\\udeeb\\ud808\\udf13\\ud808\\udc7a\\ud808\\udc00\",\"\\ud808\\udd54\\ud808\\udeeb\\ud808\\udf13\\ud808\\udc7a\\ud808\\udc00\",\"\\ud808\\udd54\\ud808\\udeeb\\ud808\\udf13\\ud808\\udc7a\\ud808\\udc00\",\"\\ud808\\udd54\\ud808\\udeeb\\ud808\\udf13\\ud808\\udc7a\\ud808\\udc00\",\"\\ud808\\udd54\\ud808\\udeeb\\ud808\\udf13\\ud808\\udc7a\\ud808\\udc00\",\"\\ud808\\udd54\\ud808\\udeeb\\ud808\\udf13\\ud808\\udc7a\\ud808\\udc00\",\"\\ud808\\udd54\\ud808\\udeeb\\ud808\\udf13\\ud808\\udc7a\\ud808\\udc00\",\"\\ud808\\udd54\\ud808\\udeeb\\ud808\\udf13\\ud808\\udc7a\\ud808\\udc00\",\"\\ud808\\udd54\\ud808\\udeeb\\ud808\\udf13\\ud808\\udc7a\\ud808\\udc00\",\"\\ud808\\udd54\\ud808\\udeeb\\ud808\\udf13\\ud808\\udc7a\\ud808\\udc00\",\"\\ud808\\udd54\\ud808\\udeeb\\ud808\\udf13\\ud808\\udc7a\\ud808\\udc00\",\"\\ud808\\udd54\\ud808\\udeeb\\ud808\\udf13\\ud808\\udc7a\\ud808\\udc00\",\"\\ud808\\udd54\\ud808\\udeeb\\ud808\\udf13\\ud808\\udc7a\\ud808\\udc00\",\"\\ud808\\udd54\\ud808\\udeeb\\ud808\\udf13\\ud808\\udc7a\\ud808\\udc00\",\"\\ud808\\udd54\\ud808\\udeeb\\ud808\\udf13\\ud808\\udc7a\\ud808\\udc00\",\"\\ud808\\udd54\\ud808\\udeeb\\ud808\\udf13\\ud808\\udc7a\\ud808\\udc00\",\"\\ud808\\udd54\\ud808\\udeeb\\ud808\\udf13\\ud808\\udc7a\\ud808\\udc00\",\"\\ud808\\udd54\\ud808\\udeeb\\ud808\\udf13\\ud808\\udc7a\\ud808\\udc00\"],\"x\":{\"__ndarray__\":\"vaZmQNu/cEDLKodAU6eJQGpeekBc62RA8H+KQM7Kf0BhR5RAMuaSQNOjjEBH2pJAMQmMQEAlgED+Wm1A9WiPQJGrkEB2mphAjFiHQBQOk0B9QnVA8RWdQBwUgUBfEaBAR2+XQA+/bUCylZFA902dQPcznEAAj2pAA7ihQO6EcEBz83pAu2ybQFydnUAEIqBAqLCeQCWBpkBgfotANfSLQAaqfEAhxIpAZfeWQI+sX0CWi2xAk2R2QEC7hkAsZpFAXvxYQAfnYUCrCWJAszuJQBdiiUBQxZlAb7ybQOJqlkBDz35AqvWFQA==\",\"dtype\":\"float32\",\"shape\":[58]},\"y\":{\"__ndarray__\":\"kOo5PwtG1j9b4sO+DtlxP1xteD9dZeO+8lC/vkaffr1ieLE/TzULQEHAzj87vQA+b5EjPd5ttj7a6XM/UJsxP9OCG0DoXdU/DsLKPikQCECL6Wc+6lPEP6hU/z8XvLe+6Gy3PyAPqj/A3YQ/O+PgP4zJCD9zsf8/3STbvlhEAEAGA2s+5eMJPzHV8j8TQ/o+qbO5Px4id7xDyaG/H6bzvxiq4b/aSvu/N8uQvxw7kL9WG/2/Yy7Sv4pnpL/3geW/KXLGv4aQD7+E6aa+x674vzK2CcBkXpC//S97vxE5rb8YhJy+N4Povw==\",\"dtype\":\"float32\",\"shape\":[58]}},\"selected\":{\"id\":\"1179\",\"type\":\"Selection\"},\"selection_policy\":{\"id\":\"1180\",\"type\":\"UnionRenderers\"}},\"id\":\"1114\",\"type\":\"ColumnDataSource\"},{\"attributes\":{\"callback\":null},\"id\":\"1120\",\"type\":\"DataRange1d\"},{\"attributes\":{},\"id\":\"1137\",\"type\":\"WheelZoomTool\"},{\"attributes\":{\"ticker\":{\"id\":\"1127\",\"type\":\"BasicTicker\"}},\"id\":\"1130\",\"type\":\"Grid\"},{\"attributes\":{\"fill_color\":{\"field\":\"colors\"},\"line_alpha\":{\"value\":0},\"line_color\":{\"value\":\"#1f77b4\"},\"line_width\":{\"value\":0.01},\"size\":{\"units\":\"screen\",\"value\":7},\"x\":{\"field\":\"x\"},\"y\":{\"field\":\"y\"}},\"id\":\"1150\",\"type\":\"Circle\"},{\"attributes\":{\"level\":\"glyph\",\"source\":{\"id\":\"1114\",\"type\":\"ColumnDataSource\"},\"text\":{\"field\":\"labels\"},\"text_font\":\"CuneiformComposite\",\"text_font_size\":{\"value\":\"20pt\"},\"x\":{\"field\":\"x\"},\"x_offset\":{\"value\":5},\"y\":{\"field\":\"y\"},\"y_offset\":{\"value\":5}},\"id\":\"1115\",\"type\":\"LabelSet\"},{\"attributes\":{},\"id\":\"1122\",\"type\":\"LinearScale\"},{\"attributes\":{},\"id\":\"1158\",\"type\":\"BasicTickFormatter\"},{\"attributes\":{},\"id\":\"1140\",\"type\":\"ResetTool\"},{\"attributes\":{},\"id\":\"1179\",\"type\":\"Selection\"},{\"attributes\":{},\"id\":\"1132\",\"type\":\"BasicTicker\"},{\"attributes\":{\"active_drag\":\"auto\",\"active_inspect\":\"auto\",\"active_multi\":null,\"active_scroll\":\"auto\",\"active_tap\":\"auto\",\"tools\":[{\"id\":\"1136\",\"type\":\"PanTool\"},{\"id\":\"1137\",\"type\":\"WheelZoomTool\"},{\"id\":\"1138\",\"type\":\"BoxZoomTool\"},{\"id\":\"1139\",\"type\":\"SaveTool\"},{\"id\":\"1140\",\"type\":\"ResetTool\"},{\"id\":\"1141\",\"type\":\"HelpTool\"}]},\"id\":\"1142\",\"type\":\"Toolbar\"},{\"attributes\":{},\"id\":\"1141\",\"type\":\"HelpTool\"},{\"attributes\":{},\"id\":\"1136\",\"type\":\"PanTool\"},{\"attributes\":{\"background_fill_alpha\":{\"value\":0.5},\"background_fill_color\":{\"value\":\"beige\"},\"border_line_alpha\":{\"value\":1},\"border_line_color\":{\"value\":\"black\"},\"border_line_width\":{\"value\":3},\"items\":[{\"id\":\"1162\",\"type\":\"LegendItem\"}]},\"id\":\"1161\",\"type\":\"Legend\"},{\"attributes\":{},\"id\":\"1139\",\"type\":\"SaveTool\"},{\"attributes\":{\"overlay\":{\"id\":\"1160\",\"type\":\"BoxAnnotation\"}},\"id\":\"1138\",\"type\":\"BoxZoomTool\"},{\"attributes\":{},\"id\":\"1180\",\"type\":\"UnionRenderers\"},{\"attributes\":{\"callback\":null},\"id\":\"1118\",\"type\":\"DataRange1d\"},{\"attributes\":{\"text\":\"\"},\"id\":\"1154\",\"type\":\"Title\"},{\"attributes\":{},\"id\":\"1156\",\"type\":\"BasicTickFormatter\"},{\"attributes\":{\"data_source\":{\"id\":\"1114\",\"type\":\"ColumnDataSource\"},\"glyph\":{\"id\":\"1150\",\"type\":\"Circle\"},\"hover_glyph\":null,\"muted_glyph\":null,\"nonselection_glyph\":{\"id\":\"1151\",\"type\":\"Circle\"},\"selection_glyph\":null,\"view\":{\"id\":\"1153\",\"type\":\"CDSView\"}},\"id\":\"1152\",\"type\":\"GlyphRenderer\"},{\"attributes\":{\"bottom_units\":\"screen\",\"fill_alpha\":{\"value\":0.5},\"fill_color\":{\"value\":\"lightgrey\"},\"left_units\":\"screen\",\"level\":\"overlay\",\"line_alpha\":{\"value\":1.0},\"line_color\":{\"value\":\"black\"},\"line_dash\":[4,4],\"line_width\":{\"value\":2},\"render_mode\":\"css\",\"right_units\":\"screen\",\"top_units\":\"screen\"},\"id\":\"1160\",\"type\":\"BoxAnnotation\"},{\"attributes\":{\"fill_alpha\":{\"value\":0.1},\"fill_color\":{\"value\":\"#1f77b4\"},\"line_alpha\":{\"value\":0.1},\"line_color\":{\"value\":\"#1f77b4\"},\"line_width\":{\"value\":0.01},\"size\":{\"units\":\"screen\",\"value\":7},\"x\":{\"field\":\"x\"},\"y\":{\"field\":\"y\"}},\"id\":\"1151\",\"type\":\"Circle\"},{\"attributes\":{\"formatter\":{\"id\":\"1158\",\"type\":\"BasicTickFormatter\"},\"ticker\":{\"id\":\"1127\",\"type\":\"BasicTicker\"}},\"id\":\"1126\",\"type\":\"LinearAxis\"},{\"attributes\":{\"source\":{\"id\":\"1114\",\"type\":\"ColumnDataSource\"}},\"id\":\"1153\",\"type\":\"CDSView\"},{\"attributes\":{},\"id\":\"1124\",\"type\":\"LinearScale\"}],\"root_ids\":[\"1117\"]},\"title\":\"Bokeh Application\",\"version\":\"1.4.0\"}};\n",
       "  var render_items = [{\"docid\":\"9901c30c-a37d-445c-9208-08f7978779f1\",\"roots\":{\"1117\":\"6e634aad-a347-4b0a-8b62-8ef8bb1f5867\"}}];\n",
       "  root.Bokeh.embed.embed_items_notebook(docs_json, render_items);\n",
       "\n",
       "  }\n",
       "  if (root.Bokeh !== undefined) {\n",
       "    embed_document(root);\n",
       "  } else {\n",
       "    var attempts = 0;\n",
       "    var timer = setInterval(function(root) {\n",
       "      if (root.Bokeh !== undefined) {\n",
       "        clearInterval(timer);\n",
       "        embed_document(root);\n",
       "      } else {\n",
       "        attempts++;\n",
       "        if (attempts > 100) {\n",
       "          clearInterval(timer);\n",
       "          console.log(\"Bokeh: ERROR: Unable to run BokehJS code because BokehJS library is missing\");\n",
       "        }\n",
       "      }\n",
       "    }, 10, root)\n",
       "  }\n",
       "})(window);"
      ],
      "application/vnd.bokehjs_exec.v0+json": ""
     },
     "metadata": {
      "application/vnd.bokehjs_exec.v0+json": {
       "id": "1117"
      }
     },
     "output_type": "display_data"
    }
   ],
   "source": [
    "central_bureau = [cun(\"na-sa₆\"), cun(\"ab-ba-sa₆-ga\"), cun(\"in-ta-e₃-a\")]\n",
    "c_b = word_categories(model_c, central_bureau, 20)\n",
    "p1 = tsne_bokeh(model_c, c_b, central_bureau, \"20pt\")\n",
    "#save(p1)\n",
    "#show(p1)"
   ]
  },
  {
   "cell_type": "code",
   "execution_count": 10,
   "metadata": {},
   "outputs": [
    {
     "data": {
      "text/html": [
       "\n",
       "\n",
       "\n",
       "\n",
       "\n",
       "\n",
       "  <div class=\"bk-root\" id=\"9f2c44c3-57e3-47cd-9378-ac68eab26c89\" data-root-id=\"1486\"></div>\n"
      ]
     },
     "metadata": {},
     "output_type": "display_data"
    },
    {
     "data": {
      "application/javascript": [
       "(function(root) {\n",
       "  function embed_document(root) {\n",
       "    \n",
       "  var docs_json = {\"dc31c020-75e4-4dac-adb7-a4af492dd798\":{\"roots\":{\"references\":[{\"attributes\":{\"below\":[{\"id\":\"1495\",\"type\":\"LinearAxis\"}],\"center\":[{\"id\":\"1499\",\"type\":\"Grid\"},{\"id\":\"1504\",\"type\":\"Grid\"},{\"id\":\"1530\",\"type\":\"Legend\"},{\"id\":\"1484\",\"type\":\"LabelSet\"}],\"left\":[{\"id\":\"1500\",\"type\":\"LinearAxis\"}],\"plot_height\":900,\"plot_width\":900,\"renderers\":[{\"id\":\"1521\",\"type\":\"GlyphRenderer\"}],\"title\":{\"id\":\"1523\",\"type\":\"Title\"},\"toolbar\":{\"id\":\"1511\",\"type\":\"Toolbar\"},\"x_range\":{\"id\":\"1487\",\"type\":\"DataRange1d\"},\"x_scale\":{\"id\":\"1491\",\"type\":\"LinearScale\"},\"y_range\":{\"id\":\"1489\",\"type\":\"DataRange1d\"},\"y_scale\":{\"id\":\"1493\",\"type\":\"LinearScale\"}},\"id\":\"1486\",\"subtype\":\"Figure\",\"type\":\"Plot\"},{\"attributes\":{},\"id\":\"1509\",\"type\":\"ResetTool\"},{\"attributes\":{\"formatter\":{\"id\":\"1527\",\"type\":\"BasicTickFormatter\"},\"ticker\":{\"id\":\"1496\",\"type\":\"BasicTicker\"}},\"id\":\"1495\",\"type\":\"LinearAxis\"},{\"attributes\":{\"callback\":null},\"id\":\"1487\",\"type\":\"DataRange1d\"},{\"attributes\":{},\"id\":\"1496\",\"type\":\"BasicTicker\"},{\"attributes\":{},\"id\":\"1567\",\"type\":\"UnionRenderers\"},{\"attributes\":{\"ticker\":{\"id\":\"1496\",\"type\":\"BasicTicker\"}},\"id\":\"1499\",\"type\":\"Grid\"},{\"attributes\":{},\"id\":\"1510\",\"type\":\"HelpTool\"},{\"attributes\":{\"formatter\":{\"id\":\"1525\",\"type\":\"BasicTickFormatter\"},\"ticker\":{\"id\":\"1501\",\"type\":\"BasicTicker\"}},\"id\":\"1500\",\"type\":\"LinearAxis\"},{\"attributes\":{\"data_source\":{\"id\":\"1483\",\"type\":\"ColumnDataSource\"},\"glyph\":{\"id\":\"1519\",\"type\":\"Circle\"},\"hover_glyph\":null,\"muted_glyph\":null,\"nonselection_glyph\":{\"id\":\"1520\",\"type\":\"Circle\"},\"selection_glyph\":null,\"view\":{\"id\":\"1522\",\"type\":\"CDSView\"}},\"id\":\"1521\",\"type\":\"GlyphRenderer\"},{\"attributes\":{},\"id\":\"1501\",\"type\":\"BasicTicker\"},{\"attributes\":{},\"id\":\"1525\",\"type\":\"BasicTickFormatter\"},{\"attributes\":{\"active_drag\":\"auto\",\"active_inspect\":\"auto\",\"active_multi\":null,\"active_scroll\":\"auto\",\"active_tap\":\"auto\",\"tools\":[{\"id\":\"1505\",\"type\":\"PanTool\"},{\"id\":\"1506\",\"type\":\"WheelZoomTool\"},{\"id\":\"1507\",\"type\":\"BoxZoomTool\"},{\"id\":\"1508\",\"type\":\"SaveTool\"},{\"id\":\"1509\",\"type\":\"ResetTool\"},{\"id\":\"1510\",\"type\":\"HelpTool\"}]},\"id\":\"1511\",\"type\":\"Toolbar\"},{\"attributes\":{\"level\":\"glyph\",\"source\":{\"id\":\"1483\",\"type\":\"ColumnDataSource\"},\"text\":{\"field\":\"labels\"},\"text_font\":\"CuneiformComposite\",\"text_font_size\":{\"value\":\"12pt\"},\"x\":{\"field\":\"x\"},\"x_offset\":{\"value\":5},\"y\":{\"field\":\"y\"},\"y_offset\":{\"value\":5}},\"id\":\"1484\",\"type\":\"LabelSet\"},{\"attributes\":{},\"id\":\"1566\",\"type\":\"Selection\"},{\"attributes\":{\"background_fill_alpha\":{\"value\":0.5},\"background_fill_color\":{\"value\":\"beige\"},\"border_line_alpha\":{\"value\":1},\"border_line_color\":{\"value\":\"black\"},\"border_line_width\":{\"value\":3},\"items\":[{\"id\":\"1531\",\"type\":\"LegendItem\"}]},\"id\":\"1530\",\"type\":\"Legend\"},{\"attributes\":{\"fill_alpha\":{\"value\":0.1},\"fill_color\":{\"value\":\"#1f77b4\"},\"line_alpha\":{\"value\":0.1},\"line_color\":{\"value\":\"#1f77b4\"},\"line_width\":{\"value\":0.01},\"size\":{\"units\":\"screen\",\"value\":7},\"x\":{\"field\":\"x\"},\"y\":{\"field\":\"y\"}},\"id\":\"1520\",\"type\":\"Circle\"},{\"attributes\":{\"dimension\":1,\"ticker\":{\"id\":\"1501\",\"type\":\"BasicTicker\"}},\"id\":\"1504\",\"type\":\"Grid\"},{\"attributes\":{\"text\":\"\"},\"id\":\"1523\",\"type\":\"Title\"},{\"attributes\":{\"bottom_units\":\"screen\",\"fill_alpha\":{\"value\":0.5},\"fill_color\":{\"value\":\"lightgrey\"},\"left_units\":\"screen\",\"level\":\"overlay\",\"line_alpha\":{\"value\":1.0},\"line_color\":{\"value\":\"black\"},\"line_dash\":[4,4],\"line_width\":{\"value\":2},\"render_mode\":\"css\",\"right_units\":\"screen\",\"top_units\":\"screen\"},\"id\":\"1529\",\"type\":\"BoxAnnotation\"},{\"attributes\":{\"fill_color\":{\"field\":\"colors\"},\"line_alpha\":{\"value\":0},\"line_color\":{\"value\":\"#1f77b4\"},\"line_width\":{\"value\":0.01},\"size\":{\"units\":\"screen\",\"value\":7},\"x\":{\"field\":\"x\"},\"y\":{\"field\":\"y\"}},\"id\":\"1519\",\"type\":\"Circle\"},{\"attributes\":{\"callback\":null},\"id\":\"1489\",\"type\":\"DataRange1d\"},{\"attributes\":{\"source\":{\"id\":\"1483\",\"type\":\"ColumnDataSource\"}},\"id\":\"1522\",\"type\":\"CDSView\"},{\"attributes\":{\"label\":{\"value\":\"legend\"},\"renderers\":[{\"id\":\"1521\",\"type\":\"GlyphRenderer\"}]},\"id\":\"1531\",\"type\":\"LegendItem\"},{\"attributes\":{},\"id\":\"1505\",\"type\":\"PanTool\"},{\"attributes\":{},\"id\":\"1527\",\"type\":\"BasicTickFormatter\"},{\"attributes\":{},\"id\":\"1506\",\"type\":\"WheelZoomTool\"},{\"attributes\":{\"callback\":null,\"data\":{\"colors\":[\"black\",\"black\",\"black\",\"black\",\"black\",\"black\",\"black\",\"black\",\"black\",\"black\",\"black\",\"black\",\"black\",\"black\",\"black\",\"black\",\"green\",\"black\",\"black\",\"black\",\"black\",\"black\",\"black\",\"black\",\"black\",\"black\",\"black\",\"black\",\"black\",\"black\",\"black\",\"black\",\"black\",\"green\",\"black\",\"black\",\"red\",\"red\",\"red\",\"red\",\"red\",\"red\",\"red\",\"red\",\"red\",\"red\",\"red\",\"red\",\"red\",\"red\",\"red\",\"red\",\"red\",\"red\",\"red\",\"red\",\"red\",\"red\",\"red\",\"red\",\"red\",\"red\",\"red\",\"red\",\"red\",\"red\",\"red\",\"red\",\"red\",\"red\"],\"labels\":[\"gudkuru[resin]N\",\"\\u0161eli[aromatics]N\",\"\\u0161imgamgama[aromatics]N\",\"\\u0161im[aromatics]N\",\"buluh[tree]N\",\"ligidba[plant]N\",\"kukuru[resin]N\",\"arganum[conifer]N\",\"enmur[resin]N\",\"eren[cedar]N\",\"gi-NI[resin]N\",\"zabalum[juniper]N\",\"\\u0161urmen[cypress]N\",\"\\u0161imim[resin]N\",\"pa-li\",\"\\u0161im-su-DI-ir-nun[resin]N\",\"gamun[cumin]N\",\"ihenunak[oil]N\",\"dam\\u0161elum[plant]N\",\"ligtum[selection]N\",\"li[juniper]N\",\"\\u0161embulug[resin]N\",\"ha\\u0161ur[tree]N\",\"na\\u014basi\\u02bee[plant]N\",\"zahhu[tree]N\",\"ku\\u2083-bi\",\"ad[bush]N\",\"girinum[plant]N\",\"lal[syrup]N\",\"i\\u02beirnun[oil]N\",\"GAM.GAM[~aromatics]N\",\"e\\u0161[tree]N\",\"marguzum[bush]N\",\"\\u0161elu[coriander]N\",\"imkugsig[earth]N\",\"\\u0161imgig[tree]N\",\"hizurbara[vegetable]N\",\"babbarhi[plant]N\",\"HI.a[vegetable]N\",\"hazanum[plant]N\",\"kurgirina[plant]N\",\"ni\\u014bnagar[plant]N\",\"gan\\u0161e[plant]N\",\"\\u0161umsikil[vegetable]N\",\"azugna[vegetable]N\",\"ulu[plant]N\",\"numun[seed]N\",\"sikil[plant]N\",\"gakkul[heart]N\",\"\\u0161umgaz[vegetable]N\",\"u[plant]N\",\"gara\\u0161sa\\u014b[leek]N\",\"ganazi[plant]N\",\"hurium[plant]N\",\"zahadin[vegetable]N\",\"abu\\u0161u[plant]N\",\"i\\u0161kur[plant]N\",\"zahili[plant]N\",\"sullim\\u0161uguba[spice]N\",\"\\u0161imbirida[plant]N\",\"gara\\u0161[leek]N\",\"u\\u014be\\u0161[plant]N\",\"sullim[spice]N\",\"andah\\u0161um[plant]N\",\"eme\\u02beurgirak[plant]N\",\"gurun[fruit]N\",\"dimgi[plant]N\",\"\\u014be\\u0161tin[vine]N\",\"gamamtum[vegetable]N\",\"hiz[vegetable]N\"],\"legend\":[\"\\u0161imgig[tree]N\",\"\\u0161imgig[tree]N\",\"\\u0161imgig[tree]N\",\"\\u0161imgig[tree]N\",\"\\u0161imgig[tree]N\",\"\\u0161imgig[tree]N\",\"\\u0161imgig[tree]N\",\"\\u0161imgig[tree]N\",\"\\u0161imgig[tree]N\",\"\\u0161imgig[tree]N\",\"\\u0161imgig[tree]N\",\"\\u0161imgig[tree]N\",\"\\u0161imgig[tree]N\",\"\\u0161imgig[tree]N\",\"\\u0161imgig[tree]N\",\"\\u0161imgig[tree]N\",\"mixed\",\"\\u0161imgig[tree]N\",\"\\u0161imgig[tree]N\",\"\\u0161imgig[tree]N\",\"\\u0161imgig[tree]N\",\"\\u0161imgig[tree]N\",\"\\u0161imgig[tree]N\",\"\\u0161imgig[tree]N\",\"\\u0161imgig[tree]N\",\"\\u0161imgig[tree]N\",\"\\u0161imgig[tree]N\",\"\\u0161imgig[tree]N\",\"\\u0161imgig[tree]N\",\"\\u0161imgig[tree]N\",\"\\u0161imgig[tree]N\",\"\\u0161imgig[tree]N\",\"\\u0161imgig[tree]N\",\"mixed\",\"\\u0161imgig[tree]N\",\"\\u0161imgig[tree]N\",\"hiz[vegetable]N\",\"hiz[vegetable]N\",\"hiz[vegetable]N\",\"hiz[vegetable]N\",\"hiz[vegetable]N\",\"hiz[vegetable]N\",\"hiz[vegetable]N\",\"hiz[vegetable]N\",\"hiz[vegetable]N\",\"hiz[vegetable]N\",\"hiz[vegetable]N\",\"hiz[vegetable]N\",\"hiz[vegetable]N\",\"hiz[vegetable]N\",\"hiz[vegetable]N\",\"hiz[vegetable]N\",\"hiz[vegetable]N\",\"hiz[vegetable]N\",\"hiz[vegetable]N\",\"hiz[vegetable]N\",\"hiz[vegetable]N\",\"hiz[vegetable]N\",\"hiz[vegetable]N\",\"hiz[vegetable]N\",\"hiz[vegetable]N\",\"hiz[vegetable]N\",\"hiz[vegetable]N\",\"hiz[vegetable]N\",\"hiz[vegetable]N\",\"hiz[vegetable]N\",\"hiz[vegetable]N\",\"hiz[vegetable]N\",\"hiz[vegetable]N\",\"hiz[vegetable]N\"],\"x\":{\"__ndarray__\":\"bqQvvuAk6L5rOr69jTlov/9DvL9BmKS+5fMmv6O1fb+g8li8PWHEv02JIb22JKy/5kqvv3QE/T00ghs/RTUaPgZMsb7L2QO/EA+0v46ae7zHmv+/wLt0vmVG77+rZ8K9RPwKwEYA7j65X9a//K46wHplib+TA2W/4FoDwH41FsCszA7Akp/+vtxuET6JLRy/PO2+v7xjU79NFru/tKYbv5jkDL9HG6K/6RTFv16VfL9Bfu6/LjjQvgsTpr9c6jG+/jb+v6iiNL+DKE6+LIcKwApUW75bQ7O+6DiFv8K6wb6GJZ6+QFofvoSo8j59pfW99ov7v9mATb9bg/I+1p02vwZydD5FNwTAgA9sPfIQt7/sdlA+ZXHNvw==\",\"dtype\":\"float32\",\"shape\":[70]},\"y\":{\"__ndarray__\":\"JvURQU+LDkFr9xBBZrkHQS+BFEEfEhdB+PUeQfvLF0GbDxxBAwQFQV1dJEHDVhJBrDAQQc4CJUFnLQJBQCIkQVDjzEARivpAPfMeQTXj9UD5WgNBxU0mQWLKAUHe+uxAH6EDQY/GAkHlYQ1BN0ECQWtX60CYn/NAVsYdQd8T6kC9SQpBgnPHQHBm8kCSDRFBbtWWQJ7Ji0DZtpdAs+qbQPvbj0D834ZAdnKFQDTvuEBkSohAnxmDQCNnv0AXKo5Ai9bAQC97vkCw7IZAAByhQA6KbECodbFAuB+7QLJ2fkDQJ6RA8CW3QHbIp0AEFMFARDOtQDH5SkA5f7tAaIenQFv/h0DZ6tZAdx2EQGBZ4kCupLpAfwmaQA==\",\"dtype\":\"float32\",\"shape\":[70]}},\"selected\":{\"id\":\"1566\",\"type\":\"Selection\"},\"selection_policy\":{\"id\":\"1567\",\"type\":\"UnionRenderers\"}},\"id\":\"1483\",\"type\":\"ColumnDataSource\"},{\"attributes\":{\"overlay\":{\"id\":\"1529\",\"type\":\"BoxAnnotation\"}},\"id\":\"1507\",\"type\":\"BoxZoomTool\"},{\"attributes\":{},\"id\":\"1508\",\"type\":\"SaveTool\"},{\"attributes\":{},\"id\":\"1493\",\"type\":\"LinearScale\"},{\"attributes\":{},\"id\":\"1491\",\"type\":\"LinearScale\"}],\"root_ids\":[\"1486\"]},\"title\":\"Bokeh Application\",\"version\":\"1.4.0\"}};\n",
       "  var render_items = [{\"docid\":\"dc31c020-75e4-4dac-adb7-a4af492dd798\",\"roots\":{\"1486\":\"9f2c44c3-57e3-47cd-9378-ac68eab26c89\"}}];\n",
       "  root.Bokeh.embed.embed_items_notebook(docs_json, render_items);\n",
       "\n",
       "  }\n",
       "  if (root.Bokeh !== undefined) {\n",
       "    embed_document(root);\n",
       "  } else {\n",
       "    var attempts = 0;\n",
       "    var timer = setInterval(function(root) {\n",
       "      if (root.Bokeh !== undefined) {\n",
       "        clearInterval(timer);\n",
       "        embed_document(root);\n",
       "      } else {\n",
       "        attempts++;\n",
       "        if (attempts > 100) {\n",
       "          clearInterval(timer);\n",
       "          console.log(\"Bokeh: ERROR: Unable to run BokehJS code because BokehJS library is missing\");\n",
       "        }\n",
       "      }\n",
       "    }, 10, root)\n",
       "  }\n",
       "})(window);"
      ],
      "application/vnd.bokehjs_exec.v0+json": ""
     },
     "metadata": {
      "application/vnd.bokehjs_exec.v0+json": {
       "id": "1486"
      }
     },
     "output_type": "display_data"
    },
    {
     "ename": "FileNotFoundError",
     "evalue": "[Errno 2] No such file or directory: 'graphs/vegetables_perfumes_l.html'",
     "output_type": "error",
     "traceback": [
      "\u001b[1;31m---------------------------------------------------------------------------\u001b[0m",
      "\u001b[1;31mFileNotFoundError\u001b[0m                         Traceback (most recent call last)",
      "\u001b[1;32m<ipython-input-10-5b8346296708>\u001b[0m in \u001b[0;36m<module>\u001b[1;34m\u001b[0m\n\u001b[0;32m      2\u001b[0m \u001b[0mvegetables_perfumes\u001b[0m \u001b[1;33m=\u001b[0m \u001b[1;33m[\u001b[0m\u001b[1;34m\"šimgig[tree]N\"\u001b[0m\u001b[1;33m,\u001b[0m \u001b[1;34m\"hiz[vegetable]N\"\u001b[0m\u001b[1;33m]\u001b[0m\u001b[1;33m\u001b[0m\u001b[1;33m\u001b[0m\u001b[0m\n\u001b[0;32m      3\u001b[0m \u001b[0mwords_d\u001b[0m \u001b[1;33m=\u001b[0m \u001b[0mword_categories\u001b[0m\u001b[1;33m(\u001b[0m\u001b[0mmodel_l\u001b[0m\u001b[1;33m,\u001b[0m \u001b[0mvegetables_perfumes\u001b[0m\u001b[1;33m,\u001b[0m \u001b[1;36m35\u001b[0m\u001b[1;33m)\u001b[0m\u001b[1;33m\u001b[0m\u001b[1;33m\u001b[0m\u001b[0m\n\u001b[1;32m----> 4\u001b[1;33m \u001b[0mp2\u001b[0m \u001b[1;33m=\u001b[0m \u001b[0mtsne_bokeh\u001b[0m\u001b[1;33m(\u001b[0m\u001b[0mmodel_l\u001b[0m\u001b[1;33m,\u001b[0m \u001b[0mwords_d\u001b[0m\u001b[1;33m,\u001b[0m \u001b[0mvegetables_perfumes\u001b[0m\u001b[1;33m,\u001b[0m \u001b[1;34m\"12pt\"\u001b[0m\u001b[1;33m)\u001b[0m\u001b[1;33m\u001b[0m\u001b[1;33m\u001b[0m\u001b[0m\n\u001b[0m\u001b[0;32m      5\u001b[0m \u001b[0msave\u001b[0m\u001b[1;33m(\u001b[0m\u001b[0mp2\u001b[0m\u001b[1;33m)\u001b[0m\u001b[1;33m\u001b[0m\u001b[1;33m\u001b[0m\u001b[0m\n\u001b[0;32m      6\u001b[0m \u001b[0mshow\u001b[0m\u001b[1;33m(\u001b[0m\u001b[0mp2\u001b[0m\u001b[1;33m)\u001b[0m\u001b[1;33m\u001b[0m\u001b[1;33m\u001b[0m\u001b[0m\n",
      "\u001b[1;32m<ipython-input-6-f1d0676e5e67>\u001b[0m in \u001b[0;36mtsne_bokeh\u001b[1;34m(model, word_d, words, fontsize)\u001b[0m\n\u001b[0;32m     51\u001b[0m     \u001b[0mplot_tsne\u001b[0m\u001b[1;33m.\u001b[0m\u001b[0mlegend\u001b[0m\u001b[1;33m.\u001b[0m\u001b[0mbackground_fill_color\u001b[0m \u001b[1;33m=\u001b[0m \u001b[1;34m\"beige\"\u001b[0m\u001b[1;33m\u001b[0m\u001b[1;33m\u001b[0m\u001b[0m\n\u001b[0;32m     52\u001b[0m     \u001b[0mplot_tsne\u001b[0m\u001b[1;33m.\u001b[0m\u001b[0mlegend\u001b[0m\u001b[1;33m.\u001b[0m\u001b[0mbackground_fill_alpha\u001b[0m \u001b[1;33m=\u001b[0m \u001b[1;36m0.5\u001b[0m\u001b[1;33m\u001b[0m\u001b[1;33m\u001b[0m\u001b[0m\n\u001b[1;32m---> 53\u001b[1;33m     \u001b[0mshow\u001b[0m\u001b[1;33m(\u001b[0m\u001b[0mplot_tsne\u001b[0m\u001b[1;33m)\u001b[0m\u001b[1;33m\u001b[0m\u001b[1;33m\u001b[0m\u001b[0m\n\u001b[0m\u001b[0;32m     54\u001b[0m     \u001b[1;32mreturn\u001b[0m \u001b[0mplot_tsne\u001b[0m\u001b[1;33m\u001b[0m\u001b[1;33m\u001b[0m\u001b[0m\n",
      "\u001b[1;32m~\\Anaconda3\\lib\\site-packages\\bokeh\\io\\showing.py\u001b[0m in \u001b[0;36mshow\u001b[1;34m(obj, browser, new, notebook_handle, notebook_url, **kw)\u001b[0m\n\u001b[0;32m    143\u001b[0m         \u001b[1;32mreturn\u001b[0m \u001b[0mrun_notebook_hook\u001b[0m\u001b[1;33m(\u001b[0m\u001b[0mstate\u001b[0m\u001b[1;33m.\u001b[0m\u001b[0mnotebook_type\u001b[0m\u001b[1;33m,\u001b[0m \u001b[1;34m'app'\u001b[0m\u001b[1;33m,\u001b[0m \u001b[0mobj\u001b[0m\u001b[1;33m,\u001b[0m \u001b[0mstate\u001b[0m\u001b[1;33m,\u001b[0m \u001b[0mnotebook_url\u001b[0m\u001b[1;33m,\u001b[0m \u001b[1;33m**\u001b[0m\u001b[0mkw\u001b[0m\u001b[1;33m)\u001b[0m\u001b[1;33m\u001b[0m\u001b[1;33m\u001b[0m\u001b[0m\n\u001b[0;32m    144\u001b[0m \u001b[1;33m\u001b[0m\u001b[0m\n\u001b[1;32m--> 145\u001b[1;33m     \u001b[1;32mreturn\u001b[0m \u001b[0m_show_with_state\u001b[0m\u001b[1;33m(\u001b[0m\u001b[0mobj\u001b[0m\u001b[1;33m,\u001b[0m \u001b[0mstate\u001b[0m\u001b[1;33m,\u001b[0m \u001b[0mbrowser\u001b[0m\u001b[1;33m,\u001b[0m \u001b[0mnew\u001b[0m\u001b[1;33m,\u001b[0m \u001b[0mnotebook_handle\u001b[0m\u001b[1;33m=\u001b[0m\u001b[0mnotebook_handle\u001b[0m\u001b[1;33m)\u001b[0m\u001b[1;33m\u001b[0m\u001b[1;33m\u001b[0m\u001b[0m\n\u001b[0m\u001b[0;32m    146\u001b[0m \u001b[1;33m\u001b[0m\u001b[0m\n\u001b[0;32m    147\u001b[0m \u001b[1;31m#-----------------------------------------------------------------------------\u001b[0m\u001b[1;33m\u001b[0m\u001b[1;33m\u001b[0m\u001b[1;33m\u001b[0m\u001b[0m\n",
      "\u001b[1;32m~\\Anaconda3\\lib\\site-packages\\bokeh\\io\\showing.py\u001b[0m in \u001b[0;36m_show_with_state\u001b[1;34m(obj, state, browser, new, notebook_handle)\u001b[0m\n\u001b[0;32m    181\u001b[0m \u001b[1;33m\u001b[0m\u001b[0m\n\u001b[0;32m    182\u001b[0m     \u001b[1;32mif\u001b[0m \u001b[0mstate\u001b[0m\u001b[1;33m.\u001b[0m\u001b[0mfile\u001b[0m \u001b[1;32mor\u001b[0m \u001b[1;32mnot\u001b[0m \u001b[0mshown\u001b[0m\u001b[1;33m:\u001b[0m\u001b[1;33m\u001b[0m\u001b[1;33m\u001b[0m\u001b[0m\n\u001b[1;32m--> 183\u001b[1;33m         \u001b[0m_show_file_with_state\u001b[0m\u001b[1;33m(\u001b[0m\u001b[0mobj\u001b[0m\u001b[1;33m,\u001b[0m \u001b[0mstate\u001b[0m\u001b[1;33m,\u001b[0m \u001b[0mnew\u001b[0m\u001b[1;33m,\u001b[0m \u001b[0mcontroller\u001b[0m\u001b[1;33m)\u001b[0m\u001b[1;33m\u001b[0m\u001b[1;33m\u001b[0m\u001b[0m\n\u001b[0m\u001b[0;32m    184\u001b[0m \u001b[1;33m\u001b[0m\u001b[0m\n\u001b[0;32m    185\u001b[0m     \u001b[1;32mreturn\u001b[0m \u001b[0mcomms_handle\u001b[0m\u001b[1;33m\u001b[0m\u001b[1;33m\u001b[0m\u001b[0m\n",
      "\u001b[1;32m~\\Anaconda3\\lib\\site-packages\\bokeh\\io\\showing.py\u001b[0m in \u001b[0;36m_show_file_with_state\u001b[1;34m(obj, state, new, controller)\u001b[0m\n\u001b[0;32m    164\u001b[0m \u001b[1;33m\u001b[0m\u001b[0m\n\u001b[0;32m    165\u001b[0m     '''\n\u001b[1;32m--> 166\u001b[1;33m     \u001b[0mfilename\u001b[0m \u001b[1;33m=\u001b[0m \u001b[0msave\u001b[0m\u001b[1;33m(\u001b[0m\u001b[0mobj\u001b[0m\u001b[1;33m,\u001b[0m \u001b[0mstate\u001b[0m\u001b[1;33m=\u001b[0m\u001b[0mstate\u001b[0m\u001b[1;33m)\u001b[0m\u001b[1;33m\u001b[0m\u001b[1;33m\u001b[0m\u001b[0m\n\u001b[0m\u001b[0;32m    167\u001b[0m     \u001b[0mcontroller\u001b[0m\u001b[1;33m.\u001b[0m\u001b[0mopen\u001b[0m\u001b[1;33m(\u001b[0m\u001b[1;34m\"file://\"\u001b[0m \u001b[1;33m+\u001b[0m \u001b[0mfilename\u001b[0m\u001b[1;33m,\u001b[0m \u001b[0mnew\u001b[0m\u001b[1;33m=\u001b[0m\u001b[0mNEW_PARAM\u001b[0m\u001b[1;33m[\u001b[0m\u001b[0mnew\u001b[0m\u001b[1;33m]\u001b[0m\u001b[1;33m)\u001b[0m\u001b[1;33m\u001b[0m\u001b[1;33m\u001b[0m\u001b[0m\n\u001b[0;32m    168\u001b[0m \u001b[1;33m\u001b[0m\u001b[0m\n",
      "\u001b[1;32m~\\Anaconda3\\lib\\site-packages\\bokeh\\io\\saving.py\u001b[0m in \u001b[0;36msave\u001b[1;34m(obj, filename, resources, title, template, state, **kwargs)\u001b[0m\n\u001b[0;32m     84\u001b[0m \u001b[1;33m\u001b[0m\u001b[0m\n\u001b[0;32m     85\u001b[0m     \u001b[0mfilename\u001b[0m\u001b[1;33m,\u001b[0m \u001b[0mresources\u001b[0m\u001b[1;33m,\u001b[0m \u001b[0mtitle\u001b[0m \u001b[1;33m=\u001b[0m \u001b[0m_get_save_args\u001b[0m\u001b[1;33m(\u001b[0m\u001b[0mstate\u001b[0m\u001b[1;33m,\u001b[0m \u001b[0mfilename\u001b[0m\u001b[1;33m,\u001b[0m \u001b[0mresources\u001b[0m\u001b[1;33m,\u001b[0m \u001b[0mtitle\u001b[0m\u001b[1;33m)\u001b[0m\u001b[1;33m\u001b[0m\u001b[1;33m\u001b[0m\u001b[0m\n\u001b[1;32m---> 86\u001b[1;33m     \u001b[0m_save_helper\u001b[0m\u001b[1;33m(\u001b[0m\u001b[0mobj\u001b[0m\u001b[1;33m,\u001b[0m \u001b[0mfilename\u001b[0m\u001b[1;33m,\u001b[0m \u001b[0mresources\u001b[0m\u001b[1;33m,\u001b[0m \u001b[0mtitle\u001b[0m\u001b[1;33m,\u001b[0m \u001b[0mtemplate\u001b[0m\u001b[1;33m)\u001b[0m\u001b[1;33m\u001b[0m\u001b[1;33m\u001b[0m\u001b[0m\n\u001b[0m\u001b[0;32m     87\u001b[0m     \u001b[1;32mreturn\u001b[0m \u001b[0mabspath\u001b[0m\u001b[1;33m(\u001b[0m\u001b[0mfilename\u001b[0m\u001b[1;33m)\u001b[0m\u001b[1;33m\u001b[0m\u001b[1;33m\u001b[0m\u001b[0m\n\u001b[0;32m     88\u001b[0m \u001b[1;33m\u001b[0m\u001b[0m\n",
      "\u001b[1;32m~\\Anaconda3\\lib\\site-packages\\bokeh\\io\\saving.py\u001b[0m in \u001b[0;36m_save_helper\u001b[1;34m(obj, filename, resources, title, template)\u001b[0m\n\u001b[0;32m    148\u001b[0m     \u001b[0mhtml\u001b[0m \u001b[1;33m=\u001b[0m \u001b[0mfile_html\u001b[0m\u001b[1;33m(\u001b[0m\u001b[0mobj\u001b[0m\u001b[1;33m,\u001b[0m \u001b[0mresources\u001b[0m\u001b[1;33m,\u001b[0m \u001b[0mtitle\u001b[0m\u001b[1;33m=\u001b[0m\u001b[0mtitle\u001b[0m\u001b[1;33m,\u001b[0m \u001b[0mtemplate\u001b[0m\u001b[1;33m=\u001b[0m\u001b[0mtemplate\u001b[0m\u001b[1;33m)\u001b[0m\u001b[1;33m\u001b[0m\u001b[1;33m\u001b[0m\u001b[0m\n\u001b[0;32m    149\u001b[0m \u001b[1;33m\u001b[0m\u001b[0m\n\u001b[1;32m--> 150\u001b[1;33m     \u001b[1;32mwith\u001b[0m \u001b[0mio\u001b[0m\u001b[1;33m.\u001b[0m\u001b[0mopen\u001b[0m\u001b[1;33m(\u001b[0m\u001b[0mfilename\u001b[0m\u001b[1;33m,\u001b[0m \u001b[0mmode\u001b[0m\u001b[1;33m=\u001b[0m\u001b[1;34m\"w\"\u001b[0m\u001b[1;33m,\u001b[0m \u001b[0mencoding\u001b[0m\u001b[1;33m=\u001b[0m\u001b[1;34m\"utf-8\"\u001b[0m\u001b[1;33m)\u001b[0m \u001b[1;32mas\u001b[0m \u001b[0mf\u001b[0m\u001b[1;33m:\u001b[0m\u001b[1;33m\u001b[0m\u001b[1;33m\u001b[0m\u001b[0m\n\u001b[0m\u001b[0;32m    151\u001b[0m         \u001b[0mf\u001b[0m\u001b[1;33m.\u001b[0m\u001b[0mwrite\u001b[0m\u001b[1;33m(\u001b[0m\u001b[0mdecode_utf8\u001b[0m\u001b[1;33m(\u001b[0m\u001b[0mhtml\u001b[0m\u001b[1;33m)\u001b[0m\u001b[1;33m)\u001b[0m\u001b[1;33m\u001b[0m\u001b[1;33m\u001b[0m\u001b[0m\n\u001b[0;32m    152\u001b[0m \u001b[1;33m\u001b[0m\u001b[0m\n",
      "\u001b[1;31mFileNotFoundError\u001b[0m: [Errno 2] No such file or directory: 'graphs/vegetables_perfumes_l.html'"
     ]
    }
   ],
   "source": [
    "output_file(\"graphs/vegetables_perfumes_l.html\")\n",
    "vegetables_perfumes = [\"šimgig[tree]N\", \"hiz[vegetable]N\"]\n",
    "words_d = word_categories(model_l, vegetables_perfumes, 35)\n",
    "p2 = tsne_bokeh(model_l, words_d, vegetables_perfumes, \"12pt\")\n",
    "save(p2)\n",
    "show(p2)"
   ]
  },
  {
   "cell_type": "code",
   "execution_count": null,
   "metadata": {},
   "outputs": [],
   "source": [
    "model_c.wv.most_similar(cun(\"ab-ba-sa₆-ga\"), topn = 20)"
   ]
  },
  {
   "cell_type": "code",
   "execution_count": null,
   "metadata": {},
   "outputs": [],
   "source": [
    "naramili = cun(\"na-ra-am-i₃-li₂\")"
   ]
  },
  {
   "cell_type": "code",
   "execution_count": null,
   "metadata": {},
   "outputs": [],
   "source": [
    "model_c.wv.most_similar(naramili)"
   ]
  },
  {
   "cell_type": "code",
   "execution_count": null,
   "metadata": {},
   "outputs": [],
   "source": [
    "model_c.wv.most_similar(cun(\"lugal-iti-da\"))"
   ]
  },
  {
   "cell_type": "code",
   "execution_count": null,
   "metadata": {},
   "outputs": [],
   "source": [
    "babati_abbasaga = [cun(\"ba-ba-ti\"), cun(\"ab-ba-sa₆-ga\")]\n",
    "words_d = word_categories(model_c, babati_abbasaga, 10)\n",
    "p2 = tsne_bokeh(model_c, words_d, babati_abbasaga, \"20pt\")\n",
    "show(p2)"
   ]
  },
  {
   "cell_type": "code",
   "execution_count": null,
   "metadata": {},
   "outputs": [],
   "source": [
    "p_d = [\"ab-ba-sa₆-ga\", \"u₂-ta₂-mi-šar-ra-am\", \"a-hu-we-er\", \"tu-ra-am-d-da-gan\"]"
   ]
  },
  {
   "cell_type": "code",
   "execution_count": null,
   "metadata": {},
   "outputs": [],
   "source": [
    "p_d = [\"šu-{d}idim\", \"šu-kab-ta\", \"šu-{d}kab₂-ta₂\", \"šu-{d}kab-ta₂\"]"
   ]
  },
  {
   "cell_type": "code",
   "execution_count": null,
   "metadata": {},
   "outputs": [],
   "source": [
    "for item in p_d: \n",
    "    print(item in model_t.wv.vocab)"
   ]
  },
  {
   "cell_type": "code",
   "execution_count": null,
   "metadata": {},
   "outputs": [],
   "source": [
    "pd = [model_c.wv[p] for p in p_d]"
   ]
  },
  {
   "cell_type": "code",
   "execution_count": null,
   "metadata": {},
   "outputs": [],
   "source": [
    "from scipy.cluster.hierarchy import dendrogram, linkage\n",
    "from matplotlib import pyplot as plt"
   ]
  },
  {
   "cell_type": "code",
   "execution_count": null,
   "metadata": {},
   "outputs": [],
   "source": [
    "Z = linkage(pd, 'ward')"
   ]
  },
  {
   "cell_type": "code",
   "execution_count": null,
   "metadata": {},
   "outputs": [],
   "source": [
    "from scipy.cluster.hierarchy import cophenet\n",
    "from scipy.spatial.distance import pdist"
   ]
  },
  {
   "cell_type": "code",
   "execution_count": null,
   "metadata": {},
   "outputs": [],
   "source": [
    "c, coph_dists = cophenet(Z, pdist(pd))\n",
    "c"
   ]
  },
  {
   "cell_type": "code",
   "execution_count": null,
   "metadata": {},
   "outputs": [],
   "source": [
    "plt.figure(figsize=(25, 10))\n",
    "plt.title('Hierarchical Clustering Dendrogram')\n",
    "plt.xlabel('sample index')\n",
    "plt.ylabel('distance')\n",
    "dendrogram(\n",
    "    Z,\n",
    "    leaf_rotation=90.,  # rotates the x axis labels\n",
    "    leaf_font_size=8.,  # font size for the x axis labels\n",
    ")\n",
    "plt.show()"
   ]
  },
  {
   "cell_type": "code",
   "execution_count": null,
   "metadata": {},
   "outputs": [],
   "source": []
  },
  {
   "cell_type": "code",
   "execution_count": null,
   "metadata": {},
   "outputs": [],
   "source": [
    "def dendro(model, word, topn=10): \n",
    "    words = model.wv.most_similar(word, topn = topn)\n",
    "    words = [w[0] for w in words]\n",
    "    words.append(word)\n",
    "    vectors = [model.wv[p] for p in words]\n",
    "    l = linkage(vectors, method='complete', metric='seuclidean')\n",
    "\n",
    "# calculate full dendrogram\n",
    "    plt.figure(figsize=(25, 10))\n",
    "    plt.title('Hierarchical Clustering Dendrogram')\n",
    "    plt.ylabel('word')\n",
    "    plt.xlabel('distance')\n",
    "\n",
    "    dendrogram(\n",
    "        l,\n",
    "        leaf_rotation=90.,  # rotates the x axis labels\n",
    "        leaf_font_size=16.,  # font size for the x axis labels\n",
    "        leaf_label_func=lambda v: str(words[v])\n",
    "        )\n",
    "    plt.show()"
   ]
  },
  {
   "cell_type": "code",
   "execution_count": null,
   "metadata": {},
   "outputs": [],
   "source": [
    "dendro(model_t, \"ha-bu-um\")"
   ]
  },
  {
   "cell_type": "code",
   "execution_count": null,
   "metadata": {},
   "outputs": [],
   "source": [
    "model_c.wv.most_similar(positive=[\"𒊺\", \"𒆬𒄀\"], negative=[\"𒃻\"])"
   ]
  },
  {
   "cell_type": "code",
   "execution_count": null,
   "metadata": {},
   "outputs": [],
   "source": [
    "nakabtum_a = [cun(\"a-hu-ni\"), cun(\"d-šul-gi-a-a-mu\"), cun(\"šu-ma-ma\"), cun(\"zu-ba-ga\")]"
   ]
  },
  {
   "cell_type": "code",
   "execution_count": null,
   "metadata": {},
   "outputs": [],
   "source": [
    "for name in directors: \n",
    "    print(name in model_c.wv.vocab)"
   ]
  },
  {
   "cell_type": "code",
   "execution_count": null,
   "metadata": {},
   "outputs": [],
   "source": [
    "nakabtum_b = [cun(\"lu₂-dingir-ra\"), cun(\"a-hu-we-er\"), cun(\"igi-d-en-lil₂-še₃\")]"
   ]
  },
  {
   "cell_type": "code",
   "execution_count": null,
   "metadata": {},
   "outputs": [],
   "source": [
    "royal_court = [cun(\"u₂-ta₂-mi-šar-ra-am\"), cun(\"tu-ra-am-d-da-gan\"), cun(\"tah-ša-tal\")]"
   ]
  },
  {
   "cell_type": "code",
   "execution_count": null,
   "metadata": {},
   "outputs": [],
   "source": [
    "tummal = [cun(\"en-dingir-mu\")]"
   ]
  },
  {
   "cell_type": "code",
   "execution_count": null,
   "metadata": {},
   "outputs": [],
   "source": [
    "enlila = [cun(\"d-en-lil₂-la₂\")]"
   ]
  },
  {
   "cell_type": "code",
   "execution_count": null,
   "metadata": {},
   "outputs": [],
   "source": [
    "urkununa = [cun(\"ur-kug-nun-na\")]"
   ]
  },
  {
   "cell_type": "code",
   "execution_count": null,
   "metadata": {},
   "outputs": [],
   "source": [
    "nalu = [cun(\"na-lu₅\")]"
   ]
  },
  {
   "cell_type": "code",
   "execution_count": null,
   "metadata": {},
   "outputs": [],
   "source": [
    "central = [cun(\"ab-ba-sa₆-ga\"), cun(\"in-ta-e₃-a\"), cun(\"na-sa₆\")]"
   ]
  },
  {
   "cell_type": "code",
   "execution_count": null,
   "metadata": {},
   "outputs": [],
   "source": [
    "directors = [cun(\"na-ra-am-i₃-li₂\"), cun(\"lugal-iti-da\"), cun(\"d-šara₂-kam\")]"
   ]
  },
  {
   "cell_type": "code",
   "execution_count": null,
   "metadata": {},
   "outputs": [],
   "source": [
    "offices = [nakabtum_a, nakabtum_b, enlila, nalu, \n",
    "           urkununa, central, directors]\n",
    "office_names = [\"Nakabtum A\", \"Nakabtum B\", \"Enlila\", \"Nalu\", \"Urkununa\", \"Central Bureau\", \"Directors\"]\n",
    "p = figure(plot_width=900, plot_height=900) "
   ]
  },
  {
   "cell_type": "code",
   "execution_count": null,
   "metadata": {},
   "outputs": [],
   "source": [
    "tokens = []\n",
    "labels = []\n",
    "categories = []\n",
    "legend = []\n",
    "for idx, office in enumerate(offices): \n",
    "    for name in office: \n",
    "        tokens.append(model_c.wv[name])\n",
    "        labels.append(name)\n",
    "        categories.append(idx)\n",
    "        legend.append(office_names[idx])"
   ]
  },
  {
   "cell_type": "code",
   "execution_count": null,
   "metadata": {},
   "outputs": [],
   "source": []
  },
  {
   "cell_type": "code",
   "execution_count": null,
   "metadata": {},
   "outputs": [],
   "source": [
    "from bokeh.palettes import Category20\n",
    "c = all_palettes[\"Spectral\"][len(offices)]\n",
    "colors = [c[category] for category in categories]"
   ]
  },
  {
   "cell_type": "code",
   "execution_count": null,
   "metadata": {},
   "outputs": [],
   "source": [
    "tsne = TSNE(perplexity=40, n_components=2, init='pca', n_iter=2500, random_state=23)\n",
    "tsne_embedding = tsne.fit_transform(tokens)\n",
    "tsne_embedding = pd.DataFrame(tsne_embedding, columns=['x','y'])\n",
    "tsne_embedding[\"color\"] = colors\n",
    "tsne_embedding[\"labels\"] = labels\n",
    "tsne_embedding[\"legend\"] = legend"
   ]
  },
  {
   "cell_type": "code",
   "execution_count": null,
   "metadata": {},
   "outputs": [],
   "source": [
    "source = ColumnDataSource(\n",
    "        data=dict(\n",
    "        x = tsne_embedding.x,\n",
    "        y = tsne_embedding.y,\n",
    "        colors = tsne_embedding.color,\n",
    "        labels=tsne_embedding.labels,\n",
    "        legend = tsne_embedding.legend\n",
    "        )\n",
    "    )"
   ]
  },
  {
   "cell_type": "code",
   "execution_count": null,
   "metadata": {},
   "outputs": [],
   "source": [
    "l = LabelSet(x='x', y='y', text='labels', level='glyph',\n",
    "              x_offset=5, y_offset=5, source=source, render_mode='canvas', \n",
    "             text_font_size=\"20pt\", text_font=\"CuneiformComposite\")\n",
    "\n",
    "plot_tsne = figure(plot_width=900, plot_height=900) #, tools=tools_tsne, title='Papers')\n",
    "plot_tsne.circle('x', 'y', size=7, fill_color='colors', \n",
    "                  line_alpha=0, line_width=0.01, source=source, legend=\"legend\")\n",
    "plot_tsne.add_layout(l)\n",
    "plot_tsne.legend.border_line_width = 3\n",
    "plot_tsne.legend.border_line_color = \"black\"\n",
    "plot_tsne.legend.border_line_alpha = 1\n",
    "plot_tsne.legend.location = \"top_left\"\n",
    "plot_tsne.legend.background_fill_color = \"beige\"\n",
    "plot_tsne.legend.background_fill_alpha = 0.5"
   ]
  },
  {
   "cell_type": "code",
   "execution_count": null,
   "metadata": {},
   "outputs": [],
   "source": [
    "show(plot_tsne)"
   ]
  },
  {
   "cell_type": "code",
   "execution_count": null,
   "metadata": {},
   "outputs": [],
   "source": [
    "all_palettes[\"Spectral\"][6]"
   ]
  },
  {
   "cell_type": "code",
   "execution_count": null,
   "metadata": {},
   "outputs": [],
   "source": [
    "with open(\"output/utf8_lemm_d.p\", 'rb') as f: \n",
    "    utf8_lemm = pickle.load(f)\n",
    "utf8_lemm"
   ]
  },
  {
   "cell_type": "code",
   "execution_count": null,
   "metadata": {},
   "outputs": [],
   "source": [
    "utf8_lemm[cun(\"za-bir\")]"
   ]
  },
  {
   "cell_type": "code",
   "execution_count": null,
   "metadata": {},
   "outputs": [],
   "source": [
    "nakabtum_a"
   ]
  },
  {
   "cell_type": "code",
   "execution_count": null,
   "metadata": {},
   "outputs": [],
   "source": [
    "wild_animals = [cun(\"ur-mah\"), cun(\"muš\"), cun(\"az\"), cun(\"ka₅-a\"), cun(\"šeg₉\"), cun(\"maš-da₃\"), cun(\"šeg₉-bar\"), \n",
    "                cun(\"dara₄\"), cun(\"am\"), cun(\"am-si\"), cun(\"am-si-kur-ra\")]"
   ]
  },
  {
   "cell_type": "code",
   "execution_count": null,
   "metadata": {},
   "outputs": [],
   "source": [
    "domestic_animals = [cun(\"udu\"), cun(\"gud\"), cun(\"u₈\"), cun(\"ab₂\"), cun(\"anše\"), cun(\"eme₅\"), cun(\"sila₄\"), cun(\"kir₁₁\"), cun(\"amar\"), \n",
    "                  cun(\"uz₃\"), cun(\"maš₂\") ]"
   ]
  },
  {
   "cell_type": "code",
   "execution_count": null,
   "metadata": {},
   "outputs": [],
   "source": [
    "animals = wild_animals.copy()\n",
    "animals.extend(domestic_animals)"
   ]
  },
  {
   "cell_type": "code",
   "execution_count": null,
   "metadata": {},
   "outputs": [],
   "source": [
    "animal_like = model_c.wv.most_similar(animals, topn=20)\n",
    "animal_like = [word for word, similarity in animal_like]"
   ]
  },
  {
   "cell_type": "code",
   "execution_count": null,
   "metadata": {},
   "outputs": [],
   "source": [
    "animals.extend(animal_like)"
   ]
  },
  {
   "cell_type": "code",
   "execution_count": null,
   "metadata": {},
   "outputs": [],
   "source": [
    "x = [model_c.wv.similarity(cun(\"ur-mah\"), word) for word in animals]\n",
    "y = [model_c.wv.similarity(cun(\"udu\"), word) for word in animals]"
   ]
  },
  {
   "cell_type": "code",
   "execution_count": null,
   "metadata": {},
   "outputs": [],
   "source": [
    "df = pd.DataFrame({\"x\" : x, \"y\": y, \"labels\" : animals})"
   ]
  },
  {
   "cell_type": "code",
   "execution_count": null,
   "metadata": {},
   "outputs": [],
   "source": [
    "source = ColumnDataSource(\n",
    "        data=dict(\n",
    "        x = df.x,\n",
    "        y = df.y,\n",
    "        labels=df.labels,\n",
    "        )\n",
    "    )"
   ]
  },
  {
   "cell_type": "code",
   "execution_count": null,
   "metadata": {},
   "outputs": [],
   "source": [
    "lab = LabelSet(x='x', y='y', text='labels', level='glyph',\n",
    "              x_offset=5, y_offset=5, source=source, render_mode='canvas', \n",
    "             text_font_size=\"15pt\", text_font=\"CuneiformComposite\")\n",
    "p3 = figure(plot_width=900, plot_height=900) #, tools=tools_tsne, title='Papers')\n",
    "p3.circle('x', 'y', size=7, fill_color='red', \n",
    "                  line_alpha=0, line_width=0.01, source=source)\n",
    "left, right, bottom, top = .8, 1.01, .8, 1.01\n",
    "p3.x_range=Range1d(left, right)\n",
    "p3.y_range=Range1d(bottom, top)\n",
    "p3.add_layout(lab)\n",
    "p3.line([0, 1], [0, 1], line_width=2)"
   ]
  },
  {
   "cell_type": "code",
   "execution_count": null,
   "metadata": {},
   "outputs": [],
   "source": [
    "show(p3)"
   ]
  },
  {
   "cell_type": "code",
   "execution_count": null,
   "metadata": {},
   "outputs": [],
   "source": [
    "model_c"
   ]
  },
  {
   "cell_type": "code",
   "execution_count": null,
   "metadata": {},
   "outputs": [],
   "source": [
    "model_c.wv[cun(\"lugal\")]"
   ]
  },
  {
   "cell_type": "code",
   "execution_count": null,
   "metadata": {},
   "outputs": [],
   "source": [
    "from bokeh.plotting import figure, show\n",
    "from bokeh.layouts import row, gridplot\n",
    "from bokeh.models import ColumnDataSource\n",
    "from bokeh.io import output_file\n",
    "import pandas as pd\n",
    "\n",
    "feature_groups  = [['ciao'],['bye']]\n",
    "\n",
    "\n",
    "df = pd.DataFrame.from_dict({'x':[0,1,2,3,4], 'y':[2,3,4,5,6]})\n",
    "x_test = [0,1,2,3,4]\n",
    "y_test = [2,3,4,5,6]\n",
    "source = ColumnDataSource(df)\n",
    "\n",
    "\n",
    "for features_columns in feature_groups:\n",
    "    output_file('features_labels' + features_columns[0] +'.html')\n",
    "    p = []\n",
    "\n",
    "    for k,f in enumerate(features_columns):\n",
    "        p_k = figure(title=f)\n",
    "        p_k.circle(x=f, y='ki', line_width=2, source=source,fill_alpha=0.5,line_alpha=0.5)\n",
    "        p_k.circle_cross( x=x_test, y=y_test, color='red',fill_alpha=0.5,line_alpha=0.5)\n",
    "        p_k.circle_cross( x = x_test, y = y_test, color='green',fill_alpha=0.5,line_alpha=0.5)\n",
    "        p_k.xaxis.axis_label = f\n",
    "        p_k.yaxis.axis_label = 'ki'\n",
    "        p.append(p_k)\n",
    "    grid = gridplot(p, ncols=2)\n",
    "    show(grid)\n"
   ]
  },
  {
   "cell_type": "code",
   "execution_count": null,
   "metadata": {},
   "outputs": [],
   "source": [
    "from bokeh.plotting import figure, show\n",
    "from bokeh.layouts import row, gridplot\n",
    "from bokeh.models import ColumnDataSource\n",
    "from bokeh.io import output_file\n",
    "import pandas as pd\n",
    "\n",
    "feature_groups  = [['ciao'],['bye']]\n",
    "\n",
    "df = pd.DataFrame.from_dict({'x':[0,1,2,3,4], 'y':[2,3,4,5,6]})\n",
    "x_test = [0,1,2,3,4]\n",
    "y_test = [2,3,4,5,6]\n",
    "\n",
    "for features_columns in feature_groups:\n",
    "    output_file('features_labels' + features_columns[0] +'.html')\n",
    "    p = []\n",
    "    source = ColumnDataSource(df)\n",
    "\n",
    "    for k,f in enumerate(features_columns):\n",
    "        p_k = figure(title=f)\n",
    "        p_k.circle(x='x', y='y', line_width=2, source=source,fill_alpha=0.5,line_alpha=0.5)\n",
    "        p_k.circle_cross( x=x_test, y=y_test, color='red',fill_alpha=0.5,line_alpha=0.5)\n",
    "        p_k.circle_cross( x = x_test, y = y_test, color='green',fill_alpha=0.5,line_alpha=0.5)\n",
    "        p_k.xaxis.axis_label = f\n",
    "        p_k.yaxis.axis_label = 'ki'\n",
    "        p.append(p_k)\n",
    "    grid = gridplot(p, ncols=2)\n",
    "    show(grid)"
   ]
  },
  {
   "cell_type": "code",
   "execution_count": null,
   "metadata": {},
   "outputs": [],
   "source": []
  }
 ],
 "metadata": {
  "kernelspec": {
   "display_name": "Python 3",
   "language": "python",
   "name": "python3"
  },
  "language_info": {
   "codemirror_mode": {
    "name": "ipython",
    "version": 3
   },
   "file_extension": ".py",
   "mimetype": "text/x-python",
   "name": "python",
   "nbconvert_exporter": "python",
   "pygments_lexer": "ipython3",
   "version": "3.7.6"
  }
 },
 "nbformat": 4,
 "nbformat_minor": 4
}
