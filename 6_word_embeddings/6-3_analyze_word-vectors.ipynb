{
 "cells": [
  {
   "cell_type": "code",
   "execution_count": null,
   "metadata": {},
   "outputs": [],
   "source": [
    "import gensim\n",
    "import numpy as np\n",
    "from ipywidgets import interact, fixed\n",
    "import ipywidgets as widgets\n",
    "from IPython.display import display, clear_output\n",
    "import pickle\n",
    "from sklearn.manifold import TSNE\n",
    "import pandas as pd\n",
    "from bokeh.io import output_notebook\n",
    "from bokeh.plotting import figure, show, output_file, save\n",
    "from bokeh.models import ColumnDataSource, LabelSet, Legend, LegendItem, Range1d, OpenURL, TapTool\n",
    "from bokeh.layouts import column\n",
    "from bokeh.palettes import all_palettes\n",
    "from bokeh.palettes import Category20\n",
    "output_notebook()\n",
    "# note: more recent bokeh versions require notebook 5 or JupyterLab"
   ]
  },
  {
   "cell_type": "markdown",
   "metadata": {},
   "source": [
    "# Load Vectors in Gensim\n",
    "The Gensim package allows one to compute word vectors with word2vec. Instead, we will load the vectors we computed with PMI/SVD (6.2) as keyed vectors. The keyed vector format that we used to save the vectors in 6.2 allows us to do exactly that. \n",
    "\n",
    "For the code see https://stackoverflow.com/questions/27139908/load-precomputed-vectors-gensim"
   ]
  },
  {
   "cell_type": "code",
   "execution_count": null,
   "metadata": {},
   "outputs": [],
   "source": [
    "model_file = \"output/vec_file.txt\"\n",
    "model = gensim.models.keyedvectors.Word2VecKeyedVectors.load_word2vec_format(model_file)"
   ]
  },
  {
   "cell_type": "markdown",
   "metadata": {},
   "source": [
    "# Most Similar\n",
    "The advantage of loading the vectors into Gensim is that we may now use the functions and methods available in Gensim, for instance the method `most_similar()`, which will find the vectors with the highest cosine similarity to the target word(s)."
   ]
  },
  {
   "cell_type": "code",
   "execution_count": null,
   "metadata": {},
   "outputs": [],
   "source": [
    "def mostsimilar(change):\n",
    "    lemm = dropdown.value\n",
    "    topn = slider.value\n",
    "    with out:\n",
    "        clear_output()\n",
    "        data = model.most_similar(lemm, topn=topn)\n",
    "        df = pd.DataFrame(data, columns = [\"lemma\", \"sim\"])\n",
    "        print(df)\n",
    "    return \n",
    "#model.most_similar(positive=model.vocab.keys(), topn = 10))"
   ]
  },
  {
   "cell_type": "code",
   "execution_count": null,
   "metadata": {},
   "outputs": [],
   "source": [
    "out = widgets.Output(width = 200)\n",
    "sortorder = \" []'ʾaāâbcdeēêfgŋhiīîjklmnopqrsṣštṭuūûvwxyz0123456789₀₁₂₃₄₅₆₇₈₉ₓ{}[]().-/~?!@×|&'<>\"\n",
    "word = sorted(model.index_to_key, key=lambda w: [sortorder.index(c.casefold()) for c in w]) # use custom sort order\n",
    "dropdown = widgets.Dropdown(options = word, description = 'Target Word')\n",
    "slider = widgets.IntSlider(value=5, min=1, max = 25, description = 'Topno')\n",
    "dropdown.observe(mostsimilar, \"value\")\n",
    "slider.observe(mostsimilar, \"value\")\n",
    "col1 = widgets.VBox([dropdown, out])\n",
    "col2 = widgets.VBox([slider])\n",
    "widgets.HBox([col1, col2])"
   ]
  },
  {
   "cell_type": "code",
   "execution_count": null,
   "metadata": {},
   "outputs": [],
   "source": [
    "def word_categories(model, words, topn=10):\n",
    "    \"\"\"word_categories takes an iterable with one or more words from the vocabulary of model.\n",
    "    For each word a dictionary of similar words (including the target word) is construed.\n",
    "    The value of each word is numerical (integer) and indicates the category to which it belongs.\n",
    "    The function returns a dictionary.\"\"\"\n",
    "    word_d = {}\n",
    "    for idx, word in enumerate(words):\n",
    "        w = model.most_similar(word, topn=topn)\n",
    "        w = [m[0] for m in w]\n",
    "        w.append(word)\n",
    "        for item in w:\n",
    "            if item in word_d:\n",
    "                word_d[item] = len(words)\n",
    "            else:\n",
    "                word_d[item] = idx\n",
    "    return word_d"
   ]
  },
  {
   "cell_type": "markdown",
   "metadata": {},
   "source": [
    "# Dictionary to link word to stable identifier (oid) "
   ]
  },
  {
   "cell_type": "code",
   "execution_count": null,
   "metadata": {},
   "outputs": [],
   "source": [
    "with open(\"output/x2oid.p\", \"rb\") as r:\n",
    "    x2oid = pickle.load(r)"
   ]
  },
  {
   "cell_type": "markdown",
   "metadata": {},
   "source": [
    "# Project and Visualize Related Words"
   ]
  },
  {
   "cell_type": "code",
   "execution_count": null,
   "metadata": {},
   "outputs": [],
   "source": [
    "def tsne_bokeh(model, word_d, words, fontsize=\"12pt\"):\n",
    "\n",
    "    labels, tokens, categories, legend, oid = [], [], [], [], []\n",
    "    \n",
    "    for word in word_d:\n",
    "        tokens.append(model[word])\n",
    "        labels.append(word)\n",
    "        categories.append(word_d[word])\n",
    "        oid.append(x2oid.get(word,\"\"))\n",
    "        if word_d[word] == len(words): \n",
    "            legend.append(\"mixed\")\n",
    "        else: \n",
    "            legend.append(words[word_d[word]])\n",
    "    \n",
    "    color_d = {0: \"black\", 1: \"red\", 2: \"green\", 3: \"yellow\", 4: \"brown\", 5: \"blue\"}\n",
    "    colors = [color_d[category] for category in categories]\n",
    "    \n",
    "    #perplexity = 15\n",
    "    #if len(words_d) < perplexity: \n",
    "    perplexity = abs(len(words_d)*0.55)\n",
    "    tsne = TSNE(perplexity=perplexity, n_components=2, init='pca', n_iter=2500, random_state=23)\n",
    "    tsne_embedding = tsne.fit_transform(tokens)\n",
    "    \n",
    "    source = ColumnDataSource(\n",
    "        data=dict(\n",
    "        x = tsne_embedding[:, 0],\n",
    "        y = tsne_embedding[:, 1],\n",
    "        colors = colors,\n",
    "        labels= labels,\n",
    "        legend = legend,\n",
    "        oid = oid\n",
    "        )\n",
    "    )\n",
    "\n",
    "    l = LabelSet(x='x', y='y', text='labels', level='glyph',\n",
    "              x_offset=3, y_offset=3, source=source, render_mode='canvas', \n",
    "             text_font_size=fontsize, text_font=\"CuneiformComposite\")\n",
    "    tools = [\"pan\", \"wheel_zoom\", \"zoom_in\", \"zoom_out\", \"tap\", \"reset\", \"box_zoom\", \"save\"]\n",
    "    plot_tsne = figure(plot_width=800, plot_height=600, tools=tools, toolbar_location='right')\n",
    "    plot_tsne.add_layout(Legend(), \"below\")\n",
    "    plot_tsne.circle('x', 'y', size=7, fill_color='colors', \n",
    "                  line_alpha=0, line_width=0.01, source=source, legend_group=\"legend\")\n",
    "    plot_tsne.add_layout(l)\n",
    "    plot_tsne.legend.location = \"bottom_right\"\n",
    "    url = \"http://oracc.org/epsd2/@oid\"\n",
    "    taptool = plot_tsne.select(type=TapTool)\n",
    "    taptool.callback = OpenURL(url=url)\n",
    "    show(plot_tsne)\n",
    "    return source"
   ]
  },
  {
   "cell_type": "code",
   "execution_count": null,
   "metadata": {},
   "outputs": [],
   "source": [
    "sem_cat = [\"šimgig[tree]N\", \"hiz[vegetable]N\"]\n",
    "#sem_cat = [\"šimgig[tree]N\", \"hiz[vegetable]N\", \"zagmuk[new-year]N\"]\n",
    "words_d = word_categories(model, sem_cat, 15)\n",
    "tsne_bokeh(model, words_d, sem_cat, \"12pt\"); "
   ]
  },
  {
   "cell_type": "code",
   "execution_count": null,
   "metadata": {},
   "outputs": [],
   "source": [
    "def interactive_tsne(model): \n",
    "    words = widgets.SelectMultiple(options = word, description = \"Words\", \n",
    "                                  value = [\"šimgig[tree]N\", \"hiz[vegetable]N\"])\n",
    "    words_d = word_categories(model, sem_cat, 15)\n",
    "    tsne_bokeh(model, words_d, words.value)\n",
    "    "
   ]
  },
  {
   "cell_type": "code",
   "execution_count": null,
   "metadata": {},
   "outputs": [],
   "source": [
    "def tsne_bokeh2(model, words, fontsize=\"12pt\"):\n",
    "\n",
    "    labels, tokens, categories, legend, oid = [], [], [], [], []\n",
    "    words_d = word_categories(model, words, 15)\n",
    "    for word in words_d:\n",
    "        tokens.append(model[word])\n",
    "        labels.append(word)\n",
    "        categories.append(words_d[word])\n",
    "        oid.append(x2oid.get(word,\"\"))\n",
    "        if words_d[word] == len(words): \n",
    "            legend.append(\"mixed\")\n",
    "        else: \n",
    "            legend.append(words[words_d[word]])\n",
    "    \n",
    "    color_d = {0: \"black\", 1: \"red\", 2: \"green\", 3: \"yellow\", 4: \"brown\", 5: \"blue\"}\n",
    "    colors = [color_d[category] for category in categories]\n",
    "    \n",
    "    #perplexity = 15\n",
    "    #if len(words_d) < perplexity: \n",
    "    perplexity = abs(len(words_d)*0.55)\n",
    "    tsne = TSNE(perplexity=perplexity, n_components=2, init='pca', n_iter=2500, random_state=23)\n",
    "    tsne_embedding = tsne.fit_transform(tokens)\n",
    "    \n",
    "    source = ColumnDataSource(\n",
    "        data=dict(\n",
    "        x = tsne_embedding[:, 0],\n",
    "        y = tsne_embedding[:, 1],\n",
    "        colors = colors,\n",
    "        labels= labels,\n",
    "        legend = legend,\n",
    "        oid = oid\n",
    "        )\n",
    "    )\n",
    "\n",
    "    l = LabelSet(x='x', y='y', text='labels', level='glyph',\n",
    "              x_offset=3, y_offset=3, source=source, render_mode='canvas', \n",
    "             text_font_size=fontsize, text_font=\"CuneiformComposite\")\n",
    "    tools = [\"pan\", \"wheel_zoom\", \"zoom_in\", \"zoom_out\", \"tap\", \"reset\", \"box_zoom\", \"save\"]\n",
    "    plot_tsne = figure(plot_width=800, plot_height=600, tools=tools, toolbar_location='right')\n",
    "    plot_tsne.add_layout(Legend(), \"below\")\n",
    "    plot_tsne.circle('x', 'y', size=7, fill_color='colors', \n",
    "                  line_alpha=0, line_width=0.01, source=source, legend_group=\"legend\")\n",
    "    plot_tsne.add_layout(l)\n",
    "    plot_tsne.legend.location = \"bottom_right\"\n",
    "    url = \"http://oracc.org/epsd2/@oid\"\n",
    "    taptool = plot_tsne.select(type=TapTool)\n",
    "    taptool.callback = OpenURL(url=url)\n",
    "    show(plot_tsne)\n",
    "    return source"
   ]
  },
  {
   "cell_type": "code",
   "execution_count": null,
   "metadata": {},
   "outputs": [],
   "source": [
    "interact(tsne_bokeh2, \n",
    "        model = fixed(model), \n",
    "        words = widgets.SelectMultiple(options = word, \n",
    "                                  description = \"Word\", \n",
    "                                  value = [\"šimgig[tree]N\", \"hiz[vegetable]N\"]) , \n",
    "         fontsize=fixed('12pt')\n",
    "         ); "
   ]
  },
  {
   "cell_type": "code",
   "execution_count": null,
   "metadata": {},
   "outputs": [],
   "source": []
  }
 ],
 "metadata": {
  "kernelspec": {
   "display_name": "Python 3",
   "language": "python",
   "name": "python3"
  },
  "language_info": {
   "codemirror_mode": {
    "name": "ipython",
    "version": 3
   },
   "file_extension": ".py",
   "mimetype": "text/x-python",
   "name": "python",
   "nbconvert_exporter": "python",
   "pygments_lexer": "ipython3",
   "version": "3.7.9"
  }
 },
 "nbformat": 4,
 "nbformat_minor": 4
}
