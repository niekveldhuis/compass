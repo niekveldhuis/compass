{
 "cells": [
  {
   "cell_type": "markdown",
   "metadata": {},
   "source": [
    "# Data Acquisition from CDLI\n",
    "The downloadable [CDLI](http://cdli.ucla.edu) files are found on the download page http://cdli.ucla.edu/bulk_data. The data available are a set of transliterations and a catalog file with meta-data. Because of its size the catalog file is currently split in two, it is possible that in the future there will be either more or fewer such files. The script identifies the file names and downloads those to a directory `cdlidata`. Once downloaded the catalog is reconstituted as a single file and is loaded into a `pandas` DataFrame. The DataFrame is used, by way of example, to select the transliterations from the Early Dynastic IIIa period.\n"
   ]
  },
  {
   "cell_type": "markdown",
   "metadata": {},
   "source": [
    "# 0 Import Packages"
   ]
  },
  {
   "cell_type": "code",
   "execution_count": null,
   "metadata": {},
   "outputs": [],
   "source": [
    "import requests\n",
    "from tqdm.auto import tqdm\n",
    "import errno\n",
    "import pandas as pd\n",
    "import csv\n",
    "from bs4 import BeautifulSoup\n",
    "import os\n",
    "import sys\n",
    "import shutil"
   ]
  },
  {
   "cell_type": "markdown",
   "metadata": {},
   "source": [
    "# 1. Create Download Directory\n",
    "Create a directory called `cdlidata`. If the directory already exists, do nothing. "
   ]
  },
  {
   "cell_type": "code",
   "execution_count": null,
   "metadata": {},
   "outputs": [],
   "source": [
    "os.makedirs('cdlidata', exist_ok = True)"
   ]
  },
  {
   "cell_type": "markdown",
   "metadata": {},
   "source": [
    "# 2. Retrieve File Names\n",
    "We first need to retrieve the names of the files that are offered for download on the CDLI [download](https://github.com/cdli-gh/data) page on GitHub. The script requests the HTML of the download page and uses BeautifulSoup (a package for web scraping) to  retrieve all the links from the page. This includes the file names, but also all kinds of other links."
   ]
  },
  {
   "cell_type": "code",
   "execution_count": null,
   "metadata": {},
   "outputs": [],
   "source": [
    "download_page = \"https://github.com/cdli-gh/data\"\n",
    "r = requests.get(download_page)\n",
    "html = r.text\n",
    "soup = BeautifulSoup(html)\n",
    "links = soup.find_all('a')       # retrieve all html anchors, which define links\n",
    "files = set()\n",
    "for link in links:\n",
    "    f = link.get('href')        # from the anchors, retrieve the URLs\n",
    "    files.add(f)\n",
    "files = {f for f in files if 'master/cdli' in f}  # filter out URLs that start with \"?\"\n",
    "files = {f.split('/')[-1] for f in files}\n",
    "files"
   ]
  },
  {
   "cell_type": "markdown",
   "metadata": {},
   "source": [
    "# 3. Download\n",
    "The download code in this cell is essentially identical with the code in notebook 2_1_0_download_ORACC-JSON.ipynb. Depending on the speed of your computer and internet connection the downloading process can take some time because of the size of the files."
   ]
  },
  {
   "cell_type": "code",
   "execution_count": null,
   "metadata": {},
   "outputs": [],
   "source": [
    "CHUNK = 1024\n",
    "for file in files:\n",
    "    url = f\"https://raw.github.com/cdli-gh/data/master/{file}\"\n",
    "    target = f'cdlidata/{file}'\n",
    "    with requests.get(url, stream=True) as r:\n",
    "        if r.status_code == 200:\n",
    "            total_size = int(r.headers.get('content-length', 0))\n",
    "            tqdm.write(f'Saving {url} as cdlidata/{file}')\n",
    "            t=tqdm(total=total_size, unit='B', unit_scale=True, desc = file)\n",
    "            with open(target, 'wb') as f:\n",
    "                for c in r.iter_content(chunk_size=CHUNK):\n",
    "                    t.update(len(c))\n",
    "                    f.write(c)\n",
    "        else:\n",
    "            print(f\"{url} does not exist.\")"
   ]
  },
  {
   "cell_type": "markdown",
   "metadata": {},
   "source": [
    "# 4. Concatenate the Catalogue Files\n",
    "The catalogue files are concatenated, using a utility from the `shutil` package. The new, concatenated, file is called `catalogue.csv`."
   ]
  },
  {
   "cell_type": "code",
   "execution_count": null,
   "metadata": {},
   "outputs": [],
   "source": [
    "filenames = [f for f in files if \"cdli_catalogue\" in f]\n",
    "filenames.sort()  # to make sure we read cdli_catalogue_1of2.csv first.\n",
    "with open('cdlidata/catalogue.csv','wb') as wfd:\n",
    "    for file in filenames:\n",
    "        with open(f'cdlidata/{file}','rb') as fd:\n",
    "            shutil.copyfileobj(fd, wfd)"
   ]
  },
  {
   "cell_type": "markdown",
   "metadata": {},
   "source": [
    "# 5 Load in Pandas DataFrame"
   ]
  },
  {
   "cell_type": "code",
   "execution_count": null,
   "metadata": {},
   "outputs": [],
   "source": [
    "cat = pd.read_csv('cdlidata/catalogue.csv', engine='python', error_bad_lines=False).fillna('')\n",
    "cat"
   ]
  },
  {
   "cell_type": "markdown",
   "metadata": {},
   "source": [
    "# 6 Use Catalog to Select Transliterations\n",
    "In the example code in the following cell the catalog is used to select from the transliteration file all texts from the Early Dynastic IIIa period. The field \"period\" is used to select those catalog entries that have \"ED IIIa\" in that field. P numbers are stored in the catalog as integers without the initial 'P' and without leading zeros (that is '1183' corresponds to 'P001183'). The function `zfill()` is used to created a 6-digit number with leading zeros, if necessary. The P-numbers of our catalog selection are stored in the variable `pnos` (but note that the numbers do not have the initial 'P'!).\n",
    "\n",
    "The code then iterates through the list of lines. The flag `keep` (which initially is set to `FALSE`) is set to `TRUE` if the code encounters a P number that is present in the list `pnos`. As long as `keep = TRUE` subsequent lines are added to the list `ed3a_atf`. When the script encounters a P-number that is not in `pnos`, the flag `keep` is set to `FALSE`.\n",
    "\n",
    "The result is a list lines with all the transliteration data of the Early Dynastic IIIa texts in [CDLI](http://cdli.ucla.edu)."
   ]
  },
  {
   "cell_type": "code",
   "execution_count": null,
   "metadata": {},
   "outputs": [],
   "source": [
    "ed3a = cat.loc[cat[\"period\"].str[:7] == \"ED IIIa\"]\n",
    "pnos = list(ed3a[\"id_text\"])\n",
    "pnos = [str(no).zfill(6) for no in pnos]\n",
    "with open(\"cdlidata/cdliatf_unblocked.atf\", encoding=\"utf8\") as c: \n",
    "    lines = c.readlines()\n",
    "keep = False\n",
    "ed3a_atf = []\n",
    "for line in tqdm(lines):\n",
    "    if line[0] == \"&\": \n",
    "        if line[2:8] in pnos: \n",
    "            keep = True\n",
    "        else: \n",
    "            keep = False\n",
    "    if keep: \n",
    "        ed3a_atf.append(line)"
   ]
  },
  {
   "cell_type": "markdown",
   "metadata": {},
   "source": [
    "# 7 Place in DataFrame\n",
    "Place the ED IIIa texts in a DataFrame, where each row represents one document (line numbers are omitted). This is, of course, just one example of how the data may be selected and formatted.\n",
    "\n",
    "The lines are read in reverse order, so that when the script encounters an '&P' line (as in '&P212416 = AAICAB 1/1, pl. 008, 19282-439'), this signals that all the lines of a text have been read and that the document can be added to the list `docs`. (When reading the lines in regular order - taking the '&P' line as signaling the end of the previous document - one needs to separately save the last document, because there is no '&P' line anymore to indicate that the text is complete)."
   ]
  },
  {
   "cell_type": "code",
   "execution_count": null,
   "metadata": {
    "scrolled": true
   },
   "outputs": [],
   "source": [
    "docs = []\n",
    "d = ''\n",
    "id_text = ''\n",
    "ed3a_atf = [line for line in ed3a_atf if line.strip()]  # remove empty lines, which cause trouble\n",
    "for line in tqdm(reversed(ed3a_atf)):\n",
    "    if line[0] == \"&\":  # line beginning with & marks the beginning of a document\n",
    "        id_text = line[1:8] # retrieve the P number\n",
    "        docs.append([id_text, d])\n",
    "        d = ''   # after appending the data to docs, reset d for a new document.\n",
    "        continue\n",
    "    elif line [0] in [\"#\", \"$\", \"<\", \">\", \"@\"]:  # skip all non-transliteration lines\n",
    "        continue\n",
    "    else:\n",
    "        try:\n",
    "            line = line.split(' ', 1)[1].strip() # split line at first space (after the line number)\n",
    "            d = f'{line} {d}' # add the new line in front\n",
    "        except:\n",
    "            continue   # malformed lines (no proper separation between line number and text) are skipped\n",
    "ed3a_df = pd.DataFrame(docs)\n",
    "ed3a_df.columns = [\"id_text\", \"transliteration\"]"
   ]
  },
  {
   "cell_type": "code",
   "execution_count": null,
   "metadata": {},
   "outputs": [],
   "source": [
    "ed3a_df"
   ]
  },
  {
   "cell_type": "code",
   "execution_count": null,
   "metadata": {},
   "outputs": [],
   "source": []
  }
 ],
 "metadata": {
  "kernelspec": {
   "display_name": "Python 3",
   "language": "python",
   "name": "python3"
  },
  "language_info": {
   "codemirror_mode": {
    "name": "ipython",
    "version": 3
   },
   "file_extension": ".py",
   "mimetype": "text/x-python",
   "name": "python",
   "nbconvert_exporter": "python",
   "pygments_lexer": "ipython3",
   "version": "3.8.8"
  }
 },
 "nbformat": 4,
 "nbformat_minor": 4
}
